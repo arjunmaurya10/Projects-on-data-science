{
 "cells": [
  {
   "cell_type": "markdown",
   "id": "e87fba3e-fe4c-4944-897b-b6534e8b585f",
   "metadata": {},
   "source": [
    "**Meteorite Landings Dataset (Recorded by The Meteorical Society and Provided by NASA)¶**"
   ]
  },
  {
   "cell_type": "markdown",
   "id": "7f2b2ccd-1a57-4459-b118-1067f9f9d4d9",
   "metadata": {},
   "source": [
    "**Metadata**\n",
    "\n",
    "- name: the name of the meteorite\n",
    "\n",
    "- id: a unique identifier for the meteorite\n",
    "\n",
    "- nametype: one of: -- valid: a typical meteorite -- relict: a meteorite that has been highly degraded by weather on Earth\n",
    "- recclass: the class of the meteorite (see the Wikipedia article on meteorite classification)\n",
    "- mass: the mass of the meteorite, in grams\n",
    "- fall: whether the meteorite was seen falling, or was discovered after its impact; one of: -- Fell: the meteorite's fall was observed -- Found: the meteorite's fall was not observed\n",
    "- year: the year the meteorite fell, or the year it was found (Any year before 860 CE or 2016 are in BCE)\n",
    "- reclat: the latitude of the meteorite's landing\n",
    "- reclong: the longitude of the meteorite's landing\n",
    "- GeoLocation: a parentheses-enclose, comma-separated tuple that combines reclat and reclong"
   ]
  },
  {
   "cell_type": "markdown",
   "id": "0f298f56-fc26-4494-b4e8-538ceab9603c",
   "metadata": {},
   "source": [
    "**Importing libraries**"
   ]
  },
  {
   "cell_type": "code",
   "execution_count": 1,
   "id": "aee35179-e330-4295-be29-885e359fd431",
   "metadata": {},
   "outputs": [],
   "source": [
    "import numpy as np\n",
    "import pandas as pd\n",
    "import seaborn as sns\n",
    "import matplotlib.pyplot as plt\n",
    "from sklearn import preprocessing"
   ]
  },
  {
   "cell_type": "markdown",
   "id": "3d09e51a-264e-4739-8524-0c47faad8c77",
   "metadata": {},
   "source": [
    "**Reading the data and saving it to a dataframe**"
   ]
  },
  {
   "cell_type": "code",
   "execution_count": 2,
   "id": "6f970300-78ea-4b35-8f03-5e60fcc21c7c",
   "metadata": {},
   "outputs": [],
   "source": [
    "data = pd.read_csv('meteorite-landings.csv')"
   ]
  },
  {
   "cell_type": "code",
   "execution_count": 3,
   "id": "f99a928f-c8f3-4867-8d05-f16973928b37",
   "metadata": {},
   "outputs": [
    {
     "data": {
      "text/html": [
       "<div>\n",
       "<style scoped>\n",
       "    .dataframe tbody tr th:only-of-type {\n",
       "        vertical-align: middle;\n",
       "    }\n",
       "\n",
       "    .dataframe tbody tr th {\n",
       "        vertical-align: top;\n",
       "    }\n",
       "\n",
       "    .dataframe thead th {\n",
       "        text-align: right;\n",
       "    }\n",
       "</style>\n",
       "<table border=\"1\" class=\"dataframe\">\n",
       "  <thead>\n",
       "    <tr style=\"text-align: right;\">\n",
       "      <th></th>\n",
       "      <th>name</th>\n",
       "      <th>id</th>\n",
       "      <th>nametype</th>\n",
       "      <th>recclass</th>\n",
       "      <th>mass</th>\n",
       "      <th>fall</th>\n",
       "      <th>year</th>\n",
       "      <th>reclat</th>\n",
       "      <th>reclong</th>\n",
       "      <th>GeoLocation</th>\n",
       "    </tr>\n",
       "  </thead>\n",
       "  <tbody>\n",
       "    <tr>\n",
       "      <th>0</th>\n",
       "      <td>Aachen</td>\n",
       "      <td>1</td>\n",
       "      <td>Valid</td>\n",
       "      <td>L5</td>\n",
       "      <td>21.0</td>\n",
       "      <td>Fell</td>\n",
       "      <td>1880.0</td>\n",
       "      <td>50.77500</td>\n",
       "      <td>6.08333</td>\n",
       "      <td>(50.775000, 6.083330)</td>\n",
       "    </tr>\n",
       "    <tr>\n",
       "      <th>1</th>\n",
       "      <td>Aarhus</td>\n",
       "      <td>2</td>\n",
       "      <td>Valid</td>\n",
       "      <td>H6</td>\n",
       "      <td>720.0</td>\n",
       "      <td>Fell</td>\n",
       "      <td>1951.0</td>\n",
       "      <td>56.18333</td>\n",
       "      <td>10.23333</td>\n",
       "      <td>(56.183330, 10.233330)</td>\n",
       "    </tr>\n",
       "    <tr>\n",
       "      <th>2</th>\n",
       "      <td>Abee</td>\n",
       "      <td>6</td>\n",
       "      <td>Valid</td>\n",
       "      <td>EH4</td>\n",
       "      <td>107000.0</td>\n",
       "      <td>Fell</td>\n",
       "      <td>1952.0</td>\n",
       "      <td>54.21667</td>\n",
       "      <td>-113.00000</td>\n",
       "      <td>(54.216670, -113.000000)</td>\n",
       "    </tr>\n",
       "    <tr>\n",
       "      <th>3</th>\n",
       "      <td>Acapulco</td>\n",
       "      <td>10</td>\n",
       "      <td>Valid</td>\n",
       "      <td>Acapulcoite</td>\n",
       "      <td>1914.0</td>\n",
       "      <td>Fell</td>\n",
       "      <td>1976.0</td>\n",
       "      <td>16.88333</td>\n",
       "      <td>-99.90000</td>\n",
       "      <td>(16.883330, -99.900000)</td>\n",
       "    </tr>\n",
       "    <tr>\n",
       "      <th>4</th>\n",
       "      <td>Achiras</td>\n",
       "      <td>370</td>\n",
       "      <td>Valid</td>\n",
       "      <td>L6</td>\n",
       "      <td>780.0</td>\n",
       "      <td>Fell</td>\n",
       "      <td>1902.0</td>\n",
       "      <td>-33.16667</td>\n",
       "      <td>-64.95000</td>\n",
       "      <td>(-33.166670, -64.950000)</td>\n",
       "    </tr>\n",
       "  </tbody>\n",
       "</table>\n",
       "</div>"
      ],
      "text/plain": [
       "       name   id nametype     recclass      mass  fall    year    reclat  \\\n",
       "0    Aachen    1    Valid           L5      21.0  Fell  1880.0  50.77500   \n",
       "1    Aarhus    2    Valid           H6     720.0  Fell  1951.0  56.18333   \n",
       "2      Abee    6    Valid          EH4  107000.0  Fell  1952.0  54.21667   \n",
       "3  Acapulco   10    Valid  Acapulcoite    1914.0  Fell  1976.0  16.88333   \n",
       "4   Achiras  370    Valid           L6     780.0  Fell  1902.0 -33.16667   \n",
       "\n",
       "     reclong               GeoLocation  \n",
       "0    6.08333     (50.775000, 6.083330)  \n",
       "1   10.23333    (56.183330, 10.233330)  \n",
       "2 -113.00000  (54.216670, -113.000000)  \n",
       "3  -99.90000   (16.883330, -99.900000)  \n",
       "4  -64.95000  (-33.166670, -64.950000)  "
      ]
     },
     "execution_count": 3,
     "metadata": {},
     "output_type": "execute_result"
    }
   ],
   "source": [
    "data.head()"
   ]
  },
  {
   "cell_type": "code",
   "execution_count": 4,
   "id": "7be45d07-570b-42e3-9ce8-ebf4d840a6be",
   "metadata": {},
   "outputs": [
    {
     "data": {
      "text/html": [
       "<div>\n",
       "<style scoped>\n",
       "    .dataframe tbody tr th:only-of-type {\n",
       "        vertical-align: middle;\n",
       "    }\n",
       "\n",
       "    .dataframe tbody tr th {\n",
       "        vertical-align: top;\n",
       "    }\n",
       "\n",
       "    .dataframe thead th {\n",
       "        text-align: right;\n",
       "    }\n",
       "</style>\n",
       "<table border=\"1\" class=\"dataframe\">\n",
       "  <thead>\n",
       "    <tr style=\"text-align: right;\">\n",
       "      <th></th>\n",
       "      <th>name</th>\n",
       "      <th>id</th>\n",
       "      <th>nametype</th>\n",
       "      <th>recclass</th>\n",
       "      <th>mass</th>\n",
       "      <th>fall</th>\n",
       "      <th>year</th>\n",
       "      <th>reclat</th>\n",
       "      <th>reclong</th>\n",
       "      <th>GeoLocation</th>\n",
       "    </tr>\n",
       "  </thead>\n",
       "  <tbody>\n",
       "    <tr>\n",
       "      <th>0</th>\n",
       "      <td>Aachen</td>\n",
       "      <td>1</td>\n",
       "      <td>Valid</td>\n",
       "      <td>L5</td>\n",
       "      <td>21.0</td>\n",
       "      <td>Fell</td>\n",
       "      <td>1880.0</td>\n",
       "      <td>50.77500</td>\n",
       "      <td>6.08333</td>\n",
       "      <td>(50.775000, 6.083330)</td>\n",
       "    </tr>\n",
       "    <tr>\n",
       "      <th>1</th>\n",
       "      <td>Aarhus</td>\n",
       "      <td>2</td>\n",
       "      <td>Valid</td>\n",
       "      <td>H6</td>\n",
       "      <td>720.0</td>\n",
       "      <td>Fell</td>\n",
       "      <td>1951.0</td>\n",
       "      <td>56.18333</td>\n",
       "      <td>10.23333</td>\n",
       "      <td>(56.183330, 10.233330)</td>\n",
       "    </tr>\n",
       "    <tr>\n",
       "      <th>2</th>\n",
       "      <td>Abee</td>\n",
       "      <td>6</td>\n",
       "      <td>Valid</td>\n",
       "      <td>EH4</td>\n",
       "      <td>107000.0</td>\n",
       "      <td>Fell</td>\n",
       "      <td>1952.0</td>\n",
       "      <td>54.21667</td>\n",
       "      <td>-113.00000</td>\n",
       "      <td>(54.216670, -113.000000)</td>\n",
       "    </tr>\n",
       "    <tr>\n",
       "      <th>3</th>\n",
       "      <td>Acapulco</td>\n",
       "      <td>10</td>\n",
       "      <td>Valid</td>\n",
       "      <td>Acapulcoite</td>\n",
       "      <td>1914.0</td>\n",
       "      <td>Fell</td>\n",
       "      <td>1976.0</td>\n",
       "      <td>16.88333</td>\n",
       "      <td>-99.90000</td>\n",
       "      <td>(16.883330, -99.900000)</td>\n",
       "    </tr>\n",
       "    <tr>\n",
       "      <th>4</th>\n",
       "      <td>Achiras</td>\n",
       "      <td>370</td>\n",
       "      <td>Valid</td>\n",
       "      <td>L6</td>\n",
       "      <td>780.0</td>\n",
       "      <td>Fell</td>\n",
       "      <td>1902.0</td>\n",
       "      <td>-33.16667</td>\n",
       "      <td>-64.95000</td>\n",
       "      <td>(-33.166670, -64.950000)</td>\n",
       "    </tr>\n",
       "    <tr>\n",
       "      <th>...</th>\n",
       "      <td>...</td>\n",
       "      <td>...</td>\n",
       "      <td>...</td>\n",
       "      <td>...</td>\n",
       "      <td>...</td>\n",
       "      <td>...</td>\n",
       "      <td>...</td>\n",
       "      <td>...</td>\n",
       "      <td>...</td>\n",
       "      <td>...</td>\n",
       "    </tr>\n",
       "    <tr>\n",
       "      <th>45711</th>\n",
       "      <td>Zillah 002</td>\n",
       "      <td>31356</td>\n",
       "      <td>Valid</td>\n",
       "      <td>Eucrite</td>\n",
       "      <td>172.0</td>\n",
       "      <td>Found</td>\n",
       "      <td>1990.0</td>\n",
       "      <td>29.03700</td>\n",
       "      <td>17.01850</td>\n",
       "      <td>(29.037000, 17.018500)</td>\n",
       "    </tr>\n",
       "    <tr>\n",
       "      <th>45712</th>\n",
       "      <td>Zinder</td>\n",
       "      <td>30409</td>\n",
       "      <td>Valid</td>\n",
       "      <td>Pallasite, ungrouped</td>\n",
       "      <td>46.0</td>\n",
       "      <td>Found</td>\n",
       "      <td>1999.0</td>\n",
       "      <td>13.78333</td>\n",
       "      <td>8.96667</td>\n",
       "      <td>(13.783330, 8.966670)</td>\n",
       "    </tr>\n",
       "    <tr>\n",
       "      <th>45713</th>\n",
       "      <td>Zlin</td>\n",
       "      <td>30410</td>\n",
       "      <td>Valid</td>\n",
       "      <td>H4</td>\n",
       "      <td>3.3</td>\n",
       "      <td>Found</td>\n",
       "      <td>1939.0</td>\n",
       "      <td>49.25000</td>\n",
       "      <td>17.66667</td>\n",
       "      <td>(49.250000, 17.666670)</td>\n",
       "    </tr>\n",
       "    <tr>\n",
       "      <th>45714</th>\n",
       "      <td>Zubkovsky</td>\n",
       "      <td>31357</td>\n",
       "      <td>Valid</td>\n",
       "      <td>L6</td>\n",
       "      <td>2167.0</td>\n",
       "      <td>Found</td>\n",
       "      <td>2003.0</td>\n",
       "      <td>49.78917</td>\n",
       "      <td>41.50460</td>\n",
       "      <td>(49.789170, 41.504600)</td>\n",
       "    </tr>\n",
       "    <tr>\n",
       "      <th>45715</th>\n",
       "      <td>Zulu Queen</td>\n",
       "      <td>30414</td>\n",
       "      <td>Valid</td>\n",
       "      <td>L3.7</td>\n",
       "      <td>200.0</td>\n",
       "      <td>Found</td>\n",
       "      <td>1976.0</td>\n",
       "      <td>33.98333</td>\n",
       "      <td>-115.68333</td>\n",
       "      <td>(33.983330, -115.683330)</td>\n",
       "    </tr>\n",
       "  </tbody>\n",
       "</table>\n",
       "<p>45716 rows × 10 columns</p>\n",
       "</div>"
      ],
      "text/plain": [
       "             name     id nametype              recclass      mass   fall  \\\n",
       "0          Aachen      1    Valid                    L5      21.0   Fell   \n",
       "1          Aarhus      2    Valid                    H6     720.0   Fell   \n",
       "2            Abee      6    Valid                   EH4  107000.0   Fell   \n",
       "3        Acapulco     10    Valid           Acapulcoite    1914.0   Fell   \n",
       "4         Achiras    370    Valid                    L6     780.0   Fell   \n",
       "...           ...    ...      ...                   ...       ...    ...   \n",
       "45711  Zillah 002  31356    Valid               Eucrite     172.0  Found   \n",
       "45712      Zinder  30409    Valid  Pallasite, ungrouped      46.0  Found   \n",
       "45713        Zlin  30410    Valid                    H4       3.3  Found   \n",
       "45714   Zubkovsky  31357    Valid                    L6    2167.0  Found   \n",
       "45715  Zulu Queen  30414    Valid                  L3.7     200.0  Found   \n",
       "\n",
       "         year    reclat    reclong               GeoLocation  \n",
       "0      1880.0  50.77500    6.08333     (50.775000, 6.083330)  \n",
       "1      1951.0  56.18333   10.23333    (56.183330, 10.233330)  \n",
       "2      1952.0  54.21667 -113.00000  (54.216670, -113.000000)  \n",
       "3      1976.0  16.88333  -99.90000   (16.883330, -99.900000)  \n",
       "4      1902.0 -33.16667  -64.95000  (-33.166670, -64.950000)  \n",
       "...       ...       ...        ...                       ...  \n",
       "45711  1990.0  29.03700   17.01850    (29.037000, 17.018500)  \n",
       "45712  1999.0  13.78333    8.96667     (13.783330, 8.966670)  \n",
       "45713  1939.0  49.25000   17.66667    (49.250000, 17.666670)  \n",
       "45714  2003.0  49.78917   41.50460    (49.789170, 41.504600)  \n",
       "45715  1976.0  33.98333 -115.68333  (33.983330, -115.683330)  \n",
       "\n",
       "[45716 rows x 10 columns]"
      ]
     },
     "execution_count": 4,
     "metadata": {},
     "output_type": "execute_result"
    }
   ],
   "source": [
    "data"
   ]
  },
  {
   "cell_type": "markdown",
   "id": "f6c2fd3a-1cd0-4ab7-85f4-a64f5ed28d32",
   "metadata": {},
   "source": [
    "**Converting year column from float data type to integer data type**"
   ]
  },
  {
   "cell_type": "code",
   "execution_count": 5,
   "id": "70ea5e30-5819-4331-8ccb-9188ea034e92",
   "metadata": {},
   "outputs": [
    {
     "data": {
      "text/plain": [
       "dtype('float64')"
      ]
     },
     "execution_count": 5,
     "metadata": {},
     "output_type": "execute_result"
    }
   ],
   "source": [
    "data['year'].dtype"
   ]
  },
  {
   "cell_type": "code",
   "execution_count": 6,
   "id": "748820fa-8bd5-4b5a-afaa-3fb0f6492353",
   "metadata": {},
   "outputs": [],
   "source": [
    "data['year'] = data['year'].astype(pd.Int64Dtype())"
   ]
  },
  {
   "cell_type": "code",
   "execution_count": 7,
   "id": "8dca2bca-df64-4844-a767-c5e74204f873",
   "metadata": {},
   "outputs": [
    {
     "data": {
      "text/plain": [
       "Int64Dtype()"
      ]
     },
     "execution_count": 7,
     "metadata": {},
     "output_type": "execute_result"
    }
   ],
   "source": [
    "data['year'].dtype"
   ]
  },
  {
   "cell_type": "markdown",
   "id": "51b707f7-6646-481a-8092-eb862ce261fa",
   "metadata": {},
   "source": [
    "**Sorting the data**"
   ]
  },
  {
   "cell_type": "code",
   "execution_count": 8,
   "id": "666cb4de-2d78-44a2-b6c3-8a7ce0c008e1",
   "metadata": {},
   "outputs": [],
   "source": [
    "#Sorting dataset on basis of year in ascending order\n",
    "data.sort_values(by=['year'],inplace=True)"
   ]
  },
  {
   "cell_type": "code",
   "execution_count": 9,
   "id": "039a8835-9379-40c7-aa39-48eb4d922396",
   "metadata": {},
   "outputs": [
    {
     "data": {
      "text/html": [
       "<div>\n",
       "<style scoped>\n",
       "    .dataframe tbody tr th:only-of-type {\n",
       "        vertical-align: middle;\n",
       "    }\n",
       "\n",
       "    .dataframe tbody tr th {\n",
       "        vertical-align: top;\n",
       "    }\n",
       "\n",
       "    .dataframe thead th {\n",
       "        text-align: right;\n",
       "    }\n",
       "</style>\n",
       "<table border=\"1\" class=\"dataframe\">\n",
       "  <thead>\n",
       "    <tr style=\"text-align: right;\">\n",
       "      <th></th>\n",
       "      <th>name</th>\n",
       "      <th>id</th>\n",
       "      <th>nametype</th>\n",
       "      <th>recclass</th>\n",
       "      <th>mass</th>\n",
       "      <th>fall</th>\n",
       "      <th>year</th>\n",
       "      <th>reclat</th>\n",
       "      <th>reclong</th>\n",
       "      <th>GeoLocation</th>\n",
       "    </tr>\n",
       "  </thead>\n",
       "  <tbody>\n",
       "    <tr>\n",
       "      <th>16356</th>\n",
       "      <td>Havana</td>\n",
       "      <td>11857</td>\n",
       "      <td>Valid</td>\n",
       "      <td>Iron, IAB complex</td>\n",
       "      <td>NaN</td>\n",
       "      <td>Found</td>\n",
       "      <td>301</td>\n",
       "      <td>40.33333</td>\n",
       "      <td>-90.05000</td>\n",
       "      <td>(40.333330, -90.050000)</td>\n",
       "    </tr>\n",
       "    <tr>\n",
       "      <th>38301</th>\n",
       "      <td>Wietrzno-Bobrka</td>\n",
       "      <td>24259</td>\n",
       "      <td>Valid</td>\n",
       "      <td>Iron</td>\n",
       "      <td>376.0</td>\n",
       "      <td>Found</td>\n",
       "      <td>601</td>\n",
       "      <td>49.41667</td>\n",
       "      <td>21.70000</td>\n",
       "      <td>(49.416670, 21.700000)</td>\n",
       "    </tr>\n",
       "    <tr>\n",
       "      <th>703</th>\n",
       "      <td>Nogata</td>\n",
       "      <td>16988</td>\n",
       "      <td>Valid</td>\n",
       "      <td>L6</td>\n",
       "      <td>472.0</td>\n",
       "      <td>Fell</td>\n",
       "      <td>860</td>\n",
       "      <td>33.72500</td>\n",
       "      <td>130.75000</td>\n",
       "      <td>(33.725000, 130.750000)</td>\n",
       "    </tr>\n",
       "    <tr>\n",
       "      <th>678</th>\n",
       "      <td>Narni</td>\n",
       "      <td>16914</td>\n",
       "      <td>Valid</td>\n",
       "      <td>Stone-uncl</td>\n",
       "      <td>NaN</td>\n",
       "      <td>Fell</td>\n",
       "      <td>920</td>\n",
       "      <td>42.51667</td>\n",
       "      <td>12.51667</td>\n",
       "      <td>(42.516670, 12.516670)</td>\n",
       "    </tr>\n",
       "    <tr>\n",
       "      <th>278</th>\n",
       "      <td>Elbogen</td>\n",
       "      <td>7823</td>\n",
       "      <td>Valid</td>\n",
       "      <td>Iron, IID</td>\n",
       "      <td>107000.0</td>\n",
       "      <td>Fell</td>\n",
       "      <td>1399</td>\n",
       "      <td>50.18333</td>\n",
       "      <td>12.73333</td>\n",
       "      <td>(50.183330, 12.733330)</td>\n",
       "    </tr>\n",
       "    <tr>\n",
       "      <th>...</th>\n",
       "      <td>...</td>\n",
       "      <td>...</td>\n",
       "      <td>...</td>\n",
       "      <td>...</td>\n",
       "      <td>...</td>\n",
       "      <td>...</td>\n",
       "      <td>...</td>\n",
       "      <td>...</td>\n",
       "      <td>...</td>\n",
       "      <td>...</td>\n",
       "    </tr>\n",
       "    <tr>\n",
       "      <th>38128</th>\n",
       "      <td>Um-Hadid</td>\n",
       "      <td>24114</td>\n",
       "      <td>Valid</td>\n",
       "      <td>Mesosiderite</td>\n",
       "      <td>15400.0</td>\n",
       "      <td>Found</td>\n",
       "      <td>&lt;NA&gt;</td>\n",
       "      <td>21.69500</td>\n",
       "      <td>50.59667</td>\n",
       "      <td>(21.695000, 50.596670)</td>\n",
       "    </tr>\n",
       "    <tr>\n",
       "      <th>38201</th>\n",
       "      <td>Valencia</td>\n",
       "      <td>24147</td>\n",
       "      <td>Valid</td>\n",
       "      <td>H5</td>\n",
       "      <td>33500.0</td>\n",
       "      <td>Found</td>\n",
       "      <td>&lt;NA&gt;</td>\n",
       "      <td>39.00000</td>\n",
       "      <td>-0.03333</td>\n",
       "      <td>(39.000000, -0.033330)</td>\n",
       "    </tr>\n",
       "    <tr>\n",
       "      <th>38224</th>\n",
       "      <td>Villa Regina</td>\n",
       "      <td>53827</td>\n",
       "      <td>Valid</td>\n",
       "      <td>Iron, IIIAB</td>\n",
       "      <td>5030.0</td>\n",
       "      <td>Found</td>\n",
       "      <td>&lt;NA&gt;</td>\n",
       "      <td>-39.10000</td>\n",
       "      <td>-67.06667</td>\n",
       "      <td>(-39.100000, -67.066670)</td>\n",
       "    </tr>\n",
       "    <tr>\n",
       "      <th>38328</th>\n",
       "      <td>Wiltshire</td>\n",
       "      <td>56143</td>\n",
       "      <td>Valid</td>\n",
       "      <td>H5</td>\n",
       "      <td>92750.0</td>\n",
       "      <td>Found</td>\n",
       "      <td>&lt;NA&gt;</td>\n",
       "      <td>51.14967</td>\n",
       "      <td>-1.81000</td>\n",
       "      <td>(51.149670, -1.810000)</td>\n",
       "    </tr>\n",
       "    <tr>\n",
       "      <th>45700</th>\n",
       "      <td>Zaragoza</td>\n",
       "      <td>48916</td>\n",
       "      <td>Valid</td>\n",
       "      <td>Iron, IVA-an</td>\n",
       "      <td>162000.0</td>\n",
       "      <td>Found</td>\n",
       "      <td>&lt;NA&gt;</td>\n",
       "      <td>41.65000</td>\n",
       "      <td>-0.86667</td>\n",
       "      <td>(41.650000, -0.866670)</td>\n",
       "    </tr>\n",
       "  </tbody>\n",
       "</table>\n",
       "<p>45716 rows × 10 columns</p>\n",
       "</div>"
      ],
      "text/plain": [
       "                  name     id nametype           recclass      mass   fall  \\\n",
       "16356           Havana  11857    Valid  Iron, IAB complex       NaN  Found   \n",
       "38301  Wietrzno-Bobrka  24259    Valid               Iron     376.0  Found   \n",
       "703             Nogata  16988    Valid                 L6     472.0   Fell   \n",
       "678              Narni  16914    Valid         Stone-uncl       NaN   Fell   \n",
       "278            Elbogen   7823    Valid          Iron, IID  107000.0   Fell   \n",
       "...                ...    ...      ...                ...       ...    ...   \n",
       "38128         Um-Hadid  24114    Valid       Mesosiderite   15400.0  Found   \n",
       "38201         Valencia  24147    Valid                 H5   33500.0  Found   \n",
       "38224     Villa Regina  53827    Valid        Iron, IIIAB    5030.0  Found   \n",
       "38328        Wiltshire  56143    Valid                 H5   92750.0  Found   \n",
       "45700         Zaragoza  48916    Valid       Iron, IVA-an  162000.0  Found   \n",
       "\n",
       "       year    reclat    reclong               GeoLocation  \n",
       "16356   301  40.33333  -90.05000   (40.333330, -90.050000)  \n",
       "38301   601  49.41667   21.70000    (49.416670, 21.700000)  \n",
       "703     860  33.72500  130.75000   (33.725000, 130.750000)  \n",
       "678     920  42.51667   12.51667    (42.516670, 12.516670)  \n",
       "278    1399  50.18333   12.73333    (50.183330, 12.733330)  \n",
       "...     ...       ...        ...                       ...  \n",
       "38128  <NA>  21.69500   50.59667    (21.695000, 50.596670)  \n",
       "38201  <NA>  39.00000   -0.03333    (39.000000, -0.033330)  \n",
       "38224  <NA> -39.10000  -67.06667  (-39.100000, -67.066670)  \n",
       "38328  <NA>  51.14967   -1.81000    (51.149670, -1.810000)  \n",
       "45700  <NA>  41.65000   -0.86667    (41.650000, -0.866670)  \n",
       "\n",
       "[45716 rows x 10 columns]"
      ]
     },
     "execution_count": 9,
     "metadata": {},
     "output_type": "execute_result"
    }
   ],
   "source": [
    "data"
   ]
  },
  {
   "cell_type": "markdown",
   "id": "af6c946e-176c-4b61-92d8-7d7834847acf",
   "metadata": {},
   "source": [
    "**Checking abnormality specific to the Dataset**"
   ]
  },
  {
   "cell_type": "code",
   "execution_count": 10,
   "id": "ab2204ae-5d29-44df-a879-442bb8a77288",
   "metadata": {},
   "outputs": [
    {
     "data": {
      "text/html": [
       "<div>\n",
       "<style scoped>\n",
       "    .dataframe tbody tr th:only-of-type {\n",
       "        vertical-align: middle;\n",
       "    }\n",
       "\n",
       "    .dataframe tbody tr th {\n",
       "        vertical-align: top;\n",
       "    }\n",
       "\n",
       "    .dataframe thead th {\n",
       "        text-align: right;\n",
       "    }\n",
       "</style>\n",
       "<table border=\"1\" class=\"dataframe\">\n",
       "  <thead>\n",
       "    <tr style=\"text-align: right;\">\n",
       "      <th></th>\n",
       "      <th>name</th>\n",
       "      <th>id</th>\n",
       "      <th>nametype</th>\n",
       "      <th>recclass</th>\n",
       "      <th>mass</th>\n",
       "      <th>fall</th>\n",
       "      <th>year</th>\n",
       "      <th>reclat</th>\n",
       "      <th>reclong</th>\n",
       "      <th>GeoLocation</th>\n",
       "    </tr>\n",
       "  </thead>\n",
       "  <tbody>\n",
       "    <tr>\n",
       "      <th>30679</th>\n",
       "      <td>Northwest Africa 7701</td>\n",
       "      <td>57150</td>\n",
       "      <td>Valid</td>\n",
       "      <td>CK6</td>\n",
       "      <td>55.0</td>\n",
       "      <td>Found</td>\n",
       "      <td>2101</td>\n",
       "      <td>0.0</td>\n",
       "      <td>0.00000</td>\n",
       "      <td>(0.000000, 0.000000)</td>\n",
       "    </tr>\n",
       "    <tr>\n",
       "      <th>38188</th>\n",
       "      <td>Ur</td>\n",
       "      <td>24125</td>\n",
       "      <td>Valid</td>\n",
       "      <td>Iron</td>\n",
       "      <td>NaN</td>\n",
       "      <td>Found</td>\n",
       "      <td>2501</td>\n",
       "      <td>30.9</td>\n",
       "      <td>46.01667</td>\n",
       "      <td>(30.900000, 46.016670)</td>\n",
       "    </tr>\n",
       "  </tbody>\n",
       "</table>\n",
       "</div>"
      ],
      "text/plain": [
       "                        name     id nametype recclass  mass   fall  year  \\\n",
       "30679  Northwest Africa 7701  57150    Valid      CK6  55.0  Found  2101   \n",
       "38188                     Ur  24125    Valid     Iron   NaN  Found  2501   \n",
       "\n",
       "       reclat   reclong             GeoLocation  \n",
       "30679     0.0   0.00000    (0.000000, 0.000000)  \n",
       "38188    30.9  46.01667  (30.900000, 46.016670)  "
      ]
     },
     "execution_count": 10,
     "metadata": {},
     "output_type": "execute_result"
    }
   ],
   "source": [
    "#This dataset has data till 2016\n",
    "data[data['year']>2016]"
   ]
  },
  {
   "cell_type": "markdown",
   "id": "d0bd3d3e-0f76-440e-bd73-a2a984ed3bb9",
   "metadata": {},
   "source": [
    "**Dataset has rows which are >2016 but it is in BCE (Before Common Era), though it is not correct still it is abnormailty in our dataset**"
   ]
  },
  {
   "cell_type": "code",
   "execution_count": 11,
   "id": "77ee4d31-83ee-4fae-b91f-8dba73b38721",
   "metadata": {},
   "outputs": [],
   "source": [
    "data.drop(data[data['year']>2016].index, inplace=True)"
   ]
  },
  {
   "cell_type": "code",
   "execution_count": 12,
   "id": "c14244b2-6924-48a4-9035-24e7dd6c54b2",
   "metadata": {},
   "outputs": [
    {
     "data": {
      "text/html": [
       "<div>\n",
       "<style scoped>\n",
       "    .dataframe tbody tr th:only-of-type {\n",
       "        vertical-align: middle;\n",
       "    }\n",
       "\n",
       "    .dataframe tbody tr th {\n",
       "        vertical-align: top;\n",
       "    }\n",
       "\n",
       "    .dataframe thead th {\n",
       "        text-align: right;\n",
       "    }\n",
       "</style>\n",
       "<table border=\"1\" class=\"dataframe\">\n",
       "  <thead>\n",
       "    <tr style=\"text-align: right;\">\n",
       "      <th></th>\n",
       "      <th>name</th>\n",
       "      <th>id</th>\n",
       "      <th>nametype</th>\n",
       "      <th>recclass</th>\n",
       "      <th>mass</th>\n",
       "      <th>fall</th>\n",
       "      <th>year</th>\n",
       "      <th>reclat</th>\n",
       "      <th>reclong</th>\n",
       "      <th>GeoLocation</th>\n",
       "    </tr>\n",
       "  </thead>\n",
       "  <tbody>\n",
       "  </tbody>\n",
       "</table>\n",
       "</div>"
      ],
      "text/plain": [
       "Empty DataFrame\n",
       "Columns: [name, id, nametype, recclass, mass, fall, year, reclat, reclong, GeoLocation]\n",
       "Index: []"
      ]
     },
     "execution_count": 12,
     "metadata": {},
     "output_type": "execute_result"
    }
   ],
   "source": [
    "#Assuring\n",
    "data[data['year']>2016]"
   ]
  },
  {
   "cell_type": "markdown",
   "id": "824b5eed-3f87-4841-b398-1683ab25ecc0",
   "metadata": {},
   "source": [
    "**Checking for Null Values**"
   ]
  },
  {
   "cell_type": "code",
   "execution_count": 13,
   "id": "4f49b579-2d31-4e97-9683-8fc4fb553582",
   "metadata": {},
   "outputs": [
    {
     "data": {
      "text/html": [
       "<div>\n",
       "<style scoped>\n",
       "    .dataframe tbody tr th:only-of-type {\n",
       "        vertical-align: middle;\n",
       "    }\n",
       "\n",
       "    .dataframe tbody tr th {\n",
       "        vertical-align: top;\n",
       "    }\n",
       "\n",
       "    .dataframe thead th {\n",
       "        text-align: right;\n",
       "    }\n",
       "</style>\n",
       "<table border=\"1\" class=\"dataframe\">\n",
       "  <thead>\n",
       "    <tr style=\"text-align: right;\">\n",
       "      <th></th>\n",
       "      <th>name</th>\n",
       "      <th>id</th>\n",
       "      <th>nametype</th>\n",
       "      <th>recclass</th>\n",
       "      <th>mass</th>\n",
       "      <th>fall</th>\n",
       "      <th>year</th>\n",
       "      <th>reclat</th>\n",
       "      <th>reclong</th>\n",
       "      <th>GeoLocation</th>\n",
       "    </tr>\n",
       "  </thead>\n",
       "  <tbody>\n",
       "    <tr>\n",
       "      <th>16356</th>\n",
       "      <td>False</td>\n",
       "      <td>False</td>\n",
       "      <td>False</td>\n",
       "      <td>False</td>\n",
       "      <td>True</td>\n",
       "      <td>False</td>\n",
       "      <td>False</td>\n",
       "      <td>False</td>\n",
       "      <td>False</td>\n",
       "      <td>False</td>\n",
       "    </tr>\n",
       "    <tr>\n",
       "      <th>38301</th>\n",
       "      <td>False</td>\n",
       "      <td>False</td>\n",
       "      <td>False</td>\n",
       "      <td>False</td>\n",
       "      <td>False</td>\n",
       "      <td>False</td>\n",
       "      <td>False</td>\n",
       "      <td>False</td>\n",
       "      <td>False</td>\n",
       "      <td>False</td>\n",
       "    </tr>\n",
       "    <tr>\n",
       "      <th>703</th>\n",
       "      <td>False</td>\n",
       "      <td>False</td>\n",
       "      <td>False</td>\n",
       "      <td>False</td>\n",
       "      <td>False</td>\n",
       "      <td>False</td>\n",
       "      <td>False</td>\n",
       "      <td>False</td>\n",
       "      <td>False</td>\n",
       "      <td>False</td>\n",
       "    </tr>\n",
       "    <tr>\n",
       "      <th>678</th>\n",
       "      <td>False</td>\n",
       "      <td>False</td>\n",
       "      <td>False</td>\n",
       "      <td>False</td>\n",
       "      <td>True</td>\n",
       "      <td>False</td>\n",
       "      <td>False</td>\n",
       "      <td>False</td>\n",
       "      <td>False</td>\n",
       "      <td>False</td>\n",
       "    </tr>\n",
       "    <tr>\n",
       "      <th>278</th>\n",
       "      <td>False</td>\n",
       "      <td>False</td>\n",
       "      <td>False</td>\n",
       "      <td>False</td>\n",
       "      <td>False</td>\n",
       "      <td>False</td>\n",
       "      <td>False</td>\n",
       "      <td>False</td>\n",
       "      <td>False</td>\n",
       "      <td>False</td>\n",
       "    </tr>\n",
       "    <tr>\n",
       "      <th>...</th>\n",
       "      <td>...</td>\n",
       "      <td>...</td>\n",
       "      <td>...</td>\n",
       "      <td>...</td>\n",
       "      <td>...</td>\n",
       "      <td>...</td>\n",
       "      <td>...</td>\n",
       "      <td>...</td>\n",
       "      <td>...</td>\n",
       "      <td>...</td>\n",
       "    </tr>\n",
       "    <tr>\n",
       "      <th>38128</th>\n",
       "      <td>False</td>\n",
       "      <td>False</td>\n",
       "      <td>False</td>\n",
       "      <td>False</td>\n",
       "      <td>False</td>\n",
       "      <td>False</td>\n",
       "      <td>True</td>\n",
       "      <td>False</td>\n",
       "      <td>False</td>\n",
       "      <td>False</td>\n",
       "    </tr>\n",
       "    <tr>\n",
       "      <th>38201</th>\n",
       "      <td>False</td>\n",
       "      <td>False</td>\n",
       "      <td>False</td>\n",
       "      <td>False</td>\n",
       "      <td>False</td>\n",
       "      <td>False</td>\n",
       "      <td>True</td>\n",
       "      <td>False</td>\n",
       "      <td>False</td>\n",
       "      <td>False</td>\n",
       "    </tr>\n",
       "    <tr>\n",
       "      <th>38224</th>\n",
       "      <td>False</td>\n",
       "      <td>False</td>\n",
       "      <td>False</td>\n",
       "      <td>False</td>\n",
       "      <td>False</td>\n",
       "      <td>False</td>\n",
       "      <td>True</td>\n",
       "      <td>False</td>\n",
       "      <td>False</td>\n",
       "      <td>False</td>\n",
       "    </tr>\n",
       "    <tr>\n",
       "      <th>38328</th>\n",
       "      <td>False</td>\n",
       "      <td>False</td>\n",
       "      <td>False</td>\n",
       "      <td>False</td>\n",
       "      <td>False</td>\n",
       "      <td>False</td>\n",
       "      <td>True</td>\n",
       "      <td>False</td>\n",
       "      <td>False</td>\n",
       "      <td>False</td>\n",
       "    </tr>\n",
       "    <tr>\n",
       "      <th>45700</th>\n",
       "      <td>False</td>\n",
       "      <td>False</td>\n",
       "      <td>False</td>\n",
       "      <td>False</td>\n",
       "      <td>False</td>\n",
       "      <td>False</td>\n",
       "      <td>True</td>\n",
       "      <td>False</td>\n",
       "      <td>False</td>\n",
       "      <td>False</td>\n",
       "    </tr>\n",
       "  </tbody>\n",
       "</table>\n",
       "<p>45714 rows × 10 columns</p>\n",
       "</div>"
      ],
      "text/plain": [
       "        name     id  nametype  recclass   mass   fall   year  reclat  reclong  \\\n",
       "16356  False  False     False     False   True  False  False   False    False   \n",
       "38301  False  False     False     False  False  False  False   False    False   \n",
       "703    False  False     False     False  False  False  False   False    False   \n",
       "678    False  False     False     False   True  False  False   False    False   \n",
       "278    False  False     False     False  False  False  False   False    False   \n",
       "...      ...    ...       ...       ...    ...    ...    ...     ...      ...   \n",
       "38128  False  False     False     False  False  False   True   False    False   \n",
       "38201  False  False     False     False  False  False   True   False    False   \n",
       "38224  False  False     False     False  False  False   True   False    False   \n",
       "38328  False  False     False     False  False  False   True   False    False   \n",
       "45700  False  False     False     False  False  False   True   False    False   \n",
       "\n",
       "       GeoLocation  \n",
       "16356        False  \n",
       "38301        False  \n",
       "703          False  \n",
       "678          False  \n",
       "278          False  \n",
       "...            ...  \n",
       "38128        False  \n",
       "38201        False  \n",
       "38224        False  \n",
       "38328        False  \n",
       "45700        False  \n",
       "\n",
       "[45714 rows x 10 columns]"
      ]
     },
     "execution_count": 13,
     "metadata": {},
     "output_type": "execute_result"
    }
   ],
   "source": [
    "data.isnull()"
   ]
  },
  {
   "cell_type": "code",
   "execution_count": 14,
   "id": "5aed0bd9-08ea-4d6d-af0c-c9597c7865e3",
   "metadata": {},
   "outputs": [
    {
     "data": {
      "text/plain": [
       "name           False\n",
       "id             False\n",
       "nametype       False\n",
       "recclass       False\n",
       "mass            True\n",
       "fall           False\n",
       "year            True\n",
       "reclat          True\n",
       "reclong         True\n",
       "GeoLocation     True\n",
       "dtype: bool"
      ]
     },
     "execution_count": 14,
     "metadata": {},
     "output_type": "execute_result"
    }
   ],
   "source": [
    "data.isnull().any()"
   ]
  },
  {
   "cell_type": "markdown",
   "id": "96121ce0-0852-4375-8e1a-35d6a31967f2",
   "metadata": {},
   "source": [
    "**Counting Null Values in each column**"
   ]
  },
  {
   "cell_type": "code",
   "execution_count": 15,
   "id": "a781f1db-fbe5-4877-886b-97b95ea6f8ae",
   "metadata": {},
   "outputs": [
    {
     "data": {
      "text/plain": [
       "name              0\n",
       "id                0\n",
       "nametype          0\n",
       "recclass          0\n",
       "mass            130\n",
       "fall              0\n",
       "year            288\n",
       "reclat         7315\n",
       "reclong        7315\n",
       "GeoLocation    7315\n",
       "dtype: int64"
      ]
     },
     "execution_count": 15,
     "metadata": {},
     "output_type": "execute_result"
    }
   ],
   "source": [
    "#Count of null values\n",
    "data.isnull().sum()"
   ]
  },
  {
   "cell_type": "markdown",
   "id": "522cdbc4-3ba3-44bf-9988-f9e3fcafc04d",
   "metadata": {},
   "source": [
    "**Removing Null values from the Dataset**"
   ]
  },
  {
   "cell_type": "code",
   "execution_count": 16,
   "id": "8fd57056-ba36-4a05-8b81-915e38ce35f1",
   "metadata": {},
   "outputs": [
    {
     "data": {
      "text/plain": [
       "name           45714\n",
       "id             45714\n",
       "nametype       45714\n",
       "recclass       45714\n",
       "mass           45584\n",
       "fall           45714\n",
       "year           45426\n",
       "reclat         38399\n",
       "reclong        38399\n",
       "GeoLocation    38399\n",
       "dtype: int64"
      ]
     },
     "execution_count": 16,
     "metadata": {},
     "output_type": "execute_result"
    }
   ],
   "source": [
    "#Dataset count row-wise for each column before removing null values\n",
    "data.count()"
   ]
  },
  {
   "cell_type": "code",
   "execution_count": 17,
   "id": "59a4f25e-e8a2-4da0-9950-86e5eb2ec940",
   "metadata": {},
   "outputs": [],
   "source": [
    "#Dropping null values from the Dataset\n",
    "data.dropna(inplace=True)"
   ]
  },
  {
   "cell_type": "code",
   "execution_count": 18,
   "id": "d0463bf6-d5d8-4956-bffb-536c809361c4",
   "metadata": {},
   "outputs": [
    {
     "data": {
      "text/plain": [
       "name           0\n",
       "id             0\n",
       "nametype       0\n",
       "recclass       0\n",
       "mass           0\n",
       "fall           0\n",
       "year           0\n",
       "reclat         0\n",
       "reclong        0\n",
       "GeoLocation    0\n",
       "dtype: int64"
      ]
     },
     "execution_count": 18,
     "metadata": {},
     "output_type": "execute_result"
    }
   ],
   "source": [
    "#Count of null values after dropping null values\n",
    "data.isnull().sum()"
   ]
  },
  {
   "cell_type": "code",
   "execution_count": 19,
   "id": "9a24eb0c-9f79-49b5-9f62-0fbad50a8fee",
   "metadata": {},
   "outputs": [
    {
     "data": {
      "text/plain": [
       "name           38115\n",
       "id             38115\n",
       "nametype       38115\n",
       "recclass       38115\n",
       "mass           38115\n",
       "fall           38115\n",
       "year           38115\n",
       "reclat         38115\n",
       "reclong        38115\n",
       "GeoLocation    38115\n",
       "dtype: int64"
      ]
     },
     "execution_count": 19,
     "metadata": {},
     "output_type": "execute_result"
    }
   ],
   "source": [
    "#Dataset count row-wise for each column after removing null values\n",
    "data.count()"
   ]
  },
  {
   "cell_type": "markdown",
   "id": "1518f2bf-c123-4b8f-8b6c-905c352f01c2",
   "metadata": {},
   "source": [
    "**Dropping rows where mass is zero**"
   ]
  },
  {
   "cell_type": "code",
   "execution_count": 20,
   "id": "f77067ce-4baf-4030-bd0b-32a710ac7dcb",
   "metadata": {},
   "outputs": [
    {
     "data": {
      "text/plain": [
       "name           19\n",
       "id             19\n",
       "nametype       19\n",
       "recclass       19\n",
       "mass           19\n",
       "fall           19\n",
       "year           19\n",
       "reclat         19\n",
       "reclong        19\n",
       "GeoLocation    19\n",
       "dtype: int64"
      ]
     },
     "execution_count": 20,
     "metadata": {},
     "output_type": "execute_result"
    }
   ],
   "source": [
    "#Counting rows where mass is zero before dropping\n",
    "data[data['mass']==0].count()"
   ]
  },
  {
   "cell_type": "code",
   "execution_count": 21,
   "id": "498e0b8d-afae-4684-a552-438132acb733",
   "metadata": {},
   "outputs": [],
   "source": [
    "#Dropping rows where mass is zero\n",
    "data.drop(data[data['mass']==0].index, inplace=True)"
   ]
  },
  {
   "cell_type": "code",
   "execution_count": 22,
   "id": "311d875e-b3d2-4467-86c6-df42ec294d91",
   "metadata": {},
   "outputs": [
    {
     "data": {
      "text/plain": [
       "name           0\n",
       "id             0\n",
       "nametype       0\n",
       "recclass       0\n",
       "mass           0\n",
       "fall           0\n",
       "year           0\n",
       "reclat         0\n",
       "reclong        0\n",
       "GeoLocation    0\n",
       "dtype: int64"
      ]
     },
     "execution_count": 22,
     "metadata": {},
     "output_type": "execute_result"
    }
   ],
   "source": [
    "#Counting rows where mass is zero after dropping\n",
    "data[data['mass']==0].count()"
   ]
  },
  {
   "cell_type": "markdown",
   "id": "f9e71a3a-e509-4131-86a6-5c0dbbddcc44",
   "metadata": {},
   "source": [
    "**Checking for GeoLocation Coordinates**"
   ]
  },
  {
   "cell_type": "code",
   "execution_count": 23,
   "id": "9a9539b2-417c-4669-a104-d15082ad141d",
   "metadata": {},
   "outputs": [
    {
     "name": "stdout",
     "output_type": "stream",
     "text": [
      "name           6184\n",
      "id             6184\n",
      "nametype       6184\n",
      "recclass       6184\n",
      "mass           6184\n",
      "fall           6184\n",
      "year           6184\n",
      "reclat         6184\n",
      "reclong        6184\n",
      "GeoLocation    6184\n",
      "dtype: int64\n"
     ]
    },
    {
     "data": {
      "text/html": [
       "<div>\n",
       "<style scoped>\n",
       "    .dataframe tbody tr th:only-of-type {\n",
       "        vertical-align: middle;\n",
       "    }\n",
       "\n",
       "    .dataframe tbody tr th {\n",
       "        vertical-align: top;\n",
       "    }\n",
       "\n",
       "    .dataframe thead th {\n",
       "        text-align: right;\n",
       "    }\n",
       "</style>\n",
       "<table border=\"1\" class=\"dataframe\">\n",
       "  <thead>\n",
       "    <tr style=\"text-align: right;\">\n",
       "      <th></th>\n",
       "      <th>name</th>\n",
       "      <th>id</th>\n",
       "      <th>nametype</th>\n",
       "      <th>recclass</th>\n",
       "      <th>mass</th>\n",
       "      <th>fall</th>\n",
       "      <th>year</th>\n",
       "      <th>reclat</th>\n",
       "      <th>reclong</th>\n",
       "      <th>GeoLocation</th>\n",
       "    </tr>\n",
       "  </thead>\n",
       "  <tbody>\n",
       "    <tr>\n",
       "      <th>26374</th>\n",
       "      <td>New York</td>\n",
       "      <td>55760</td>\n",
       "      <td>Valid</td>\n",
       "      <td>Iron, IIIAB</td>\n",
       "      <td>2950.00</td>\n",
       "      <td>Found</td>\n",
       "      <td>1965</td>\n",
       "      <td>0.0</td>\n",
       "      <td>0.0</td>\n",
       "      <td>(0.000000, 0.000000)</td>\n",
       "    </tr>\n",
       "    <tr>\n",
       "      <th>44893</th>\n",
       "      <td>Yamato 983064</td>\n",
       "      <td>39686</td>\n",
       "      <td>Valid</td>\n",
       "      <td>L6</td>\n",
       "      <td>40.94</td>\n",
       "      <td>Found</td>\n",
       "      <td>1998</td>\n",
       "      <td>0.0</td>\n",
       "      <td>0.0</td>\n",
       "      <td>(0.000000, 0.000000)</td>\n",
       "    </tr>\n",
       "    <tr>\n",
       "      <th>44892</th>\n",
       "      <td>Yamato 983063</td>\n",
       "      <td>39685</td>\n",
       "      <td>Valid</td>\n",
       "      <td>LL3</td>\n",
       "      <td>3.38</td>\n",
       "      <td>Found</td>\n",
       "      <td>1998</td>\n",
       "      <td>0.0</td>\n",
       "      <td>0.0</td>\n",
       "      <td>(0.000000, 0.000000)</td>\n",
       "    </tr>\n",
       "    <tr>\n",
       "      <th>44891</th>\n",
       "      <td>Yamato 983056</td>\n",
       "      <td>39678</td>\n",
       "      <td>Valid</td>\n",
       "      <td>H5</td>\n",
       "      <td>362.40</td>\n",
       "      <td>Found</td>\n",
       "      <td>1998</td>\n",
       "      <td>0.0</td>\n",
       "      <td>0.0</td>\n",
       "      <td>(0.000000, 0.000000)</td>\n",
       "    </tr>\n",
       "    <tr>\n",
       "      <th>45095</th>\n",
       "      <td>Yamato 983366</td>\n",
       "      <td>39988</td>\n",
       "      <td>Valid</td>\n",
       "      <td>Eucrite-unbr</td>\n",
       "      <td>138.90</td>\n",
       "      <td>Found</td>\n",
       "      <td>1998</td>\n",
       "      <td>0.0</td>\n",
       "      <td>0.0</td>\n",
       "      <td>(0.000000, 0.000000)</td>\n",
       "    </tr>\n",
       "    <tr>\n",
       "      <th>...</th>\n",
       "      <td>...</td>\n",
       "      <td>...</td>\n",
       "      <td>...</td>\n",
       "      <td>...</td>\n",
       "      <td>...</td>\n",
       "      <td>...</td>\n",
       "      <td>...</td>\n",
       "      <td>...</td>\n",
       "      <td>...</td>\n",
       "      <td>...</td>\n",
       "    </tr>\n",
       "    <tr>\n",
       "      <th>30773</th>\n",
       "      <td>Northwest Africa 7857</td>\n",
       "      <td>57422</td>\n",
       "      <td>Valid</td>\n",
       "      <td>LL6</td>\n",
       "      <td>246.00</td>\n",
       "      <td>Found</td>\n",
       "      <td>2013</td>\n",
       "      <td>0.0</td>\n",
       "      <td>0.0</td>\n",
       "      <td>(0.000000, 0.000000)</td>\n",
       "    </tr>\n",
       "    <tr>\n",
       "      <th>30774</th>\n",
       "      <td>Northwest Africa 7858</td>\n",
       "      <td>57423</td>\n",
       "      <td>Valid</td>\n",
       "      <td>H4</td>\n",
       "      <td>459.00</td>\n",
       "      <td>Found</td>\n",
       "      <td>2013</td>\n",
       "      <td>0.0</td>\n",
       "      <td>0.0</td>\n",
       "      <td>(0.000000, 0.000000)</td>\n",
       "    </tr>\n",
       "    <tr>\n",
       "      <th>30776</th>\n",
       "      <td>Northwest Africa 7861</td>\n",
       "      <td>57425</td>\n",
       "      <td>Valid</td>\n",
       "      <td>L5</td>\n",
       "      <td>611.00</td>\n",
       "      <td>Found</td>\n",
       "      <td>2013</td>\n",
       "      <td>0.0</td>\n",
       "      <td>0.0</td>\n",
       "      <td>(0.000000, 0.000000)</td>\n",
       "    </tr>\n",
       "    <tr>\n",
       "      <th>30777</th>\n",
       "      <td>Northwest Africa 7862</td>\n",
       "      <td>57426</td>\n",
       "      <td>Valid</td>\n",
       "      <td>L4/5</td>\n",
       "      <td>317.00</td>\n",
       "      <td>Found</td>\n",
       "      <td>2013</td>\n",
       "      <td>0.0</td>\n",
       "      <td>0.0</td>\n",
       "      <td>(0.000000, 0.000000)</td>\n",
       "    </tr>\n",
       "    <tr>\n",
       "      <th>30759</th>\n",
       "      <td>Northwest Africa 7812</td>\n",
       "      <td>57258</td>\n",
       "      <td>Valid</td>\n",
       "      <td>Angrite</td>\n",
       "      <td>46.20</td>\n",
       "      <td>Found</td>\n",
       "      <td>2013</td>\n",
       "      <td>0.0</td>\n",
       "      <td>0.0</td>\n",
       "      <td>(0.000000, 0.000000)</td>\n",
       "    </tr>\n",
       "  </tbody>\n",
       "</table>\n",
       "<p>6184 rows × 10 columns</p>\n",
       "</div>"
      ],
      "text/plain": [
       "                        name     id nametype      recclass     mass   fall  \\\n",
       "26374               New York  55760    Valid   Iron, IIIAB  2950.00  Found   \n",
       "44893          Yamato 983064  39686    Valid            L6    40.94  Found   \n",
       "44892          Yamato 983063  39685    Valid           LL3     3.38  Found   \n",
       "44891          Yamato 983056  39678    Valid            H5   362.40  Found   \n",
       "45095          Yamato 983366  39988    Valid  Eucrite-unbr   138.90  Found   \n",
       "...                      ...    ...      ...           ...      ...    ...   \n",
       "30773  Northwest Africa 7857  57422    Valid           LL6   246.00  Found   \n",
       "30774  Northwest Africa 7858  57423    Valid            H4   459.00  Found   \n",
       "30776  Northwest Africa 7861  57425    Valid            L5   611.00  Found   \n",
       "30777  Northwest Africa 7862  57426    Valid          L4/5   317.00  Found   \n",
       "30759  Northwest Africa 7812  57258    Valid       Angrite    46.20  Found   \n",
       "\n",
       "       year  reclat  reclong           GeoLocation  \n",
       "26374  1965     0.0      0.0  (0.000000, 0.000000)  \n",
       "44893  1998     0.0      0.0  (0.000000, 0.000000)  \n",
       "44892  1998     0.0      0.0  (0.000000, 0.000000)  \n",
       "44891  1998     0.0      0.0  (0.000000, 0.000000)  \n",
       "45095  1998     0.0      0.0  (0.000000, 0.000000)  \n",
       "...     ...     ...      ...                   ...  \n",
       "30773  2013     0.0      0.0  (0.000000, 0.000000)  \n",
       "30774  2013     0.0      0.0  (0.000000, 0.000000)  \n",
       "30776  2013     0.0      0.0  (0.000000, 0.000000)  \n",
       "30777  2013     0.0      0.0  (0.000000, 0.000000)  \n",
       "30759  2013     0.0      0.0  (0.000000, 0.000000)  \n",
       "\n",
       "[6184 rows x 10 columns]"
      ]
     },
     "execution_count": 23,
     "metadata": {},
     "output_type": "execute_result"
    }
   ],
   "source": [
    "#Checking GeoLocations\n",
    "print(data[data['GeoLocation']=='(0.000000, 0.000000)'].count())\n",
    "data[data['GeoLocation']=='(0.000000, 0.000000)']"
   ]
  },
  {
   "cell_type": "markdown",
   "id": "e6401c52-8954-4474-9a93-7c4881e54421",
   "metadata": {},
   "source": [
    "**Dropping abnormal GeoLocations**\n"
   ]
  },
  {
   "cell_type": "code",
   "execution_count": 24,
   "id": "efeff910-3321-4313-95cb-6e4625d92dc5",
   "metadata": {},
   "outputs": [],
   "source": [
    "data.drop(data[data['GeoLocation']=='(0.000000, 0.000000)'].index, inplace=True)"
   ]
  },
  {
   "cell_type": "code",
   "execution_count": 25,
   "id": "bc493649-f98a-40a6-804a-5ff73b941b0f",
   "metadata": {},
   "outputs": [
    {
     "name": "stdout",
     "output_type": "stream",
     "text": [
      "name           0\n",
      "id             0\n",
      "nametype       0\n",
      "recclass       0\n",
      "mass           0\n",
      "fall           0\n",
      "year           0\n",
      "reclat         0\n",
      "reclong        0\n",
      "GeoLocation    0\n",
      "dtype: int64\n"
     ]
    },
    {
     "data": {
      "text/html": [
       "<div>\n",
       "<style scoped>\n",
       "    .dataframe tbody tr th:only-of-type {\n",
       "        vertical-align: middle;\n",
       "    }\n",
       "\n",
       "    .dataframe tbody tr th {\n",
       "        vertical-align: top;\n",
       "    }\n",
       "\n",
       "    .dataframe thead th {\n",
       "        text-align: right;\n",
       "    }\n",
       "</style>\n",
       "<table border=\"1\" class=\"dataframe\">\n",
       "  <thead>\n",
       "    <tr style=\"text-align: right;\">\n",
       "      <th></th>\n",
       "      <th>name</th>\n",
       "      <th>id</th>\n",
       "      <th>nametype</th>\n",
       "      <th>recclass</th>\n",
       "      <th>mass</th>\n",
       "      <th>fall</th>\n",
       "      <th>year</th>\n",
       "      <th>reclat</th>\n",
       "      <th>reclong</th>\n",
       "      <th>GeoLocation</th>\n",
       "    </tr>\n",
       "  </thead>\n",
       "  <tbody>\n",
       "  </tbody>\n",
       "</table>\n",
       "</div>"
      ],
      "text/plain": [
       "Empty DataFrame\n",
       "Columns: [name, id, nametype, recclass, mass, fall, year, reclat, reclong, GeoLocation]\n",
       "Index: []"
      ]
     },
     "execution_count": 25,
     "metadata": {},
     "output_type": "execute_result"
    }
   ],
   "source": [
    "#Assuring\n",
    "print(data[data['GeoLocation']=='(0.000000, 0.000000)'].count())\n",
    "data[data['GeoLocation']=='(0.000000, 0.000000)']"
   ]
  },
  {
   "cell_type": "markdown",
   "id": "6c68751c-3805-40a8-8c09-beb70872fead",
   "metadata": {},
   "source": [
    "**Reset Index after removing Null values, Zero Mass Rows, Invalid GeoLocations**"
   ]
  },
  {
   "cell_type": "code",
   "execution_count": 26,
   "id": "a8176ad6-f734-4583-8004-9d8be9da36b7",
   "metadata": {},
   "outputs": [
    {
     "data": {
      "text/plain": [
       "Int64Index([38301,   703,   278,   852,   283,  5329,   174, 26166,   410,\n",
       "              956,\n",
       "            ...\n",
       "              965,  3403,  5371,    86, 17387, 17386, 37733, 36403, 30514,\n",
       "              194],\n",
       "           dtype='int64', length=31912)"
      ]
     },
     "execution_count": 26,
     "metadata": {},
     "output_type": "execute_result"
    }
   ],
   "source": [
    "#Displaying index of Dataset before reindexing\n",
    "data.index"
   ]
  },
  {
   "cell_type": "code",
   "execution_count": 27,
   "id": "da42d2bc-8e27-45aa-bf38-11f827330b71",
   "metadata": {},
   "outputs": [],
   "source": [
    "#Reset index of Dataset\n",
    "data.reset_index(inplace=True)"
   ]
  },
  {
   "cell_type": "code",
   "execution_count": 28,
   "id": "496e400f-0423-4679-8320-d0f0cc10448c",
   "metadata": {},
   "outputs": [
    {
     "data": {
      "text/plain": [
       "RangeIndex(start=0, stop=31912, step=1)"
      ]
     },
     "execution_count": 28,
     "metadata": {},
     "output_type": "execute_result"
    }
   ],
   "source": [
    "#Displaying index of Dataset after reindexing\n",
    "data.index"
   ]
  },
  {
   "cell_type": "code",
   "execution_count": 29,
   "id": "1adde73e-7742-4061-a0aa-753a6b4e8ec5",
   "metadata": {},
   "outputs": [],
   "source": [
    "#Deleting previous index row\n",
    "del data['index']"
   ]
  },
  {
   "cell_type": "code",
   "execution_count": 30,
   "id": "fbdacf6c-723c-4786-9f92-53e41a5245dc",
   "metadata": {},
   "outputs": [
    {
     "data": {
      "text/html": [
       "<div>\n",
       "<style scoped>\n",
       "    .dataframe tbody tr th:only-of-type {\n",
       "        vertical-align: middle;\n",
       "    }\n",
       "\n",
       "    .dataframe tbody tr th {\n",
       "        vertical-align: top;\n",
       "    }\n",
       "\n",
       "    .dataframe thead th {\n",
       "        text-align: right;\n",
       "    }\n",
       "</style>\n",
       "<table border=\"1\" class=\"dataframe\">\n",
       "  <thead>\n",
       "    <tr style=\"text-align: right;\">\n",
       "      <th></th>\n",
       "      <th>name</th>\n",
       "      <th>id</th>\n",
       "      <th>nametype</th>\n",
       "      <th>recclass</th>\n",
       "      <th>mass</th>\n",
       "      <th>fall</th>\n",
       "      <th>year</th>\n",
       "      <th>reclat</th>\n",
       "      <th>reclong</th>\n",
       "      <th>GeoLocation</th>\n",
       "    </tr>\n",
       "  </thead>\n",
       "  <tbody>\n",
       "    <tr>\n",
       "      <th>0</th>\n",
       "      <td>Wietrzno-Bobrka</td>\n",
       "      <td>24259</td>\n",
       "      <td>Valid</td>\n",
       "      <td>Iron</td>\n",
       "      <td>376.0</td>\n",
       "      <td>Found</td>\n",
       "      <td>601</td>\n",
       "      <td>49.41667</td>\n",
       "      <td>21.70000</td>\n",
       "      <td>(49.416670, 21.700000)</td>\n",
       "    </tr>\n",
       "    <tr>\n",
       "      <th>1</th>\n",
       "      <td>Nogata</td>\n",
       "      <td>16988</td>\n",
       "      <td>Valid</td>\n",
       "      <td>L6</td>\n",
       "      <td>472.0</td>\n",
       "      <td>Fell</td>\n",
       "      <td>860</td>\n",
       "      <td>33.72500</td>\n",
       "      <td>130.75000</td>\n",
       "      <td>(33.725000, 130.750000)</td>\n",
       "    </tr>\n",
       "    <tr>\n",
       "      <th>2</th>\n",
       "      <td>Elbogen</td>\n",
       "      <td>7823</td>\n",
       "      <td>Valid</td>\n",
       "      <td>Iron, IID</td>\n",
       "      <td>107000.0</td>\n",
       "      <td>Fell</td>\n",
       "      <td>1399</td>\n",
       "      <td>50.18333</td>\n",
       "      <td>12.73333</td>\n",
       "      <td>(50.183330, 12.733330)</td>\n",
       "    </tr>\n",
       "    <tr>\n",
       "      <th>3</th>\n",
       "      <td>Rivolta de Bassi</td>\n",
       "      <td>22614</td>\n",
       "      <td>Valid</td>\n",
       "      <td>Stone-uncl</td>\n",
       "      <td>103.3</td>\n",
       "      <td>Fell</td>\n",
       "      <td>1490</td>\n",
       "      <td>45.48333</td>\n",
       "      <td>9.51667</td>\n",
       "      <td>(45.483330, 9.516670)</td>\n",
       "    </tr>\n",
       "    <tr>\n",
       "      <th>4</th>\n",
       "      <td>Ensisheim</td>\n",
       "      <td>10039</td>\n",
       "      <td>Valid</td>\n",
       "      <td>LL6</td>\n",
       "      <td>127000.0</td>\n",
       "      <td>Fell</td>\n",
       "      <td>1491</td>\n",
       "      <td>47.86667</td>\n",
       "      <td>7.35000</td>\n",
       "      <td>(47.866670, 7.350000)</td>\n",
       "    </tr>\n",
       "    <tr>\n",
       "      <th>...</th>\n",
       "      <td>...</td>\n",
       "      <td>...</td>\n",
       "      <td>...</td>\n",
       "      <td>...</td>\n",
       "      <td>...</td>\n",
       "      <td>...</td>\n",
       "      <td>...</td>\n",
       "      <td>...</td>\n",
       "      <td>...</td>\n",
       "      <td>...</td>\n",
       "    </tr>\n",
       "    <tr>\n",
       "      <th>31907</th>\n",
       "      <td>Ksar Ghilane 010</td>\n",
       "      <td>55605</td>\n",
       "      <td>Valid</td>\n",
       "      <td>L5</td>\n",
       "      <td>50.1</td>\n",
       "      <td>Found</td>\n",
       "      <td>2012</td>\n",
       "      <td>32.80600</td>\n",
       "      <td>9.83300</td>\n",
       "      <td>(32.806000, 9.833000)</td>\n",
       "    </tr>\n",
       "    <tr>\n",
       "      <th>31908</th>\n",
       "      <td>Stewart Valley 012</td>\n",
       "      <td>55528</td>\n",
       "      <td>Valid</td>\n",
       "      <td>H6</td>\n",
       "      <td>130.0</td>\n",
       "      <td>Found</td>\n",
       "      <td>2012</td>\n",
       "      <td>36.23500</td>\n",
       "      <td>-116.18358</td>\n",
       "      <td>(36.235000, -116.183580)</td>\n",
       "    </tr>\n",
       "    <tr>\n",
       "      <th>31909</th>\n",
       "      <td>Rosamond</td>\n",
       "      <td>57434</td>\n",
       "      <td>Valid</td>\n",
       "      <td>LL3</td>\n",
       "      <td>11.1</td>\n",
       "      <td>Found</td>\n",
       "      <td>2012</td>\n",
       "      <td>34.82793</td>\n",
       "      <td>-118.14640</td>\n",
       "      <td>(34.827930, -118.146400)</td>\n",
       "    </tr>\n",
       "    <tr>\n",
       "      <th>31910</th>\n",
       "      <td>Northwest Africa 7496</td>\n",
       "      <td>56314</td>\n",
       "      <td>Valid</td>\n",
       "      <td>Eucrite-pmict</td>\n",
       "      <td>788.4</td>\n",
       "      <td>Found</td>\n",
       "      <td>2012</td>\n",
       "      <td>22.94781</td>\n",
       "      <td>-13.38527</td>\n",
       "      <td>(22.947810, -13.385270)</td>\n",
       "    </tr>\n",
       "    <tr>\n",
       "      <th>31911</th>\n",
       "      <td>Chelyabinsk</td>\n",
       "      <td>57165</td>\n",
       "      <td>Valid</td>\n",
       "      <td>LL5</td>\n",
       "      <td>100000.0</td>\n",
       "      <td>Fell</td>\n",
       "      <td>2013</td>\n",
       "      <td>54.81667</td>\n",
       "      <td>61.11667</td>\n",
       "      <td>(54.816670, 61.116670)</td>\n",
       "    </tr>\n",
       "  </tbody>\n",
       "</table>\n",
       "<p>31912 rows × 10 columns</p>\n",
       "</div>"
      ],
      "text/plain": [
       "                        name     id nametype       recclass      mass   fall  \\\n",
       "0            Wietrzno-Bobrka  24259    Valid           Iron     376.0  Found   \n",
       "1                     Nogata  16988    Valid             L6     472.0   Fell   \n",
       "2                    Elbogen   7823    Valid      Iron, IID  107000.0   Fell   \n",
       "3           Rivolta de Bassi  22614    Valid     Stone-uncl     103.3   Fell   \n",
       "4                  Ensisheim  10039    Valid            LL6  127000.0   Fell   \n",
       "...                      ...    ...      ...            ...       ...    ...   \n",
       "31907       Ksar Ghilane 010  55605    Valid             L5      50.1  Found   \n",
       "31908     Stewart Valley 012  55528    Valid             H6     130.0  Found   \n",
       "31909               Rosamond  57434    Valid            LL3      11.1  Found   \n",
       "31910  Northwest Africa 7496  56314    Valid  Eucrite-pmict     788.4  Found   \n",
       "31911            Chelyabinsk  57165    Valid            LL5  100000.0   Fell   \n",
       "\n",
       "       year    reclat    reclong               GeoLocation  \n",
       "0       601  49.41667   21.70000    (49.416670, 21.700000)  \n",
       "1       860  33.72500  130.75000   (33.725000, 130.750000)  \n",
       "2      1399  50.18333   12.73333    (50.183330, 12.733330)  \n",
       "3      1490  45.48333    9.51667     (45.483330, 9.516670)  \n",
       "4      1491  47.86667    7.35000     (47.866670, 7.350000)  \n",
       "...     ...       ...        ...                       ...  \n",
       "31907  2012  32.80600    9.83300     (32.806000, 9.833000)  \n",
       "31908  2012  36.23500 -116.18358  (36.235000, -116.183580)  \n",
       "31909  2012  34.82793 -118.14640  (34.827930, -118.146400)  \n",
       "31910  2012  22.94781  -13.38527   (22.947810, -13.385270)  \n",
       "31911  2013  54.81667   61.11667    (54.816670, 61.116670)  \n",
       "\n",
       "[31912 rows x 10 columns]"
      ]
     },
     "execution_count": 30,
     "metadata": {},
     "output_type": "execute_result"
    }
   ],
   "source": [
    "data"
   ]
  },
  {
   "cell_type": "markdown",
   "id": "792668da-1730-4df7-90e5-54f2071529df",
   "metadata": {},
   "source": [
    "**Getting the Mean, Median, Mode, Std. Deviation of Mass**"
   ]
  },
  {
   "cell_type": "code",
   "execution_count": 31,
   "id": "bd23ef22-db40-47c1-bcf0-b3e19fa685ad",
   "metadata": {},
   "outputs": [
    {
     "data": {
      "text/plain": [
       "18552.775309444856"
      ]
     },
     "execution_count": 31,
     "metadata": {},
     "output_type": "execute_result"
    }
   ],
   "source": [
    "#Mean\n",
    "data['mass'].mean()"
   ]
  },
  {
   "cell_type": "code",
   "execution_count": 32,
   "id": "9b8a62c3-f657-4a8d-8dde-fe2e3eb3a40c",
   "metadata": {},
   "outputs": [
    {
     "data": {
      "text/plain": [
       "29.685000000000002"
      ]
     },
     "execution_count": 32,
     "metadata": {},
     "output_type": "execute_result"
    }
   ],
   "source": [
    "#Median\n",
    "data['mass'].median()"
   ]
  },
  {
   "cell_type": "code",
   "execution_count": 33,
   "id": "b76e85f4-2007-4142-92c2-430520ed8a1d",
   "metadata": {},
   "outputs": [
    {
     "data": {
      "text/plain": [
       "0    1.3\n",
       "dtype: float64"
      ]
     },
     "execution_count": 33,
     "metadata": {},
     "output_type": "execute_result"
    }
   ],
   "source": [
    "#Mode\n",
    "data['mass'].mode()"
   ]
  },
  {
   "cell_type": "code",
   "execution_count": 34,
   "id": "e2ddabe5-ad0a-42d0-b730-46819f052d88",
   "metadata": {},
   "outputs": [
    {
     "data": {
      "text/plain": [
       "687032.3021663561"
      ]
     },
     "execution_count": 34,
     "metadata": {},
     "output_type": "execute_result"
    }
   ],
   "source": [
    "#Standard Deviation\n",
    "data['mass'].std()"
   ]
  },
  {
   "cell_type": "markdown",
   "id": "d66c06f6-5668-4fca-973b-f00b4f039c0a",
   "metadata": {},
   "source": [
    "**Finding the Correlation, Covariance**"
   ]
  },
  {
   "cell_type": "code",
   "execution_count": 35,
   "id": "1f5db12a-97db-4766-bc77-23f01fe4b4fd",
   "metadata": {},
   "outputs": [
    {
     "data": {
      "text/plain": [
       "-0.11906321369202685"
      ]
     },
     "execution_count": 35,
     "metadata": {},
     "output_type": "execute_result"
    }
   ],
   "source": [
    "#Correaltion between mass and year\n",
    "data['mass'].corr(data['year'].astype('float'))"
   ]
  },
  {
   "cell_type": "code",
   "execution_count": 36,
   "id": "23a0f58a-8d11-4026-b5c7-8a6a03011b23",
   "metadata": {},
   "outputs": [
    {
     "data": {
      "text/plain": [
       "-2276223.217698385"
      ]
     },
     "execution_count": 36,
     "metadata": {},
     "output_type": "execute_result"
    }
   ],
   "source": [
    "#Covariance between mass and year\n",
    "data['mass'].cov(data['year'].astype('float'))"
   ]
  },
  {
   "cell_type": "markdown",
   "id": "6d79143d-1ab2-48bf-9ceb-8598774c97d0",
   "metadata": {},
   "source": [
    "**Type of Meteorite** (Should not be confused with Classification)"
   ]
  },
  {
   "cell_type": "code",
   "execution_count": 37,
   "id": "1e5d5d11-43eb-49f5-a87a-b43c30e79442",
   "metadata": {},
   "outputs": [
    {
     "data": {
      "text/plain": [
       "array(['Valid', 'Relict'], dtype=object)"
      ]
     },
     "execution_count": 37,
     "metadata": {},
     "output_type": "execute_result"
    }
   ],
   "source": [
    "data['nametype'].unique()"
   ]
  },
  {
   "cell_type": "code",
   "execution_count": 38,
   "id": "9fca2a9a-a37e-4626-a4fd-742791919cd9",
   "metadata": {},
   "outputs": [
    {
     "data": {
      "text/plain": [
       "Valid     31909\n",
       "Relict        3\n",
       "Name: nametype, dtype: int64"
      ]
     },
     "execution_count": 38,
     "metadata": {},
     "output_type": "execute_result"
    }
   ],
   "source": [
    "#Counting based on types of Meteorites\n",
    "data['nametype'].value_counts()"
   ]
  },
  {
   "cell_type": "markdown",
   "id": "2f61a971-c83b-4850-939d-24d609fceb1d",
   "metadata": {},
   "source": [
    "**Visualizing the data**"
   ]
  },
  {
   "cell_type": "code",
   "execution_count": 39,
   "id": "7fe25786-9bc6-460b-84a7-6c1159b390db",
   "metadata": {},
   "outputs": [
    {
     "data": {
      "text/plain": [
       "Text(0.5, 1.0, 'Count of different type of Meteorites')"
      ]
     },
     "execution_count": 39,
     "metadata": {},
     "output_type": "execute_result"
    },
    {
     "data": {
      "image/png": "[encoded data removed]",
      "text/plain": [
       "<Figure size 720x360 with 1 Axes>"
      ]
     },
     "metadata": {
      "needs_background": "light"
     },
     "output_type": "display_data"
    }
   ],
   "source": [
    "#Plotting Histogram Plot for 'Nametype' Column\n",
    "fig = plt.figure(figsize=(10,5))\n",
    "sns.histplot(data=data['nametype'],color='b').set_title('Count of different type of Meteorites')"
   ]
  },
  {
   "cell_type": "code",
   "execution_count": 40,
   "id": "8d1830f2-9c90-4756-bc3f-fb981f1e9389",
   "metadata": {},
   "outputs": [
    {
     "data": {
      "text/plain": [
       "([<matplotlib.patches.Wedge at 0x1e0832d5a30>,\n",
       "  <matplotlib.patches.Wedge at 0x1e0832e13a0>],\n",
       " [Text(-1.0999999520392434, 0.0003248286662686357, 'Valid'),\n",
       "  Text(1.0999999520514863, -0.00032478720397173923, 'Relict')],\n",
       " [Text(-0.5999999738395873, 0.0001771792725101649, '99.99%'),\n",
       "  Text(0.5999999738462652, -0.00017715665671185773, '0.01%')])"
      ]
     },
     "execution_count": 40,
     "metadata": {},
     "output_type": "execute_result"
    },
    {
     "data": {
      "image/png": "[encoded data removed]",
      "text/plain": [
       "<Figure size 720x360 with 1 Axes>"
      ]
     },
     "metadata": {},
     "output_type": "display_data"
    }
   ],
   "source": [
    "#Plotting Piechart for 'Nametype' Column\n",
    "fig=plt.figure(figsize=(10,5))\n",
    "ax=fig.add_axes([0,0,1,1])\n",
    "ax.pie(data['nametype'].value_counts(),labels=data['nametype'].unique(),autopct='%0.2f%%',shadow=True,colors=['r','b'])"
   ]
  },
  {
   "cell_type": "markdown",
   "id": "56b4c047-0fbc-41c8-9d4f-28c386d546ed",
   "metadata": {},
   "source": [
    "**Classification of Meteorites**"
   ]
  },
  {
   "cell_type": "code",
   "execution_count": 41,
   "id": "6a735b8b-fb0e-4f96-b950-6d0e53d884e8",
   "metadata": {},
   "outputs": [
    {
     "data": {
      "text/plain": [
       "array(['Iron', 'L6', 'Iron, IID', 'Stone-uncl', 'LL6', 'Iron, IAB-MG',\n",
       "       'Iron, IIIAB', 'L', 'H6', 'H', 'Iron, IIAB', 'L5', 'Iron, IVA-an',\n",
       "       'Pallasite, PMG-an', 'H5', 'H3-5', 'L/LL4', 'H4', 'Iron, IAB-sLL',\n",
       "       'Iron, IAB?', 'Iron, IC', 'Iron, ungrouped', 'Iron, IVB', 'LL5',\n",
       "       'LL4', 'Howardite', 'Iron, IAB complex', 'H5-7', 'CI1',\n",
       "       'Eucrite-mmict', 'Pallasite, PMG', 'OC', 'Martian (chassignite)',\n",
       "       'H?', 'L4', 'Iron, IIIE', 'Eucrite-pmict', 'CR2', 'Iron, IVA',\n",
       "       'Pallasite', 'Iron, IAB-ung', 'Aubrite', 'H4/5', 'CM2', 'LL7',\n",
       "       'Mesosiderite-A1', 'Diogenite', 'Iron, IIE-an', 'Pallasite?',\n",
       "       'Iron, IIC', 'H3/4', 'L3.7', 'Iron, IAB-sLH', 'Iron, IIIAB?',\n",
       "       'H/L3.9', 'Iron, IIIF', 'Mesosiderite-A4', 'Mesosiderite-B4',\n",
       "       'CV3', 'LL3.6', 'Iron, IIG', 'Iron, IAB-sHL', 'EL6',\n",
       "       'Martian (shergottite)', 'L/LL5', 'Lodranite', 'Ureilite', 'CO3.4',\n",
       "       'Angrite', 'L/LL6', 'CO3.5', 'Eucrite-cm', 'Iron, IIE', 'CO3.7',\n",
       "       'H/L3.6', 'Mesosiderite-A3/4', 'Pallasite, PES', 'Mesosiderite-B2',\n",
       "       'Iron, IC-an', 'L5-6', 'Iron, IAB-sHH', 'Mesosiderite-A3',\n",
       "       'Iron, IAB-sLM', 'K3', 'EH4', 'H3.7', 'LL3.15', 'H3-4', 'CO3.3',\n",
       "       'EH5', 'Iron, IIIAB-an', 'EH3', 'LL4-6', 'LL3.4', 'Iron, IID-an',\n",
       "       'L3.7-6', 'Iron, IIF', 'L3.6', 'Martian (nakhlite)', 'L3.9', 'LL',\n",
       "       'H3.8', 'Achondrite-ung', 'Mesosiderite?', 'LL3.3',\n",
       "       'Mesosiderite-B1', 'Iron, IAB-an', 'H3.4', 'LL3.8', 'H3',\n",
       "       'Mesosiderite-A', 'CBa', 'L3', 'L5/6', 'Winonaite', 'CK4',\n",
       "       'H3.8-an', 'L3.5', 'L3-6', 'H3-6', 'H3.6', 'R3.8-6', 'H4-an',\n",
       "       'L6/7', 'CO3.2', 'C4-ung', 'H5-6', 'LL3.00', 'LL3-6',\n",
       "       'Mesosiderite', 'EH4/5', 'L3-4', 'Aubrite-an', 'L3.4', 'LL3.2',\n",
       "       'H3.5', 'L4-6', 'Diogenite-pm', 'EH3/4-an', 'Mesosiderite-A2',\n",
       "       'C2-ung', 'CR2-an', 'Lunar (anorth)', 'LL3.1', 'Ureilite-pmict',\n",
       "       'L-imp melt', 'L3.8-an', 'L/LL3.4', 'L/LL4/5', 'H(5?)', 'CK4/5',\n",
       "       'L5-7', 'CO3.8', 'H4-6', 'EL6/7', 'C5/6-ung', 'H4/6',\n",
       "       'Chondrite-ung', 'H5/6', 'H/L4', 'Brachinite', 'LL3.0', 'CK4-an',\n",
       "       'E5', 'LL3', 'Acapulcoite', 'CO3', 'Lodranite-an', 'H-an', 'H4-5',\n",
       "       'R3.8', 'EH', 'CO3.0', 'L4/5', 'H3.2-6', 'LL3.9', 'H7', 'H3.9',\n",
       "       'L3.2', 'L3.8', 'L/LL3', 'L3.7-3.9', 'LL3.7', 'Iron, IIIE-an',\n",
       "       'CO3.6', 'L(?)3', 'LL3.5', 'E3', 'E5-an', 'H(?)4', 'R4', 'H3.3',\n",
       "       'H3.2-an', 'Lunar (bas/anor)', 'C', 'L3.7-4', 'Eucrite',\n",
       "       'Lunar (gabbro)', 'E4', 'EH6-an', 'E', 'L3.5-3.8',\n",
       "       'Mesosiderite-an', 'L3/4', 'LL5/6', 'L3.1', 'Eucrite-unbr',\n",
       "       'H3.2-3.7', 'Eucrite-br', 'L/LL6-an', 'L3.6-4', 'L3.3', 'CV3-an',\n",
       "       'C1/2-ung', 'L3.5-3.7', 'CK5', 'Stone-ung', 'R3.9', 'L7', 'CM1/2',\n",
       "       'LL3.1-3.5', 'CK6', 'EH-imp melt', 'Iron, IIAB-an', 'L3.3-3.7',\n",
       "       'C3-ung', 'L3.4-3.7', 'CM1', 'L3.3-3.6', 'L3.2-3.6', 'LL6(?)',\n",
       "       'Pallasite, ungrouped', 'EH6', 'Acapulcoite/Lodranite', 'LL7(?)',\n",
       "       'Martian (OPX)', 'R3.6', 'EL3', 'CH3', 'H3.5-4', 'Eucrite-Mg rich',\n",
       "       'L3.0-3.9', 'L/LL', 'C4', 'L3.3-3.5', 'L3.5-3.9', 'L3.2-3.5',\n",
       "       'L3.0', 'L3.0-3.7', 'C6', 'E3-an', 'K', 'Chondrite-fusion crust',\n",
       "       'Mesosiderite-B', 'Lunar (basalt)', 'CK5/6', 'E6', 'Ureilite-an',\n",
       "       'H-metal', 'H3.1', 'H3.7-6', 'H3.0', 'EL7', 'LL5-6', 'H3.9/4',\n",
       "       'L3.5-5', 'H3.8/4', 'L/LL5/6', 'H3.10', 'L3.05', 'EH7-an', 'L4-5',\n",
       "       'L3-5', 'LL3.8-6', 'CK3', 'L/LL(?)3', 'H3.9-6', 'L/LL3.10',\n",
       "       'H3.9-5', 'LL4/5', 'H3.8-5', 'H3.6-6', 'R3.8-5', 'R3-6', 'L3.9/4',\n",
       "       'L/LL5-6', 'CK3-an', 'EL5', 'CV2', 'C2', 'LL3.9/4', 'LL5-7',\n",
       "       'H3.2', 'H3-an', 'CBb', 'L4-an', 'EH7', 'EL4', 'LL4-5', 'H4(?)',\n",
       "       'Diogenite-an', 'R3', 'CR1', 'H3.8-4', 'R3.5-6', 'C4/5', 'L/LL3.2',\n",
       "       'L3.10', 'H/L3', 'H/L3.5', 'EL4/5', 'L/LL3-5', 'L/LL3-6', 'H~5',\n",
       "       'H~6', 'L3.9-6', 'L~5', 'H~4', 'H~4/5', 'Lunar (feldsp. breccia)',\n",
       "       'H/L6', 'R3-4', 'H5-an', 'CR', 'Enst achon-ung', 'Lunar', 'L~6',\n",
       "       'LL~6', 'H3.4/3.5', 'H-imp melt', 'E-an', 'L-metal', 'H3.0-3.4',\n",
       "       'Lunar (norite)', 'CR-an', 'LL3/4', 'L(LL)3.05', 'Fusion crust',\n",
       "       'Lunar (bas. breccia)', 'L~3', 'LL(L)3', 'L/LL3.6/3.7', 'LL~5',\n",
       "       'L(LL)3', 'H/L5', 'L3.8-6', 'CM-an', 'H(L)3-an', 'R5',\n",
       "       'H-melt rock', 'Mesosiderite-C2', 'R', 'L/LL~6', 'L-melt rock',\n",
       "       'H/L4-5', 'L~4', 'CH/CBb', 'H5 ', 'L5 ', 'L6 ', 'H4 ', 'H3.8/3.9',\n",
       "       'L(LL)5', 'L(LL)6', 'L4 ', 'H(L)3', 'H/L~4', 'H5-melt breccia',\n",
       "       'H6-melt breccia', 'H3 ', 'LL3-5', 'Mesosiderite-C', 'Eucrite-an',\n",
       "       'L6-melt breccia', 'L/LL4-6', 'H6 ', 'LL6 ', 'LL3.7-6', 'H3.7-5',\n",
       "       'LL~3', 'L-melt breccia', 'H3.7/3.8', 'L3.7/3.8', 'L/LL~5',\n",
       "       'L/LL~4', 'Diogenite-olivine', 'L3.9-5', 'H3.8-6', 'H3.4-5',\n",
       "       'L(LL)3.5-3.7'], dtype=object)"
      ]
     },
     "execution_count": 41,
     "metadata": {},
     "output_type": "execute_result"
    }
   ],
   "source": [
    "#Showing Unique Classes\n",
    "data['recclass'].unique()"
   ]
  },
  {
   "cell_type": "code",
   "execution_count": 42,
   "id": "7e992add-6a47-4071-99e1-f2ffebf317b1",
   "metadata": {},
   "outputs": [
    {
     "data": {
      "text/plain": [
       "L6                   6523\n",
       "H5                   5586\n",
       "H4                   3324\n",
       "H6                   3231\n",
       "L5                   2723\n",
       "                     ... \n",
       "L5-7                    1\n",
       "Eucrite-an              1\n",
       "Diogenite-olivine       1\n",
       "Mesosiderite?           1\n",
       "H3.7-6                  1\n",
       "Name: recclass, Length: 390, dtype: int64"
      ]
     },
     "execution_count": 42,
     "metadata": {},
     "output_type": "execute_result"
    }
   ],
   "source": [
    "#No. of Meteorites for each Unique Class\n",
    "data['recclass'].value_counts()"
   ]
  },
  {
   "cell_type": "code",
   "execution_count": 43,
   "id": "8785dc4e-131d-4e30-9b59-5efb0ab87691",
   "metadata": {},
   "outputs": [
    {
     "data": {
      "text/plain": [
       "L6                       19\n",
       "Stone-uncl               10\n",
       "H6                        9\n",
       "H5                        9\n",
       "Iron, IIIAB               5\n",
       "H4                        4\n",
       "Iron, ungrouped           4\n",
       "Eucrite-mmict             3\n",
       "L5                        3\n",
       "L                         3\n",
       "Iron                      2\n",
       "Iron, IID                 2\n",
       "Iron, IVA-an              2\n",
       "Howardite                 2\n",
       "LL6                       2\n",
       "Iron, IC                  2\n",
       "Iron, IAB-sLL             1\n",
       "Pallasite, PMG            1\n",
       "Iron, IIAB                1\n",
       "Pallasite, PMG-an         1\n",
       "LL5                       1\n",
       "H3-5                      1\n",
       "Iron, IAB?                1\n",
       "Iron, IAB-MG              1\n",
       "Iron, IAB complex         1\n",
       "H5-7                      1\n",
       "L/LL4                     1\n",
       "LL4                       1\n",
       "H?                        1\n",
       "L4                        1\n",
       "CI1                       1\n",
       "Iron, IVB                 1\n",
       "Martian (chassignite)     1\n",
       "H                         1\n",
       "OC                        1\n",
       "Iron, IIIE                1\n",
       "Name: recclass, dtype: int64"
      ]
     },
     "execution_count": 43,
     "metadata": {},
     "output_type": "execute_result"
    }
   ],
   "source": [
    "#Sample Data from Original Class Data\n",
    "sample_recclass = data.loc[:100,'recclass']\n",
    "sample_recclass.value_counts()"
   ]
  },
  {
   "cell_type": "markdown",
   "id": "27ba6852-2ad2-4839-93f6-44f7ee081bbb",
   "metadata": {},
   "source": [
    "**Plotting of Sample Classification Data of Meteorites**"
   ]
  },
  {
   "cell_type": "code",
   "execution_count": 44,
   "id": "b5ba8181-3795-4768-a16c-5a56ff6ca8eb",
   "metadata": {},
   "outputs": [
    {
     "name": "stderr",
     "output_type": "stream",
     "text": [
      "<ipython-input-44-e5227b8babcf>:6: UserWarning: FixedFormatter should only be used together with FixedLocator\n",
      "  labels = ax.set_xticklabels(sample_recclass.value_counts().index,rotation=90)\n"
     ]
    },
    {
     "data": {
      "text/plain": [
       "Text(0, 0.5, 'Counts')"
      ]
     },
     "execution_count": 44,
     "metadata": {},
     "output_type": "execute_result"
    },
    {
     "data": {
      "image/png": "[encoded data removed]",
      "text/plain": [
       "<Figure size 1080x360 with 1 Axes>"
      ]
     },
     "metadata": {
      "needs_background": "light"
     },
     "output_type": "display_data"
    }
   ],
   "source": [
    "%matplotlib inline\n",
    "fig = plt.figure(figsize=(15,5))\n",
    "ax = fig.add_axes([0,0,1,1])\n",
    "ax.plot(sample_recclass.value_counts(),linewidth=4)\n",
    "ax.set_title('Classification of Meteorites')\n",
    "labels = ax.set_xticklabels(sample_recclass.value_counts().index,rotation=90)\n",
    "ax.set_xlabel('Classifiers')\n",
    "ax.set_ylabel('Counts')"
   ]
  },
  {
   "cell_type": "markdown",
   "id": "81a2177a-4b50-4261-931b-27a48d35bba0",
   "metadata": {},
   "source": [
    "- How many Meteorites Fall was observed (fell) and not observed (found)?"
   ]
  },
  {
   "cell_type": "code",
   "execution_count": 45,
   "id": "9fa8d87a-7b0f-4b9a-8a5f-615191f2286d",
   "metadata": {},
   "outputs": [
    {
     "data": {
      "text/plain": [
       "Found    30848\n",
       "Fell      1064\n",
       "Name: fall, dtype: int64"
      ]
     },
     "execution_count": 45,
     "metadata": {},
     "output_type": "execute_result"
    }
   ],
   "source": [
    "#Count based on Fell and Found\n",
    "data['fall'].value_counts()"
   ]
  },
  {
   "cell_type": "code",
   "execution_count": 46,
   "id": "362f0b2c-a329-4990-928b-de2b580778cb",
   "metadata": {},
   "outputs": [
    {
     "data": {
      "text/plain": [
       "Text(0.5, 1.0, 'Count of Meteorid Fell Vs Found')"
      ]
     },
     "execution_count": 46,
     "metadata": {},
     "output_type": "execute_result"
    },
    {
     "data": {
      "image/png": "[encoded data removed]",
      "text/plain": [
       "<Figure size 432x288 with 1 Axes>"
      ]
     },
     "metadata": {
      "needs_background": "light"
     },
     "output_type": "display_data"
    }
   ],
   "source": [
    "#Plotting Histogram on the Categorical data of Column 'fall'\n",
    "sns.histplot(data=data['fall'],color='b',alpha=0.5).set_title('Count of Meteorid Fell Vs Found')"
   ]
  },
  {
   "cell_type": "code",
   "execution_count": 47,
   "id": "6f1df4c7-944e-4f54-98d1-c15ec56e2e52",
   "metadata": {},
   "outputs": [
    {
     "data": {
      "text/plain": [
       "([<matplotlib.patches.Wedge at 0x1e0833e09a0>,\n",
       "  <matplotlib.patches.Wedge at 0x1e0833ef310>],\n",
       " [Text(-1.0939710601874346, 0.11501008422038683, 'Found'),\n",
       "  Text(1.0939710548034227, -0.11501013543286864, 'Fell')],\n",
       " [Text(-0.5967114873749643, 0.06273277321112009, '96.67%'),\n",
       "  Text(0.5967114844382305, -0.06273280114520106, '3.33%')])"
      ]
     },
     "execution_count": 47,
     "metadata": {},
     "output_type": "execute_result"
    },
    {
     "data": {
      "image/png": "[encoded data removed]",
      "text/plain": [
       "<Figure size 360x360 with 1 Axes>"
      ]
     },
     "metadata": {},
     "output_type": "display_data"
    }
   ],
   "source": [
    "#Plotting Piechart on the data of Column 'fall'\n",
    "fig=plt.figure(figsize=(5,5))\n",
    "ax=fig.add_axes([0,0,1,1])\n",
    "ax.pie(data['fall'].value_counts(),labels=data['fall'].unique(),autopct='%0.2f%%',shadow=True)"
   ]
  },
  {
   "cell_type": "markdown",
   "id": "f0cd243e-e3ec-489c-b648-34ceaee6b59b",
   "metadata": {},
   "source": [
    "**Finding Oldest and Latest Meteorite (fell or found)**"
   ]
  },
  {
   "cell_type": "code",
   "execution_count": 48,
   "id": "4aa1335e-34c0-42ba-bc36-5a5616eb1607",
   "metadata": {},
   "outputs": [
    {
     "data": {
      "text/html": [
       "<div>\n",
       "<style scoped>\n",
       "    .dataframe tbody tr th:only-of-type {\n",
       "        vertical-align: middle;\n",
       "    }\n",
       "\n",
       "    .dataframe tbody tr th {\n",
       "        vertical-align: top;\n",
       "    }\n",
       "\n",
       "    .dataframe thead th {\n",
       "        text-align: right;\n",
       "    }\n",
       "</style>\n",
       "<table border=\"1\" class=\"dataframe\">\n",
       "  <thead>\n",
       "    <tr style=\"text-align: right;\">\n",
       "      <th></th>\n",
       "      <th>name</th>\n",
       "      <th>id</th>\n",
       "      <th>nametype</th>\n",
       "      <th>recclass</th>\n",
       "      <th>mass</th>\n",
       "      <th>fall</th>\n",
       "      <th>year</th>\n",
       "      <th>reclat</th>\n",
       "      <th>reclong</th>\n",
       "      <th>GeoLocation</th>\n",
       "    </tr>\n",
       "  </thead>\n",
       "  <tbody>\n",
       "    <tr>\n",
       "      <th>31911</th>\n",
       "      <td>Chelyabinsk</td>\n",
       "      <td>57165</td>\n",
       "      <td>Valid</td>\n",
       "      <td>LL5</td>\n",
       "      <td>100000.0</td>\n",
       "      <td>Fell</td>\n",
       "      <td>2013</td>\n",
       "      <td>54.81667</td>\n",
       "      <td>61.11667</td>\n",
       "      <td>(54.816670, 61.116670)</td>\n",
       "    </tr>\n",
       "  </tbody>\n",
       "</table>\n",
       "</div>"
      ],
      "text/plain": [
       "              name     id nametype recclass      mass  fall  year    reclat  \\\n",
       "31911  Chelyabinsk  57165    Valid      LL5  100000.0  Fell  2013  54.81667   \n",
       "\n",
       "        reclong             GeoLocation  \n",
       "31911  61.11667  (54.816670, 61.116670)  "
      ]
     },
     "execution_count": 48,
     "metadata": {},
     "output_type": "execute_result"
    }
   ],
   "source": [
    "#Latest Meteorite Fell or Found\n",
    "data[data['year']==data['year'].max()]"
   ]
  },
  {
   "cell_type": "code",
   "execution_count": 49,
   "id": "889fd756-7c38-4055-bfad-2f55f49c2a75",
   "metadata": {},
   "outputs": [
    {
     "data": {
      "text/html": [
       "<div>\n",
       "<style scoped>\n",
       "    .dataframe tbody tr th:only-of-type {\n",
       "        vertical-align: middle;\n",
       "    }\n",
       "\n",
       "    .dataframe tbody tr th {\n",
       "        vertical-align: top;\n",
       "    }\n",
       "\n",
       "    .dataframe thead th {\n",
       "        text-align: right;\n",
       "    }\n",
       "</style>\n",
       "<table border=\"1\" class=\"dataframe\">\n",
       "  <thead>\n",
       "    <tr style=\"text-align: right;\">\n",
       "      <th></th>\n",
       "      <th>name</th>\n",
       "      <th>id</th>\n",
       "      <th>nametype</th>\n",
       "      <th>recclass</th>\n",
       "      <th>mass</th>\n",
       "      <th>fall</th>\n",
       "      <th>year</th>\n",
       "      <th>reclat</th>\n",
       "      <th>reclong</th>\n",
       "      <th>GeoLocation</th>\n",
       "    </tr>\n",
       "  </thead>\n",
       "  <tbody>\n",
       "    <tr>\n",
       "      <th>31911</th>\n",
       "      <td>Chelyabinsk</td>\n",
       "      <td>57165</td>\n",
       "      <td>Valid</td>\n",
       "      <td>LL5</td>\n",
       "      <td>100000.0</td>\n",
       "      <td>Fell</td>\n",
       "      <td>2013</td>\n",
       "      <td>54.81667</td>\n",
       "      <td>61.11667</td>\n",
       "      <td>(54.816670, 61.116670)</td>\n",
       "    </tr>\n",
       "  </tbody>\n",
       "</table>\n",
       "</div>"
      ],
      "text/plain": [
       "              name     id nametype recclass      mass  fall  year    reclat  \\\n",
       "31911  Chelyabinsk  57165    Valid      LL5  100000.0  Fell  2013  54.81667   \n",
       "\n",
       "        reclong             GeoLocation  \n",
       "31911  61.11667  (54.816670, 61.116670)  "
      ]
     },
     "execution_count": 49,
     "metadata": {},
     "output_type": "execute_result"
    }
   ],
   "source": [
    "#Latest Meteorite Fell (Fall Observed)\n",
    "data[(data['year']==data['year'].max()) & (data['fall']=='Fell')]"
   ]
  },
  {
   "cell_type": "code",
   "execution_count": 50,
   "id": "c327b55f-4aad-490f-bc76-ca577a1ca83e",
   "metadata": {},
   "outputs": [
    {
     "data": {
      "text/html": [
       "<div>\n",
       "<style scoped>\n",
       "    .dataframe tbody tr th:only-of-type {\n",
       "        vertical-align: middle;\n",
       "    }\n",
       "\n",
       "    .dataframe tbody tr th {\n",
       "        vertical-align: top;\n",
       "    }\n",
       "\n",
       "    .dataframe thead th {\n",
       "        text-align: right;\n",
       "    }\n",
       "</style>\n",
       "<table border=\"1\" class=\"dataframe\">\n",
       "  <thead>\n",
       "    <tr style=\"text-align: right;\">\n",
       "      <th></th>\n",
       "      <th>name</th>\n",
       "      <th>id</th>\n",
       "      <th>nametype</th>\n",
       "      <th>recclass</th>\n",
       "      <th>mass</th>\n",
       "      <th>fall</th>\n",
       "      <th>year</th>\n",
       "      <th>reclat</th>\n",
       "      <th>reclong</th>\n",
       "      <th>GeoLocation</th>\n",
       "    </tr>\n",
       "  </thead>\n",
       "  <tbody>\n",
       "    <tr>\n",
       "      <th>31897</th>\n",
       "      <td>Jiddat al Harasis 799</td>\n",
       "      <td>57428</td>\n",
       "      <td>Valid</td>\n",
       "      <td>LL6</td>\n",
       "      <td>212.0</td>\n",
       "      <td>Found</td>\n",
       "      <td>2012</td>\n",
       "      <td>19.77278</td>\n",
       "      <td>56.38982</td>\n",
       "      <td>(19.772780, 56.389820)</td>\n",
       "    </tr>\n",
       "    <tr>\n",
       "      <th>31898</th>\n",
       "      <td>Johannesburg</td>\n",
       "      <td>55765</td>\n",
       "      <td>Valid</td>\n",
       "      <td>H4</td>\n",
       "      <td>63.0</td>\n",
       "      <td>Found</td>\n",
       "      <td>2012</td>\n",
       "      <td>35.37788</td>\n",
       "      <td>-117.63728</td>\n",
       "      <td>(35.377880, -117.637280)</td>\n",
       "    </tr>\n",
       "    <tr>\n",
       "      <th>31899</th>\n",
       "      <td>Los Vientos 028</td>\n",
       "      <td>57338</td>\n",
       "      <td>Valid</td>\n",
       "      <td>H~5</td>\n",
       "      <td>12110.0</td>\n",
       "      <td>Found</td>\n",
       "      <td>2012</td>\n",
       "      <td>-24.68333</td>\n",
       "      <td>-69.76667</td>\n",
       "      <td>(-24.683330, -69.766670)</td>\n",
       "    </tr>\n",
       "    <tr>\n",
       "      <th>31900</th>\n",
       "      <td>Tupelo</td>\n",
       "      <td>56551</td>\n",
       "      <td>Valid</td>\n",
       "      <td>EL6</td>\n",
       "      <td>280.0</td>\n",
       "      <td>Found</td>\n",
       "      <td>2012</td>\n",
       "      <td>34.24216</td>\n",
       "      <td>-88.77594</td>\n",
       "      <td>(34.242160, -88.775940)</td>\n",
       "    </tr>\n",
       "    <tr>\n",
       "      <th>31901</th>\n",
       "      <td>Mandalay Spring</td>\n",
       "      <td>57454</td>\n",
       "      <td>Valid</td>\n",
       "      <td>L6</td>\n",
       "      <td>2854.0</td>\n",
       "      <td>Found</td>\n",
       "      <td>2012</td>\n",
       "      <td>40.89201</td>\n",
       "      <td>-118.55319</td>\n",
       "      <td>(40.892010, -118.553190)</td>\n",
       "    </tr>\n",
       "    <tr>\n",
       "      <th>31903</th>\n",
       "      <td>Antelope</td>\n",
       "      <td>57455</td>\n",
       "      <td>Valid</td>\n",
       "      <td>H4</td>\n",
       "      <td>754.0</td>\n",
       "      <td>Found</td>\n",
       "      <td>2012</td>\n",
       "      <td>40.90183</td>\n",
       "      <td>-118.54465</td>\n",
       "      <td>(40.901830, -118.544650)</td>\n",
       "    </tr>\n",
       "    <tr>\n",
       "      <th>31904</th>\n",
       "      <td>Catalina 009</td>\n",
       "      <td>57173</td>\n",
       "      <td>Valid</td>\n",
       "      <td>CR2</td>\n",
       "      <td>5.2</td>\n",
       "      <td>Found</td>\n",
       "      <td>2012</td>\n",
       "      <td>-25.23333</td>\n",
       "      <td>-69.71667</td>\n",
       "      <td>(-25.233330, -69.716670)</td>\n",
       "    </tr>\n",
       "    <tr>\n",
       "      <th>31906</th>\n",
       "      <td>Ksar Ghilane 011</td>\n",
       "      <td>55606</td>\n",
       "      <td>Valid</td>\n",
       "      <td>L4</td>\n",
       "      <td>25.6</td>\n",
       "      <td>Found</td>\n",
       "      <td>2012</td>\n",
       "      <td>32.89100</td>\n",
       "      <td>9.91300</td>\n",
       "      <td>(32.891000, 9.913000)</td>\n",
       "    </tr>\n",
       "    <tr>\n",
       "      <th>31907</th>\n",
       "      <td>Ksar Ghilane 010</td>\n",
       "      <td>55605</td>\n",
       "      <td>Valid</td>\n",
       "      <td>L5</td>\n",
       "      <td>50.1</td>\n",
       "      <td>Found</td>\n",
       "      <td>2012</td>\n",
       "      <td>32.80600</td>\n",
       "      <td>9.83300</td>\n",
       "      <td>(32.806000, 9.833000)</td>\n",
       "    </tr>\n",
       "    <tr>\n",
       "      <th>31908</th>\n",
       "      <td>Stewart Valley 012</td>\n",
       "      <td>55528</td>\n",
       "      <td>Valid</td>\n",
       "      <td>H6</td>\n",
       "      <td>130.0</td>\n",
       "      <td>Found</td>\n",
       "      <td>2012</td>\n",
       "      <td>36.23500</td>\n",
       "      <td>-116.18358</td>\n",
       "      <td>(36.235000, -116.183580)</td>\n",
       "    </tr>\n",
       "    <tr>\n",
       "      <th>31909</th>\n",
       "      <td>Rosamond</td>\n",
       "      <td>57434</td>\n",
       "      <td>Valid</td>\n",
       "      <td>LL3</td>\n",
       "      <td>11.1</td>\n",
       "      <td>Found</td>\n",
       "      <td>2012</td>\n",
       "      <td>34.82793</td>\n",
       "      <td>-118.14640</td>\n",
       "      <td>(34.827930, -118.146400)</td>\n",
       "    </tr>\n",
       "    <tr>\n",
       "      <th>31910</th>\n",
       "      <td>Northwest Africa 7496</td>\n",
       "      <td>56314</td>\n",
       "      <td>Valid</td>\n",
       "      <td>Eucrite-pmict</td>\n",
       "      <td>788.4</td>\n",
       "      <td>Found</td>\n",
       "      <td>2012</td>\n",
       "      <td>22.94781</td>\n",
       "      <td>-13.38527</td>\n",
       "      <td>(22.947810, -13.385270)</td>\n",
       "    </tr>\n",
       "  </tbody>\n",
       "</table>\n",
       "</div>"
      ],
      "text/plain": [
       "                        name     id nametype       recclass     mass   fall  \\\n",
       "31897  Jiddat al Harasis 799  57428    Valid            LL6    212.0  Found   \n",
       "31898           Johannesburg  55765    Valid             H4     63.0  Found   \n",
       "31899        Los Vientos 028  57338    Valid            H~5  12110.0  Found   \n",
       "31900                 Tupelo  56551    Valid            EL6    280.0  Found   \n",
       "31901        Mandalay Spring  57454    Valid             L6   2854.0  Found   \n",
       "31903               Antelope  57455    Valid             H4    754.0  Found   \n",
       "31904           Catalina 009  57173    Valid            CR2      5.2  Found   \n",
       "31906       Ksar Ghilane 011  55606    Valid             L4     25.6  Found   \n",
       "31907       Ksar Ghilane 010  55605    Valid             L5     50.1  Found   \n",
       "31908     Stewart Valley 012  55528    Valid             H6    130.0  Found   \n",
       "31909               Rosamond  57434    Valid            LL3     11.1  Found   \n",
       "31910  Northwest Africa 7496  56314    Valid  Eucrite-pmict    788.4  Found   \n",
       "\n",
       "       year    reclat    reclong               GeoLocation  \n",
       "31897  2012  19.77278   56.38982    (19.772780, 56.389820)  \n",
       "31898  2012  35.37788 -117.63728  (35.377880, -117.637280)  \n",
       "31899  2012 -24.68333  -69.76667  (-24.683330, -69.766670)  \n",
       "31900  2012  34.24216  -88.77594   (34.242160, -88.775940)  \n",
       "31901  2012  40.89201 -118.55319  (40.892010, -118.553190)  \n",
       "31903  2012  40.90183 -118.54465  (40.901830, -118.544650)  \n",
       "31904  2012 -25.23333  -69.71667  (-25.233330, -69.716670)  \n",
       "31906  2012  32.89100    9.91300     (32.891000, 9.913000)  \n",
       "31907  2012  32.80600    9.83300     (32.806000, 9.833000)  \n",
       "31908  2012  36.23500 -116.18358  (36.235000, -116.183580)  \n",
       "31909  2012  34.82793 -118.14640  (34.827930, -118.146400)  \n",
       "31910  2012  22.94781  -13.38527   (22.947810, -13.385270)  "
      ]
     },
     "execution_count": 50,
     "metadata": {},
     "output_type": "execute_result"
    }
   ],
   "source": [
    "#Latest Meteorite Found (Fall not Observed)\n",
    "found = data[data['fall']=='Found']\n",
    "data[(data['year']==found['year'].max()) & (data['fall']=='Found')]"
   ]
  },
  {
   "cell_type": "code",
   "execution_count": 51,
   "id": "122c9847-5d1f-4c01-af33-1bc4f29ac55c",
   "metadata": {},
   "outputs": [
    {
     "data": {
      "text/html": [
       "<div>\n",
       "<style scoped>\n",
       "    .dataframe tbody tr th:only-of-type {\n",
       "        vertical-align: middle;\n",
       "    }\n",
       "\n",
       "    .dataframe tbody tr th {\n",
       "        vertical-align: top;\n",
       "    }\n",
       "\n",
       "    .dataframe thead th {\n",
       "        text-align: right;\n",
       "    }\n",
       "</style>\n",
       "<table border=\"1\" class=\"dataframe\">\n",
       "  <thead>\n",
       "    <tr style=\"text-align: right;\">\n",
       "      <th></th>\n",
       "      <th>name</th>\n",
       "      <th>id</th>\n",
       "      <th>nametype</th>\n",
       "      <th>recclass</th>\n",
       "      <th>mass</th>\n",
       "      <th>fall</th>\n",
       "      <th>year</th>\n",
       "      <th>reclat</th>\n",
       "      <th>reclong</th>\n",
       "      <th>GeoLocation</th>\n",
       "    </tr>\n",
       "  </thead>\n",
       "  <tbody>\n",
       "    <tr>\n",
       "      <th>0</th>\n",
       "      <td>Wietrzno-Bobrka</td>\n",
       "      <td>24259</td>\n",
       "      <td>Valid</td>\n",
       "      <td>Iron</td>\n",
       "      <td>376.0</td>\n",
       "      <td>Found</td>\n",
       "      <td>601</td>\n",
       "      <td>49.41667</td>\n",
       "      <td>21.7</td>\n",
       "      <td>(49.416670, 21.700000)</td>\n",
       "    </tr>\n",
       "  </tbody>\n",
       "</table>\n",
       "</div>"
      ],
      "text/plain": [
       "              name     id nametype recclass   mass   fall  year    reclat  \\\n",
       "0  Wietrzno-Bobrka  24259    Valid     Iron  376.0  Found   601  49.41667   \n",
       "\n",
       "   reclong             GeoLocation  \n",
       "0     21.7  (49.416670, 21.700000)  "
      ]
     },
     "execution_count": 51,
     "metadata": {},
     "output_type": "execute_result"
    }
   ],
   "source": [
    "#Oldest Meteorite Fell or Found\n",
    "data[data['year']==data['year'].min()]"
   ]
  },
  {
   "cell_type": "code",
   "execution_count": 52,
   "id": "63459902-eae5-42a5-8abf-2842684b07f3",
   "metadata": {},
   "outputs": [
    {
     "data": {
      "text/html": [
       "<div>\n",
       "<style scoped>\n",
       "    .dataframe tbody tr th:only-of-type {\n",
       "        vertical-align: middle;\n",
       "    }\n",
       "\n",
       "    .dataframe tbody tr th {\n",
       "        vertical-align: top;\n",
       "    }\n",
       "\n",
       "    .dataframe thead th {\n",
       "        text-align: right;\n",
       "    }\n",
       "</style>\n",
       "<table border=\"1\" class=\"dataframe\">\n",
       "  <thead>\n",
       "    <tr style=\"text-align: right;\">\n",
       "      <th></th>\n",
       "      <th>name</th>\n",
       "      <th>id</th>\n",
       "      <th>nametype</th>\n",
       "      <th>recclass</th>\n",
       "      <th>mass</th>\n",
       "      <th>fall</th>\n",
       "      <th>year</th>\n",
       "      <th>reclat</th>\n",
       "      <th>reclong</th>\n",
       "      <th>GeoLocation</th>\n",
       "    </tr>\n",
       "  </thead>\n",
       "  <tbody>\n",
       "    <tr>\n",
       "      <th>1</th>\n",
       "      <td>Nogata</td>\n",
       "      <td>16988</td>\n",
       "      <td>Valid</td>\n",
       "      <td>L6</td>\n",
       "      <td>472.0</td>\n",
       "      <td>Fell</td>\n",
       "      <td>860</td>\n",
       "      <td>33.725</td>\n",
       "      <td>130.75</td>\n",
       "      <td>(33.725000, 130.750000)</td>\n",
       "    </tr>\n",
       "  </tbody>\n",
       "</table>\n",
       "</div>"
      ],
      "text/plain": [
       "     name     id nametype recclass   mass  fall  year  reclat  reclong  \\\n",
       "1  Nogata  16988    Valid       L6  472.0  Fell   860  33.725   130.75   \n",
       "\n",
       "               GeoLocation  \n",
       "1  (33.725000, 130.750000)  "
      ]
     },
     "execution_count": 52,
     "metadata": {},
     "output_type": "execute_result"
    }
   ],
   "source": [
    "#Oldest Meteorite Fell (Fall Observed)\n",
    "fell = data[data['fall']=='Fell']\n",
    "data[data['year'] == fell['year'].min()]"
   ]
  },
  {
   "cell_type": "code",
   "execution_count": 53,
   "id": "6edc29ba-1cc4-45aa-a147-6028ca0d2fcb",
   "metadata": {},
   "outputs": [
    {
     "data": {
      "text/html": [
       "<div>\n",
       "<style scoped>\n",
       "    .dataframe tbody tr th:only-of-type {\n",
       "        vertical-align: middle;\n",
       "    }\n",
       "\n",
       "    .dataframe tbody tr th {\n",
       "        vertical-align: top;\n",
       "    }\n",
       "\n",
       "    .dataframe thead th {\n",
       "        text-align: right;\n",
       "    }\n",
       "</style>\n",
       "<table border=\"1\" class=\"dataframe\">\n",
       "  <thead>\n",
       "    <tr style=\"text-align: right;\">\n",
       "      <th></th>\n",
       "      <th>name</th>\n",
       "      <th>id</th>\n",
       "      <th>nametype</th>\n",
       "      <th>recclass</th>\n",
       "      <th>mass</th>\n",
       "      <th>fall</th>\n",
       "      <th>year</th>\n",
       "      <th>reclat</th>\n",
       "      <th>reclong</th>\n",
       "      <th>GeoLocation</th>\n",
       "    </tr>\n",
       "  </thead>\n",
       "  <tbody>\n",
       "    <tr>\n",
       "      <th>0</th>\n",
       "      <td>Wietrzno-Bobrka</td>\n",
       "      <td>24259</td>\n",
       "      <td>Valid</td>\n",
       "      <td>Iron</td>\n",
       "      <td>376.0</td>\n",
       "      <td>Found</td>\n",
       "      <td>601</td>\n",
       "      <td>49.41667</td>\n",
       "      <td>21.7</td>\n",
       "      <td>(49.416670, 21.700000)</td>\n",
       "    </tr>\n",
       "  </tbody>\n",
       "</table>\n",
       "</div>"
      ],
      "text/plain": [
       "              name     id nametype recclass   mass   fall  year    reclat  \\\n",
       "0  Wietrzno-Bobrka  24259    Valid     Iron  376.0  Found   601  49.41667   \n",
       "\n",
       "   reclong             GeoLocation  \n",
       "0     21.7  (49.416670, 21.700000)  "
      ]
     },
     "execution_count": 53,
     "metadata": {},
     "output_type": "execute_result"
    }
   ],
   "source": [
    "#Oldest Meteorite Found (Fall not Observed)\n",
    "data[(data['year']==data['year'].min()) & (data['fall']=='Found')]"
   ]
  },
  {
   "cell_type": "code",
   "execution_count": 54,
   "id": "bb49e79c-9cb4-401c-b425-2098c5d921b0",
   "metadata": {},
   "outputs": [
    {
     "data": {
      "text/plain": [
       "fall\n",
       "Fell     2013\n",
       "Found    2012\n",
       "Name: year, dtype: Int64"
      ]
     },
     "execution_count": 54,
     "metadata": {},
     "output_type": "execute_result"
    }
   ],
   "source": [
    "#Latest Meteorite Group by fell and found\n",
    "fell_found = data.groupby('fall')\n",
    "fell_found['year'].max()"
   ]
  },
  {
   "cell_type": "code",
   "execution_count": 55,
   "id": "3f68ae6a-74ba-4f0e-9a05-cadebda4046b",
   "metadata": {},
   "outputs": [
    {
     "data": {
      "text/plain": [
       "fall\n",
       "Fell     860\n",
       "Found    601\n",
       "Name: year, dtype: Int64"
      ]
     },
     "execution_count": 55,
     "metadata": {},
     "output_type": "execute_result"
    }
   ],
   "source": [
    "#Oldest Meteorite Group by fell and found\n",
    "fell_found['year'].min()"
   ]
  },
  {
   "cell_type": "markdown",
   "id": "f3886d83-ef65-4ef0-a9ac-095b064f15e0",
   "metadata": {},
   "source": [
    "**Heaviest and Lightest Meteorite Fell or Found**"
   ]
  },
  {
   "cell_type": "code",
   "execution_count": 56,
   "id": "95c84e42-1a7e-4d51-b163-e47e201c35ef",
   "metadata": {},
   "outputs": [
    {
     "data": {
      "text/plain": [
       "fall\n",
       "Fell     23000000.0\n",
       "Found    60000000.0\n",
       "Name: mass, dtype: float64"
      ]
     },
     "execution_count": 56,
     "metadata": {},
     "output_type": "execute_result"
    }
   ],
   "source": [
    "#Heaviest Meteorite group by Fell and Found\n",
    "fell_found['mass'].max()"
   ]
  },
  {
   "cell_type": "code",
   "execution_count": 57,
   "id": "75200c0b-ced8-4e98-9624-cdc2fa6c0394",
   "metadata": {},
   "outputs": [
    {
     "data": {
      "text/plain": [
       "fall\n",
       "Fell     0.10\n",
       "Found    0.01\n",
       "Name: mass, dtype: float64"
      ]
     },
     "execution_count": 57,
     "metadata": {},
     "output_type": "execute_result"
    }
   ],
   "source": [
    "#Lightest Meteorite group by Fell and Found\n",
    "fell_found['mass'].min()"
   ]
  },
  {
   "cell_type": "code",
   "execution_count": 58,
   "id": "02d02724-41e8-4cc6-bcfb-e56e38073bca",
   "metadata": {},
   "outputs": [
    {
     "data": {
      "text/html": [
       "<div>\n",
       "<style scoped>\n",
       "    .dataframe tbody tr th:only-of-type {\n",
       "        vertical-align: middle;\n",
       "    }\n",
       "\n",
       "    .dataframe tbody tr th {\n",
       "        vertical-align: top;\n",
       "    }\n",
       "\n",
       "    .dataframe thead th {\n",
       "        text-align: right;\n",
       "    }\n",
       "</style>\n",
       "<table border=\"1\" class=\"dataframe\">\n",
       "  <thead>\n",
       "    <tr style=\"text-align: right;\">\n",
       "      <th></th>\n",
       "      <th>name</th>\n",
       "      <th>id</th>\n",
       "      <th>nametype</th>\n",
       "      <th>recclass</th>\n",
       "      <th>mass</th>\n",
       "      <th>fall</th>\n",
       "      <th>year</th>\n",
       "      <th>reclat</th>\n",
       "      <th>reclong</th>\n",
       "      <th>GeoLocation</th>\n",
       "    </tr>\n",
       "  </thead>\n",
       "  <tbody>\n",
       "    <tr>\n",
       "      <th>995</th>\n",
       "      <td>Hoba</td>\n",
       "      <td>11890</td>\n",
       "      <td>Valid</td>\n",
       "      <td>Iron, IVB</td>\n",
       "      <td>60000000.0</td>\n",
       "      <td>Found</td>\n",
       "      <td>1920</td>\n",
       "      <td>-19.58333</td>\n",
       "      <td>17.91667</td>\n",
       "      <td>(-19.583330, 17.916670)</td>\n",
       "    </tr>\n",
       "  </tbody>\n",
       "</table>\n",
       "</div>"
      ],
      "text/plain": [
       "     name     id nametype   recclass        mass   fall  year    reclat  \\\n",
       "995  Hoba  11890    Valid  Iron, IVB  60000000.0  Found  1920 -19.58333   \n",
       "\n",
       "      reclong              GeoLocation  \n",
       "995  17.91667  (-19.583330, 17.916670)  "
      ]
     },
     "execution_count": 58,
     "metadata": {},
     "output_type": "execute_result"
    }
   ],
   "source": [
    "#Heaviest Meteorite fell or found\n",
    "data[data['mass']==data['mass'].max()]"
   ]
  },
  {
   "cell_type": "code",
   "execution_count": 59,
   "id": "15bc7157-4e38-4267-8391-1882766b8c11",
   "metadata": {},
   "outputs": [
    {
     "data": {
      "text/html": [
       "<div>\n",
       "<style scoped>\n",
       "    .dataframe tbody tr th:only-of-type {\n",
       "        vertical-align: middle;\n",
       "    }\n",
       "\n",
       "    .dataframe tbody tr th {\n",
       "        vertical-align: top;\n",
       "    }\n",
       "\n",
       "    .dataframe thead th {\n",
       "        text-align: right;\n",
       "    }\n",
       "</style>\n",
       "<table border=\"1\" class=\"dataframe\">\n",
       "  <thead>\n",
       "    <tr style=\"text-align: right;\">\n",
       "      <th></th>\n",
       "      <th>name</th>\n",
       "      <th>id</th>\n",
       "      <th>nametype</th>\n",
       "      <th>recclass</th>\n",
       "      <th>mass</th>\n",
       "      <th>fall</th>\n",
       "      <th>year</th>\n",
       "      <th>reclat</th>\n",
       "      <th>reclong</th>\n",
       "      <th>GeoLocation</th>\n",
       "    </tr>\n",
       "  </thead>\n",
       "  <tbody>\n",
       "    <tr>\n",
       "      <th>1581</th>\n",
       "      <td>Sikhote-Alin</td>\n",
       "      <td>23593</td>\n",
       "      <td>Valid</td>\n",
       "      <td>Iron, IIAB</td>\n",
       "      <td>23000000.0</td>\n",
       "      <td>Fell</td>\n",
       "      <td>1947</td>\n",
       "      <td>46.16</td>\n",
       "      <td>134.65333</td>\n",
       "      <td>(46.160000, 134.653330)</td>\n",
       "    </tr>\n",
       "  </tbody>\n",
       "</table>\n",
       "</div>"
      ],
      "text/plain": [
       "              name     id nametype    recclass        mass  fall  year  \\\n",
       "1581  Sikhote-Alin  23593    Valid  Iron, IIAB  23000000.0  Fell  1947   \n",
       "\n",
       "      reclat    reclong              GeoLocation  \n",
       "1581   46.16  134.65333  (46.160000, 134.653330)  "
      ]
     },
     "execution_count": 59,
     "metadata": {},
     "output_type": "execute_result"
    }
   ],
   "source": [
    "#Heaviest Meteorite Fell (Fall Observed)\n",
    "data[data['mass'] == fell['mass'].max()]"
   ]
  },
  {
   "cell_type": "code",
   "execution_count": 60,
   "id": "58f421ab-b3ea-403e-9093-c52c8a222865",
   "metadata": {},
   "outputs": [
    {
     "data": {
      "text/html": [
       "<div>\n",
       "<style scoped>\n",
       "    .dataframe tbody tr th:only-of-type {\n",
       "        vertical-align: middle;\n",
       "    }\n",
       "\n",
       "    .dataframe tbody tr th {\n",
       "        vertical-align: top;\n",
       "    }\n",
       "\n",
       "    .dataframe thead th {\n",
       "        text-align: right;\n",
       "    }\n",
       "</style>\n",
       "<table border=\"1\" class=\"dataframe\">\n",
       "  <thead>\n",
       "    <tr style=\"text-align: right;\">\n",
       "      <th></th>\n",
       "      <th>name</th>\n",
       "      <th>id</th>\n",
       "      <th>nametype</th>\n",
       "      <th>recclass</th>\n",
       "      <th>mass</th>\n",
       "      <th>fall</th>\n",
       "      <th>year</th>\n",
       "      <th>reclat</th>\n",
       "      <th>reclong</th>\n",
       "      <th>GeoLocation</th>\n",
       "    </tr>\n",
       "  </thead>\n",
       "  <tbody>\n",
       "    <tr>\n",
       "      <th>995</th>\n",
       "      <td>Hoba</td>\n",
       "      <td>11890</td>\n",
       "      <td>Valid</td>\n",
       "      <td>Iron, IVB</td>\n",
       "      <td>60000000.0</td>\n",
       "      <td>Found</td>\n",
       "      <td>1920</td>\n",
       "      <td>-19.58333</td>\n",
       "      <td>17.91667</td>\n",
       "      <td>(-19.583330, 17.916670)</td>\n",
       "    </tr>\n",
       "  </tbody>\n",
       "</table>\n",
       "</div>"
      ],
      "text/plain": [
       "     name     id nametype   recclass        mass   fall  year    reclat  \\\n",
       "995  Hoba  11890    Valid  Iron, IVB  60000000.0  Found  1920 -19.58333   \n",
       "\n",
       "      reclong              GeoLocation  \n",
       "995  17.91667  (-19.583330, 17.916670)  "
      ]
     },
     "execution_count": 60,
     "metadata": {},
     "output_type": "execute_result"
    }
   ],
   "source": [
    "#Heaviest Meteorite Found (Fall not Observed)\n",
    "data[(data['mass']==data['mass'].max()) & (data['fall']=='Found')]"
   ]
  },
  {
   "cell_type": "code",
   "execution_count": 61,
   "id": "182e388b-48ce-4294-9aed-b88e9ebc0ca3",
   "metadata": {},
   "outputs": [
    {
     "data": {
      "text/html": [
       "<div>\n",
       "<style scoped>\n",
       "    .dataframe tbody tr th:only-of-type {\n",
       "        vertical-align: middle;\n",
       "    }\n",
       "\n",
       "    .dataframe tbody tr th {\n",
       "        vertical-align: top;\n",
       "    }\n",
       "\n",
       "    .dataframe thead th {\n",
       "        text-align: right;\n",
       "    }\n",
       "</style>\n",
       "<table border=\"1\" class=\"dataframe\">\n",
       "  <thead>\n",
       "    <tr style=\"text-align: right;\">\n",
       "      <th></th>\n",
       "      <th>name</th>\n",
       "      <th>id</th>\n",
       "      <th>nametype</th>\n",
       "      <th>recclass</th>\n",
       "      <th>mass</th>\n",
       "      <th>fall</th>\n",
       "      <th>year</th>\n",
       "      <th>reclat</th>\n",
       "      <th>reclong</th>\n",
       "      <th>GeoLocation</th>\n",
       "    </tr>\n",
       "  </thead>\n",
       "  <tbody>\n",
       "    <tr>\n",
       "      <th>8363</th>\n",
       "      <td>Yamato 8333</td>\n",
       "      <td>29438</td>\n",
       "      <td>Valid</td>\n",
       "      <td>H5</td>\n",
       "      <td>0.01</td>\n",
       "      <td>Found</td>\n",
       "      <td>1983</td>\n",
       "      <td>-71.5</td>\n",
       "      <td>35.66667</td>\n",
       "      <td>(-71.500000, 35.666670)</td>\n",
       "    </tr>\n",
       "  </tbody>\n",
       "</table>\n",
       "</div>"
      ],
      "text/plain": [
       "             name     id nametype recclass  mass   fall  year  reclat  \\\n",
       "8363  Yamato 8333  29438    Valid       H5  0.01  Found  1983   -71.5   \n",
       "\n",
       "       reclong              GeoLocation  \n",
       "8363  35.66667  (-71.500000, 35.666670)  "
      ]
     },
     "execution_count": 61,
     "metadata": {},
     "output_type": "execute_result"
    }
   ],
   "source": [
    "#Lightest Meteorite fell or found\n",
    "data[data['mass']==data['mass'].min()]"
   ]
  },
  {
   "cell_type": "code",
   "execution_count": 62,
   "id": "025075a0-d7b4-4fca-a83a-6a7f21c310c9",
   "metadata": {},
   "outputs": [
    {
     "data": {
      "text/html": [
       "<div>\n",
       "<style scoped>\n",
       "    .dataframe tbody tr th:only-of-type {\n",
       "        vertical-align: middle;\n",
       "    }\n",
       "\n",
       "    .dataframe tbody tr th {\n",
       "        vertical-align: top;\n",
       "    }\n",
       "\n",
       "    .dataframe thead th {\n",
       "        text-align: right;\n",
       "    }\n",
       "</style>\n",
       "<table border=\"1\" class=\"dataframe\">\n",
       "  <thead>\n",
       "    <tr style=\"text-align: right;\">\n",
       "      <th></th>\n",
       "      <th>name</th>\n",
       "      <th>id</th>\n",
       "      <th>nametype</th>\n",
       "      <th>recclass</th>\n",
       "      <th>mass</th>\n",
       "      <th>fall</th>\n",
       "      <th>year</th>\n",
       "      <th>reclat</th>\n",
       "      <th>reclong</th>\n",
       "      <th>GeoLocation</th>\n",
       "    </tr>\n",
       "  </thead>\n",
       "  <tbody>\n",
       "    <tr>\n",
       "      <th>1122</th>\n",
       "      <td>Yoshiki</td>\n",
       "      <td>30372</td>\n",
       "      <td>Valid</td>\n",
       "      <td>Stone-uncl</td>\n",
       "      <td>0.1</td>\n",
       "      <td>Fell</td>\n",
       "      <td>1928</td>\n",
       "      <td>34.16667</td>\n",
       "      <td>131.45000</td>\n",
       "      <td>(34.166670, 131.450000)</td>\n",
       "    </tr>\n",
       "    <tr>\n",
       "      <th>2064</th>\n",
       "      <td>Vilna</td>\n",
       "      <td>24183</td>\n",
       "      <td>Valid</td>\n",
       "      <td>L5</td>\n",
       "      <td>0.1</td>\n",
       "      <td>Fell</td>\n",
       "      <td>1967</td>\n",
       "      <td>54.22500</td>\n",
       "      <td>-111.69167</td>\n",
       "      <td>(54.225000, -111.691670)</td>\n",
       "    </tr>\n",
       "    <tr>\n",
       "      <th>8325</th>\n",
       "      <td>Allan Hills 83026</td>\n",
       "      <td>546</td>\n",
       "      <td>Valid</td>\n",
       "      <td>CO3</td>\n",
       "      <td>0.1</td>\n",
       "      <td>Found</td>\n",
       "      <td>1983</td>\n",
       "      <td>-76.82234</td>\n",
       "      <td>158.21493</td>\n",
       "      <td>(-76.822340, 158.214930)</td>\n",
       "    </tr>\n",
       "    <tr>\n",
       "      <th>10889</th>\n",
       "      <td>Lewis Cliff 87056</td>\n",
       "      <td>13530</td>\n",
       "      <td>Valid</td>\n",
       "      <td>Aubrite</td>\n",
       "      <td>0.1</td>\n",
       "      <td>Found</td>\n",
       "      <td>1987</td>\n",
       "      <td>-84.34532</td>\n",
       "      <td>161.47809</td>\n",
       "      <td>(-84.345320, 161.478090)</td>\n",
       "    </tr>\n",
       "    <tr>\n",
       "      <th>16084</th>\n",
       "      <td>Pecora Escarpment 91357</td>\n",
       "      <td>18648</td>\n",
       "      <td>Valid</td>\n",
       "      <td>L6</td>\n",
       "      <td>0.1</td>\n",
       "      <td>Found</td>\n",
       "      <td>1991</td>\n",
       "      <td>-85.67623</td>\n",
       "      <td>-69.08566</td>\n",
       "      <td>(-85.676230, -69.085660)</td>\n",
       "    </tr>\n",
       "    <tr>\n",
       "      <th>19787</th>\n",
       "      <td>Queen Alexandra Range 971018</td>\n",
       "      <td>20526</td>\n",
       "      <td>Valid</td>\n",
       "      <td>LL5</td>\n",
       "      <td>0.1</td>\n",
       "      <td>Found</td>\n",
       "      <td>1997</td>\n",
       "      <td>-84.00000</td>\n",
       "      <td>168.00000</td>\n",
       "      <td>(-84.000000, 168.000000)</td>\n",
       "    </tr>\n",
       "    <tr>\n",
       "      <th>22655</th>\n",
       "      <td>Queen Alexandra Range 99064</td>\n",
       "      <td>21516</td>\n",
       "      <td>Valid</td>\n",
       "      <td>L5</td>\n",
       "      <td>0.1</td>\n",
       "      <td>Found</td>\n",
       "      <td>1999</td>\n",
       "      <td>-84.00000</td>\n",
       "      <td>168.00000</td>\n",
       "      <td>(-84.000000, 168.000000)</td>\n",
       "    </tr>\n",
       "    <tr>\n",
       "      <th>22656</th>\n",
       "      <td>Queen Alexandra Range 99063</td>\n",
       "      <td>21515</td>\n",
       "      <td>Valid</td>\n",
       "      <td>LL5</td>\n",
       "      <td>0.1</td>\n",
       "      <td>Found</td>\n",
       "      <td>1999</td>\n",
       "      <td>-84.00000</td>\n",
       "      <td>168.00000</td>\n",
       "      <td>(-84.000000, 168.000000)</td>\n",
       "    </tr>\n",
       "    <tr>\n",
       "      <th>24889</th>\n",
       "      <td>Frontier Mountain 01156</td>\n",
       "      <td>10338</td>\n",
       "      <td>Valid</td>\n",
       "      <td>H3/4</td>\n",
       "      <td>0.1</td>\n",
       "      <td>Found</td>\n",
       "      <td>2001</td>\n",
       "      <td>-72.98944</td>\n",
       "      <td>160.40222</td>\n",
       "      <td>(-72.989440, 160.402220)</td>\n",
       "    </tr>\n",
       "    <tr>\n",
       "      <th>31084</th>\n",
       "      <td>Miller Butte 09001</td>\n",
       "      <td>55371</td>\n",
       "      <td>Valid</td>\n",
       "      <td>H5</td>\n",
       "      <td>0.1</td>\n",
       "      <td>Found</td>\n",
       "      <td>2009</td>\n",
       "      <td>-71.90355</td>\n",
       "      <td>160.48982</td>\n",
       "      <td>(-71.903550, 160.489820)</td>\n",
       "    </tr>\n",
       "    <tr>\n",
       "      <th>31515</th>\n",
       "      <td>Khatyrka</td>\n",
       "      <td>55600</td>\n",
       "      <td>Valid</td>\n",
       "      <td>CV3</td>\n",
       "      <td>0.1</td>\n",
       "      <td>Found</td>\n",
       "      <td>2011</td>\n",
       "      <td>62.65316</td>\n",
       "      <td>174.50043</td>\n",
       "      <td>(62.653160, 174.500430)</td>\n",
       "    </tr>\n",
       "  </tbody>\n",
       "</table>\n",
       "</div>"
      ],
      "text/plain": [
       "                               name     id nametype    recclass  mass   fall  \\\n",
       "1122                        Yoshiki  30372    Valid  Stone-uncl   0.1   Fell   \n",
       "2064                          Vilna  24183    Valid          L5   0.1   Fell   \n",
       "8325              Allan Hills 83026    546    Valid         CO3   0.1  Found   \n",
       "10889             Lewis Cliff 87056  13530    Valid     Aubrite   0.1  Found   \n",
       "16084       Pecora Escarpment 91357  18648    Valid          L6   0.1  Found   \n",
       "19787  Queen Alexandra Range 971018  20526    Valid         LL5   0.1  Found   \n",
       "22655   Queen Alexandra Range 99064  21516    Valid          L5   0.1  Found   \n",
       "22656   Queen Alexandra Range 99063  21515    Valid         LL5   0.1  Found   \n",
       "24889       Frontier Mountain 01156  10338    Valid        H3/4   0.1  Found   \n",
       "31084            Miller Butte 09001  55371    Valid          H5   0.1  Found   \n",
       "31515                      Khatyrka  55600    Valid         CV3   0.1  Found   \n",
       "\n",
       "       year    reclat    reclong               GeoLocation  \n",
       "1122   1928  34.16667  131.45000   (34.166670, 131.450000)  \n",
       "2064   1967  54.22500 -111.69167  (54.225000, -111.691670)  \n",
       "8325   1983 -76.82234  158.21493  (-76.822340, 158.214930)  \n",
       "10889  1987 -84.34532  161.47809  (-84.345320, 161.478090)  \n",
       "16084  1991 -85.67623  -69.08566  (-85.676230, -69.085660)  \n",
       "19787  1997 -84.00000  168.00000  (-84.000000, 168.000000)  \n",
       "22655  1999 -84.00000  168.00000  (-84.000000, 168.000000)  \n",
       "22656  1999 -84.00000  168.00000  (-84.000000, 168.000000)  \n",
       "24889  2001 -72.98944  160.40222  (-72.989440, 160.402220)  \n",
       "31084  2009 -71.90355  160.48982  (-71.903550, 160.489820)  \n",
       "31515  2011  62.65316  174.50043   (62.653160, 174.500430)  "
      ]
     },
     "execution_count": 62,
     "metadata": {},
     "output_type": "execute_result"
    }
   ],
   "source": [
    "#Lightest Meteorite Fell (Fall Observed)\n",
    "data[data['mass'] == fell['mass'].min()]"
   ]
  },
  {
   "cell_type": "code",
   "execution_count": 63,
   "id": "3231e4fa-952d-47a6-9fb6-227205173909",
   "metadata": {},
   "outputs": [
    {
     "data": {
      "text/html": [
       "<div>\n",
       "<style scoped>\n",
       "    .dataframe tbody tr th:only-of-type {\n",
       "        vertical-align: middle;\n",
       "    }\n",
       "\n",
       "    .dataframe tbody tr th {\n",
       "        vertical-align: top;\n",
       "    }\n",
       "\n",
       "    .dataframe thead th {\n",
       "        text-align: right;\n",
       "    }\n",
       "</style>\n",
       "<table border=\"1\" class=\"dataframe\">\n",
       "  <thead>\n",
       "    <tr style=\"text-align: right;\">\n",
       "      <th></th>\n",
       "      <th>name</th>\n",
       "      <th>id</th>\n",
       "      <th>nametype</th>\n",
       "      <th>recclass</th>\n",
       "      <th>mass</th>\n",
       "      <th>fall</th>\n",
       "      <th>year</th>\n",
       "      <th>reclat</th>\n",
       "      <th>reclong</th>\n",
       "      <th>GeoLocation</th>\n",
       "    </tr>\n",
       "  </thead>\n",
       "  <tbody>\n",
       "    <tr>\n",
       "      <th>8363</th>\n",
       "      <td>Yamato 8333</td>\n",
       "      <td>29438</td>\n",
       "      <td>Valid</td>\n",
       "      <td>H5</td>\n",
       "      <td>0.01</td>\n",
       "      <td>Found</td>\n",
       "      <td>1983</td>\n",
       "      <td>-71.5</td>\n",
       "      <td>35.66667</td>\n",
       "      <td>(-71.500000, 35.666670)</td>\n",
       "    </tr>\n",
       "  </tbody>\n",
       "</table>\n",
       "</div>"
      ],
      "text/plain": [
       "             name     id nametype recclass  mass   fall  year  reclat  \\\n",
       "8363  Yamato 8333  29438    Valid       H5  0.01  Found  1983   -71.5   \n",
       "\n",
       "       reclong              GeoLocation  \n",
       "8363  35.66667  (-71.500000, 35.666670)  "
      ]
     },
     "execution_count": 63,
     "metadata": {},
     "output_type": "execute_result"
    }
   ],
   "source": [
    "#Lightest Meteorite Found (Fall not Observed)\n",
    "data[(data['mass']==data['mass'].min()) & (data['fall']=='Found')]"
   ]
  },
  {
   "cell_type": "markdown",
   "id": "bfcacae8-0cdb-42ba-8a9d-009da54624b0",
   "metadata": {},
   "source": [
    "**Finding Heaviest and Lightest Meteorites Year-wise**"
   ]
  },
  {
   "cell_type": "code",
   "execution_count": 64,
   "id": "96c0065c-0777-47ed-862a-b594068786a9",
   "metadata": {},
   "outputs": [
    {
     "data": {
      "text/plain": [
       "year\n",
       "601         376.0\n",
       "860         472.0\n",
       "1399     107000.0\n",
       "1490        103.3\n",
       "1491     127000.0\n",
       "          ...    \n",
       "2009    1600000.0\n",
       "2010     100000.0\n",
       "2011      50000.0\n",
       "2012      12110.0\n",
       "2013     100000.0\n",
       "Name: mass, Length: 253, dtype: float64"
      ]
     },
     "execution_count": 64,
     "metadata": {},
     "output_type": "execute_result"
    }
   ],
   "source": [
    "#Heaviest Meteorites for each year\n",
    "groupby_year = data.groupby('year')\n",
    "groupby_year['mass'].max()"
   ]
  },
  {
   "cell_type": "code",
   "execution_count": 65,
   "id": "58399893-d3bc-494d-a014-fa30f32ce3d6",
   "metadata": {},
   "outputs": [
    {
     "data": {
      "text/plain": [
       "year\n",
       "601        376.00\n",
       "860        472.00\n",
       "1399    107000.00\n",
       "1490       103.30\n",
       "1491    127000.00\n",
       "          ...    \n",
       "2009         0.10\n",
       "2010         0.18\n",
       "2011         0.10\n",
       "2012         5.20\n",
       "2013    100000.00\n",
       "Name: mass, Length: 253, dtype: float64"
      ]
     },
     "execution_count": 65,
     "metadata": {},
     "output_type": "execute_result"
    }
   ],
   "source": [
    "#Lightest Meteorites for each year\n",
    "groupby_year['mass'].min()"
   ]
  },
  {
   "cell_type": "markdown",
   "id": "ba8cf9a0-7218-43c8-b0c8-cfaaaefcd47d",
   "metadata": {},
   "source": [
    "**Finding Count of Meteorites Year-wise**"
   ]
  },
  {
   "cell_type": "code",
   "execution_count": 66,
   "id": "beda7747-5be0-49b4-875d-cfb3a95b706e",
   "metadata": {},
   "outputs": [
    {
     "data": {
      "text/plain": [
       "1979    3044\n",
       "1988    2295\n",
       "2003    1713\n",
       "1999    1578\n",
       "1990    1506\n",
       "        ... \n",
       "1797       1\n",
       "1781       1\n",
       "1749       1\n",
       "1637       1\n",
       "1600       1\n",
       "Name: year, Length: 253, dtype: Int64"
      ]
     },
     "execution_count": 66,
     "metadata": {},
     "output_type": "execute_result"
    }
   ],
   "source": [
    "#Count of Meteorites in each year\n",
    "data['year'].value_counts()"
   ]
  },
  {
   "cell_type": "markdown",
   "id": "b41d8602-c9fa-4769-9086-c7db227a6e8f",
   "metadata": {},
   "source": [
    "**Analysis based on Geo-Location**"
   ]
  },
  {
   "cell_type": "code",
   "execution_count": 67,
   "id": "145a2b97-4744-4705-b8d3-4cd0f0b773c7",
   "metadata": {},
   "outputs": [
    {
     "data": {
      "text/plain": [
       "(-71.500000, 35.666670)     4760\n",
       "(-84.000000, 168.000000)    3040\n",
       "(-72.000000, 26.000000)     1505\n",
       "(-79.683330, 159.750000)     657\n",
       "(-76.716670, 159.666670)     637\n",
       "                            ... \n",
       "(19.999370, 56.407100)         1\n",
       "(6.750000, 8.500000)           1\n",
       "(-72.778333, 75.318056)        1\n",
       "(32.433330, 119.866670)        1\n",
       "(-76.280620, 156.438040)       1\n",
       "Name: GeoLocation, Length: 16905, dtype: int64"
      ]
     },
     "execution_count": 67,
     "metadata": {},
     "output_type": "execute_result"
    }
   ],
   "source": [
    "#Meteorite Count for each GeoLocation \n",
    "data['GeoLocation'].value_counts()"
   ]
  },
  {
   "cell_type": "code",
   "execution_count": 68,
   "id": "14cc7383-e222-4bd5-805f-4c1b31757ceb",
   "metadata": {},
   "outputs": [
    {
     "data": {
      "text/plain": [
       "GeoLocation\n",
       "(-1.002780, 37.150280)     14200.0\n",
       "(-1.216670, 30.000000)      4975.0\n",
       "(-1.450000, 29.833330)       465.5\n",
       "(-1.870890, -79.957560)     6580.0\n",
       "(-10.059440, 33.395000)     3920.0\n",
       "                            ...   \n",
       "(9.500000, 35.333330)       2450.0\n",
       "(9.533330, 39.716670)       6500.0\n",
       "(9.600000, 9.916670)         480.0\n",
       "(9.666670, 105.666670)     13100.0\n",
       "(9.916670, 13.983330)        968.0\n",
       "Name: mass, Length: 16905, dtype: float64"
      ]
     },
     "execution_count": 68,
     "metadata": {},
     "output_type": "execute_result"
    }
   ],
   "source": [
    "#Heaviest Meteorite for each GeoLocation\n",
    "groupby_loc = data.groupby('GeoLocation')\n",
    "groupby_loc['mass'].max()"
   ]
  },
  {
   "cell_type": "code",
   "execution_count": 69,
   "id": "77fd4be2-ed50-4f8f-81af-de6e339b5f1b",
   "metadata": {},
   "outputs": [
    {
     "data": {
      "text/plain": [
       "GeoLocation\n",
       "(-1.002780, 37.150280)     14200.0\n",
       "(-1.216670, 30.000000)      4975.0\n",
       "(-1.450000, 29.833330)       465.5\n",
       "(-1.870890, -79.957560)     6580.0\n",
       "(-10.059440, 33.395000)     3920.0\n",
       "                            ...   \n",
       "(9.500000, 35.333330)       2450.0\n",
       "(9.533330, 39.716670)       6500.0\n",
       "(9.600000, 9.916670)         480.0\n",
       "(9.666670, 105.666670)     13100.0\n",
       "(9.916670, 13.983330)        968.0\n",
       "Name: mass, Length: 16905, dtype: float64"
      ]
     },
     "execution_count": 69,
     "metadata": {},
     "output_type": "execute_result"
    }
   ],
   "source": [
    "#Lightest Meteorite for each GeoLocation\n",
    "groupby_loc['mass'].min()"
   ]
  },
  {
   "cell_type": "code",
   "execution_count": 70,
   "id": "abd26210-4195-4e02-8733-199d22f8ce97",
   "metadata": {},
   "outputs": [
    {
     "data": {
      "text/plain": [
       "995    (-19.583330, 17.916670)\n",
       "Name: GeoLocation, dtype: object"
      ]
     },
     "execution_count": 70,
     "metadata": {},
     "output_type": "execute_result"
    }
   ],
   "source": [
    "#Geolocation of Heaviest Meteorite\n",
    "data['GeoLocation'][data['mass']==data['mass'].max()]"
   ]
  },
  {
   "cell_type": "code",
   "execution_count": 71,
   "id": "854a6e12-1ee8-454c-8937-2cf84c7e1075",
   "metadata": {},
   "outputs": [
    {
     "data": {
      "text/plain": [
       "8363    (-71.500000, 35.666670)\n",
       "Name: GeoLocation, dtype: object"
      ]
     },
     "execution_count": 71,
     "metadata": {},
     "output_type": "execute_result"
    }
   ],
   "source": [
    "#Geolocation of Lightest Meteorite\n",
    "data['GeoLocation'][data['mass']==data['mass'].min()]"
   ]
  },
  {
   "cell_type": "markdown",
   "id": "aa13e05d-a8b1-46c5-bba1-22e971bc0af9",
   "metadata": {},
   "source": [
    "**Using Pivot Tables**"
   ]
  },
  {
   "cell_type": "code",
   "execution_count": 72,
   "id": "fd435323-54b9-4bb3-b0c6-45bb054ef1b6",
   "metadata": {},
   "outputs": [
    {
     "data": {
      "text/html": [
       "<div>\n",
       "<style scoped>\n",
       "    .dataframe tbody tr th:only-of-type {\n",
       "        vertical-align: middle;\n",
       "    }\n",
       "\n",
       "    .dataframe tbody tr th {\n",
       "        vertical-align: top;\n",
       "    }\n",
       "\n",
       "    .dataframe thead th {\n",
       "        text-align: right;\n",
       "    }\n",
       "</style>\n",
       "<table border=\"1\" class=\"dataframe\">\n",
       "  <thead>\n",
       "    <tr style=\"text-align: right;\">\n",
       "      <th>fall</th>\n",
       "      <th>Fell</th>\n",
       "      <th>Found</th>\n",
       "    </tr>\n",
       "    <tr>\n",
       "      <th>year</th>\n",
       "      <th></th>\n",
       "      <th></th>\n",
       "    </tr>\n",
       "  </thead>\n",
       "  <tbody>\n",
       "    <tr>\n",
       "      <th>601</th>\n",
       "      <td>NaN</td>\n",
       "      <td>376.0</td>\n",
       "    </tr>\n",
       "    <tr>\n",
       "      <th>860</th>\n",
       "      <td>472.0</td>\n",
       "      <td>NaN</td>\n",
       "    </tr>\n",
       "    <tr>\n",
       "      <th>1399</th>\n",
       "      <td>107000.0</td>\n",
       "      <td>NaN</td>\n",
       "    </tr>\n",
       "    <tr>\n",
       "      <th>1490</th>\n",
       "      <td>103.3</td>\n",
       "      <td>NaN</td>\n",
       "    </tr>\n",
       "    <tr>\n",
       "      <th>1491</th>\n",
       "      <td>127000.0</td>\n",
       "      <td>NaN</td>\n",
       "    </tr>\n",
       "    <tr>\n",
       "      <th>1575</th>\n",
       "      <td>NaN</td>\n",
       "      <td>50000000.0</td>\n",
       "    </tr>\n",
       "    <tr>\n",
       "      <th>1583</th>\n",
       "      <td>15000.0</td>\n",
       "      <td>NaN</td>\n",
       "    </tr>\n",
       "    <tr>\n",
       "      <th>1600</th>\n",
       "      <td>NaN</td>\n",
       "      <td>10100000.0</td>\n",
       "    </tr>\n",
       "    <tr>\n",
       "      <th>1621</th>\n",
       "      <td>1967.0</td>\n",
       "      <td>NaN</td>\n",
       "    </tr>\n",
       "    <tr>\n",
       "      <th>1623</th>\n",
       "      <td>10400.0</td>\n",
       "      <td>NaN</td>\n",
       "    </tr>\n",
       "  </tbody>\n",
       "</table>\n",
       "</div>"
      ],
      "text/plain": [
       "fall      Fell       Found\n",
       "year                      \n",
       "601        NaN       376.0\n",
       "860      472.0         NaN\n",
       "1399  107000.0         NaN\n",
       "1490     103.3         NaN\n",
       "1491  127000.0         NaN\n",
       "1575       NaN  50000000.0\n",
       "1583   15000.0         NaN\n",
       "1600       NaN  10100000.0\n",
       "1621    1967.0         NaN\n",
       "1623   10400.0         NaN"
      ]
     },
     "execution_count": 72,
     "metadata": {},
     "output_type": "execute_result"
    }
   ],
   "source": [
    "table = pd.pivot_table(data[:10], values='mass', index=['year'],columns=['fall'], aggfunc=np.sum)\n",
    "table"
   ]
  },
  {
   "cell_type": "code",
   "execution_count": 73,
   "id": "3fcde91a-552b-43d6-9a46-fb6b7ab618a4",
   "metadata": {},
   "outputs": [
    {
     "data": {
      "text/html": [
       "<div>\n",
       "<style scoped>\n",
       "    .dataframe tbody tr th:only-of-type {\n",
       "        vertical-align: middle;\n",
       "    }\n",
       "\n",
       "    .dataframe tbody tr th {\n",
       "        vertical-align: top;\n",
       "    }\n",
       "\n",
       "    .dataframe thead th {\n",
       "        text-align: right;\n",
       "    }\n",
       "</style>\n",
       "<table border=\"1\" class=\"dataframe\">\n",
       "  <thead>\n",
       "    <tr style=\"text-align: right;\">\n",
       "      <th>nametype</th>\n",
       "      <th>Valid</th>\n",
       "    </tr>\n",
       "    <tr>\n",
       "      <th>year</th>\n",
       "      <th></th>\n",
       "    </tr>\n",
       "  </thead>\n",
       "  <tbody>\n",
       "    <tr>\n",
       "      <th>601</th>\n",
       "      <td>376.0</td>\n",
       "    </tr>\n",
       "    <tr>\n",
       "      <th>860</th>\n",
       "      <td>472.0</td>\n",
       "    </tr>\n",
       "    <tr>\n",
       "      <th>1399</th>\n",
       "      <td>107000.0</td>\n",
       "    </tr>\n",
       "    <tr>\n",
       "      <th>1490</th>\n",
       "      <td>103.3</td>\n",
       "    </tr>\n",
       "    <tr>\n",
       "      <th>1491</th>\n",
       "      <td>127000.0</td>\n",
       "    </tr>\n",
       "    <tr>\n",
       "      <th>1575</th>\n",
       "      <td>50000000.0</td>\n",
       "    </tr>\n",
       "    <tr>\n",
       "      <th>1583</th>\n",
       "      <td>15000.0</td>\n",
       "    </tr>\n",
       "    <tr>\n",
       "      <th>1600</th>\n",
       "      <td>10100000.0</td>\n",
       "    </tr>\n",
       "    <tr>\n",
       "      <th>1621</th>\n",
       "      <td>1967.0</td>\n",
       "    </tr>\n",
       "    <tr>\n",
       "      <th>1623</th>\n",
       "      <td>10400.0</td>\n",
       "    </tr>\n",
       "  </tbody>\n",
       "</table>\n",
       "</div>"
      ],
      "text/plain": [
       "nametype       Valid\n",
       "year                \n",
       "601            376.0\n",
       "860            472.0\n",
       "1399        107000.0\n",
       "1490           103.3\n",
       "1491        127000.0\n",
       "1575      50000000.0\n",
       "1583         15000.0\n",
       "1600      10100000.0\n",
       "1621          1967.0\n",
       "1623         10400.0"
      ]
     },
     "execution_count": 73,
     "metadata": {},
     "output_type": "execute_result"
    }
   ],
   "source": [
    "table2 = pd.pivot_table(data[:10],values='mass',index=['year'],columns=['nametype'], aggfunc=np.sum)\n",
    "table2"
   ]
  },
  {
   "cell_type": "markdown",
   "id": "d0513f8e-6b34-40eb-b10e-b301a3f27810",
   "metadata": {},
   "source": [
    "**Using the Crosstab and Heatmap**"
   ]
  },
  {
   "cell_type": "code",
   "execution_count": 74,
   "id": "9702fbc4-c8b1-4007-98cb-8b581ab73c09",
   "metadata": {},
   "outputs": [
    {
     "data": {
      "text/html": [
       "<div>\n",
       "<style scoped>\n",
       "    .dataframe tbody tr th:only-of-type {\n",
       "        vertical-align: middle;\n",
       "    }\n",
       "\n",
       "    .dataframe tbody tr th {\n",
       "        vertical-align: top;\n",
       "    }\n",
       "\n",
       "    .dataframe thead th {\n",
       "        text-align: right;\n",
       "    }\n",
       "</style>\n",
       "<table border=\"1\" class=\"dataframe\">\n",
       "  <thead>\n",
       "    <tr style=\"text-align: right;\">\n",
       "      <th>mass</th>\n",
       "      <th>103.3</th>\n",
       "      <th>376.0</th>\n",
       "      <th>472.0</th>\n",
       "      <th>1967.0</th>\n",
       "      <th>10400.0</th>\n",
       "      <th>15000.0</th>\n",
       "      <th>107000.0</th>\n",
       "      <th>127000.0</th>\n",
       "      <th>10100000.0</th>\n",
       "      <th>50000000.0</th>\n",
       "    </tr>\n",
       "    <tr>\n",
       "      <th>fall</th>\n",
       "      <th></th>\n",
       "      <th></th>\n",
       "      <th></th>\n",
       "      <th></th>\n",
       "      <th></th>\n",
       "      <th></th>\n",
       "      <th></th>\n",
       "      <th></th>\n",
       "      <th></th>\n",
       "      <th></th>\n",
       "    </tr>\n",
       "  </thead>\n",
       "  <tbody>\n",
       "    <tr>\n",
       "      <th>Fell</th>\n",
       "      <td>1</td>\n",
       "      <td>0</td>\n",
       "      <td>1</td>\n",
       "      <td>1</td>\n",
       "      <td>1</td>\n",
       "      <td>1</td>\n",
       "      <td>1</td>\n",
       "      <td>1</td>\n",
       "      <td>0</td>\n",
       "      <td>0</td>\n",
       "    </tr>\n",
       "    <tr>\n",
       "      <th>Found</th>\n",
       "      <td>0</td>\n",
       "      <td>1</td>\n",
       "      <td>0</td>\n",
       "      <td>0</td>\n",
       "      <td>0</td>\n",
       "      <td>0</td>\n",
       "      <td>0</td>\n",
       "      <td>0</td>\n",
       "      <td>1</td>\n",
       "      <td>1</td>\n",
       "    </tr>\n",
       "  </tbody>\n",
       "</table>\n",
       "</div>"
      ],
      "text/plain": [
       "mass   103.3       376.0       472.0       1967.0      10400.0     15000.0     \\\n",
       "fall                                                                            \n",
       "Fell            1           0           1           1           1           1   \n",
       "Found           0           1           0           0           0           0   \n",
       "\n",
       "mass   107000.0    127000.0    10100000.0  50000000.0  \n",
       "fall                                                   \n",
       "Fell            1           1           0           0  \n",
       "Found           0           0           1           1  "
      ]
     },
     "execution_count": 74,
     "metadata": {},
     "output_type": "execute_result"
    }
   ],
   "source": [
    "#Crosstabulation between 'mass' and 'fall'\n",
    "fall_mass = pd.crosstab(data['fall'].head(10),data['mass'].head(10))\n",
    "fall_mass"
   ]
  },
  {
   "cell_type": "code",
   "execution_count": 75,
   "id": "2320515c-98df-4298-b6f3-ccd00ee13606",
   "metadata": {},
   "outputs": [
    {
     "data": {
      "text/plain": [
       "<AxesSubplot:xlabel='mass', ylabel='fall'>"
      ]
     },
     "execution_count": 75,
     "metadata": {},
     "output_type": "execute_result"
    },
    {
     "data": {
      "image/png": "[encoded data removed]",
      "text/plain": [
       "<Figure size 432x288 with 2 Axes>"
      ]
     },
     "metadata": {
      "needs_background": "light"
     },
     "output_type": "display_data"
    }
   ],
   "source": [
    "#Heatmap of Crosstabulation between 'mass' and 'fall'\n",
    "sns.heatmap(fall_mass)"
   ]
  },
  {
   "cell_type": "code",
   "execution_count": 76,
   "id": "c712ab70-f596-4d02-98f7-dd6a81f5717c",
   "metadata": {},
   "outputs": [
    {
     "data": {
      "text/html": [
       "<div>\n",
       "<style scoped>\n",
       "    .dataframe tbody tr th:only-of-type {\n",
       "        vertical-align: middle;\n",
       "    }\n",
       "\n",
       "    .dataframe tbody tr th {\n",
       "        vertical-align: top;\n",
       "    }\n",
       "\n",
       "    .dataframe thead th {\n",
       "        text-align: right;\n",
       "    }\n",
       "</style>\n",
       "<table border=\"1\" class=\"dataframe\">\n",
       "  <thead>\n",
       "    <tr style=\"text-align: right;\">\n",
       "      <th>mass</th>\n",
       "      <th>103.3</th>\n",
       "      <th>376.0</th>\n",
       "      <th>472.0</th>\n",
       "      <th>1967.0</th>\n",
       "      <th>10400.0</th>\n",
       "      <th>15000.0</th>\n",
       "      <th>107000.0</th>\n",
       "      <th>127000.0</th>\n",
       "      <th>10100000.0</th>\n",
       "      <th>50000000.0</th>\n",
       "    </tr>\n",
       "    <tr>\n",
       "      <th>nametype</th>\n",
       "      <th></th>\n",
       "      <th></th>\n",
       "      <th></th>\n",
       "      <th></th>\n",
       "      <th></th>\n",
       "      <th></th>\n",
       "      <th></th>\n",
       "      <th></th>\n",
       "      <th></th>\n",
       "      <th></th>\n",
       "    </tr>\n",
       "  </thead>\n",
       "  <tbody>\n",
       "    <tr>\n",
       "      <th>Valid</th>\n",
       "      <td>1</td>\n",
       "      <td>1</td>\n",
       "      <td>1</td>\n",
       "      <td>1</td>\n",
       "      <td>1</td>\n",
       "      <td>1</td>\n",
       "      <td>1</td>\n",
       "      <td>1</td>\n",
       "      <td>1</td>\n",
       "      <td>1</td>\n",
       "    </tr>\n",
       "  </tbody>\n",
       "</table>\n",
       "</div>"
      ],
      "text/plain": [
       "mass      103.3       376.0       472.0       1967.0      10400.0     \\\n",
       "nametype                                                               \n",
       "Valid              1           1           1           1           1   \n",
       "\n",
       "mass      15000.0     107000.0    127000.0    10100000.0  50000000.0  \n",
       "nametype                                                              \n",
       "Valid              1           1           1           1           1  "
      ]
     },
     "execution_count": 76,
     "metadata": {},
     "output_type": "execute_result"
    }
   ],
   "source": [
    "#Crosstabulation between 'mass' and 'nametype'\n",
    "pd.crosstab(data['nametype'].head(10),data['mass'].head(10))"
   ]
  },
  {
   "cell_type": "code",
   "execution_count": 77,
   "id": "92db57c5-810f-441b-abdd-915d08415ed1",
   "metadata": {},
   "outputs": [
    {
     "data": {
      "text/html": [
       "<div>\n",
       "<style scoped>\n",
       "    .dataframe tbody tr th:only-of-type {\n",
       "        vertical-align: middle;\n",
       "    }\n",
       "\n",
       "    .dataframe tbody tr th {\n",
       "        vertical-align: top;\n",
       "    }\n",
       "\n",
       "    .dataframe thead th {\n",
       "        text-align: right;\n",
       "    }\n",
       "</style>\n",
       "<table border=\"1\" class=\"dataframe\">\n",
       "  <thead>\n",
       "    <tr style=\"text-align: right;\">\n",
       "      <th>year</th>\n",
       "      <th>601</th>\n",
       "      <th>860</th>\n",
       "      <th>1399</th>\n",
       "      <th>1490</th>\n",
       "      <th>1491</th>\n",
       "      <th>1575</th>\n",
       "      <th>1583</th>\n",
       "      <th>1600</th>\n",
       "      <th>1621</th>\n",
       "      <th>1623</th>\n",
       "    </tr>\n",
       "    <tr>\n",
       "      <th>fall</th>\n",
       "      <th></th>\n",
       "      <th></th>\n",
       "      <th></th>\n",
       "      <th></th>\n",
       "      <th></th>\n",
       "      <th></th>\n",
       "      <th></th>\n",
       "      <th></th>\n",
       "      <th></th>\n",
       "      <th></th>\n",
       "    </tr>\n",
       "  </thead>\n",
       "  <tbody>\n",
       "    <tr>\n",
       "      <th>Fell</th>\n",
       "      <td>0</td>\n",
       "      <td>1</td>\n",
       "      <td>1</td>\n",
       "      <td>1</td>\n",
       "      <td>1</td>\n",
       "      <td>0</td>\n",
       "      <td>1</td>\n",
       "      <td>0</td>\n",
       "      <td>1</td>\n",
       "      <td>1</td>\n",
       "    </tr>\n",
       "    <tr>\n",
       "      <th>Found</th>\n",
       "      <td>1</td>\n",
       "      <td>0</td>\n",
       "      <td>0</td>\n",
       "      <td>0</td>\n",
       "      <td>0</td>\n",
       "      <td>1</td>\n",
       "      <td>0</td>\n",
       "      <td>1</td>\n",
       "      <td>0</td>\n",
       "      <td>0</td>\n",
       "    </tr>\n",
       "  </tbody>\n",
       "</table>\n",
       "</div>"
      ],
      "text/plain": [
       "year   601   860   1399  1490  1491  1575  1583  1600  1621  1623\n",
       "fall                                                             \n",
       "Fell      0     1     1     1     1     0     1     0     1     1\n",
       "Found     1     0     0     0     0     1     0     1     0     0"
      ]
     },
     "execution_count": 77,
     "metadata": {},
     "output_type": "execute_result"
    }
   ],
   "source": [
    "#Crosstabulation between 'fall' and 'year'\n",
    "fall_year = pd.crosstab(data['fall'].head(10),data['year'].head(10))\n",
    "fall_year"
   ]
  },
  {
   "cell_type": "code",
   "execution_count": 78,
   "id": "f9770152-3d04-4d63-86fa-89437d31a196",
   "metadata": {},
   "outputs": [
    {
     "data": {
      "text/plain": [
       "<AxesSubplot:xlabel='year', ylabel='fall'>"
      ]
     },
     "execution_count": 78,
     "metadata": {},
     "output_type": "execute_result"
    },
    {
     "data": {
      "image/png": "[encoded data removed]",
      "text/plain": [
       "<Figure size 432x288 with 2 Axes>"
      ]
     },
     "metadata": {
      "needs_background": "light"
     },
     "output_type": "display_data"
    }
   ],
   "source": [
    "#Heatmap of Crosstabulation between 'fall' and 'year'\n",
    "sns.heatmap(fall_year)"
   ]
  },
  {
   "cell_type": "code",
   "execution_count": 79,
   "id": "6075f674-bd37-4ae6-8634-a8fc0df30677",
   "metadata": {},
   "outputs": [
    {
     "data": {
      "text/html": [
       "<div>\n",
       "<style scoped>\n",
       "    .dataframe tbody tr th:only-of-type {\n",
       "        vertical-align: middle;\n",
       "    }\n",
       "\n",
       "    .dataframe tbody tr th {\n",
       "        vertical-align: top;\n",
       "    }\n",
       "\n",
       "    .dataframe thead th {\n",
       "        text-align: right;\n",
       "    }\n",
       "</style>\n",
       "<table border=\"1\" class=\"dataframe\">\n",
       "  <thead>\n",
       "    <tr style=\"text-align: right;\">\n",
       "      <th>year</th>\n",
       "      <th>601</th>\n",
       "      <th>860</th>\n",
       "      <th>1399</th>\n",
       "      <th>1490</th>\n",
       "      <th>1491</th>\n",
       "      <th>1575</th>\n",
       "      <th>1583</th>\n",
       "      <th>1600</th>\n",
       "      <th>1621</th>\n",
       "      <th>1623</th>\n",
       "    </tr>\n",
       "    <tr>\n",
       "      <th>nametype</th>\n",
       "      <th></th>\n",
       "      <th></th>\n",
       "      <th></th>\n",
       "      <th></th>\n",
       "      <th></th>\n",
       "      <th></th>\n",
       "      <th></th>\n",
       "      <th></th>\n",
       "      <th></th>\n",
       "      <th></th>\n",
       "    </tr>\n",
       "  </thead>\n",
       "  <tbody>\n",
       "    <tr>\n",
       "      <th>Valid</th>\n",
       "      <td>1</td>\n",
       "      <td>1</td>\n",
       "      <td>1</td>\n",
       "      <td>1</td>\n",
       "      <td>1</td>\n",
       "      <td>1</td>\n",
       "      <td>1</td>\n",
       "      <td>1</td>\n",
       "      <td>1</td>\n",
       "      <td>1</td>\n",
       "    </tr>\n",
       "  </tbody>\n",
       "</table>\n",
       "</div>"
      ],
      "text/plain": [
       "year      601   860   1399  1490  1491  1575  1583  1600  1621  1623\n",
       "nametype                                                            \n",
       "Valid        1     1     1     1     1     1     1     1     1     1"
      ]
     },
     "execution_count": 79,
     "metadata": {},
     "output_type": "execute_result"
    }
   ],
   "source": [
    "#Crosstabulation between 'nametype' and 'year'\n",
    "pd.crosstab(data['nametype'].head(10),data['year'].head(10))"
   ]
  },
  {
   "cell_type": "markdown",
   "id": "cee027cd-2925-4b80-9d13-c83ad18415be",
   "metadata": {},
   "source": [
    "**Plotting**"
   ]
  },
  {
   "cell_type": "code",
   "execution_count": 80,
   "id": "2b87ca77-3150-44b4-86a6-4461efb6f2f0",
   "metadata": {},
   "outputs": [],
   "source": [
    "#Preprocessing of Mass\n",
    "mass = data['mass']\n",
    "mass = np.array(mass)\n",
    "minmax_scale = preprocessing.MinMaxScaler(feature_range=(0,1))\n",
    "data['scaled_mass'] = minmax_scale.fit_transform(mass.reshape(len(mass),1))"
   ]
  },
  {
   "cell_type": "code",
   "execution_count": 81,
   "id": "a6925d10-eeb8-40b2-acd9-0ddfd0d80dc7",
   "metadata": {},
   "outputs": [
    {
     "data": {
      "text/plain": [
       "0        6.266500e-06\n",
       "1        7.866500e-06\n",
       "2        1.783333e-03\n",
       "3        1.721500e-06\n",
       "4        2.116667e-03\n",
       "             ...     \n",
       "31907    8.348333e-07\n",
       "31908    2.166500e-06\n",
       "31909    1.848333e-07\n",
       "31910    1.313983e-05\n",
       "31911    1.666667e-03\n",
       "Name: scaled_mass, Length: 31912, dtype: float64"
      ]
     },
     "execution_count": 81,
     "metadata": {},
     "output_type": "execute_result"
    }
   ],
   "source": [
    "data['scaled_mass']"
   ]
  },
  {
   "cell_type": "markdown",
   "id": "97879c0d-9868-47a2-a63b-43e5b4af29e1",
   "metadata": {},
   "source": [
    "**Plotting Graph of Mass Vs Year and Scaled Mass Vs Year**"
   ]
  },
  {
   "cell_type": "code",
   "execution_count": 82,
   "id": "9a0c948b-876e-4416-a026-8e65afc0e21d",
   "metadata": {},
   "outputs": [
    {
     "name": "stderr",
     "output_type": "stream",
     "text": [
      "<ipython-input-82-98e5688a1135>:6: UserWarning: FixedFormatter should only be used together with FixedLocator\n",
      "  labels = ax[0].set_xticklabels(data.loc[:100,'year'],rotation=0)\n"
     ]
    },
    {
     "data": {
      "image/png": "[encoded data removed]",
      "text/plain": [
       "<Figure size 720x360 with 2 Axes>"
      ]
     },
     "metadata": {
      "needs_background": "light"
     },
     "output_type": "display_data"
    }
   ],
   "source": [
    "%matplotlib inline\n",
    "fig, ax = plt.subplots(2,1, sharex=True,figsize=(10,5))\n",
    "ax[0].plot(data.loc[:100,'mass'],'b')\n",
    "ax[1].plot(data.loc[:100,'scaled_mass'],'g')\n",
    "labels = ax[0].set_xticklabels(data.loc[:100,'year'],rotation=0)"
   ]
  },
  {
   "cell_type": "markdown",
   "id": "af671f7e-9cde-4998-9e97-9c6f337ec91d",
   "metadata": {},
   "source": [
    "**Plotting Histogram for frequency of Meteorite Landings (in centuries)**"
   ]
  },
  {
   "cell_type": "code",
   "execution_count": 83,
   "id": "841da957-60b4-45cc-a18b-cacc50a0f521",
   "metadata": {},
   "outputs": [
    {
     "data": {
      "text/plain": [
       "Text(0.5, 1.0, 'Plot showing most of the Meteorite landings (fell or found) has been in recent centuries')"
      ]
     },
     "execution_count": 83,
     "metadata": {},
     "output_type": "execute_result"
    },
    {
     "data": {
      "image/png": "[encoded data removed]",
      "text/plain": [
       "<Figure size 720x360 with 1 Axes>"
      ]
     },
     "metadata": {
      "needs_background": "light"
     },
     "output_type": "display_data"
    }
   ],
   "source": [
    "\n",
    "%matplotlib inline\n",
    "fig = plt.figure(figsize=(10,5))\n",
    "ax = fig.add_axes([0,0,1,1])\n",
    "ax.hist(data['year'])\n",
    "ax.set_xlabel('Year')\n",
    "ax.set_ylabel('Count')\n",
    "ax.set_title('Plot showing most of the Meteorite landings (fell or found) has been in recent centuries')"
   ]
  },
  {
   "cell_type": "markdown",
   "id": "9e794806-9aaf-45de-8429-104ba7dcf4c0",
   "metadata": {},
   "source": [
    "**Plotting Meteorite Landings fell and found**"
   ]
  },
  {
   "cell_type": "code",
   "execution_count": 84,
   "id": "695f7eaa-8f84-456d-a8ce-ed38474deb69",
   "metadata": {},
   "outputs": [
    {
     "data": {
      "text/plain": [
       "Text(0.5, 1.0, 'Plot showing most of the Meteorite landings (found) has been in recent centuries')"
      ]
     },
     "execution_count": 84,
     "metadata": {},
     "output_type": "execute_result"
    },
    {
     "data": {
      "image/png": "[encoded data removed]",
      "text/plain": [
       "<Figure size 720x504 with 2 Axes>"
      ]
     },
     "metadata": {
      "needs_background": "light"
     },
     "output_type": "display_data"
    }
   ],
   "source": [
    "\n",
    "%matplotlib inline\n",
    "fig, ax = plt.subplots(2,1, sharex=True,sharey=True,figsize=(10,7))\n",
    "ax[0].hist(data['year'][data['fall']=='Fell'])\n",
    "ax[1].hist(data['year'][data['fall']=='Found'])\n",
    "for i in range(2):\n",
    "  ax[i].set_xlabel('Year')\n",
    "  ax[i].set_ylabel('Count')\n",
    "ax[0].set_title('Plot showing most of the Meteorite landings (fell) has been in recent centuries')\n",
    "ax[1].set_title('Plot showing most of the Meteorite landings (found) has been in recent centuries')"
   ]
  },
  {
   "cell_type": "markdown",
   "id": "e2276aad-4e55-4cf3-a54c-8c6a25487b22",
   "metadata": {},
   "source": [
    "**Relation between Year and Mass in 21st century**"
   ]
  },
  {
   "cell_type": "code",
   "execution_count": 85,
   "id": "5bcae587-b01f-4fd9-8529-a76ae2b39d3b",
   "metadata": {},
   "outputs": [
    {
     "data": {
      "text/plain": [
       "<AxesSubplot:xlabel='year', ylabel='mass'>"
      ]
     },
     "execution_count": 85,
     "metadata": {},
     "output_type": "execute_result"
    },
    {
     "data": {
      "image/png": "[encoded data removed]",
      "text/plain": [
       "<Figure size 1440x360 with 1 Axes>"
      ]
     },
     "metadata": {
      "needs_background": "light"
     },
     "output_type": "display_data"
    }
   ],
   "source": [
    "twenty = data[data['year']>2000]\n",
    "fig = plt.figure(figsize=(20,5))\n",
    "sns.barplot(x= twenty['year'].head(20000),y=twenty['mass'].head(20000))"
   ]
  },
  {
   "cell_type": "markdown",
   "id": "fbc08255-4bf1-4e19-95be-3867938c215a",
   "metadata": {},
   "source": [
    "**Plotting Histogram for frequency of Meteorite Landings in 21st Century**"
   ]
  },
  {
   "cell_type": "code",
   "execution_count": 86,
   "id": "d1398bbc-ca43-4718-96a2-24807a6c4e86",
   "metadata": {},
   "outputs": [
    {
     "data": {
      "text/plain": [
       "Text(0.5, 1.0, 'Plot showing most of the Meteorite landings (fell or found) has been in 21st century')"
      ]
     },
     "execution_count": 86,
     "metadata": {},
     "output_type": "execute_result"
    },
    {
     "data": {
      "image/png": "[encoded data removed]",
      "text/plain": [
       "<Figure size 1440x360 with 1 Axes>"
      ]
     },
     "metadata": {
      "needs_background": "light"
     },
     "output_type": "display_data"
    }
   ],
   "source": [
    "%matplotlib inline\n",
    "fig = plt.figure(figsize=(20,5))\n",
    "ax = fig.add_axes([0,0,1,1])\n",
    "ax.hist(twenty['year'])\n",
    "ax.set_xlabel('Year')\n",
    "ax.set_ylabel('Count')\n",
    "ax.set_title('Plot showing most of the Meteorite landings (fell or found) has been in 21st century')"
   ]
  },
  {
   "cell_type": "code",
   "execution_count": 87,
   "id": "39c6e9c2-a951-422f-8d5d-de5a4f6d5409",
   "metadata": {},
   "outputs": [
    {
     "name": "stderr",
     "output_type": "stream",
     "text": [
      "C:\\Users\\DELL\\anaconda3\\lib\\site-packages\\seaborn\\distributions.py:2557: FutureWarning: `distplot` is a deprecated function and will be removed in a future version. Please adapt your code to use either `displot` (a figure-level function with similar flexibility) or `histplot` (an axes-level function for histograms).\n",
      "  warnings.warn(msg, FutureWarning)\n"
     ]
    },
    {
     "data": {
      "text/plain": [
       "<AxesSubplot:xlabel='year', ylabel='Density'>"
      ]
     },
     "execution_count": 87,
     "metadata": {},
     "output_type": "execute_result"
    },
    {
     "data": {
      "image/png": "[encoded data removed]",
      "text/plain": [
       "<Figure size 720x360 with 1 Axes>"
      ]
     },
     "metadata": {
      "needs_background": "light"
     },
     "output_type": "display_data"
    }
   ],
   "source": [
    "fig = plt.figure(figsize=(10,5))\n",
    "sns.distplot(twenty['year'])"
   ]
  },
  {
   "cell_type": "markdown",
   "id": "6e64eb93-0cc2-4c49-adf4-fd890c274634",
   "metadata": {},
   "source": [
    "**Using folium to generate the map where meteorites fell** "
   ]
  },
  {
   "cell_type": "code",
   "execution_count": 88,
   "id": "c9378f93-921c-4b53-8cd6-d73f98fe4cc7",
   "metadata": {},
   "outputs": [
    {
     "data": {
      "text/html": [
       "<div style=\"width:100%;\"><div style=\"position:relative;width:100%;height:0;padding-bottom:60%;\"><span style=\"color:#565656\">Make this Notebook Trusted to load map: File -> Trust Notebook</span><iframe src=\"about:blank\" style=\"position:absolute;width:100%;height:100%;left:0;top:0;border:none !important;\" data-html=%3C%21DOCTYPE%20html%3E%0A%3Chead%3E%20%20%20%20%0A%20%20%20%20%3Cmeta%20http-equiv%3D%22content-type%22%20content%3D%22text/html%3B%20charset%3DUTF-8%22%20/%3E%0A%20%20%20%20%3Cscript%3EL_PREFER_CANVAS%20%3D%20false%3B%20L_NO_TOUCH%20%3D%20false%3B%20L_DISABLE_3D%20%3D%20false%3B%3C/script%3E%0A%20%20%20%20%3Cscript%20src%3D%22https%3A//cdn.jsdelivr.net/npm/leaflet%401.2.0/dist/leaflet.js%22%3E%3C/script%3E%0A%20%20%20%20%3Cscript%20src%3D%22https%3A//ajax.googleapis.com/ajax/libs/jquery/1.11.1/jquery.min.js%22%3E%3C/script%3E%0A%20%20%20%20%3Cscript%20src%3D%22https%3A//maxcdn.bootstrapcdn.com/bootstrap/3.2.0/js/bootstrap.min.js%22%3E%3C/script%3E%0A%20%20%20%20%3Cscript%20src%3D%22https%3A//cdnjs.cloudflare.com/ajax/libs/Leaflet.awesome-markers/2.0.2/leaflet.awesome-markers.js%22%3E%3C/script%3E%0A%20%20%20%20%3Clink%20rel%3D%22stylesheet%22%20href%3D%22https%3A//cdn.jsdelivr.net/npm/leaflet%401.2.0/dist/leaflet.css%22/%3E%0A%20%20%20%20%3Clink%20rel%3D%22stylesheet%22%20href%3D%22https%3A//maxcdn.bootstrapcdn.com/bootstrap/3.2.0/css/bootstrap.min.css%22/%3E%0A%20%20%20%20%3Clink%20rel%3D%22stylesheet%22%20href%3D%22https%3A//maxcdn.bootstrapcdn.com/bootstrap/3.2.0/css/bootstrap-theme.min.css%22/%3E%0A%20%20%20%20%3Clink%20rel%3D%22stylesheet%22%20href%3D%22https%3A//maxcdn.bootstrapcdn.com/font-awesome/4.6.3/css/font-awesome.min.css%22/%3E%0A%20%20%20%20%3Clink%20rel%3D%22stylesheet%22%20href%3D%22https%3A//cdnjs.cloudflare.com/ajax/libs/Leaflet.awesome-markers/2.0.2/leaflet.awesome-markers.css%22/%3E%0A%20%20%20%20%3Clink%20rel%3D%22stylesheet%22%20href%3D%22https%3A//rawgit.com/python-visualization/folium/master/folium/templates/leaflet.awesome.rotate.css%22/%3E%0A%20%20%20%20%3Cstyle%3Ehtml%2C%20body%20%7Bwidth%3A%20100%25%3Bheight%3A%20100%25%3Bmargin%3A%200%3Bpadding%3A%200%3B%7D%3C/style%3E%0A%20%20%20%20%3Cstyle%3E%23map%20%7Bposition%3Aabsolute%3Btop%3A0%3Bbottom%3A0%3Bright%3A0%3Bleft%3A0%3B%7D%3C/style%3E%0A%20%20%20%20%0A%20%20%20%20%20%20%20%20%20%20%20%20%3Cstyle%3E%20%23map_9e33dfaa4c614e20923e9e2165dfbf06%20%7B%0A%20%20%20%20%20%20%20%20%20%20%20%20%20%20%20%20position%20%3A%20relative%3B%0A%20%20%20%20%20%20%20%20%20%20%20%20%20%20%20%20width%20%3A%20100.0%25%3B%0A%20%20%20%20%20%20%20%20%20%20%20%20%20%20%20%20height%3A%20100.0%25%3B%0A%20%20%20%20%20%20%20%20%20%20%20%20%20%20%20%20left%3A%200.0%25%3B%0A%20%20%20%20%20%20%20%20%20%20%20%20%20%20%20%20top%3A%200.0%25%3B%0A%20%20%20%20%20%20%20%20%20%20%20%20%20%20%20%20%7D%0A%20%20%20%20%20%20%20%20%20%20%20%20%3C/style%3E%0A%20%20%20%20%20%20%20%20%0A%3C/head%3E%0A%3Cbody%3E%20%20%20%20%0A%20%20%20%20%0A%20%20%20%20%20%20%20%20%20%20%20%20%3Cdiv%20class%3D%22folium-map%22%20id%3D%22map_9e33dfaa4c614e20923e9e2165dfbf06%22%20%3E%3C/div%3E%0A%20%20%20%20%20%20%20%20%0A%3C/body%3E%0A%3Cscript%3E%20%20%20%20%0A%20%20%20%20%0A%0A%20%20%20%20%20%20%20%20%20%20%20%20%0A%20%20%20%20%20%20%20%20%20%20%20%20%20%20%20%20var%20bounds%20%3D%20null%3B%0A%20%20%20%20%20%20%20%20%20%20%20%20%0A%0A%20%20%20%20%20%20%20%20%20%20%20%20var%20map_9e33dfaa4c614e20923e9e2165dfbf06%20%3D%20L.map%28%0A%20%20%20%20%20%20%20%20%20%20%20%20%20%20%20%20%20%20%20%20%20%20%20%20%20%20%20%20%20%20%20%20%20%20%27map_9e33dfaa4c614e20923e9e2165dfbf06%27%2C%0A%20%20%20%20%20%20%20%20%20%20%20%20%20%20%20%20%20%20%20%20%20%20%20%20%20%20%20%20%20%20%20%20%20%20%7Bcenter%3A%20%5B0%2C0%5D%2C%0A%20%20%20%20%20%20%20%20%20%20%20%20%20%20%20%20%20%20%20%20%20%20%20%20%20%20%20%20%20%20%20%20%20%20zoom%3A%201%2C%0A%20%20%20%20%20%20%20%20%20%20%20%20%20%20%20%20%20%20%20%20%20%20%20%20%20%20%20%20%20%20%20%20%20%20maxBounds%3A%20bounds%2C%0A%20%20%20%20%20%20%20%20%20%20%20%20%20%20%20%20%20%20%20%20%20%20%20%20%20%20%20%20%20%20%20%20%20%20layers%3A%20%5B%5D%2C%0A%20%20%20%20%20%20%20%20%20%20%20%20%20%20%20%20%20%20%20%20%20%20%20%20%20%20%20%20%20%20%20%20%20%20worldCopyJump%3A%20false%2C%0A%20%20%20%20%20%20%20%20%20%20%20%20%20%20%20%20%20%20%20%20%20%20%20%20%20%20%20%20%20%20%20%20%20%20crs%3A%20L.CRS.EPSG3857%0A%20%20%20%20%20%20%20%20%20%20%20%20%20%20%20%20%20%20%20%20%20%20%20%20%20%20%20%20%20%20%20%20%20%7D%29%3B%0A%20%20%20%20%20%20%20%20%20%20%20%20%0A%20%20%20%20%20%20%20%20%0A%20%20%20%20%0A%20%20%20%20%20%20%20%20%20%20%20%20var%20tile_layer_4e8b5cdc65034f3b994faf03173e2191%20%3D%20L.tileLayer%28%0A%20%20%20%20%20%20%20%20%20%20%20%20%20%20%20%20%27https%3A//%7Bs%7D.tile.openstreetmap.org/%7Bz%7D/%7Bx%7D/%7By%7D.png%27%2C%0A%20%20%20%20%20%20%20%20%20%20%20%20%20%20%20%20%7B%0A%20%20%22attribution%22%3A%20null%2C%0A%20%20%22detectRetina%22%3A%20false%2C%0A%20%20%22maxZoom%22%3A%2018%2C%0A%20%20%22minZoom%22%3A%201%2C%0A%20%20%22noWrap%22%3A%20false%2C%0A%20%20%22subdomains%22%3A%20%22abc%22%0A%7D%0A%20%20%20%20%20%20%20%20%20%20%20%20%20%20%20%20%29.addTo%28map_9e33dfaa4c614e20923e9e2165dfbf06%29%3B%0A%20%20%20%20%20%20%20%20%0A%3C/script%3E onload=\"this.contentDocument.open();this.contentDocument.write(    decodeURIComponent(this.getAttribute('data-html')));this.contentDocument.close();\" allowfullscreen webkitallowfullscreen mozallowfullscreen></iframe></div></div>"
      ],
      "text/plain": [
       "<folium.folium.Map at 0x1e084d8a850>"
      ]
     },
     "execution_count": 88,
     "metadata": {},
     "output_type": "execute_result"
    }
   ],
   "source": [
    "import folium\n",
    "folium.Map()"
   ]
  },
  {
   "cell_type": "code",
   "execution_count": 89,
   "id": "a3aa616e-3ef6-40db-b7fe-4b438d5b9d0c",
   "metadata": {},
   "outputs": [
    {
     "data": {
      "text/html": [
       "<div>\n",
       "<style scoped>\n",
       "    .dataframe tbody tr th:only-of-type {\n",
       "        vertical-align: middle;\n",
       "    }\n",
       "\n",
       "    .dataframe tbody tr th {\n",
       "        vertical-align: top;\n",
       "    }\n",
       "\n",
       "    .dataframe thead th {\n",
       "        text-align: right;\n",
       "    }\n",
       "</style>\n",
       "<table border=\"1\" class=\"dataframe\">\n",
       "  <thead>\n",
       "    <tr style=\"text-align: right;\">\n",
       "      <th></th>\n",
       "      <th>name</th>\n",
       "      <th>id</th>\n",
       "      <th>nametype</th>\n",
       "      <th>recclass</th>\n",
       "      <th>mass</th>\n",
       "      <th>fall</th>\n",
       "      <th>year</th>\n",
       "      <th>reclat</th>\n",
       "      <th>reclong</th>\n",
       "      <th>GeoLocation</th>\n",
       "      <th>scaled_mass</th>\n",
       "    </tr>\n",
       "  </thead>\n",
       "  <tbody>\n",
       "    <tr>\n",
       "      <th>0</th>\n",
       "      <td>Wietrzno-Bobrka</td>\n",
       "      <td>24259</td>\n",
       "      <td>Valid</td>\n",
       "      <td>Iron</td>\n",
       "      <td>376.0</td>\n",
       "      <td>Found</td>\n",
       "      <td>601</td>\n",
       "      <td>49.41667</td>\n",
       "      <td>21.70000</td>\n",
       "      <td>(49.416670, 21.700000)</td>\n",
       "      <td>0.000006</td>\n",
       "    </tr>\n",
       "    <tr>\n",
       "      <th>1</th>\n",
       "      <td>Nogata</td>\n",
       "      <td>16988</td>\n",
       "      <td>Valid</td>\n",
       "      <td>L6</td>\n",
       "      <td>472.0</td>\n",
       "      <td>Fell</td>\n",
       "      <td>860</td>\n",
       "      <td>33.72500</td>\n",
       "      <td>130.75000</td>\n",
       "      <td>(33.725000, 130.750000)</td>\n",
       "      <td>0.000008</td>\n",
       "    </tr>\n",
       "    <tr>\n",
       "      <th>2</th>\n",
       "      <td>Elbogen</td>\n",
       "      <td>7823</td>\n",
       "      <td>Valid</td>\n",
       "      <td>Iron, IID</td>\n",
       "      <td>107000.0</td>\n",
       "      <td>Fell</td>\n",
       "      <td>1399</td>\n",
       "      <td>50.18333</td>\n",
       "      <td>12.73333</td>\n",
       "      <td>(50.183330, 12.733330)</td>\n",
       "      <td>0.001783</td>\n",
       "    </tr>\n",
       "    <tr>\n",
       "      <th>3</th>\n",
       "      <td>Rivolta de Bassi</td>\n",
       "      <td>22614</td>\n",
       "      <td>Valid</td>\n",
       "      <td>Stone-uncl</td>\n",
       "      <td>103.3</td>\n",
       "      <td>Fell</td>\n",
       "      <td>1490</td>\n",
       "      <td>45.48333</td>\n",
       "      <td>9.51667</td>\n",
       "      <td>(45.483330, 9.516670)</td>\n",
       "      <td>0.000002</td>\n",
       "    </tr>\n",
       "    <tr>\n",
       "      <th>4</th>\n",
       "      <td>Ensisheim</td>\n",
       "      <td>10039</td>\n",
       "      <td>Valid</td>\n",
       "      <td>LL6</td>\n",
       "      <td>127000.0</td>\n",
       "      <td>Fell</td>\n",
       "      <td>1491</td>\n",
       "      <td>47.86667</td>\n",
       "      <td>7.35000</td>\n",
       "      <td>(47.866670, 7.350000)</td>\n",
       "      <td>0.002117</td>\n",
       "    </tr>\n",
       "  </tbody>\n",
       "</table>\n",
       "</div>"
      ],
      "text/plain": [
       "               name     id nametype    recclass      mass   fall  year  \\\n",
       "0   Wietrzno-Bobrka  24259    Valid        Iron     376.0  Found   601   \n",
       "1            Nogata  16988    Valid          L6     472.0   Fell   860   \n",
       "2           Elbogen   7823    Valid   Iron, IID  107000.0   Fell  1399   \n",
       "3  Rivolta de Bassi  22614    Valid  Stone-uncl     103.3   Fell  1490   \n",
       "4         Ensisheim  10039    Valid         LL6  127000.0   Fell  1491   \n",
       "\n",
       "     reclat    reclong              GeoLocation  scaled_mass  \n",
       "0  49.41667   21.70000   (49.416670, 21.700000)     0.000006  \n",
       "1  33.72500  130.75000  (33.725000, 130.750000)     0.000008  \n",
       "2  50.18333   12.73333   (50.183330, 12.733330)     0.001783  \n",
       "3  45.48333    9.51667    (45.483330, 9.516670)     0.000002  \n",
       "4  47.86667    7.35000    (47.866670, 7.350000)     0.002117  "
      ]
     },
     "execution_count": 89,
     "metadata": {},
     "output_type": "execute_result"
    }
   ],
   "source": [
    "data.head()"
   ]
  },
  {
   "cell_type": "markdown",
   "id": "ba9fee9d-f8cf-45c5-976a-ec1a4f563c16",
   "metadata": {},
   "source": [
    "**Adding the locations to the map**"
   ]
  },
  {
   "cell_type": "code",
   "execution_count": 90,
   "id": "0ad4b650-5612-461c-8d65-9719855b2254",
   "metadata": {},
   "outputs": [],
   "source": [
    "gel = data.iloc[:100,:]\n",
    "met = folium.Map()\n",
    "metf = folium.map.FeatureGroup()"
   ]
  },
  {
   "cell_type": "code",
   "execution_count": 91,
   "id": "6db7b4da-2b83-470c-a280-aa8babcbad0f",
   "metadata": {},
   "outputs": [],
   "source": [
    "for lat,lng in zip(gel.reclat,gel.reclong):\n",
    "  metf.add_child(folium.features.Marker([lat,lng]))"
   ]
  },
  {
   "cell_type": "code",
   "execution_count": 92,
   "id": "20dde21d-10e0-4456-bfcd-31e367ac2acf",
   "metadata": {},
   "outputs": [
    {
     "data": {
      "text/html": [
       "<div style=\"width:100%;\"><div style=\"position:relative;width:100%;height:0;padding-bottom:60%;\"><span style=\"color:#565656\">Make this Notebook Trusted to load map: File -> Trust Notebook</span><iframe src=\"about:blank\" style=\"position:absolute;width:100%;height:100%;left:0;top:0;border:none !important;\" data-html=%3C%21DOCTYPE%20html%3E%0A%3Chead%3E%20%20%20%20%0A%20%20%20%20%3Cmeta%20http-equiv%3D%22content-type%22%20content%3D%22text/html%3B%20charset%3DUTF-8%22%20/%3E%0A%20%20%20%20%3Cscript%3EL_PREFER_CANVAS%20%3D%20false%3B%20L_NO_TOUCH%20%3D%20false%3B%20L_DISABLE_3D%20%3D%20false%3B%3C/script%3E%0A%20%20%20%20%3Cscript%20src%3D%22https%3A//cdn.jsdelivr.net/npm/leaflet%401.2.0/dist/leaflet.js%22%3E%3C/script%3E%0A%20%20%20%20%3Cscript%20src%3D%22https%3A//ajax.googleapis.com/ajax/libs/jquery/1.11.1/jquery.min.js%22%3E%3C/script%3E%0A%20%20%20%20%3Cscript%20src%3D%22https%3A//maxcdn.bootstrapcdn.com/bootstrap/3.2.0/js/bootstrap.min.js%22%3E%3C/script%3E%0A%20%20%20%20%3Cscript%20src%3D%22https%3A//cdnjs.cloudflare.com/ajax/libs/Leaflet.awesome-markers/2.0.2/leaflet.awesome-markers.js%22%3E%3C/script%3E%0A%20%20%20%20%3Clink%20rel%3D%22stylesheet%22%20href%3D%22https%3A//cdn.jsdelivr.net/npm/leaflet%401.2.0/dist/leaflet.css%22/%3E%0A%20%20%20%20%3Clink%20rel%3D%22stylesheet%22%20href%3D%22https%3A//maxcdn.bootstrapcdn.com/bootstrap/3.2.0/css/bootstrap.min.css%22/%3E%0A%20%20%20%20%3Clink%20rel%3D%22stylesheet%22%20href%3D%22https%3A//maxcdn.bootstrapcdn.com/bootstrap/3.2.0/css/bootstrap-theme.min.css%22/%3E%0A%20%20%20%20%3Clink%20rel%3D%22stylesheet%22%20href%3D%22https%3A//maxcdn.bootstrapcdn.com/font-awesome/4.6.3/css/font-awesome.min.css%22/%3E%0A%20%20%20%20%3Clink%20rel%3D%22stylesheet%22%20href%3D%22https%3A//cdnjs.cloudflare.com/ajax/libs/Leaflet.awesome-markers/2.0.2/leaflet.awesome-markers.css%22/%3E%0A%20%20%20%20%3Clink%20rel%3D%22stylesheet%22%20href%3D%22https%3A//rawgit.com/python-visualization/folium/master/folium/templates/leaflet.awesome.rotate.css%22/%3E%0A%20%20%20%20%3Cstyle%3Ehtml%2C%20body%20%7Bwidth%3A%20100%25%3Bheight%3A%20100%25%3Bmargin%3A%200%3Bpadding%3A%200%3B%7D%3C/style%3E%0A%20%20%20%20%3Cstyle%3E%23map%20%7Bposition%3Aabsolute%3Btop%3A0%3Bbottom%3A0%3Bright%3A0%3Bleft%3A0%3B%7D%3C/style%3E%0A%20%20%20%20%0A%20%20%20%20%20%20%20%20%20%20%20%20%3Cstyle%3E%20%23map_553f88f19f064aa4b0216e5f934a055c%20%7B%0A%20%20%20%20%20%20%20%20%20%20%20%20%20%20%20%20position%20%3A%20relative%3B%0A%20%20%20%20%20%20%20%20%20%20%20%20%20%20%20%20width%20%3A%20100.0%25%3B%0A%20%20%20%20%20%20%20%20%20%20%20%20%20%20%20%20height%3A%20100.0%25%3B%0A%20%20%20%20%20%20%20%20%20%20%20%20%20%20%20%20left%3A%200.0%25%3B%0A%20%20%20%20%20%20%20%20%20%20%20%20%20%20%20%20top%3A%200.0%25%3B%0A%20%20%20%20%20%20%20%20%20%20%20%20%20%20%20%20%7D%0A%20%20%20%20%20%20%20%20%20%20%20%20%3C/style%3E%0A%20%20%20%20%20%20%20%20%0A%3C/head%3E%0A%3Cbody%3E%20%20%20%20%0A%20%20%20%20%0A%20%20%20%20%20%20%20%20%20%20%20%20%3Cdiv%20class%3D%22folium-map%22%20id%3D%22map_553f88f19f064aa4b0216e5f934a055c%22%20%3E%3C/div%3E%0A%20%20%20%20%20%20%20%20%0A%3C/body%3E%0A%3Cscript%3E%20%20%20%20%0A%20%20%20%20%0A%0A%20%20%20%20%20%20%20%20%20%20%20%20%0A%20%20%20%20%20%20%20%20%20%20%20%20%20%20%20%20var%20bounds%20%3D%20null%3B%0A%20%20%20%20%20%20%20%20%20%20%20%20%0A%0A%20%20%20%20%20%20%20%20%20%20%20%20var%20map_553f88f19f064aa4b0216e5f934a055c%20%3D%20L.map%28%0A%20%20%20%20%20%20%20%20%20%20%20%20%20%20%20%20%20%20%20%20%20%20%20%20%20%20%20%20%20%20%20%20%20%20%27map_553f88f19f064aa4b0216e5f934a055c%27%2C%0A%20%20%20%20%20%20%20%20%20%20%20%20%20%20%20%20%20%20%20%20%20%20%20%20%20%20%20%20%20%20%20%20%20%20%7Bcenter%3A%20%5B0%2C0%5D%2C%0A%20%20%20%20%20%20%20%20%20%20%20%20%20%20%20%20%20%20%20%20%20%20%20%20%20%20%20%20%20%20%20%20%20%20zoom%3A%201%2C%0A%20%20%20%20%20%20%20%20%20%20%20%20%20%20%20%20%20%20%20%20%20%20%20%20%20%20%20%20%20%20%20%20%20%20maxBounds%3A%20bounds%2C%0A%20%20%20%20%20%20%20%20%20%20%20%20%20%20%20%20%20%20%20%20%20%20%20%20%20%20%20%20%20%20%20%20%20%20layers%3A%20%5B%5D%2C%0A%20%20%20%20%20%20%20%20%20%20%20%20%20%20%20%20%20%20%20%20%20%20%20%20%20%20%20%20%20%20%20%20%20%20worldCopyJump%3A%20false%2C%0A%20%20%20%20%20%20%20%20%20%20%20%20%20%20%20%20%20%20%20%20%20%20%20%20%20%20%20%20%20%20%20%20%20%20crs%3A%20L.CRS.EPSG3857%0A%20%20%20%20%20%20%20%20%20%20%20%20%20%20%20%20%20%20%20%20%20%20%20%20%20%20%20%20%20%20%20%20%20%7D%29%3B%0A%20%20%20%20%20%20%20%20%20%20%20%20%0A%20%20%20%20%20%20%20%20%0A%20%20%20%20%0A%20%20%20%20%20%20%20%20%20%20%20%20var%20tile_layer_8971829949ee422488ced77ddab5fc52%20%3D%20L.tileLayer%28%0A%20%20%20%20%20%20%20%20%20%20%20%20%20%20%20%20%27https%3A//%7Bs%7D.tile.openstreetmap.org/%7Bz%7D/%7Bx%7D/%7By%7D.png%27%2C%0A%20%20%20%20%20%20%20%20%20%20%20%20%20%20%20%20%7B%0A%20%20%22attribution%22%3A%20null%2C%0A%20%20%22detectRetina%22%3A%20false%2C%0A%20%20%22maxZoom%22%3A%2018%2C%0A%20%20%22minZoom%22%3A%201%2C%0A%20%20%22noWrap%22%3A%20false%2C%0A%20%20%22subdomains%22%3A%20%22abc%22%0A%7D%0A%20%20%20%20%20%20%20%20%20%20%20%20%20%20%20%20%29.addTo%28map_553f88f19f064aa4b0216e5f934a055c%29%3B%0A%20%20%20%20%20%20%20%20%0A%20%20%20%20%0A%20%20%20%20%20%20%20%20%20%20%20%20var%20feature_group_75c32be9475044949ad37a15f9490a56%20%3D%20L.featureGroup%28%0A%20%20%20%20%20%20%20%20%20%20%20%20%20%20%20%20%29.addTo%28map_553f88f19f064aa4b0216e5f934a055c%29%3B%0A%20%20%20%20%20%20%20%20%0A%20%20%20%20%0A%0A%20%20%20%20%20%20%20%20%20%20%20%20var%20marker_513d65d63ced402488f01829637ba00f%20%3D%20L.marker%28%0A%20%20%20%20%20%20%20%20%20%20%20%20%20%20%20%20%5B49.41667%2C21.7%5D%2C%0A%20%20%20%20%20%20%20%20%20%20%20%20%20%20%20%20%7B%0A%20%20%20%20%20%20%20%20%20%20%20%20%20%20%20%20%20%20%20%20icon%3A%20new%20L.Icon.Default%28%29%0A%20%20%20%20%20%20%20%20%20%20%20%20%20%20%20%20%20%20%20%20%7D%0A%20%20%20%20%20%20%20%20%20%20%20%20%20%20%20%20%29%0A%20%20%20%20%20%20%20%20%20%20%20%20%20%20%20%20.addTo%28feature_group_75c32be9475044949ad37a15f9490a56%29%3B%0A%20%20%20%20%20%20%20%20%20%20%20%20%0A%20%20%20%20%0A%0A%20%20%20%20%20%20%20%20%20%20%20%20var%20marker_90ce27981d264af3b41af787d6bf9fb0%20%3D%20L.marker%28%0A%20%20%20%20%20%20%20%20%20%20%20%20%20%20%20%20%5B33.725%2C130.75%5D%2C%0A%20%20%20%20%20%20%20%20%20%20%20%20%20%20%20%20%7B%0A%20%20%20%20%20%20%20%20%20%20%20%20%20%20%20%20%20%20%20%20icon%3A%20new%20L.Icon.Default%28%29%0A%20%20%20%20%20%20%20%20%20%20%20%20%20%20%20%20%20%20%20%20%7D%0A%20%20%20%20%20%20%20%20%20%20%20%20%20%20%20%20%29%0A%20%20%20%20%20%20%20%20%20%20%20%20%20%20%20%20.addTo%28feature_group_75c32be9475044949ad37a15f9490a56%29%3B%0A%20%20%20%20%20%20%20%20%20%20%20%20%0A%20%20%20%20%0A%0A%20%20%20%20%20%20%20%20%20%20%20%20var%20marker_7b896f895e574dbea9f6746e7bd22117%20%3D%20L.marker%28%0A%20%20%20%20%20%20%20%20%20%20%20%20%20%20%20%20%5B50.18333%2C12.73333%5D%2C%0A%20%20%20%20%20%20%20%20%20%20%20%20%20%20%20%20%7B%0A%20%20%20%20%20%20%20%20%20%20%20%20%20%20%20%20%20%20%20%20icon%3A%20new%20L.Icon.Default%28%29%0A%20%20%20%20%20%20%20%20%20%20%20%20%20%20%20%20%20%20%20%20%7D%0A%20%20%20%20%20%20%20%20%20%20%20%20%20%20%20%20%29%0A%20%20%20%20%20%20%20%20%20%20%20%20%20%20%20%20.addTo%28feature_group_75c32be9475044949ad37a15f9490a56%29%3B%0A%20%20%20%20%20%20%20%20%20%20%20%20%0A%20%20%20%20%0A%0A%20%20%20%20%20%20%20%20%20%20%20%20var%20marker_4ce17aecd99f478485bdb89ebaeff2ba%20%3D%20L.marker%28%0A%20%20%20%20%20%20%20%20%20%20%20%20%20%20%20%20%5B45.48333%2C9.51667%5D%2C%0A%20%20%20%20%20%20%20%20%20%20%20%20%20%20%20%20%7B%0A%20%20%20%20%20%20%20%20%20%20%20%20%20%20%20%20%20%20%20%20icon%3A%20new%20L.Icon.Default%28%29%0A%20%20%20%20%20%20%20%20%20%20%20%20%20%20%20%20%20%20%20%20%7D%0A%20%20%20%20%20%20%20%20%20%20%20%20%20%20%20%20%29%0A%20%20%20%20%20%20%20%20%20%20%20%20%20%20%20%20.addTo%28feature_group_75c32be9475044949ad37a15f9490a56%29%3B%0A%20%20%20%20%20%20%20%20%20%20%20%20%0A%20%20%20%20%0A%0A%20%20%20%20%20%20%20%20%20%20%20%20var%20marker_8bdc52b658cb4e0cb50d07d83de1bdcd%20%3D%20L.marker%28%0A%20%20%20%20%20%20%20%20%20%20%20%20%20%20%20%20%5B47.86667%2C7.35%5D%2C%0A%20%20%20%20%20%20%20%20%20%20%20%20%20%20%20%20%7B%0A%20%20%20%20%20%20%20%20%20%20%20%20%20%20%20%20%20%20%20%20icon%3A%20new%20L.Icon.Default%28%29%0A%20%20%20%20%20%20%20%20%20%20%20%20%20%20%20%20%20%20%20%20%7D%0A%20%20%20%20%20%20%20%20%20%20%20%20%20%20%20%20%29%0A%20%20%20%20%20%20%20%20%20%20%20%20%20%20%20%20.addTo%28feature_group_75c32be9475044949ad37a15f9490a56%29%3B%0A%20%20%20%20%20%20%20%20%20%20%20%20%0A%20%20%20%20%0A%0A%20%20%20%20%20%20%20%20%20%20%20%20var%20marker_b8bcaee88606415ea1e635ed52c40d79%20%3D%20L.marker%28%0A%20%20%20%20%20%20%20%20%20%20%20%20%20%20%20%20%5B-27.46667%2C-60.58333%5D%2C%0A%20%20%20%20%20%20%20%20%20%20%20%20%20%20%20%20%7B%0A%20%20%20%20%20%20%20%20%20%20%20%20%20%20%20%20%20%20%20%20icon%3A%20new%20L.Icon.Default%28%29%0A%20%20%20%20%20%20%20%20%20%20%20%20%20%20%20%20%20%20%20%20%7D%0A%20%20%20%20%20%20%20%20%20%20%20%20%20%20%20%20%29%0A%20%20%20%20%20%20%20%20%20%20%20%20%20%20%20%20.addTo%28feature_group_75c32be9475044949ad37a15f9490a56%29%3B%0A%20%20%20%20%20%20%20%20%20%20%20%20%0A%20%20%20%20%0A%0A%20%20%20%20%20%20%20%20%20%20%20%20var%20marker_cd14122b29e745b5b04d24225273a6c7%20%3D%20L.marker%28%0A%20%20%20%20%20%20%20%20%20%20%20%20%20%20%20%20%5B39.8%2C16.2%5D%2C%0A%20%20%20%20%20%20%20%20%20%20%20%20%20%20%20%20%7B%0A%20%20%20%20%20%20%20%20%20%20%20%20%20%20%20%20%20%20%20%20icon%3A%20new%20L.Icon.Default%28%29%0A%20%20%20%20%20%20%20%20%20%20%20%20%20%20%20%20%20%20%20%20%7D%0A%20%20%20%20%20%20%20%20%20%20%20%20%20%20%20%20%29%0A%20%20%20%20%20%20%20%20%20%20%20%20%20%20%20%20.addTo%28feature_group_75c32be9475044949ad37a15f9490a56%29%3B%0A%20%20%20%20%20%20%20%20%20%20%20%20%0A%20%20%20%20%0A%0A%20%20%20%20%20%20%20%20%20%20%20%20var%20marker_c81855076f064b39bafa817d8b75aa6b%20%3D%20L.marker%28%0A%20%20%20%20%20%20%20%20%20%20%20%20%20%20%20%20%5B27.05%2C-105.43333%5D%2C%0A%20%20%20%20%20%20%20%20%20%20%20%20%20%20%20%20%7B%0A%20%20%20%20%20%20%20%20%20%20%20%20%20%20%20%20%20%20%20%20icon%3A%20new%20L.Icon.Default%28%29%0A%20%20%20%20%20%20%20%20%20%20%20%20%20%20%20%20%20%20%20%20%7D%0A%20%20%20%20%20%20%20%20%20%20%20%20%20%20%20%20%29%0A%20%20%20%20%20%20%20%20%20%20%20%20%20%20%20%20.addTo%28feature_group_75c32be9475044949ad37a15f9490a56%29%3B%0A%20%20%20%20%20%20%20%20%20%20%20%20%0A%20%20%20%20%0A%0A%20%20%20%20%20%20%20%20%20%20%20%20var%20marker_c074574a84724ad2b5a482f4afc129d6%20%3D%20L.marker%28%0A%20%20%20%20%20%20%20%20%20%20%20%20%20%20%20%20%5B31.0%2C75.0%5D%2C%0A%20%20%20%20%20%20%20%20%20%20%20%20%20%20%20%20%7B%0A%20%20%20%20%20%20%20%20%20%20%20%20%20%20%20%20%20%20%20%20icon%3A%20new%20L.Icon.Default%28%29%0A%20%20%20%20%20%20%20%20%20%20%20%20%20%20%20%20%20%20%20%20%7D%0A%20%20%20%20%20%20%20%20%20%20%20%20%20%20%20%20%29%0A%20%20%20%20%20%20%20%20%20%20%20%20%20%20%20%20.addTo%28feature_group_75c32be9475044949ad37a15f9490a56%29%3B%0A%20%20%20%20%20%20%20%20%20%20%20%20%0A%20%20%20%20%0A%0A%20%20%20%20%20%20%20%20%20%20%20%20var%20marker_67636d4bff94463582e79cde971ee6fe%20%3D%20L.marker%28%0A%20%20%20%20%20%20%20%20%20%20%20%20%20%20%20%20%5B50.38333%2C-3.95%5D%2C%0A%20%20%20%20%20%20%20%20%20%20%20%20%20%20%20%20%7B%0A%20%20%20%20%20%20%20%20%20%20%20%20%20%20%20%20%20%20%20%20icon%3A%20new%20L.Icon.Default%28%29%0A%20%20%20%20%20%20%20%20%20%20%20%20%20%20%20%20%20%20%20%20%7D%0A%20%20%20%20%20%20%20%20%20%20%20%20%20%20%20%20%29%0A%20%20%20%20%20%20%20%20%20%20%20%20%20%20%20%20.addTo%28feature_group_75c32be9475044949ad37a15f9490a56%29%3B%0A%20%20%20%20%20%20%20%20%20%20%20%20%0A%20%20%20%20%0A%0A%20%20%20%20%20%20%20%20%20%20%20%20var%20marker_771ebea578364dcbaa6d5590a0305f5c%20%3D%20L.marker%28%0A%20%20%20%20%20%20%20%20%20%20%20%20%20%20%20%20%5B51.65%2C-1.51667%5D%2C%0A%20%20%20%20%20%20%20%20%20%20%20%20%20%20%20%20%7B%0A%20%20%20%20%20%20%20%20%20%20%20%20%20%20%20%20%20%20%20%20icon%3A%20new%20L.Icon.Default%28%29%0A%20%20%20%20%20%20%20%20%20%20%20%20%20%20%20%20%20%20%20%20%7D%0A%20%20%20%20%20%20%20%20%20%20%20%20%20%20%20%20%29%0A%20%20%20%20%20%20%20%20%20%20%20%20%20%20%20%20.addTo%28feature_group_75c32be9475044949ad37a15f9490a56%29%3B%0A%20%20%20%20%20%20%20%20%20%20%20%20%0A%20%20%20%20%0A%0A%20%20%20%20%20%20%20%20%20%20%20%20var%20marker_907e322be93c4a8986ce8a69c0a306ff%20%3D%20L.marker%28%0A%20%20%20%20%20%20%20%20%20%20%20%20%20%20%20%20%5B35.07833%2C136.93333%5D%2C%0A%20%20%20%20%20%20%20%20%20%20%20%20%20%20%20%20%7B%0A%20%20%20%20%20%20%20%20%20%20%20%20%20%20%20%20%20%20%20%20icon%3A%20new%20L.Icon.Default%28%29%0A%20%20%20%20%20%20%20%20%20%20%20%20%20%20%20%20%20%20%20%20%7D%0A%20%20%20%20%20%20%20%20%20%20%20%20%20%20%20%20%29%0A%20%20%20%20%20%20%20%20%20%20%20%20%20%20%20%20.addTo%28feature_group_75c32be9475044949ad37a15f9490a56%29%3B%0A%20%20%20%20%20%20%20%20%20%20%20%20%0A%20%20%20%20%0A%0A%20%20%20%20%20%20%20%20%20%20%20%20var%20marker_034c36f3df104076852e4d33202df5b2%20%3D%20L.marker%28%0A%20%20%20%20%20%20%20%20%20%20%20%20%20%20%20%20%5B44.08333%2C6.86667%5D%2C%0A%20%20%20%20%20%20%20%20%20%20%20%20%20%20%20%20%7B%0A%20%20%20%20%20%20%20%20%20%20%20%20%20%20%20%20%20%20%20%20icon%3A%20new%20L.Icon.Default%28%29%0A%20%20%20%20%20%20%20%20%20%20%20%20%20%20%20%20%20%20%20%20%7D%0A%20%20%20%20%20%20%20%20%20%20%20%20%20%20%20%20%29%0A%20%20%20%20%20%20%20%20%20%20%20%20%20%20%20%20.addTo%28feature_group_75c32be9475044949ad37a15f9490a56%29%3B%0A%20%20%20%20%20%20%20%20%20%20%20%20%0A%20%20%20%20%0A%0A%20%20%20%20%20%20%20%20%20%20%20%20var%20marker_ce995eea022c47b39cbd686b0658337e%20%3D%20L.marker%28%0A%20%20%20%20%20%20%20%20%20%20%20%20%20%20%20%20%5B45.41667%2C11.13333%5D%2C%0A%20%20%20%20%20%20%20%20%20%20%20%20%20%20%20%20%7B%0A%20%20%20%20%20%20%20%20%20%20%20%20%20%20%20%20%20%20%20%20icon%3A%20new%20L.Icon.Default%28%29%0A%20%20%20%20%20%20%20%20%20%20%20%20%20%20%20%20%20%20%20%20%7D%0A%20%20%20%20%20%20%20%20%20%20%20%20%20%20%20%20%29%0A%20%20%20%20%20%20%20%20%20%20%20%20%20%20%20%20.addTo%28feature_group_75c32be9475044949ad37a15f9490a56%29%3B%0A%20%20%20%20%20%20%20%20%20%20%20%20%0A%20%20%20%20%0A%0A%20%20%20%20%20%20%20%20%20%20%20%20var%20marker_d584f5ae48204b12b0352f1af7338ba7%20%3D%20L.marker%28%0A%20%20%20%20%20%20%20%20%20%20%20%20%20%20%20%20%5B48.5%2C8.0%5D%2C%0A%20%20%20%20%20%20%20%20%20%20%20%20%20%20%20%20%7B%0A%20%20%20%20%20%20%20%20%20%20%20%20%20%20%20%20%20%20%20%20icon%3A%20new%20L.Icon.Default%28%29%0A%20%20%20%20%20%20%20%20%20%20%20%20%20%20%20%20%20%20%20%20%7D%0A%20%20%20%20%20%20%20%20%20%20%20%20%20%20%20%20%29%0A%20%20%20%20%20%20%20%20%20%20%20%20%20%20%20%20.addTo%28feature_group_75c32be9475044949ad37a15f9490a56%29%3B%0A%20%20%20%20%20%20%20%20%20%20%20%20%0A%20%20%20%20%0A%0A%20%20%20%20%20%20%20%20%20%20%20%20var%20marker_a497010e8c2c43c1bb27022b10b891ee%20%3D%20L.marker%28%0A%20%20%20%20%20%20%20%20%20%20%20%20%20%20%20%20%5B34.71667%2C137.78333%5D%2C%0A%20%20%20%20%20%20%20%20%20%20%20%20%20%20%20%20%7B%0A%20%20%20%20%20%20%20%20%20%20%20%20%20%20%20%20%20%20%20%20icon%3A%20new%20L.Icon.Default%28%29%0A%20%20%20%20%20%20%20%20%20%20%20%20%20%20%20%20%20%20%20%20%7D%0A%20%20%20%20%20%20%20%20%20%20%20%20%20%20%20%20%29%0A%20%20%20%20%20%20%20%20%20%20%20%20%20%20%20%20.addTo%28feature_group_75c32be9475044949ad37a15f9490a56%29%3B%0A%20%20%20%20%20%20%20%20%20%20%20%20%0A%20%20%20%20%0A%0A%20%20%20%20%20%20%20%20%20%20%20%20var%20marker_e058bad62a5b4b82bd3ca7ba7b43a837%20%3D%20L.marker%28%0A%20%20%20%20%20%20%20%20%20%20%20%20%20%20%20%20%5B53.35%2C15.05%5D%2C%0A%20%20%20%20%20%20%20%20%20%20%20%20%20%20%20%20%7B%0A%20%20%20%20%20%20%20%20%20%20%20%20%20%20%20%20%20%20%20%20icon%3A%20new%20L.Icon.Default%28%29%0A%20%20%20%20%20%20%20%20%20%20%20%20%20%20%20%20%20%20%20%20%7D%0A%20%20%20%20%20%20%20%20%20%20%20%20%20%20%20%20%29%0A%20%20%20%20%20%20%20%20%20%20%20%20%20%20%20%20.addTo%28feature_group_75c32be9475044949ad37a15f9490a56%29%3B%0A%20%20%20%20%20%20%20%20%20%20%20%20%0A%20%20%20%20%0A%0A%20%20%20%20%20%20%20%20%20%20%20%20var%20marker_d6c9a1fb912d4f339224d223d65e5eb2%20%3D%20L.marker%28%0A%20%20%20%20%20%20%20%20%20%20%20%20%20%20%20%20%5B14.0%2C-11.0%5D%2C%0A%20%20%20%20%20%20%20%20%20%20%20%20%20%20%20%20%7B%0A%20%20%20%20%20%20%20%20%20%20%20%20%20%20%20%20%20%20%20%20icon%3A%20new%20L.Icon.Default%28%29%0A%20%20%20%20%20%20%20%20%20%20%20%20%20%20%20%20%20%20%20%20%7D%0A%20%20%20%20%20%20%20%20%20%20%20%20%20%20%20%20%29%0A%20%20%20%20%20%20%20%20%20%20%20%20%20%20%20%20.addTo%28feature_group_75c32be9475044949ad37a15f9490a56%29%3B%0A%20%20%20%20%20%20%20%20%20%20%20%20%0A%20%20%20%20%0A%0A%20%20%20%20%20%20%20%20%20%20%20%20var%20marker_5cb1b60a2f56437eb3cf7a23211fa1d1%20%3D%20L.marker%28%0A%20%20%20%20%20%20%20%20%20%20%20%20%20%20%20%20%5B50.53333%2C14.11667%5D%2C%0A%20%20%20%20%20%20%20%20%20%20%20%20%20%20%20%20%7B%0A%20%20%20%20%20%20%20%20%20%20%20%20%20%20%20%20%20%20%20%20icon%3A%20new%20L.Icon.Default%28%29%0A%20%20%20%20%20%20%20%20%20%20%20%20%20%20%20%20%20%20%20%20%7D%0A%20%20%20%20%20%20%20%20%20%20%20%20%20%20%20%20%29%0A%20%20%20%20%20%20%20%20%20%20%20%20%20%20%20%20.addTo%28feature_group_75c32be9475044949ad37a15f9490a56%29%3B%0A%20%20%20%20%20%20%20%20%20%20%20%20%0A%20%20%20%20%0A%0A%20%20%20%20%20%20%20%20%20%20%20%20var%20marker_7fd04434cb024d80a26292c2260ddd7d%20%3D%20L.marker%28%0A%20%20%20%20%20%20%20%20%20%20%20%20%20%20%20%20%5B50.5%2C12.5%5D%2C%0A%20%20%20%20%20%20%20%20%20%20%20%20%20%20%20%20%7B%0A%20%20%20%20%20%20%20%20%20%20%20%20%20%20%20%20%20%20%20%20icon%3A%20new%20L.Icon.Default%28%29%0A%20%20%20%20%20%20%20%20%20%20%20%20%20%20%20%20%20%20%20%20%7D%0A%20%20%20%20%20%20%20%20%20%20%20%20%20%20%20%20%29%0A%20%20%20%20%20%20%20%20%20%20%20%20%20%20%20%20.addTo%28feature_group_75c32be9475044949ad37a15f9490a56%29%3B%0A%20%20%20%20%20%20%20%20%20%20%20%20%0A%20%20%20%20%0A%0A%20%20%20%20%20%20%20%20%20%20%20%20var%20marker_3d6eb236be0f4fe497b575e3cb84b4d0%20%3D%20L.marker%28%0A%20%20%20%20%20%20%20%20%20%20%20%20%20%20%20%20%5B43.5%2C26.53333%5D%2C%0A%20%20%20%20%20%20%20%20%20%20%20%20%20%20%20%20%7B%0A%20%20%20%20%20%20%20%20%20%20%20%20%20%20%20%20%20%20%20%20icon%3A%20new%20L.Icon.Default%28%29%0A%20%20%20%20%20%20%20%20%20%20%20%20%20%20%20%20%20%20%20%20%7D%0A%20%20%20%20%20%20%20%20%20%20%20%20%20%20%20%20%29%0A%20%20%20%20%20%20%20%20%20%20%20%20%20%20%20%20.addTo%28feature_group_75c32be9475044949ad37a15f9490a56%29%3B%0A%20%20%20%20%20%20%20%20%20%20%20%20%0A%20%20%20%20%0A%0A%20%20%20%20%20%20%20%20%20%20%20%20var%20marker_ac0a743592f74ff0b969f0301dca0893%20%3D%20L.marker%28%0A%20%20%20%20%20%20%20%20%20%20%20%20%20%20%20%20%5B33.28333%2C130.2%5D%2C%0A%20%20%20%20%20%20%20%20%20%20%20%20%20%20%20%20%7B%0A%20%20%20%20%20%20%20%20%20%20%20%20%20%20%20%20%20%20%20%20icon%3A%20new%20L.Icon.Default%28%29%0A%20%20%20%20%20%20%20%20%20%20%20%20%20%20%20%20%20%20%20%20%7D%0A%20%20%20%20%20%20%20%20%20%20%20%20%20%20%20%20%29%0A%20%20%20%20%20%20%20%20%20%20%20%20%20%20%20%20.addTo%28feature_group_75c32be9475044949ad37a15f9490a56%29%3B%0A%20%20%20%20%20%20%20%20%20%20%20%20%0A%20%20%20%20%0A%0A%20%20%20%20%20%20%20%20%20%20%20%20var%20marker_dfcbfab9827f4855a17f30e969899abd%20%3D%20L.marker%28%0A%20%20%20%20%20%20%20%20%20%20%20%20%20%20%20%20%5B54.9%2C91.8%5D%2C%0A%20%20%20%20%20%20%20%20%20%20%20%20%20%20%20%20%7B%0A%20%20%20%20%20%20%20%20%20%20%20%20%20%20%20%20%20%20%20%20icon%3A%20new%20L.Icon.Default%28%29%0A%20%20%20%20%20%20%20%20%20%20%20%20%20%20%20%20%20%20%20%20%7D%0A%20%20%20%20%20%20%20%20%20%20%20%20%20%20%20%20%29%0A%20%20%20%20%20%20%20%20%20%20%20%20%20%20%20%20.addTo%28feature_group_75c32be9475044949ad37a15f9490a56%29%3B%0A%20%20%20%20%20%20%20%20%20%20%20%20%0A%20%20%20%20%0A%0A%20%20%20%20%20%20%20%20%20%20%20%20var%20marker_1412e8c988fd4dabb26de4d9a47e6fc1%20%3D%20L.marker%28%0A%20%20%20%20%20%20%20%20%20%20%20%20%20%20%20%20%5B46.1%2C16.33333%5D%2C%0A%20%20%20%20%20%20%20%20%20%20%20%20%20%20%20%20%7B%0A%20%20%20%20%20%20%20%20%20%20%20%20%20%20%20%20%20%20%20%20icon%3A%20new%20L.Icon.Default%28%29%0A%20%20%20%20%20%20%20%20%20%20%20%20%20%20%20%20%20%20%20%20%7D%0A%20%20%20%20%20%20%20%20%20%20%20%20%20%20%20%20%29%0A%20%20%20%20%20%20%20%20%20%20%20%20%20%20%20%20.addTo%28feature_group_75c32be9475044949ad37a15f9490a56%29%3B%0A%20%20%20%20%20%20%20%20%20%20%20%20%0A%20%20%20%20%0A%0A%20%20%20%20%20%20%20%20%20%20%20%20var%20marker_c335b853217d4c21aa1aebab25e20475%20%3D%20L.marker%28%0A%20%20%20%20%20%20%20%20%20%20%20%20%20%20%20%20%5B49.4%2C14.65%5D%2C%0A%20%20%20%20%20%20%20%20%20%20%20%20%20%20%20%20%7B%0A%20%20%20%20%20%20%20%20%20%20%20%20%20%20%20%20%20%20%20%20icon%3A%20new%20L.Icon.Default%28%29%0A%20%20%20%20%20%20%20%20%20%20%20%20%20%20%20%20%20%20%20%20%7D%0A%20%20%20%20%20%20%20%20%20%20%20%20%20%20%20%20%29%0A%20%20%20%20%20%20%20%20%20%20%20%20%20%20%20%20.addTo%28feature_group_75c32be9475044949ad37a15f9490a56%29%3B%0A%20%20%20%20%20%20%20%20%20%20%20%20%0A%20%20%20%20%0A%0A%20%20%20%20%20%20%20%20%20%20%20%20var%20marker_9b9d843567b34d6dadb8254306ab74c5%20%3D%20L.marker%28%0A%20%20%20%20%20%20%20%20%20%20%20%20%20%20%20%20%5B46.21667%2C5.0%5D%2C%0A%20%20%20%20%20%20%20%20%20%20%20%20%20%20%20%20%7B%0A%20%20%20%20%20%20%20%20%20%20%20%20%20%20%20%20%20%20%20%20icon%3A%20new%20L.Icon.Default%28%29%0A%20%20%20%20%20%20%20%20%20%20%20%20%20%20%20%20%20%20%20%20%7D%0A%20%20%20%20%20%20%20%20%20%20%20%20%20%20%20%20%29%0A%20%20%20%20%20%20%20%20%20%20%20%20%20%20%20%20.addTo%28feature_group_75c32be9475044949ad37a15f9490a56%29%3B%0A%20%20%20%20%20%20%20%20%20%20%20%20%0A%20%20%20%20%0A%0A%20%20%20%20%20%20%20%20%20%20%20%20var%20marker_cb97c0b053414068ab76c0b004100963%20%3D%20L.marker%28%0A%20%20%20%20%20%20%20%20%20%20%20%20%20%20%20%20%5B44.65%2C11.01667%5D%2C%0A%20%20%20%20%20%20%20%20%20%20%20%20%20%20%20%20%7B%0A%20%20%20%20%20%20%20%20%20%20%20%20%20%20%20%20%20%20%20%20icon%3A%20new%20L.Icon.Default%28%29%0A%20%20%20%20%20%20%20%20%20%20%20%20%20%20%20%20%20%20%20%20%7D%0A%20%20%20%20%20%20%20%20%20%20%20%20%20%20%20%20%29%0A%20%20%20%20%20%20%20%20%20%20%20%20%20%20%20%20.addTo%28feature_group_75c32be9475044949ad37a15f9490a56%29%3B%0A%20%20%20%20%20%20%20%20%20%20%20%20%0A%20%20%20%20%0A%0A%20%20%20%20%20%20%20%20%20%20%20%20var%20marker_1a97f1378ebd41409adfe87caea55200%20%3D%20L.marker%28%0A%20%20%20%20%20%20%20%20%20%20%20%20%20%20%20%20%5B48.18333%2C13.13333%5D%2C%0A%20%20%20%20%20%20%20%20%20%20%20%20%20%20%20%20%7B%0A%20%20%20%20%20%20%20%20%20%20%20%20%20%20%20%20%20%20%20%20icon%3A%20new%20L.Icon.Default%28%29%0A%20%20%20%20%20%20%20%20%20%20%20%20%20%20%20%20%20%20%20%20%7D%0A%20%20%20%20%20%20%20%20%20%20%20%20%20%20%20%20%29%0A%20%20%20%20%20%20%20%20%20%20%20%20%20%20%20%20.addTo%28feature_group_75c32be9475044949ad37a15f9490a56%29%3B%0A%20%20%20%20%20%20%20%20%20%20%20%20%0A%20%20%20%20%0A%0A%20%20%20%20%20%20%20%20%20%20%20%20var%20marker_e1bf5b75fcca42e6852a7826f3d92c91%20%3D%20L.marker%28%0A%20%20%20%20%20%20%20%20%20%20%20%20%20%20%20%20%5B47.85%2C0.48333%5D%2C%0A%20%20%20%20%20%20%20%20%20%20%20%20%20%20%20%20%7B%0A%20%20%20%20%20%20%20%20%20%20%20%20%20%20%20%20%20%20%20%20icon%3A%20new%20L.Icon.Default%28%29%0A%20%20%20%20%20%20%20%20%20%20%20%20%20%20%20%20%20%20%20%20%7D%0A%20%20%20%20%20%20%20%20%20%20%20%20%20%20%20%20%29%0A%20%20%20%20%20%20%20%20%20%20%20%20%20%20%20%20.addTo%28feature_group_75c32be9475044949ad37a15f9490a56%29%3B%0A%20%20%20%20%20%20%20%20%20%20%20%20%0A%20%20%20%20%0A%0A%20%20%20%20%20%20%20%20%20%20%20%20var%20marker_77ec7be395914ba7a3870665bd3973e9%20%3D%20L.marker%28%0A%20%20%20%20%20%20%20%20%20%20%20%20%20%20%20%20%5B41.71667%2C-0.05%5D%2C%0A%20%20%20%20%20%20%20%20%20%20%20%20%20%20%20%20%7B%0A%20%20%20%20%20%20%20%20%20%20%20%20%20%20%20%20%20%20%20%20icon%3A%20new%20L.Icon.Default%28%29%0A%20%20%20%20%20%20%20%20%20%20%20%20%20%20%20%20%20%20%20%20%7D%0A%20%20%20%20%20%20%20%20%20%20%20%20%20%20%20%20%29%0A%20%20%20%20%20%20%20%20%20%20%20%20%20%20%20%20.addTo%28feature_group_75c32be9475044949ad37a15f9490a56%29%3B%0A%20%20%20%20%20%20%20%20%20%20%20%20%0A%20%20%20%20%0A%0A%20%20%20%20%20%20%20%20%20%20%20%20var%20marker_5ab3ea82cb0a4e6e8d707738d49fca94%20%3D%20L.marker%28%0A%20%20%20%20%20%20%20%20%20%20%20%20%20%20%20%20%5B50.35%2C10.8%5D%2C%0A%20%20%20%20%20%20%20%20%20%20%20%20%20%20%20%20%7B%0A%20%20%20%20%20%20%20%20%20%20%20%20%20%20%20%20%20%20%20%20icon%3A%20new%20L.Icon.Default%28%29%0A%20%20%20%20%20%20%20%20%20%20%20%20%20%20%20%20%20%20%20%20%7D%0A%20%20%20%20%20%20%20%20%20%20%20%20%20%20%20%20%29%0A%20%20%20%20%20%20%20%20%20%20%20%20%20%20%20%20.addTo%28feature_group_75c32be9475044949ad37a15f9490a56%29%3B%0A%20%20%20%20%20%20%20%20%20%20%20%20%0A%20%20%20%20%0A%0A%20%20%20%20%20%20%20%20%20%20%20%20var%20marker_07702cc315e7443bacb3d3179eb5ffa4%20%3D%20L.marker%28%0A%20%20%20%20%20%20%20%20%20%20%20%20%20%20%20%20%5B19.56667%2C-99.56667%5D%2C%0A%20%20%20%20%20%20%20%20%20%20%20%20%20%20%20%20%7B%0A%20%20%20%20%20%20%20%20%20%20%20%20%20%20%20%20%20%20%20%20icon%3A%20new%20L.Icon.Default%28%29%0A%20%20%20%20%20%20%20%20%20%20%20%20%20%20%20%20%20%20%20%20%7D%0A%20%20%20%20%20%20%20%20%20%20%20%20%20%20%20%20%29%0A%20%20%20%20%20%20%20%20%20%20%20%20%20%20%20%20.addTo%28feature_group_75c32be9475044949ad37a15f9490a56%29%3B%0A%20%20%20%20%20%20%20%20%20%20%20%20%0A%20%20%20%20%0A%0A%20%20%20%20%20%20%20%20%20%20%20%20var%20marker_3ec283d0dbc144c6892222c2ab6cdb44%20%3D%20L.marker%28%0A%20%20%20%20%20%20%20%20%20%20%20%20%20%20%20%20%5B29.3%2C105.3%5D%2C%0A%20%20%20%20%20%20%20%20%20%20%20%20%20%20%20%20%7B%0A%20%20%20%20%20%20%20%20%20%20%20%20%20%20%20%20%20%20%20%20icon%3A%20new%20L.Icon.Default%28%29%0A%20%20%20%20%20%20%20%20%20%20%20%20%20%20%20%20%20%20%20%20%7D%0A%20%20%20%20%20%20%20%20%20%20%20%20%20%20%20%20%29%0A%20%20%20%20%20%20%20%20%20%20%20%20%20%20%20%20.addTo%28feature_group_75c32be9475044949ad37a15f9490a56%29%3B%0A%20%20%20%20%20%20%20%20%20%20%20%20%0A%20%20%20%20%0A%0A%20%20%20%20%20%20%20%20%20%20%20%20var%20marker_96849c1050d543989e93c347dc11f33f%20%3D%20L.marker%28%0A%20%20%20%20%20%20%20%20%20%20%20%20%20%20%20%20%5B27.15%2C-104.9%5D%2C%0A%20%20%20%20%20%20%20%20%20%20%20%20%20%20%20%20%7B%0A%20%20%20%20%20%20%20%20%20%20%20%20%20%20%20%20%20%20%20%20icon%3A%20new%20L.Icon.Default%28%29%0A%20%20%20%20%20%20%20%20%20%20%20%20%20%20%20%20%20%20%20%20%7D%0A%20%20%20%20%20%20%20%20%20%20%20%20%20%20%20%20%29%0A%20%20%20%20%20%20%20%20%20%20%20%20%20%20%20%20.addTo%28feature_group_75c32be9475044949ad37a15f9490a56%29%3B%0A%20%20%20%20%20%20%20%20%20%20%20%20%0A%20%20%20%20%0A%0A%20%20%20%20%20%20%20%20%20%20%20%20var%20marker_07c56d45a6a44cdba3cde72af5b93180%20%3D%20L.marker%28%0A%20%20%20%20%20%20%20%20%20%20%20%20%20%20%20%20%5B-10.11667%2C-39.2%5D%2C%0A%20%20%20%20%20%20%20%20%20%20%20%20%20%20%20%20%7B%0A%20%20%20%20%20%20%20%20%20%20%20%20%20%20%20%20%20%20%20%20icon%3A%20new%20L.Icon.Default%28%29%0A%20%20%20%20%20%20%20%20%20%20%20%20%20%20%20%20%20%20%20%20%7D%0A%20%20%20%20%20%20%20%20%20%20%20%20%20%20%20%20%29%0A%20%20%20%20%20%20%20%20%20%20%20%20%20%20%20%20.addTo%28feature_group_75c32be9475044949ad37a15f9490a56%29%3B%0A%20%20%20%20%20%20%20%20%20%20%20%20%0A%20%20%20%20%0A%0A%20%20%20%20%20%20%20%20%20%20%20%20var%20marker_fa2f11ca3a424c5ea0c9dcf2f9fd7cb1%20%3D%20L.marker%28%0A%20%20%20%20%20%20%20%20%20%20%20%20%20%20%20%20%5B48.9%2C11.21667%5D%2C%0A%20%20%20%20%20%20%20%20%20%20%20%20%20%20%20%20%7B%0A%20%20%20%20%20%20%20%20%20%20%20%20%20%20%20%20%20%20%20%20icon%3A%20new%20L.Icon.Default%28%29%0A%20%20%20%20%20%20%20%20%20%20%20%20%20%20%20%20%20%20%20%20%7D%0A%20%20%20%20%20%20%20%20%20%20%20%20%20%20%20%20%29%0A%20%20%20%20%20%20%20%20%20%20%20%20%20%20%20%20.addTo%28feature_group_75c32be9475044949ad37a15f9490a56%29%3B%0A%20%20%20%20%20%20%20%20%20%20%20%20%0A%20%20%20%20%0A%0A%20%20%20%20%20%20%20%20%20%20%20%20var%20marker_51c5e5905036402a93f049158ce6e730%20%3D%20L.marker%28%0A%20%20%20%20%20%20%20%20%20%20%20%20%20%20%20%20%5B50.625%2C35.075%5D%2C%0A%20%20%20%20%20%20%20%20%20%20%20%20%20%20%20%20%7B%0A%20%20%20%20%20%20%20%20%20%20%20%20%20%20%20%20%20%20%20%20icon%3A%20new%20L.Icon.Default%28%29%0A%20%20%20%20%20%20%20%20%20%20%20%20%20%20%20%20%20%20%20%20%7D%0A%20%20%20%20%20%20%20%20%20%20%20%20%20%20%20%20%29%0A%20%20%20%20%20%20%20%20%20%20%20%20%20%20%20%20.addTo%28feature_group_75c32be9475044949ad37a15f9490a56%29%3B%0A%20%20%20%20%20%20%20%20%20%20%20%20%0A%20%20%20%20%0A%0A%20%20%20%20%20%20%20%20%20%20%20%20var%20marker_ea43424799854528b3af6b0fc9c1ae0e%20%3D%20L.marker%28%0A%20%20%20%20%20%20%20%20%20%20%20%20%20%20%20%20%5B43.95%2C-0.05%5D%2C%0A%20%20%20%20%20%20%20%20%20%20%20%20%20%20%20%20%7B%0A%20%20%20%20%20%20%20%20%20%20%20%20%20%20%20%20%20%20%20%20icon%3A%20new%20L.Icon.Default%28%29%0A%20%20%20%20%20%20%20%20%20%20%20%20%20%20%20%20%20%20%20%20%7D%0A%20%20%20%20%20%20%20%20%20%20%20%20%20%20%20%20%29%0A%20%20%20%20%20%20%20%20%20%20%20%20%20%20%20%20.addTo%28feature_group_75c32be9475044949ad37a15f9490a56%29%3B%0A%20%20%20%20%20%20%20%20%20%20%20%20%0A%20%20%20%20%0A%0A%20%20%20%20%20%20%20%20%20%20%20%20var%20marker_8cf89dd59bcf45a8b0225ff7d08dca35%20%3D%20L.marker%28%0A%20%20%20%20%20%20%20%20%20%20%20%20%20%20%20%20%5B22.81667%2C-102.56667%5D%2C%0A%20%20%20%20%20%20%20%20%20%20%20%20%20%20%20%20%7B%0A%20%20%20%20%20%20%20%20%20%20%20%20%20%20%20%20%20%20%20%20icon%3A%20new%20L.Icon.Default%28%29%0A%20%20%20%20%20%20%20%20%20%20%20%20%20%20%20%20%20%20%20%20%7D%0A%20%20%20%20%20%20%20%20%20%20%20%20%20%20%20%20%29%0A%20%20%20%20%20%20%20%20%20%20%20%20%20%20%20%20.addTo%28feature_group_75c32be9475044949ad37a15f9490a56%29%3B%0A%20%20%20%20%20%20%20%20%20%20%20%20%0A%20%20%20%20%0A%0A%20%20%20%20%20%20%20%20%20%20%20%20var%20marker_42d7a821e9884d298d6db9d40beb88c0%20%3D%20L.marker%28%0A%20%20%20%20%20%20%20%20%20%20%20%20%20%20%20%20%5B-33.5%2C26.0%5D%2C%0A%20%20%20%20%20%20%20%20%20%20%20%20%20%20%20%20%7B%0A%20%20%20%20%20%20%20%20%20%20%20%20%20%20%20%20%20%20%20%20icon%3A%20new%20L.Icon.Default%28%29%0A%20%20%20%20%20%20%20%20%20%20%20%20%20%20%20%20%20%20%20%20%7D%0A%20%20%20%20%20%20%20%20%20%20%20%20%20%20%20%20%29%0A%20%20%20%20%20%20%20%20%20%20%20%20%20%20%20%20.addTo%28feature_group_75c32be9475044949ad37a15f9490a56%29%3B%0A%20%20%20%20%20%20%20%20%20%20%20%20%0A%20%20%20%20%0A%0A%20%20%20%20%20%20%20%20%20%20%20%20var%20marker_dbb04d0b35ee4cf8bcaf9ac77c5a3006%20%3D%20L.marker%28%0A%20%20%20%20%20%20%20%20%20%20%20%20%20%20%20%20%5B43.11667%2C11.6%5D%2C%0A%20%20%20%20%20%20%20%20%20%20%20%20%20%20%20%20%7B%0A%20%20%20%20%20%20%20%20%20%20%20%20%20%20%20%20%20%20%20%20icon%3A%20new%20L.Icon.Default%28%29%0A%20%20%20%20%20%20%20%20%20%20%20%20%20%20%20%20%20%20%20%20%7D%0A%20%20%20%20%20%20%20%20%20%20%20%20%20%20%20%20%29%0A%20%20%20%20%20%20%20%20%20%20%20%20%20%20%20%20.addTo%28feature_group_75c32be9475044949ad37a15f9490a56%29%3B%0A%20%20%20%20%20%20%20%20%20%20%20%20%0A%20%20%20%20%0A%0A%20%20%20%20%20%20%20%20%20%20%20%20var%20marker_f85eb710d326454a932494db4ce51a8e%20%3D%20L.marker%28%0A%20%20%20%20%20%20%20%20%20%20%20%20%20%20%20%20%5B54.13667%2C-0.41333%5D%2C%0A%20%20%20%20%20%20%20%20%20%20%20%20%20%20%20%20%7B%0A%20%20%20%20%20%20%20%20%20%20%20%20%20%20%20%20%20%20%20%20icon%3A%20new%20L.Icon.Default%28%29%0A%20%20%20%20%20%20%20%20%20%20%20%20%20%20%20%20%20%20%20%20%7D%0A%20%20%20%20%20%20%20%20%20%20%20%20%20%20%20%20%29%0A%20%20%20%20%20%20%20%20%20%20%20%20%20%20%20%20.addTo%28feature_group_75c32be9475044949ad37a15f9490a56%29%3B%0A%20%20%20%20%20%20%20%20%20%20%20%20%0A%20%20%20%20%0A%0A%20%20%20%20%20%20%20%20%20%20%20%20var%20marker_164bbb57b34244ab99e8c63b55dee538%20%3D%20L.marker%28%0A%20%20%20%20%20%20%20%20%20%20%20%20%20%20%20%20%5B9.33333%2C80.83333%5D%2C%0A%20%20%20%20%20%20%20%20%20%20%20%20%20%20%20%20%7B%0A%20%20%20%20%20%20%20%20%20%20%20%20%20%20%20%20%20%20%20%20icon%3A%20new%20L.Icon.Default%28%29%0A%20%20%20%20%20%20%20%20%20%20%20%20%20%20%20%20%20%20%20%20%7D%0A%20%20%20%20%20%20%20%20%20%20%20%20%20%20%20%20%29%0A%20%20%20%20%20%20%20%20%20%20%20%20%20%20%20%20.addTo%28feature_group_75c32be9475044949ad37a15f9490a56%29%3B%0A%20%20%20%20%20%20%20%20%20%20%20%20%0A%20%20%20%20%0A%0A%20%20%20%20%20%20%20%20%20%20%20%20var%20marker_c5e2c1f6cca24c1b8b70ab513570765d%20%3D%20L.marker%28%0A%20%20%20%20%20%20%20%20%20%20%20%20%20%20%20%20%5B38.5%2C-8.0%5D%2C%0A%20%20%20%20%20%20%20%20%20%20%20%20%20%20%20%20%7B%0A%20%20%20%20%20%20%20%20%20%20%20%20%20%20%20%20%20%20%20%20icon%3A%20new%20L.Icon.Default%28%29%0A%20%20%20%20%20%20%20%20%20%20%20%20%20%20%20%20%20%20%20%20%7D%0A%20%20%20%20%20%20%20%20%20%20%20%20%20%20%20%20%29%0A%20%20%20%20%20%20%20%20%20%20%20%20%20%20%20%20.addTo%28feature_group_75c32be9475044949ad37a15f9490a56%29%3B%0A%20%20%20%20%20%20%20%20%20%20%20%20%0A%20%20%20%20%0A%0A%20%20%20%20%20%20%20%20%20%20%20%20var%20marker_8ebfaa7af6c54afcbe30802a27f338d2%20%3D%20L.marker%28%0A%20%20%20%20%20%20%20%20%20%20%20%20%20%20%20%20%5B49.78333%2C30.16667%5D%2C%0A%20%20%20%20%20%20%20%20%20%20%20%20%20%20%20%20%7B%0A%20%20%20%20%20%20%20%20%20%20%20%20%20%20%20%20%20%20%20%20icon%3A%20new%20L.Icon.Default%28%29%0A%20%20%20%20%20%20%20%20%20%20%20%20%20%20%20%20%20%20%20%20%7D%0A%20%20%20%20%20%20%20%20%20%20%20%20%20%20%20%20%29%0A%20%20%20%20%20%20%20%20%20%20%20%20%20%20%20%20.addTo%28feature_group_75c32be9475044949ad37a15f9490a56%29%3B%0A%20%20%20%20%20%20%20%20%20%20%20%20%0A%20%20%20%20%0A%0A%20%20%20%20%20%20%20%20%20%20%20%20var%20marker_aea726471ce34f8fac1c623051bbbf70%20%3D%20L.marker%28%0A%20%20%20%20%20%20%20%20%20%20%20%20%20%20%20%20%5B-7.56667%2C110.83333%5D%2C%0A%20%20%20%20%20%20%20%20%20%20%20%20%20%20%20%20%7B%0A%20%20%20%20%20%20%20%20%20%20%20%20%20%20%20%20%20%20%20%20icon%3A%20new%20L.Icon.Default%28%29%0A%20%20%20%20%20%20%20%20%20%20%20%20%20%20%20%20%20%20%20%20%7D%0A%20%20%20%20%20%20%20%20%20%20%20%20%20%20%20%20%29%0A%20%20%20%20%20%20%20%20%20%20%20%20%20%20%20%20.addTo%28feature_group_75c32be9475044949ad37a15f9490a56%29%3B%0A%20%20%20%20%20%20%20%20%20%20%20%20%0A%20%20%20%20%0A%0A%20%20%20%20%20%20%20%20%20%20%20%20var%20marker_f96e2a24ac554c48919171cdeabb2a48%20%3D%20L.marker%28%0A%20%20%20%20%20%20%20%20%20%20%20%20%20%20%20%20%5B46.05%2C4.63333%5D%2C%0A%20%20%20%20%20%20%20%20%20%20%20%20%20%20%20%20%7B%0A%20%20%20%20%20%20%20%20%20%20%20%20%20%20%20%20%20%20%20%20icon%3A%20new%20L.Icon.Default%28%29%0A%20%20%20%20%20%20%20%20%20%20%20%20%20%20%20%20%20%20%20%20%7D%0A%20%20%20%20%20%20%20%20%20%20%20%20%20%20%20%20%29%0A%20%20%20%20%20%20%20%20%20%20%20%20%20%20%20%20.addTo%28feature_group_75c32be9475044949ad37a15f9490a56%29%3B%0A%20%20%20%20%20%20%20%20%20%20%20%20%0A%20%20%20%20%0A%0A%20%20%20%20%20%20%20%20%20%20%20%20var%20marker_3e9082b3a81a45ebb104402fac3dedbe%20%3D%20L.marker%28%0A%20%20%20%20%20%20%20%20%20%20%20%20%20%20%20%20%5B25.36667%2C82.91667%5D%2C%0A%20%20%20%20%20%20%20%20%20%20%20%20%20%20%20%20%7B%0A%20%20%20%20%20%20%20%20%20%20%20%20%20%20%20%20%20%20%20%20icon%3A%20new%20L.Icon.Default%28%29%0A%20%20%20%20%20%20%20%20%20%20%20%20%20%20%20%20%20%20%20%20%7D%0A%20%20%20%20%20%20%20%20%20%20%20%20%20%20%20%20%29%0A%20%20%20%20%20%20%20%20%20%20%20%20%20%20%20%20.addTo%28feature_group_75c32be9475044949ad37a15f9490a56%29%3B%0A%20%20%20%20%20%20%20%20%20%20%20%20%0A%20%20%20%20%0A%0A%20%20%20%20%20%20%20%20%20%20%20%20var%20marker_ab7710658dab431f9679925f292ec96c%20%3D%20L.marker%28%0A%20%20%20%20%20%20%20%20%20%20%20%20%20%20%20%20%5B-20.0%2C57.0%5D%2C%0A%20%20%20%20%20%20%20%20%20%20%20%20%20%20%20%20%7B%0A%20%20%20%20%20%20%20%20%20%20%20%20%20%20%20%20%20%20%20%20icon%3A%20new%20L.Icon.Default%28%29%0A%20%20%20%20%20%20%20%20%20%20%20%20%20%20%20%20%20%20%20%20%7D%0A%20%20%20%20%20%20%20%20%20%20%20%20%20%20%20%20%29%0A%20%20%20%20%20%20%20%20%20%20%20%20%20%20%20%20.addTo%28feature_group_75c32be9475044949ad37a15f9490a56%29%3B%0A%20%20%20%20%20%20%20%20%20%20%20%20%0A%20%20%20%20%0A%0A%20%20%20%20%20%20%20%20%20%20%20%20var%20marker_d7a3f9203e5d4953adc116cf6b44ce4e%20%3D%20L.marker%28%0A%20%20%20%20%20%20%20%20%20%20%20%20%20%20%20%20%5B48.13333%2C12.61667%5D%2C%0A%20%20%20%20%20%20%20%20%20%20%20%20%20%20%20%20%7B%0A%20%20%20%20%20%20%20%20%20%20%20%20%20%20%20%20%20%20%20%20icon%3A%20new%20L.Icon.Default%28%29%0A%20%20%20%20%20%20%20%20%20%20%20%20%20%20%20%20%20%20%20%20%7D%0A%20%20%20%20%20%20%20%20%20%20%20%20%20%20%20%20%29%0A%20%20%20%20%20%20%20%20%20%20%20%20%20%20%20%20.addTo%28feature_group_75c32be9475044949ad37a15f9490a56%29%3B%0A%20%20%20%20%20%20%20%20%20%20%20%20%0A%20%20%20%20%0A%0A%20%20%20%20%20%20%20%20%20%20%20%20var%20marker_d743ac3df37d49baa936835056d5b87c%20%3D%20L.marker%28%0A%20%20%20%20%20%20%20%20%20%20%20%20%20%20%20%20%5B43.86667%2C5.38333%5D%2C%0A%20%20%20%20%20%20%20%20%20%20%20%20%20%20%20%20%7B%0A%20%20%20%20%20%20%20%20%20%20%20%20%20%20%20%20%20%20%20%20icon%3A%20new%20L.Icon.Default%28%29%0A%20%20%20%20%20%20%20%20%20%20%20%20%20%20%20%20%20%20%20%20%7D%0A%20%20%20%20%20%20%20%20%20%20%20%20%20%20%20%20%29%0A%20%20%20%20%20%20%20%20%20%20%20%20%20%20%20%20.addTo%28feature_group_75c32be9475044949ad37a15f9490a56%29%3B%0A%20%20%20%20%20%20%20%20%20%20%20%20%0A%20%20%20%20%0A%0A%20%20%20%20%20%20%20%20%20%20%20%20var%20marker_d46bb94011b54623882b9ba4f0471b61%20%3D%20L.marker%28%0A%20%20%20%20%20%20%20%20%20%20%20%20%20%20%20%20%5B48.76667%2C0.63333%5D%2C%0A%20%20%20%20%20%20%20%20%20%20%20%20%20%20%20%20%7B%0A%20%20%20%20%20%20%20%20%20%20%20%20%20%20%20%20%20%20%20%20icon%3A%20new%20L.Icon.Default%28%29%0A%20%20%20%20%20%20%20%20%20%20%20%20%20%20%20%20%20%20%20%20%7D%0A%20%20%20%20%20%20%20%20%20%20%20%20%20%20%20%20%29%0A%20%20%20%20%20%20%20%20%20%20%20%20%20%20%20%20.addTo%28feature_group_75c32be9475044949ad37a15f9490a56%29%3B%0A%20%20%20%20%20%20%20%20%20%20%20%20%0A%20%20%20%20%0A%0A%20%20%20%20%20%20%20%20%20%20%20%20var%20marker_da01a7baa5804ec796f5618159df1592%20%3D%20L.marker%28%0A%20%20%20%20%20%20%20%20%20%20%20%20%20%20%20%20%5B55.9%2C-4.23333%5D%2C%0A%20%20%20%20%20%20%20%20%20%20%20%20%20%20%20%20%7B%0A%20%20%20%20%20%20%20%20%20%20%20%20%20%20%20%20%20%20%20%20icon%3A%20new%20L.Icon.Default%28%29%0A%20%20%20%20%20%20%20%20%20%20%20%20%20%20%20%20%20%20%20%20%7D%0A%20%20%20%20%20%20%20%20%20%20%20%20%20%20%20%20%29%0A%20%20%20%20%20%20%20%20%20%20%20%20%20%20%20%20.addTo%28feature_group_75c32be9475044949ad37a15f9490a56%29%3B%0A%20%20%20%20%20%20%20%20%20%20%20%20%0A%20%20%20%20%0A%0A%20%20%20%20%20%20%20%20%20%20%20%20var%20marker_a1fe201cc3784b76b7c0bc2298fe3f5f%20%3D%20L.marker%28%0A%20%20%20%20%20%20%20%20%20%20%20%20%20%20%20%20%5B23.0%2C-102.0%5D%2C%0A%20%20%20%20%20%20%20%20%20%20%20%20%20%20%20%20%7B%0A%20%20%20%20%20%20%20%20%20%20%20%20%20%20%20%20%20%20%20%20icon%3A%20new%20L.Icon.Default%28%29%0A%20%20%20%20%20%20%20%20%20%20%20%20%20%20%20%20%20%20%20%20%7D%0A%20%20%20%20%20%20%20%20%20%20%20%20%20%20%20%20%29%0A%20%20%20%20%20%20%20%20%20%20%20%20%20%20%20%20.addTo%28feature_group_75c32be9475044949ad37a15f9490a56%29%3B%0A%20%20%20%20%20%20%20%20%20%20%20%20%0A%20%20%20%20%0A%0A%20%20%20%20%20%20%20%20%20%20%20%20var%20marker_c0547d18ec41487f9f769d1f8c638c4d%20%3D%20L.marker%28%0A%20%20%20%20%20%20%20%20%20%20%20%20%20%20%20%20%5B49.86667%2C8.65%5D%2C%0A%20%20%20%20%20%20%20%20%20%20%20%20%20%20%20%20%7B%0A%20%20%20%20%20%20%20%20%20%20%20%20%20%20%20%20%20%20%20%20icon%3A%20new%20L.Icon.Default%28%29%0A%20%20%20%20%20%20%20%20%20%20%20%20%20%20%20%20%20%20%20%20%7D%0A%20%20%20%20%20%20%20%20%20%20%20%20%20%20%20%20%29%0A%20%20%20%20%20%20%20%20%20%20%20%20%20%20%20%20.addTo%28feature_group_75c32be9475044949ad37a15f9490a56%29%3B%0A%20%20%20%20%20%20%20%20%20%20%20%20%0A%20%20%20%20%0A%0A%20%20%20%20%20%20%20%20%20%20%20%20var%20marker_6811a9a862b4412bbf1bb4549ae8fefb%20%3D%20L.marker%28%0A%20%20%20%20%20%20%20%20%20%20%20%20%20%20%20%20%5B16.8%2C-97.1%5D%2C%0A%20%20%20%20%20%20%20%20%20%20%20%20%20%20%20%20%7B%0A%20%20%20%20%20%20%20%20%20%20%20%20%20%20%20%20%20%20%20%20icon%3A%20new%20L.Icon.Default%28%29%0A%20%20%20%20%20%20%20%20%20%20%20%20%20%20%20%20%20%20%20%20%7D%0A%20%20%20%20%20%20%20%20%20%20%20%20%20%20%20%20%29%0A%20%20%20%20%20%20%20%20%20%20%20%20%20%20%20%20.addTo%28feature_group_75c32be9475044949ad37a15f9490a56%29%3B%0A%20%20%20%20%20%20%20%20%20%20%20%20%0A%20%20%20%20%0A%0A%20%20%20%20%20%20%20%20%20%20%20%20var%20marker_132c8106b5004ea09e6245c9815e6a71%20%3D%20L.marker%28%0A%20%20%20%20%20%20%20%20%20%20%20%20%20%20%20%20%5B23.08333%2C-101.01667%5D%2C%0A%20%20%20%20%20%20%20%20%20%20%20%20%20%20%20%20%7B%0A%20%20%20%20%20%20%20%20%20%20%20%20%20%20%20%20%20%20%20%20icon%3A%20new%20L.Icon.Default%28%29%0A%20%20%20%20%20%20%20%20%20%20%20%20%20%20%20%20%20%20%20%20%7D%0A%20%20%20%20%20%20%20%20%20%20%20%20%20%20%20%20%29%0A%20%20%20%20%20%20%20%20%20%20%20%20%20%20%20%20.addTo%28feature_group_75c32be9475044949ad37a15f9490a56%29%3B%0A%20%20%20%20%20%20%20%20%20%20%20%20%0A%20%20%20%20%0A%0A%20%20%20%20%20%20%20%20%20%20%20%20var%20marker_6c6a4d8abf4748a0b972aea6022b5fe6%20%3D%20L.marker%28%0A%20%20%20%20%20%20%20%20%20%20%20%20%20%20%20%20%5B49.96667%2C6.53333%5D%2C%0A%20%20%20%20%20%20%20%20%20%20%20%20%20%20%20%20%7B%0A%20%20%20%20%20%20%20%20%20%20%20%20%20%20%20%20%20%20%20%20icon%3A%20new%20L.Icon.Default%28%29%0A%20%20%20%20%20%20%20%20%20%20%20%20%20%20%20%20%20%20%20%20%7D%0A%20%20%20%20%20%20%20%20%20%20%20%20%20%20%20%20%29%0A%20%20%20%20%20%20%20%20%20%20%20%20%20%20%20%20.addTo%28feature_group_75c32be9475044949ad37a15f9490a56%29%3B%0A%20%20%20%20%20%20%20%20%20%20%20%20%0A%20%20%20%20%0A%0A%20%20%20%20%20%20%20%20%20%20%20%20var%20marker_c97c669bfa934b8b84675aa998506df0%20%3D%20L.marker%28%0A%20%20%20%20%20%20%20%20%20%20%20%20%20%20%20%20%5B51.2%2C112.3%5D%2C%0A%20%20%20%20%20%20%20%20%20%20%20%20%20%20%20%20%7B%0A%20%20%20%20%20%20%20%20%20%20%20%20%20%20%20%20%20%20%20%20icon%3A%20new%20L.Icon.Default%28%29%0A%20%20%20%20%20%20%20%20%20%20%20%20%20%20%20%20%20%20%20%20%7D%0A%20%20%20%20%20%20%20%20%20%20%20%20%20%20%20%20%29%0A%20%20%20%20%20%20%20%20%20%20%20%20%20%20%20%20.addTo%28feature_group_75c32be9475044949ad37a15f9490a56%29%3B%0A%20%20%20%20%20%20%20%20%20%20%20%20%0A%20%20%20%20%0A%0A%20%20%20%20%20%20%20%20%20%20%20%20var%20marker_48f62106eaed4a769bd580b26292e283%20%3D%20L.marker%28%0A%20%20%20%20%20%20%20%20%20%20%20%20%20%20%20%20%5B42.45%2C9.03333%5D%2C%0A%20%20%20%20%20%20%20%20%20%20%20%20%20%20%20%20%7B%0A%20%20%20%20%20%20%20%20%20%20%20%20%20%20%20%20%20%20%20%20icon%3A%20new%20L.Icon.Default%28%29%0A%20%20%20%20%20%20%20%20%20%20%20%20%20%20%20%20%20%20%20%20%7D%0A%20%20%20%20%20%20%20%20%20%20%20%20%20%20%20%20%29%0A%20%20%20%20%20%20%20%20%20%20%20%20%20%20%20%20.addTo%28feature_group_75c32be9475044949ad37a15f9490a56%29%3B%0A%20%20%20%20%20%20%20%20%20%20%20%20%0A%20%20%20%20%0A%0A%20%20%20%20%20%20%20%20%20%20%20%20var%20marker_9c06f61c575b47f6b49cccd3c891a001%20%3D%20L.marker%28%0A%20%20%20%20%20%20%20%20%20%20%20%20%20%20%20%20%5B44.11667%2C4.08333%5D%2C%0A%20%20%20%20%20%20%20%20%20%20%20%20%20%20%20%20%7B%0A%20%20%20%20%20%20%20%20%20%20%20%20%20%20%20%20%20%20%20%20icon%3A%20new%20L.Icon.Default%28%29%0A%20%20%20%20%20%20%20%20%20%20%20%20%20%20%20%20%20%20%20%20%7D%0A%20%20%20%20%20%20%20%20%20%20%20%20%20%20%20%20%29%0A%20%20%20%20%20%20%20%20%20%20%20%20%20%20%20%20.addTo%28feature_group_75c32be9475044949ad37a15f9490a56%29%3B%0A%20%20%20%20%20%20%20%20%20%20%20%20%0A%20%20%20%20%0A%0A%20%20%20%20%20%20%20%20%20%20%20%20var%20marker_f9794fd7a7c4446596cd0f28a849f7ac%20%3D%20L.marker%28%0A%20%20%20%20%20%20%20%20%20%20%20%20%20%20%20%20%5B54.5%2C35.2%5D%2C%0A%20%20%20%20%20%20%20%20%20%20%20%20%20%20%20%20%7B%0A%20%20%20%20%20%20%20%20%20%20%20%20%20%20%20%20%20%20%20%20icon%3A%20new%20L.Icon.Default%28%29%0A%20%20%20%20%20%20%20%20%20%20%20%20%20%20%20%20%20%20%20%20%7D%0A%20%20%20%20%20%20%20%20%20%20%20%20%20%20%20%20%29%0A%20%20%20%20%20%20%20%20%20%20%20%20%20%20%20%20.addTo%28feature_group_75c32be9475044949ad37a15f9490a56%29%3B%0A%20%20%20%20%20%20%20%20%20%20%20%20%0A%20%20%20%20%0A%0A%20%20%20%20%20%20%20%20%20%20%20%20var%20marker_a3c4cee0779b46d5925143ae39995e8e%20%3D%20L.marker%28%0A%20%20%20%20%20%20%20%20%20%20%20%20%20%20%20%20%5B41.266667%2C-73.266667%5D%2C%0A%20%20%20%20%20%20%20%20%20%20%20%20%20%20%20%20%7B%0A%20%20%20%20%20%20%20%20%20%20%20%20%20%20%20%20%20%20%20%20icon%3A%20new%20L.Icon.Default%28%29%0A%20%20%20%20%20%20%20%20%20%20%20%20%20%20%20%20%20%20%20%20%7D%0A%20%20%20%20%20%20%20%20%20%20%20%20%20%20%20%20%29%0A%20%20%20%20%20%20%20%20%20%20%20%20%20%20%20%20.addTo%28feature_group_75c32be9475044949ad37a15f9490a56%29%3B%0A%20%20%20%20%20%20%20%20%20%20%20%20%0A%20%20%20%20%0A%0A%20%20%20%20%20%20%20%20%20%20%20%20var%20marker_5130746520e841f6a5b5b80c368d4e8e%20%3D%20L.marker%28%0A%20%20%20%20%20%20%20%20%20%20%20%20%20%20%20%20%5B50.2%2C14.85%5D%2C%0A%20%20%20%20%20%20%20%20%20%20%20%20%20%20%20%20%7B%0A%20%20%20%20%20%20%20%20%20%20%20%20%20%20%20%20%20%20%20%20icon%3A%20new%20L.Icon.Default%28%29%0A%20%20%20%20%20%20%20%20%20%20%20%20%20%20%20%20%20%20%20%20%7D%0A%20%20%20%20%20%20%20%20%20%20%20%20%20%20%20%20%29%0A%20%20%20%20%20%20%20%20%20%20%20%20%20%20%20%20.addTo%28feature_group_75c32be9475044949ad37a15f9490a56%29%3B%0A%20%20%20%20%20%20%20%20%20%20%20%20%0A%20%20%20%20%0A%0A%20%20%20%20%20%20%20%20%20%20%20%20var%20marker_cccfa865439447cfaffcd93d32b55368%20%3D%20L.marker%28%0A%20%20%20%20%20%20%20%20%20%20%20%20%20%20%20%20%5B44.86667%2C10.05%5D%2C%0A%20%20%20%20%20%20%20%20%20%20%20%20%20%20%20%20%7B%0A%20%20%20%20%20%20%20%20%20%20%20%20%20%20%20%20%20%20%20%20icon%3A%20new%20L.Icon.Default%28%29%0A%20%20%20%20%20%20%20%20%20%20%20%20%20%20%20%20%20%20%20%20%7D%0A%20%20%20%20%20%20%20%20%20%20%20%20%20%20%20%20%29%0A%20%20%20%20%20%20%20%20%20%20%20%20%20%20%20%20.addTo%28feature_group_75c32be9475044949ad37a15f9490a56%29%3B%0A%20%20%20%20%20%20%20%20%20%20%20%20%0A%20%20%20%20%0A%0A%20%20%20%20%20%20%20%20%20%20%20%20var%20marker_3f518f570c7e486b8cf4f09bdcd6bba7%20%3D%20L.marker%28%0A%20%20%20%20%20%20%20%20%20%20%20%20%20%20%20%20%5B49.28333%2C15.56667%5D%2C%0A%20%20%20%20%20%20%20%20%20%20%20%20%20%20%20%20%7B%0A%20%20%20%20%20%20%20%20%20%20%20%20%20%20%20%20%20%20%20%20icon%3A%20new%20L.Icon.Default%28%29%0A%20%20%20%20%20%20%20%20%20%20%20%20%20%20%20%20%20%20%20%20%7D%0A%20%20%20%20%20%20%20%20%20%20%20%20%20%20%20%20%29%0A%20%20%20%20%20%20%20%20%20%20%20%20%20%20%20%20.addTo%28feature_group_75c32be9475044949ad37a15f9490a56%29%3B%0A%20%20%20%20%20%20%20%20%20%20%20%20%0A%20%20%20%20%0A%0A%20%20%20%20%20%20%20%20%20%20%20%20var%20marker_e0de34ce8d444d5bbe4f6f80f3cfc89e%20%3D%20L.marker%28%0A%20%20%20%20%20%20%20%20%20%20%20%20%20%20%20%20%5B28.78333%2C78.83333%5D%2C%0A%20%20%20%20%20%20%20%20%20%20%20%20%20%20%20%20%7B%0A%20%20%20%20%20%20%20%20%20%20%20%20%20%20%20%20%20%20%20%20icon%3A%20new%20L.Icon.Default%28%29%0A%20%20%20%20%20%20%20%20%20%20%20%20%20%20%20%20%20%20%20%20%7D%0A%20%20%20%20%20%20%20%20%20%20%20%20%20%20%20%20%29%0A%20%20%20%20%20%20%20%20%20%20%20%20%20%20%20%20.addTo%28feature_group_75c32be9475044949ad37a15f9490a56%29%3B%0A%20%20%20%20%20%20%20%20%20%20%20%20%0A%20%20%20%20%0A%0A%20%20%20%20%20%20%20%20%20%20%20%20var%20marker_bc061457fcaa4ac68a38b043b4cbef3b%20%3D%20L.marker%28%0A%20%20%20%20%20%20%20%20%20%20%20%20%20%20%20%20%5B32.0%2C-95.0%5D%2C%0A%20%20%20%20%20%20%20%20%20%20%20%20%20%20%20%20%7B%0A%20%20%20%20%20%20%20%20%20%20%20%20%20%20%20%20%20%20%20%20icon%3A%20new%20L.Icon.Default%28%29%0A%20%20%20%20%20%20%20%20%20%20%20%20%20%20%20%20%20%20%20%20%7D%0A%20%20%20%20%20%20%20%20%20%20%20%20%20%20%20%20%29%0A%20%20%20%20%20%20%20%20%20%20%20%20%20%20%20%20.addTo%28feature_group_75c32be9475044949ad37a15f9490a56%29%3B%0A%20%20%20%20%20%20%20%20%20%20%20%20%0A%20%20%20%20%0A%0A%20%20%20%20%20%20%20%20%20%20%20%20var%20marker_95f32f9ffc9747e79898f3b5326f2ef3%20%3D%20L.marker%28%0A%20%20%20%20%20%20%20%20%20%20%20%20%20%20%20%20%5B55.0%2C34.0%5D%2C%0A%20%20%20%20%20%20%20%20%20%20%20%20%20%20%20%20%7B%0A%20%20%20%20%20%20%20%20%20%20%20%20%20%20%20%20%20%20%20%20icon%3A%20new%20L.Icon.Default%28%29%0A%20%20%20%20%20%20%20%20%20%20%20%20%20%20%20%20%20%20%20%20%7D%0A%20%20%20%20%20%20%20%20%20%20%20%20%20%20%20%20%29%0A%20%20%20%20%20%20%20%20%20%20%20%20%20%20%20%20.addTo%28feature_group_75c32be9475044949ad37a15f9490a56%29%3B%0A%20%20%20%20%20%20%20%20%20%20%20%20%0A%20%20%20%20%0A%0A%20%20%20%20%20%20%20%20%20%20%20%20var%20marker_f107af0ce2414779aa30ddad95f10f3d%20%3D%20L.marker%28%0A%20%20%20%20%20%20%20%20%20%20%20%20%20%20%20%20%5B52.45%2C-8.33333%5D%2C%0A%20%20%20%20%20%20%20%20%20%20%20%20%20%20%20%20%7B%0A%20%20%20%20%20%20%20%20%20%20%20%20%20%20%20%20%20%20%20%20icon%3A%20new%20L.Icon.Default%28%29%0A%20%20%20%20%20%20%20%20%20%20%20%20%20%20%20%20%20%20%20%20%7D%0A%20%20%20%20%20%20%20%20%20%20%20%20%20%20%20%20%29%0A%20%20%20%20%20%20%20%20%20%20%20%20%20%20%20%20.addTo%28feature_group_75c32be9475044949ad37a15f9490a56%29%3B%0A%20%20%20%20%20%20%20%20%20%20%20%20%0A%20%20%20%20%0A%0A%20%20%20%20%20%20%20%20%20%20%20%20var%20marker_e831aba067f14804acdac8c3c58bfabd%20%3D%20L.marker%28%0A%20%20%20%20%20%20%20%20%20%20%20%20%20%20%20%20%5B5.91667%2C-73.0%5D%2C%0A%20%20%20%20%20%20%20%20%20%20%20%20%20%20%20%20%7B%0A%20%20%20%20%20%20%20%20%20%20%20%20%20%20%20%20%20%20%20%20icon%3A%20new%20L.Icon.Default%28%29%0A%20%20%20%20%20%20%20%20%20%20%20%20%20%20%20%20%20%20%20%20%7D%0A%20%20%20%20%20%20%20%20%20%20%20%20%20%20%20%20%29%0A%20%20%20%20%20%20%20%20%20%20%20%20%20%20%20%20.addTo%28feature_group_75c32be9475044949ad37a15f9490a56%29%3B%0A%20%20%20%20%20%20%20%20%20%20%20%20%0A%20%20%20%20%0A%0A%20%20%20%20%20%20%20%20%20%20%20%20var%20marker_9ce044d0e9f44b26b8e5352da01fa651%20%3D%20L.marker%28%0A%20%20%20%20%20%20%20%20%20%20%20%20%20%20%20%20%5B52.5%2C30.33333%5D%2C%0A%20%20%20%20%20%20%20%20%20%20%20%20%20%20%20%20%7B%0A%20%20%20%20%20%20%20%20%20%20%20%20%20%20%20%20%20%20%20%20icon%3A%20new%20L.Icon.Default%28%29%0A%20%20%20%20%20%20%20%20%20%20%20%20%20%20%20%20%20%20%20%20%7D%0A%20%20%20%20%20%20%20%20%20%20%20%20%20%20%20%20%29%0A%20%20%20%20%20%20%20%20%20%20%20%20%20%20%20%20.addTo%28feature_group_75c32be9475044949ad37a15f9490a56%29%3B%0A%20%20%20%20%20%20%20%20%20%20%20%20%0A%20%20%20%20%0A%0A%20%20%20%20%20%20%20%20%20%20%20%20var%20marker_10bfdcee1632476eb11049e321bf4cd7%20%3D%20L.marker%28%0A%20%20%20%20%20%20%20%20%20%20%20%20%20%20%20%20%5B47.93333%2C1.56667%5D%2C%0A%20%20%20%20%20%20%20%20%20%20%20%20%20%20%20%20%7B%0A%20%20%20%20%20%20%20%20%20%20%20%20%20%20%20%20%20%20%20%20icon%3A%20new%20L.Icon.Default%28%29%0A%20%20%20%20%20%20%20%20%20%20%20%20%20%20%20%20%20%20%20%20%7D%0A%20%20%20%20%20%20%20%20%20%20%20%20%20%20%20%20%29%0A%20%20%20%20%20%20%20%20%20%20%20%20%20%20%20%20.addTo%28feature_group_75c32be9475044949ad37a15f9490a56%29%3B%0A%20%20%20%20%20%20%20%20%20%20%20%20%0A%20%20%20%20%0A%0A%20%20%20%20%20%20%20%20%20%20%20%20var%20marker_79d6946dc89644aa97f3f9ed3ba9815f%20%3D%20L.marker%28%0A%20%20%20%20%20%20%20%20%20%20%20%20%20%20%20%20%5B36.5%2C-79.25%5D%2C%0A%20%20%20%20%20%20%20%20%20%20%20%20%20%20%20%20%7B%0A%20%20%20%20%20%20%20%20%20%20%20%20%20%20%20%20%20%20%20%20icon%3A%20new%20L.Icon.Default%28%29%0A%20%20%20%20%20%20%20%20%20%20%20%20%20%20%20%20%20%20%20%20%7D%0A%20%20%20%20%20%20%20%20%20%20%20%20%20%20%20%20%29%0A%20%20%20%20%20%20%20%20%20%20%20%20%20%20%20%20.addTo%28feature_group_75c32be9475044949ad37a15f9490a56%29%3B%0A%20%20%20%20%20%20%20%20%20%20%20%20%0A%20%20%20%20%0A%0A%20%20%20%20%20%20%20%20%20%20%20%20var%20marker_b459472c2a8049a196597cdc62ecf404%20%3D%20L.marker%28%0A%20%20%20%20%20%20%20%20%20%20%20%20%20%20%20%20%5B50.75%2C33.5%5D%2C%0A%20%20%20%20%20%20%20%20%20%20%20%20%20%20%20%20%7B%0A%20%20%20%20%20%20%20%20%20%20%20%20%20%20%20%20%20%20%20%20icon%3A%20new%20L.Icon.Default%28%29%0A%20%20%20%20%20%20%20%20%20%20%20%20%20%20%20%20%20%20%20%20%7D%0A%20%20%20%20%20%20%20%20%20%20%20%20%20%20%20%20%29%0A%20%20%20%20%20%20%20%20%20%20%20%20%20%20%20%20.addTo%28feature_group_75c32be9475044949ad37a15f9490a56%29%3B%0A%20%20%20%20%20%20%20%20%20%20%20%20%0A%20%20%20%20%0A%0A%20%20%20%20%20%20%20%20%20%20%20%20var%20marker_472992ebc7bb4edc862c872664eec438%20%3D%20L.marker%28%0A%20%20%20%20%20%20%20%20%20%20%20%20%20%20%20%20%5B13.33333%2C78.95%5D%2C%0A%20%20%20%20%20%20%20%20%20%20%20%20%20%20%20%20%7B%0A%20%20%20%20%20%20%20%20%20%20%20%20%20%20%20%20%20%20%20%20icon%3A%20new%20L.Icon.Default%28%29%0A%20%20%20%20%20%20%20%20%20%20%20%20%20%20%20%20%20%20%20%20%7D%0A%20%20%20%20%20%20%20%20%20%20%20%20%20%20%20%20%29%0A%20%20%20%20%20%20%20%20%20%20%20%20%20%20%20%20.addTo%28feature_group_75c32be9475044949ad37a15f9490a56%29%3B%0A%20%20%20%20%20%20%20%20%20%20%20%20%0A%20%20%20%20%0A%0A%20%20%20%20%20%20%20%20%20%20%20%20var%20marker_0f1e6374601f4031bc942e8f5d4df1db%20%3D%20L.marker%28%0A%20%20%20%20%20%20%20%20%20%20%20%20%20%20%20%20%5B41.68333%2C-3.8%5D%2C%0A%20%20%20%20%20%20%20%20%20%20%20%20%20%20%20%20%7B%0A%20%20%20%20%20%20%20%20%20%20%20%20%20%20%20%20%20%20%20%20icon%3A%20new%20L.Icon.Default%28%29%0A%20%20%20%20%20%20%20%20%20%20%20%20%20%20%20%20%20%20%20%20%7D%0A%20%20%20%20%20%20%20%20%20%20%20%20%20%20%20%20%29%0A%20%20%20%20%20%20%20%20%20%20%20%20%20%20%20%20.addTo%28feature_group_75c32be9475044949ad37a15f9490a56%29%3B%0A%20%20%20%20%20%20%20%20%20%20%20%20%0A%20%20%20%20%0A%0A%20%20%20%20%20%20%20%20%20%20%20%20var%20marker_86f6086a17c94e1899c416e1ba1e26cc%20%3D%20L.marker%28%0A%20%20%20%20%20%20%20%20%20%20%20%20%20%20%20%20%5B52.21667%2C11.25%5D%2C%0A%20%20%20%20%20%20%20%20%20%20%20%20%20%20%20%20%7B%0A%20%20%20%20%20%20%20%20%20%20%20%20%20%20%20%20%20%20%20%20icon%3A%20new%20L.Icon.Default%28%29%0A%20%20%20%20%20%20%20%20%20%20%20%20%20%20%20%20%20%20%20%20%7D%0A%20%20%20%20%20%20%20%20%20%20%20%20%20%20%20%20%29%0A%20%20%20%20%20%20%20%20%20%20%20%20%20%20%20%20.addTo%28feature_group_75c32be9475044949ad37a15f9490a56%29%3B%0A%20%20%20%20%20%20%20%20%20%20%20%20%0A%20%20%20%20%0A%0A%20%20%20%20%20%20%20%20%20%20%20%20var%20marker_28f57998282b46aeb317c75c425f90c0%20%3D%20L.marker%28%0A%20%20%20%20%20%20%20%20%20%20%20%20%20%20%20%20%5B43.6%2C1.4%5D%2C%0A%20%20%20%20%20%20%20%20%20%20%20%20%20%20%20%20%7B%0A%20%20%20%20%20%20%20%20%20%20%20%20%20%20%20%20%20%20%20%20icon%3A%20new%20L.Icon.Default%28%29%0A%20%20%20%20%20%20%20%20%20%20%20%20%20%20%20%20%20%20%20%20%7D%0A%20%20%20%20%20%20%20%20%20%20%20%20%20%20%20%20%29%0A%20%20%20%20%20%20%20%20%20%20%20%20%20%20%20%20.addTo%28feature_group_75c32be9475044949ad37a15f9490a56%29%3B%0A%20%20%20%20%20%20%20%20%20%20%20%20%0A%20%20%20%20%0A%0A%20%20%20%20%20%20%20%20%20%20%20%20var%20marker_114a9548700b4eb896ad056bfe8215af%20%3D%20L.marker%28%0A%20%20%20%20%20%20%20%20%20%20%20%20%20%20%20%20%5B55.46667%2C35.86667%5D%2C%0A%20%20%20%20%20%20%20%20%20%20%20%20%20%20%20%20%7B%0A%20%20%20%20%20%20%20%20%20%20%20%20%20%20%20%20%20%20%20%20icon%3A%20new%20L.Icon.Default%28%29%0A%20%20%20%20%20%20%20%20%20%20%20%20%20%20%20%20%20%20%20%20%7D%0A%20%20%20%20%20%20%20%20%20%20%20%20%20%20%20%20%29%0A%20%20%20%20%20%20%20%20%20%20%20%20%20%20%20%20.addTo%28feature_group_75c32be9475044949ad37a15f9490a56%29%3B%0A%20%20%20%20%20%20%20%20%20%20%20%20%0A%20%20%20%20%0A%0A%20%20%20%20%20%20%20%20%20%20%20%20var%20marker_50e229989dea455783d7f23a8f6e1fde%20%3D%20L.marker%28%0A%20%20%20%20%20%20%20%20%20%20%20%20%20%20%20%20%5B46.68333%2C1.05%5D%2C%0A%20%20%20%20%20%20%20%20%20%20%20%20%20%20%20%20%7B%0A%20%20%20%20%20%20%20%20%20%20%20%20%20%20%20%20%20%20%20%20icon%3A%20new%20L.Icon.Default%28%29%0A%20%20%20%20%20%20%20%20%20%20%20%20%20%20%20%20%20%20%20%20%7D%0A%20%20%20%20%20%20%20%20%20%20%20%20%20%20%20%20%29%0A%20%20%20%20%20%20%20%20%20%20%20%20%20%20%20%20.addTo%28feature_group_75c32be9475044949ad37a15f9490a56%29%3B%0A%20%20%20%20%20%20%20%20%20%20%20%20%0A%20%20%20%20%0A%0A%20%20%20%20%20%20%20%20%20%20%20%20var%20marker_00b319b565fc4c03bc1130e94d9a0578%20%3D%20L.marker%28%0A%20%20%20%20%20%20%20%20%20%20%20%20%20%20%20%20%5B52.56667%2C-8.78333%5D%2C%0A%20%20%20%20%20%20%20%20%20%20%20%20%20%20%20%20%7B%0A%20%20%20%20%20%20%20%20%20%20%20%20%20%20%20%20%20%20%20%20icon%3A%20new%20L.Icon.Default%28%29%0A%20%20%20%20%20%20%20%20%20%20%20%20%20%20%20%20%20%20%20%20%7D%0A%20%20%20%20%20%20%20%20%20%20%20%20%20%20%20%20%29%0A%20%20%20%20%20%20%20%20%20%20%20%20%20%20%20%20.addTo%28feature_group_75c32be9475044949ad37a15f9490a56%29%3B%0A%20%20%20%20%20%20%20%20%20%20%20%20%0A%20%20%20%20%0A%0A%20%20%20%20%20%20%20%20%20%20%20%20var%20marker_0c45e325b30d435a853fb16350b066aa%20%3D%20L.marker%28%0A%20%20%20%20%20%20%20%20%20%20%20%20%20%20%20%20%5B61.2%2C27.7%5D%2C%0A%20%20%20%20%20%20%20%20%20%20%20%20%20%20%20%20%7B%0A%20%20%20%20%20%20%20%20%20%20%20%20%20%20%20%20%20%20%20%20icon%3A%20new%20L.Icon.Default%28%29%0A%20%20%20%20%20%20%20%20%20%20%20%20%20%20%20%20%20%20%20%20%7D%0A%20%20%20%20%20%20%20%20%20%20%20%20%20%20%20%20%29%0A%20%20%20%20%20%20%20%20%20%20%20%20%20%20%20%20.addTo%28feature_group_75c32be9475044949ad37a15f9490a56%29%3B%0A%20%20%20%20%20%20%20%20%20%20%20%20%0A%20%20%20%20%0A%0A%20%20%20%20%20%20%20%20%20%20%20%20var%20marker_b22382dacb0b4246b68ca20ace641fd4%20%3D%20L.marker%28%0A%20%20%20%20%20%20%20%20%20%20%20%20%20%20%20%20%5B48.6%2C38.0%5D%2C%0A%20%20%20%20%20%20%20%20%20%20%20%20%20%20%20%20%7B%0A%20%20%20%20%20%20%20%20%20%20%20%20%20%20%20%20%20%20%20%20icon%3A%20new%20L.Icon.Default%28%29%0A%20%20%20%20%20%20%20%20%20%20%20%20%20%20%20%20%20%20%20%20%7D%0A%20%20%20%20%20%20%20%20%20%20%20%20%20%20%20%20%29%0A%20%20%20%20%20%20%20%20%20%20%20%20%20%20%20%20.addTo%28feature_group_75c32be9475044949ad37a15f9490a56%29%3B%0A%20%20%20%20%20%20%20%20%20%20%20%20%0A%20%20%20%20%0A%0A%20%20%20%20%20%20%20%20%20%20%20%20var%20marker_f58d1dbf11a24c18a03fd54726d66e76%20%3D%20L.marker%28%0A%20%20%20%20%20%20%20%20%20%20%20%20%20%20%20%20%5B13.78333%2C78.56667%5D%2C%0A%20%20%20%20%20%20%20%20%20%20%20%20%20%20%20%20%7B%0A%20%20%20%20%20%20%20%20%20%20%20%20%20%20%20%20%20%20%20%20icon%3A%20new%20L.Icon.Default%28%29%0A%20%20%20%20%20%20%20%20%20%20%20%20%20%20%20%20%20%20%20%20%7D%0A%20%20%20%20%20%20%20%20%20%20%20%20%20%20%20%20%29%0A%20%20%20%20%20%20%20%20%20%20%20%20%20%20%20%20.addTo%28feature_group_75c32be9475044949ad37a15f9490a56%29%3B%0A%20%20%20%20%20%20%20%20%20%20%20%20%0A%20%20%20%20%0A%0A%20%20%20%20%20%20%20%20%20%20%20%20var%20marker_297689737fc849dc9efeefe5e2b8926e%20%3D%20L.marker%28%0A%20%20%20%20%20%20%20%20%20%20%20%20%20%20%20%20%5B49.0%2C21.0%5D%2C%0A%20%20%20%20%20%20%20%20%20%20%20%20%20%20%20%20%7B%0A%20%20%20%20%20%20%20%20%20%20%20%20%20%20%20%20%20%20%20%20icon%3A%20new%20L.Icon.Default%28%29%0A%20%20%20%20%20%20%20%20%20%20%20%20%20%20%20%20%20%20%20%20%7D%0A%20%20%20%20%20%20%20%20%20%20%20%20%20%20%20%20%29%0A%20%20%20%20%20%20%20%20%20%20%20%20%20%20%20%20.addTo%28feature_group_75c32be9475044949ad37a15f9490a56%29%3B%0A%20%20%20%20%20%20%20%20%20%20%20%20%0A%20%20%20%20%0A%0A%20%20%20%20%20%20%20%20%20%20%20%20var%20marker_c3b4870733854d3e9b0f515e41c258e8%20%3D%20L.marker%28%0A%20%20%20%20%20%20%20%20%20%20%20%20%20%20%20%20%5B25.36667%2C81.66667%5D%2C%0A%20%20%20%20%20%20%20%20%20%20%20%20%20%20%20%20%7B%0A%20%20%20%20%20%20%20%20%20%20%20%20%20%20%20%20%20%20%20%20icon%3A%20new%20L.Icon.Default%28%29%0A%20%20%20%20%20%20%20%20%20%20%20%20%20%20%20%20%20%20%20%20%7D%0A%20%20%20%20%20%20%20%20%20%20%20%20%20%20%20%20%29%0A%20%20%20%20%20%20%20%20%20%20%20%20%20%20%20%20.addTo%28feature_group_75c32be9475044949ad37a15f9490a56%29%3B%0A%20%20%20%20%20%20%20%20%20%20%20%20%0A%20%20%20%20%0A%0A%20%20%20%20%20%20%20%20%20%20%20%20var%20marker_34ef59e1f7ad4d258acc438e6791e855%20%3D%20L.marker%28%0A%20%20%20%20%20%20%20%20%20%20%20%20%20%20%20%20%5B44.21667%2C0.61667%5D%2C%0A%20%20%20%20%20%20%20%20%20%20%20%20%20%20%20%20%7B%0A%20%20%20%20%20%20%20%20%20%20%20%20%20%20%20%20%20%20%20%20icon%3A%20new%20L.Icon.Default%28%29%0A%20%20%20%20%20%20%20%20%20%20%20%20%20%20%20%20%20%20%20%20%7D%0A%20%20%20%20%20%20%20%20%20%20%20%20%20%20%20%20%29%0A%20%20%20%20%20%20%20%20%20%20%20%20%20%20%20%20.addTo%28feature_group_75c32be9475044949ad37a15f9490a56%29%3B%0A%20%20%20%20%20%20%20%20%20%20%20%20%0A%20%20%20%20%0A%0A%20%20%20%20%20%20%20%20%20%20%20%20var%20marker_80d559829060455398c4b7aef8cb90d8%20%3D%20L.marker%28%0A%20%20%20%20%20%20%20%20%20%20%20%20%20%20%20%20%5B30.3%2C76.63333%5D%2C%0A%20%20%20%20%20%20%20%20%20%20%20%20%20%20%20%20%7B%0A%20%20%20%20%20%20%20%20%20%20%20%20%20%20%20%20%20%20%20%20icon%3A%20new%20L.Icon.Default%28%29%0A%20%20%20%20%20%20%20%20%20%20%20%20%20%20%20%20%20%20%20%20%7D%0A%20%20%20%20%20%20%20%20%20%20%20%20%20%20%20%20%29%0A%20%20%20%20%20%20%20%20%20%20%20%20%20%20%20%20.addTo%28feature_group_75c32be9475044949ad37a15f9490a56%29%3B%0A%20%20%20%20%20%20%20%20%20%20%20%20%0A%20%20%20%20%0A%0A%20%20%20%20%20%20%20%20%20%20%20%20var%20marker_b921604cbe404cf992ebc9de9b8b8de2%20%3D%20L.marker%28%0A%20%20%20%20%20%20%20%20%20%20%20%20%20%20%20%20%5B47.71667%2C5.36667%5D%2C%0A%20%20%20%20%20%20%20%20%20%20%20%20%20%20%20%20%7B%0A%20%20%20%20%20%20%20%20%20%20%20%20%20%20%20%20%20%20%20%20icon%3A%20new%20L.Icon.Default%28%29%0A%20%20%20%20%20%20%20%20%20%20%20%20%20%20%20%20%20%20%20%20%7D%0A%20%20%20%20%20%20%20%20%20%20%20%20%20%20%20%20%29%0A%20%20%20%20%20%20%20%20%20%20%20%20%20%20%20%20.addTo%28feature_group_75c32be9475044949ad37a15f9490a56%29%3B%0A%20%20%20%20%20%20%20%20%20%20%20%20%0A%20%20%20%20%0A%0A%20%20%20%20%20%20%20%20%20%20%20%20var%20marker_b19a2234cd824acd8f485faa9678ed5c%20%3D%20L.marker%28%0A%20%20%20%20%20%20%20%20%20%20%20%20%20%20%20%20%5B35.65%2C139.33333%5D%2C%0A%20%20%20%20%20%20%20%20%20%20%20%20%20%20%20%20%7B%0A%20%20%20%20%20%20%20%20%20%20%20%20%20%20%20%20%20%20%20%20icon%3A%20new%20L.Icon.Default%28%29%0A%20%20%20%20%20%20%20%20%20%20%20%20%20%20%20%20%20%20%20%20%7D%0A%20%20%20%20%20%20%20%20%20%20%20%20%20%20%20%20%29%0A%20%20%20%20%20%20%20%20%20%20%20%20%20%20%20%20.addTo%28feature_group_75c32be9475044949ad37a15f9490a56%29%3B%0A%20%20%20%20%20%20%20%20%20%20%20%20%0A%20%20%20%20%0A%0A%20%20%20%20%20%20%20%20%20%20%20%20var%20marker_3940cbc11ef44270a08caa00ada9b4f7%20%3D%20L.marker%28%0A%20%20%20%20%20%20%20%20%20%20%20%20%20%20%20%20%5B50.28333%2C27.68333%5D%2C%0A%20%20%20%20%20%20%20%20%20%20%20%20%20%20%20%20%7B%0A%20%20%20%20%20%20%20%20%20%20%20%20%20%20%20%20%20%20%20%20icon%3A%20new%20L.Icon.Default%28%29%0A%20%20%20%20%20%20%20%20%20%20%20%20%20%20%20%20%20%20%20%20%7D%0A%20%20%20%20%20%20%20%20%20%20%20%20%20%20%20%20%29%0A%20%20%20%20%20%20%20%20%20%20%20%20%20%20%20%20.addTo%28feature_group_75c32be9475044949ad37a15f9490a56%29%3B%0A%20%20%20%20%20%20%20%20%20%20%20%20%0A%20%20%20%20%0A%0A%20%20%20%20%20%20%20%20%20%20%20%20var%20marker_8892ed26a2ab4494b2d5d7b6d9e70730%20%3D%20L.marker%28%0A%20%20%20%20%20%20%20%20%20%20%20%20%20%20%20%20%5B43.2%2C-78.8%5D%2C%0A%20%20%20%20%20%20%20%20%20%20%20%20%20%20%20%20%7B%0A%20%20%20%20%20%20%20%20%20%20%20%20%20%20%20%20%20%20%20%20icon%3A%20new%20L.Icon.Default%28%29%0A%20%20%20%20%20%20%20%20%20%20%20%20%20%20%20%20%20%20%20%20%7D%0A%20%20%20%20%20%20%20%20%20%20%20%20%20%20%20%20%29%0A%20%20%20%20%20%20%20%20%20%20%20%20%20%20%20%20.addTo%28feature_group_75c32be9475044949ad37a15f9490a56%29%3B%0A%20%20%20%20%20%20%20%20%20%20%20%20%0A%20%20%20%20%0A%0A%20%20%20%20%20%20%20%20%20%20%20%20var%20marker_27662a7dfcda40de9d9fb4f6b7ce98bc%20%3D%20L.marker%28%0A%20%20%20%20%20%20%20%20%20%20%20%20%20%20%20%20%5B41.05%2C23.56667%5D%2C%0A%20%20%20%20%20%20%20%20%20%20%20%20%20%20%20%20%7B%0A%20%20%20%20%20%20%20%20%20%20%20%20%20%20%20%20%20%20%20%20icon%3A%20new%20L.Icon.Default%28%29%0A%20%20%20%20%20%20%20%20%20%20%20%20%20%20%20%20%20%20%20%20%7D%0A%20%20%20%20%20%20%20%20%20%20%20%20%20%20%20%20%29%0A%20%20%20%20%20%20%20%20%20%20%20%20%20%20%20%20.addTo%28feature_group_75c32be9475044949ad37a15f9490a56%29%3B%0A%20%20%20%20%20%20%20%20%20%20%20%20%0A%20%20%20%20%0A%0A%20%20%20%20%20%20%20%20%20%20%20%20var%20marker_19ca99d5413943519d0c3d9dda1e5dcd%20%3D%20L.marker%28%0A%20%20%20%20%20%20%20%20%20%20%20%20%20%20%20%20%5B55.0%2C35.0%5D%2C%0A%20%20%20%20%20%20%20%20%20%20%20%20%20%20%20%20%7B%0A%20%20%20%20%20%20%20%20%20%20%20%20%20%20%20%20%20%20%20%20icon%3A%20new%20L.Icon.Default%28%29%0A%20%20%20%20%20%20%20%20%20%20%20%20%20%20%20%20%20%20%20%20%7D%0A%20%20%20%20%20%20%20%20%20%20%20%20%20%20%20%20%29%0A%20%20%20%20%20%20%20%20%20%20%20%20%20%20%20%20.addTo%28feature_group_75c32be9475044949ad37a15f9490a56%29%3B%0A%20%20%20%20%20%20%20%20%20%20%20%20%0A%20%20%20%20%0A%0A%20%20%20%20%20%20%20%20%20%20%20%20var%20marker_9b3aa10b2f0748398eac722b74b27a1c%20%3D%20L.marker%28%0A%20%20%20%20%20%20%20%20%20%20%20%20%20%20%20%20%5B76.13333%2C-64.93333%5D%2C%0A%20%20%20%20%20%20%20%20%20%20%20%20%20%20%20%20%7B%0A%20%20%20%20%20%20%20%20%20%20%20%20%20%20%20%20%20%20%20%20icon%3A%20new%20L.Icon.Default%28%29%0A%20%20%20%20%20%20%20%20%20%20%20%20%20%20%20%20%20%20%20%20%7D%0A%20%20%20%20%20%20%20%20%20%20%20%20%20%20%20%20%29%0A%20%20%20%20%20%20%20%20%20%20%20%20%20%20%20%20.addTo%28feature_group_75c32be9475044949ad37a15f9490a56%29%3B%0A%20%20%20%20%20%20%20%20%20%20%20%20%0A%20%20%20%20%0A%0A%20%20%20%20%20%20%20%20%20%20%20%20var%20marker_1ccfb0af8a554dcf8170f8249dcd7a07%20%3D%20L.marker%28%0A%20%20%20%20%20%20%20%20%20%20%20%20%20%20%20%20%5B50.93333%2C12.13333%5D%2C%0A%20%20%20%20%20%20%20%20%20%20%20%20%20%20%20%20%7B%0A%20%20%20%20%20%20%20%20%20%20%20%20%20%20%20%20%20%20%20%20icon%3A%20new%20L.Icon.Default%28%29%0A%20%20%20%20%20%20%20%20%20%20%20%20%20%20%20%20%20%20%20%20%7D%0A%20%20%20%20%20%20%20%20%20%20%20%20%20%20%20%20%29%0A%20%20%20%20%20%20%20%20%20%20%20%20%20%20%20%20.addTo%28feature_group_75c32be9475044949ad37a15f9490a56%29%3B%0A%20%20%20%20%20%20%20%20%20%20%20%20%0A%20%20%20%20%0A%0A%20%20%20%20%20%20%20%20%20%20%20%20var%20marker_e8f3c363e15c4a12a2911b6dab3dc7cf%20%3D%20L.marker%28%0A%20%20%20%20%20%20%20%20%20%20%20%20%20%20%20%20%5B45.43333%2C-0.45%5D%2C%0A%20%20%20%20%20%20%20%20%20%20%20%20%20%20%20%20%7B%0A%20%20%20%20%20%20%20%20%20%20%20%20%20%20%20%20%20%20%20%20icon%3A%20new%20L.Icon.Default%28%29%0A%20%20%20%20%20%20%20%20%20%20%20%20%20%20%20%20%20%20%20%20%7D%0A%20%20%20%20%20%20%20%20%20%20%20%20%20%20%20%20%29%0A%20%20%20%20%20%20%20%20%20%20%20%20%20%20%20%20.addTo%28feature_group_75c32be9475044949ad37a15f9490a56%29%3B%0A%20%20%20%20%20%20%20%20%20%20%20%20%0A%20%20%20%20%0A%0A%20%20%20%20%20%20%20%20%20%20%20%20var%20marker_ba5dc908c935464fb2681894726225ea%20%3D%20L.marker%28%0A%20%20%20%20%20%20%20%20%20%20%20%20%20%20%20%20%5B42.75%2C-75.18333%5D%2C%0A%20%20%20%20%20%20%20%20%20%20%20%20%20%20%20%20%7B%0A%20%20%20%20%20%20%20%20%20%20%20%20%20%20%20%20%20%20%20%20icon%3A%20new%20L.Icon.Default%28%29%0A%20%20%20%20%20%20%20%20%20%20%20%20%20%20%20%20%20%20%20%20%7D%0A%20%20%20%20%20%20%20%20%20%20%20%20%20%20%20%20%29%0A%20%20%20%20%20%20%20%20%20%20%20%20%20%20%20%20.addTo%28feature_group_75c32be9475044949ad37a15f9490a56%29%3B%0A%20%20%20%20%20%20%20%20%20%20%20%20%0A%20%20%20%20%0A%0A%20%20%20%20%20%20%20%20%20%20%20%20var%20marker_eb2955e955a4495b8efa787307fd957e%20%3D%20L.marker%28%0A%20%20%20%20%20%20%20%20%20%20%20%20%20%20%20%20%5B56.0%2C26.43333%5D%2C%0A%20%20%20%20%20%20%20%20%20%20%20%20%20%20%20%20%7B%0A%20%20%20%20%20%20%20%20%20%20%20%20%20%20%20%20%20%20%20%20icon%3A%20new%20L.Icon.Default%28%29%0A%20%20%20%20%20%20%20%20%20%20%20%20%20%20%20%20%20%20%20%20%7D%0A%20%20%20%20%20%20%20%20%20%20%20%20%20%20%20%20%29%0A%20%20%20%20%20%20%20%20%20%20%20%20%20%20%20%20.addTo%28feature_group_75c32be9475044949ad37a15f9490a56%29%3B%0A%20%20%20%20%20%20%20%20%20%20%20%20%0A%3C/script%3E onload=\"this.contentDocument.open();this.contentDocument.write(    decodeURIComponent(this.getAttribute('data-html')));this.contentDocument.close();\" allowfullscreen webkitallowfullscreen mozallowfullscreen></iframe></div></div>"
      ],
      "text/plain": [
       "<folium.folium.Map at 0x1e085bfb5b0>"
      ]
     },
     "execution_count": 92,
     "metadata": {},
     "output_type": "execute_result"
    }
   ],
   "source": [
    "met.add_child(metf)"
   ]
  },
  {
   "cell_type": "markdown",
   "id": "b44aa584-c10b-409a-9cab-d06a56c7b72d",
   "metadata": {},
   "source": [
    "The above map shows us the total no. of meteorites fell in the 21st century."
   ]
  },
  {
   "cell_type": "code",
   "execution_count": null,
   "id": "444d0142-c391-402a-bc64-2443c9b6ed27",
   "metadata": {},
   "outputs": [],
   "source": []
  }
 ],
 "metadata": {
  "kernelspec": {
   "display_name": "Python 3",
   "language": "python",
   "name": "python3"
  },
  "language_info": {
   "codemirror_mode": {
    "name": "ipython",
    "version": 3
   },
   "file_extension": ".py",
   "mimetype": "text/x-python",
   "name": "python",
   "nbconvert_exporter": "python",
   "pygments_lexer": "ipython3",
   "version": "3.8.8"
  }
 },
 "nbformat": 4,
 "nbformat_minor": 5
}
