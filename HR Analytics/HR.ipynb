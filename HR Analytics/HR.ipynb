{
 "cells": [
  {
   "cell_type": "markdown",
   "id": "360184b5",
   "metadata": {},
   "source": [
    "# HR ANALYTICS\n"
   ]
  },
  {
   "cell_type": "markdown",
   "id": "50d57e1e",
   "metadata": {},
   "source": [
    "Importing Libraries"
   ]
  },
  {
   "cell_type": "code",
   "execution_count": 1,
   "id": "58866a50",
   "metadata": {},
   "outputs": [],
   "source": [
    "import numpy as np\n",
    "import pandas as pd"
   ]
  },
  {
   "cell_type": "markdown",
   "id": "73b72620",
   "metadata": {},
   "source": [
    "Loading the data"
   ]
  },
  {
   "cell_type": "code",
   "execution_count": 2,
   "id": "1f2c318e",
   "metadata": {},
   "outputs": [],
   "source": [
    "data = pd.read_csv(\"chat_groups.csv\")\n",
    "data = pd.read_csv(\"employee_attrition.csv\")\n",
    "data = pd.read_csv(\"employee_course_ratings.csv\")"
   ]
  },
  {
   "cell_type": "code",
   "execution_count": 3,
   "id": "240726e1",
   "metadata": {},
   "outputs": [
    {
     "data": {
      "text/html": [
       "<div>\n",
       "<style scoped>\n",
       "    .dataframe tbody tr th:only-of-type {\n",
       "        vertical-align: middle;\n",
       "    }\n",
       "\n",
       "    .dataframe tbody tr th {\n",
       "        vertical-align: top;\n",
       "    }\n",
       "\n",
       "    .dataframe thead th {\n",
       "        text-align: right;\n",
       "    }\n",
       "</style>\n",
       "<table border=\"1\" class=\"dataframe\">\n",
       "  <thead>\n",
       "    <tr style=\"text-align: right;\">\n",
       "      <th></th>\n",
       "      <th>EmployeeID</th>\n",
       "      <th>EmpName</th>\n",
       "      <th>CourseID</th>\n",
       "      <th>CourseName</th>\n",
       "      <th>Rating</th>\n",
       "    </tr>\n",
       "  </thead>\n",
       "  <tbody>\n",
       "    <tr>\n",
       "      <th>0</th>\n",
       "      <td>1408</td>\n",
       "      <td>Ignace Ormonde</td>\n",
       "      <td>14</td>\n",
       "      <td>Video Production</td>\n",
       "      <td>3</td>\n",
       "    </tr>\n",
       "    <tr>\n",
       "      <th>1</th>\n",
       "      <td>1249</td>\n",
       "      <td>Gabriela Balcon</td>\n",
       "      <td>17</td>\n",
       "      <td>Translation</td>\n",
       "      <td>2</td>\n",
       "    </tr>\n",
       "    <tr>\n",
       "      <th>2</th>\n",
       "      <td>1158</td>\n",
       "      <td>Enrique Lewer</td>\n",
       "      <td>8</td>\n",
       "      <td>IT Architecture</td>\n",
       "      <td>3</td>\n",
       "    </tr>\n",
       "    <tr>\n",
       "      <th>3</th>\n",
       "      <td>1564</td>\n",
       "      <td>Wallie Byrd</td>\n",
       "      <td>18</td>\n",
       "      <td>Natural Language Processing</td>\n",
       "      <td>3</td>\n",
       "    </tr>\n",
       "    <tr>\n",
       "      <th>4</th>\n",
       "      <td>1334</td>\n",
       "      <td>Hannah Ganter</td>\n",
       "      <td>6</td>\n",
       "      <td>Java Programming</td>\n",
       "      <td>4</td>\n",
       "    </tr>\n",
       "    <tr>\n",
       "      <th>5</th>\n",
       "      <td>1713</td>\n",
       "      <td>Josefa Skatcher</td>\n",
       "      <td>17</td>\n",
       "      <td>Translation</td>\n",
       "      <td>3</td>\n",
       "    </tr>\n",
       "    <tr>\n",
       "      <th>6</th>\n",
       "      <td>1499</td>\n",
       "      <td>Theobald Crosston</td>\n",
       "      <td>13</td>\n",
       "      <td>UX Design</td>\n",
       "      <td>1</td>\n",
       "    </tr>\n",
       "    <tr>\n",
       "      <th>7</th>\n",
       "      <td>1090</td>\n",
       "      <td>Delmer Chiplen</td>\n",
       "      <td>21</td>\n",
       "      <td>Social Media Marketing</td>\n",
       "      <td>1</td>\n",
       "    </tr>\n",
       "    <tr>\n",
       "      <th>8</th>\n",
       "      <td>1839</td>\n",
       "      <td>Adeline Diwell</td>\n",
       "      <td>12</td>\n",
       "      <td>People Management</td>\n",
       "      <td>1</td>\n",
       "    </tr>\n",
       "    <tr>\n",
       "      <th>9</th>\n",
       "      <td>1119</td>\n",
       "      <td>Annamarie Powderham</td>\n",
       "      <td>16</td>\n",
       "      <td>Audio Production</td>\n",
       "      <td>3</td>\n",
       "    </tr>\n",
       "  </tbody>\n",
       "</table>\n",
       "</div>"
      ],
      "text/plain": [
       "   EmployeeID              EmpName  CourseID                   CourseName  \\\n",
       "0        1408       Ignace Ormonde        14             Video Production   \n",
       "1        1249      Gabriela Balcon        17                  Translation   \n",
       "2        1158        Enrique Lewer         8              IT Architecture   \n",
       "3        1564          Wallie Byrd        18  Natural Language Processing   \n",
       "4        1334        Hannah Ganter         6             Java Programming   \n",
       "5        1713      Josefa Skatcher        17                  Translation   \n",
       "6        1499    Theobald Crosston        13                    UX Design   \n",
       "7        1090       Delmer Chiplen        21       Social Media Marketing   \n",
       "8        1839       Adeline Diwell        12            People Management   \n",
       "9        1119  Annamarie Powderham        16             Audio Production   \n",
       "\n",
       "   Rating  \n",
       "0       3  \n",
       "1       2  \n",
       "2       3  \n",
       "3       3  \n",
       "4       4  \n",
       "5       3  \n",
       "6       1  \n",
       "7       1  \n",
       "8       1  \n",
       "9       3  "
      ]
     },
     "execution_count": 3,
     "metadata": {},
     "output_type": "execute_result"
    }
   ],
   "source": [
    "data.head(10)"
   ]
  },
  {
   "cell_type": "code",
   "execution_count": 4,
   "id": "48b7eef4",
   "metadata": {},
   "outputs": [
    {
     "data": {
      "text/plain": [
       "(1000, 5)"
      ]
     },
     "execution_count": 4,
     "metadata": {},
     "output_type": "execute_result"
    }
   ],
   "source": [
    "data.shape"
   ]
  },
  {
   "cell_type": "code",
   "execution_count": 5,
   "id": "37a30cfe",
   "metadata": {},
   "outputs": [
    {
     "data": {
      "text/html": [
       "<div>\n",
       "<style scoped>\n",
       "    .dataframe tbody tr th:only-of-type {\n",
       "        vertical-align: middle;\n",
       "    }\n",
       "\n",
       "    .dataframe tbody tr th {\n",
       "        vertical-align: top;\n",
       "    }\n",
       "\n",
       "    .dataframe thead th {\n",
       "        text-align: right;\n",
       "    }\n",
       "</style>\n",
       "<table border=\"1\" class=\"dataframe\">\n",
       "  <thead>\n",
       "    <tr style=\"text-align: right;\">\n",
       "      <th></th>\n",
       "      <th>EmployeeID</th>\n",
       "      <th>CourseID</th>\n",
       "      <th>Rating</th>\n",
       "    </tr>\n",
       "  </thead>\n",
       "  <tbody>\n",
       "    <tr>\n",
       "      <th>count</th>\n",
       "      <td>1000.000000</td>\n",
       "      <td>1000.000000</td>\n",
       "      <td>1000.000000</td>\n",
       "    </tr>\n",
       "    <tr>\n",
       "      <th>mean</th>\n",
       "      <td>1498.523000</td>\n",
       "      <td>12.837000</td>\n",
       "      <td>2.771000</td>\n",
       "    </tr>\n",
       "    <tr>\n",
       "      <th>std</th>\n",
       "      <td>288.933065</td>\n",
       "      <td>7.261485</td>\n",
       "      <td>1.341028</td>\n",
       "    </tr>\n",
       "    <tr>\n",
       "      <th>min</th>\n",
       "      <td>1001.000000</td>\n",
       "      <td>1.000000</td>\n",
       "      <td>0.000000</td>\n",
       "    </tr>\n",
       "    <tr>\n",
       "      <th>25%</th>\n",
       "      <td>1250.750000</td>\n",
       "      <td>6.000000</td>\n",
       "      <td>2.000000</td>\n",
       "    </tr>\n",
       "    <tr>\n",
       "      <th>50%</th>\n",
       "      <td>1503.500000</td>\n",
       "      <td>13.000000</td>\n",
       "      <td>3.000000</td>\n",
       "    </tr>\n",
       "    <tr>\n",
       "      <th>75%</th>\n",
       "      <td>1740.500000</td>\n",
       "      <td>19.000000</td>\n",
       "      <td>4.000000</td>\n",
       "    </tr>\n",
       "    <tr>\n",
       "      <th>max</th>\n",
       "      <td>1999.000000</td>\n",
       "      <td>25.000000</td>\n",
       "      <td>5.000000</td>\n",
       "    </tr>\n",
       "  </tbody>\n",
       "</table>\n",
       "</div>"
      ],
      "text/plain": [
       "        EmployeeID     CourseID       Rating\n",
       "count  1000.000000  1000.000000  1000.000000\n",
       "mean   1498.523000    12.837000     2.771000\n",
       "std     288.933065     7.261485     1.341028\n",
       "min    1001.000000     1.000000     0.000000\n",
       "25%    1250.750000     6.000000     2.000000\n",
       "50%    1503.500000    13.000000     3.000000\n",
       "75%    1740.500000    19.000000     4.000000\n",
       "max    1999.000000    25.000000     5.000000"
      ]
     },
     "execution_count": 5,
     "metadata": {},
     "output_type": "execute_result"
    }
   ],
   "source": [
    "data.describe()"
   ]
  },
  {
   "cell_type": "markdown",
   "id": "5368efd3",
   "metadata": {},
   "source": [
    "Looking for missing values"
   ]
  },
  {
   "cell_type": "code",
   "execution_count": 6,
   "id": "09793c77",
   "metadata": {},
   "outputs": [
    {
     "data": {
      "text/plain": [
       "EmployeeID    0\n",
       "EmpName       0\n",
       "CourseID      0\n",
       "CourseName    0\n",
       "Rating        0\n",
       "dtype: int64"
      ]
     },
     "execution_count": 6,
     "metadata": {},
     "output_type": "execute_result"
    }
   ],
   "source": [
    "data.isnull().sum()"
   ]
  },
  {
   "cell_type": "markdown",
   "id": "af9e9632",
   "metadata": {},
   "source": [
    "Creating another dataframe for Visualization"
   ]
  },
  {
   "cell_type": "code",
   "execution_count": 7,
   "id": "ab8f7459",
   "metadata": {},
   "outputs": [],
   "source": [
    "arj_dummies = pd.get_dummies(\"EmployeeID\") "
   ]
  },
  {
   "cell_type": "markdown",
   "id": "b94d3d93",
   "metadata": {},
   "source": [
    "Importing libraries"
   ]
  },
  {
   "cell_type": "code",
   "execution_count": 8,
   "id": "1844e211",
   "metadata": {},
   "outputs": [],
   "source": [
    "import seaborn as sns\n",
    "import matplotlib.pyplot as plt\n"
   ]
  },
  {
   "cell_type": "code",
   "execution_count": 9,
   "id": "cb86007d",
   "metadata": {},
   "outputs": [],
   "source": [
    "sns.set_theme(style=\"darkgrid\")"
   ]
  },
  {
   "cell_type": "code",
   "execution_count": 10,
   "id": "f0596f6f",
   "metadata": {},
   "outputs": [
    {
     "data": {
      "text/plain": [
       "EmployeeID    1000\n",
       "EmpName       1000\n",
       "CourseID      1000\n",
       "CourseName    1000\n",
       "Rating        1000\n",
       "dtype: int64"
      ]
     },
     "execution_count": 10,
     "metadata": {},
     "output_type": "execute_result"
    }
   ],
   "source": [
    "data.count()"
   ]
  },
  {
   "cell_type": "code",
   "execution_count": 11,
   "id": "8dacb86e",
   "metadata": {},
   "outputs": [
    {
     "data": {
      "text/plain": [
       "<bound method DataFrame.select_dtypes of      EmployeeID            EmpName  CourseID                   CourseName  \\\n",
       "0          1408     Ignace Ormonde        14             Video Production   \n",
       "1          1249    Gabriela Balcon        17                  Translation   \n",
       "2          1158      Enrique Lewer         8              IT Architecture   \n",
       "3          1564        Wallie Byrd        18  Natural Language Processing   \n",
       "4          1334      Hannah Ganter         6             Java Programming   \n",
       "..          ...                ...       ...                          ...   \n",
       "995        1784  Ambrosio Pucknell         1               Cyber Security   \n",
       "996        1321   Carma Gherardini        10           Mobile Development   \n",
       "997        1067        Colan Keese         6             Java Programming   \n",
       "998        1053        Nikos Hosby        18  Natural Language Processing   \n",
       "999        1671        Valene Buie        21       Social Media Marketing   \n",
       "\n",
       "     Rating  \n",
       "0         3  \n",
       "1         2  \n",
       "2         3  \n",
       "3         3  \n",
       "4         4  \n",
       "..      ...  \n",
       "995       1  \n",
       "996       2  \n",
       "997       4  \n",
       "998       2  \n",
       "999       5  \n",
       "\n",
       "[1000 rows x 5 columns]>"
      ]
     },
     "execution_count": 11,
     "metadata": {},
     "output_type": "execute_result"
    }
   ],
   "source": [
    "data.select_dtypes"
   ]
  },
  {
   "cell_type": "code",
   "execution_count": null,
   "id": "4c61275e",
   "metadata": {},
   "outputs": [],
   "source": []
  }
 ],
 "metadata": {
  "kernelspec": {
   "display_name": "Python 3 (ipykernel)",
   "language": "python",
   "name": "python3"
  },
  "language_info": {
   "codemirror_mode": {
    "name": "ipython",
    "version": 3
   },
   "file_extension": ".py",
   "mimetype": "text/x-python",
   "name": "python",
   "nbconvert_exporter": "python",
   "pygments_lexer": "ipython3",
   "version": "3.9.7"
  }
 },
 "nbformat": 4,
 "nbformat_minor": 5
}
