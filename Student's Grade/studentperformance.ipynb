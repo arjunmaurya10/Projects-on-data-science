{
 "cells": [
  {
   "cell_type": "markdown",
   "id": "d33e58c8-9bfc-47ab-8f36-a598226c3377",
   "metadata": {},
   "source": [
    "**Students Perfomance**\n",
    "\n",
    "**Introduction**\n",
    "\n",
    "- Undoubtedly, one of the most important concern of society is education. Knowledge and information were for a long time resources not available for all population. Fortunately, we had advanced a lot in the access of education for most of the people helping to improve the social indicators.\n",
    "\n",
    "- Nevertheless, there are distinctions in the exam perfomances among students. Understading what are the reasons for those distinctions may help policy makers to formualte better education program for the society.\n",
    "\n",
    "- Seen in these terms, I will apply a linear regression over the grade of the students using their social background. The idea is to find evidences if, and how, social background may affect the students perfomance."
   ]
  },
  {
   "cell_type": "markdown",
   "id": "28314ed7-2e34-41c9-8109-bec29f108c78",
   "metadata": {},
   "source": [
    "**Importing libraries**"
   ]
  },
  {
   "cell_type": "code",
   "execution_count": 1,
   "id": "599d634c-b0fe-4554-a234-0b244a2e3bc3",
   "metadata": {},
   "outputs": [],
   "source": [
    "import pandas as pd\n",
    "import numpy as np\n",
    "import math\n",
    "\n",
    "# Graphs\n",
    "import matplotlib.pyplot as plt\n",
    "import seaborn as sns\n",
    "\n",
    "# Stats\n",
    "from scipy import stats\n",
    "import statsmodels.api as sm"
   ]
  },
  {
   "cell_type": "markdown",
   "id": "4b11d3d1-6ed7-4525-b711-81f00fd26608",
   "metadata": {},
   "source": [
    "**Loading the data and reading it in dataframe 'edudata'**"
   ]
  },
  {
   "cell_type": "code",
   "execution_count": 2,
   "id": "bfd897f1-7015-40f2-81a4-25b4bcaeb725",
   "metadata": {},
   "outputs": [],
   "source": [
    "eduData = pd.read_csv(\"StudentsPerformance.csv\")"
   ]
  },
  {
   "cell_type": "code",
   "execution_count": 4,
   "id": "ec40bf2f-caf2-4c9d-9b94-fc0d214a89e5",
   "metadata": {},
   "outputs": [
    {
     "data": {
      "text/html": [
       "<div>\n",
       "<style scoped>\n",
       "    .dataframe tbody tr th:only-of-type {\n",
       "        vertical-align: middle;\n",
       "    }\n",
       "\n",
       "    .dataframe tbody tr th {\n",
       "        vertical-align: top;\n",
       "    }\n",
       "\n",
       "    .dataframe thead th {\n",
       "        text-align: right;\n",
       "    }\n",
       "</style>\n",
       "<table border=\"1\" class=\"dataframe\">\n",
       "  <thead>\n",
       "    <tr style=\"text-align: right;\">\n",
       "      <th></th>\n",
       "      <th>gender</th>\n",
       "      <th>race/ethnicity</th>\n",
       "      <th>parental level of education</th>\n",
       "      <th>lunch</th>\n",
       "      <th>test preparation course</th>\n",
       "      <th>math score</th>\n",
       "      <th>reading score</th>\n",
       "      <th>writing score</th>\n",
       "    </tr>\n",
       "  </thead>\n",
       "  <tbody>\n",
       "    <tr>\n",
       "      <th>0</th>\n",
       "      <td>female</td>\n",
       "      <td>group B</td>\n",
       "      <td>bachelor's degree</td>\n",
       "      <td>standard</td>\n",
       "      <td>none</td>\n",
       "      <td>72</td>\n",
       "      <td>72</td>\n",
       "      <td>74</td>\n",
       "    </tr>\n",
       "    <tr>\n",
       "      <th>1</th>\n",
       "      <td>female</td>\n",
       "      <td>group C</td>\n",
       "      <td>some college</td>\n",
       "      <td>standard</td>\n",
       "      <td>completed</td>\n",
       "      <td>69</td>\n",
       "      <td>90</td>\n",
       "      <td>88</td>\n",
       "    </tr>\n",
       "    <tr>\n",
       "      <th>2</th>\n",
       "      <td>female</td>\n",
       "      <td>group B</td>\n",
       "      <td>master's degree</td>\n",
       "      <td>standard</td>\n",
       "      <td>none</td>\n",
       "      <td>90</td>\n",
       "      <td>95</td>\n",
       "      <td>93</td>\n",
       "    </tr>\n",
       "    <tr>\n",
       "      <th>3</th>\n",
       "      <td>male</td>\n",
       "      <td>group A</td>\n",
       "      <td>associate's degree</td>\n",
       "      <td>free/reduced</td>\n",
       "      <td>none</td>\n",
       "      <td>47</td>\n",
       "      <td>57</td>\n",
       "      <td>44</td>\n",
       "    </tr>\n",
       "    <tr>\n",
       "      <th>4</th>\n",
       "      <td>male</td>\n",
       "      <td>group C</td>\n",
       "      <td>some college</td>\n",
       "      <td>standard</td>\n",
       "      <td>none</td>\n",
       "      <td>76</td>\n",
       "      <td>78</td>\n",
       "      <td>75</td>\n",
       "    </tr>\n",
       "  </tbody>\n",
       "</table>\n",
       "</div>"
      ],
      "text/plain": [
       "   gender race/ethnicity parental level of education         lunch  \\\n",
       "0  female        group B           bachelor's degree      standard   \n",
       "1  female        group C                some college      standard   \n",
       "2  female        group B             master's degree      standard   \n",
       "3    male        group A          associate's degree  free/reduced   \n",
       "4    male        group C                some college      standard   \n",
       "\n",
       "  test preparation course  math score  reading score  writing score  \n",
       "0                    none          72             72             74  \n",
       "1               completed          69             90             88  \n",
       "2                    none          90             95             93  \n",
       "3                    none          47             57             44  \n",
       "4                    none          76             78             75  "
      ]
     },
     "execution_count": 4,
     "metadata": {},
     "output_type": "execute_result"
    }
   ],
   "source": [
    "eduData.head()"
   ]
  },
  {
   "cell_type": "markdown",
   "id": "78fa4ebc-172a-4a54-a0df-55ade6aad987",
   "metadata": {},
   "source": [
    "An overview over the data shows us that the dataset contains eight variables and one thousand observations (students). Basics statistics shows us that the grade avarage of Math is lower than for Reading and Writing. Also, it is possible to notice that one person has zero score in the Math Score Grade."
   ]
  },
  {
   "cell_type": "code",
   "execution_count": 5,
   "id": "ed8e92fd-db97-452a-a31f-a62d5987be31",
   "metadata": {},
   "outputs": [
    {
     "name": "stdout",
     "output_type": "stream",
     "text": [
      "<class 'pandas.core.frame.DataFrame'>\n",
      "RangeIndex: 1000 entries, 0 to 999\n",
      "Data columns (total 8 columns):\n",
      " #   Column                       Non-Null Count  Dtype \n",
      "---  ------                       --------------  ----- \n",
      " 0   gender                       1000 non-null   object\n",
      " 1   race/ethnicity               1000 non-null   object\n",
      " 2   parental level of education  1000 non-null   object\n",
      " 3   lunch                        1000 non-null   object\n",
      " 4   test preparation course      1000 non-null   object\n",
      " 5   math score                   1000 non-null   int64 \n",
      " 6   reading score                1000 non-null   int64 \n",
      " 7   writing score                1000 non-null   int64 \n",
      "dtypes: int64(3), object(5)\n",
      "memory usage: 62.6+ KB\n",
      "None\n",
      "Empty DataFrame\n",
      "Columns: [gender, race/ethnicity, parental level of education, lunch, test preparation course, math score, reading score, writing score]\n",
      "Index: []\n",
      "Unique value for the column: gender\n",
      "['female' 'male']\n",
      "\n",
      "\n",
      "Unique value for the column: race/ethnicity\n",
      "['group B' 'group C' 'group A' 'group D' 'group E']\n",
      "\n",
      "\n",
      "Unique value for the column: parental level of education\n",
      "[\"bachelor's degree\" 'some college' \"master's degree\" \"associate's degree\"\n",
      " 'high school' 'some high school']\n",
      "\n",
      "\n",
      "Unique value for the column: lunch\n",
      "['standard' 'free/reduced']\n",
      "\n",
      "\n",
      "Unique value for the column: test preparation course\n",
      "['none' 'completed']\n",
      "\n",
      "\n",
      "Unique value for the column: math score\n",
      "[ 72  69  90  47  76  71  88  40  64  38  58  65  78  50  18  46  54  66\n",
      "  44  74  73  67  70  62  63  56  97  81  75  57  55  53  59  82  77  33\n",
      "  52   0  79  39  45  60  61  41  49  30  80  42  27  43  68  85  98  87\n",
      "  51  99  84  91  83  89  22 100  96  94  48  35  34  86  92  37  28  24\n",
      "  26  95  36  29  32  93  19  23   8]\n",
      "\n",
      "\n",
      "Unique value for the column: reading score\n",
      "[ 72  90  95  57  78  83  43  64  60  54  52  81  53  75  89  32  42  58\n",
      "  69  73  71  74  70  65  87  56  61  84  55  44  41  85  59  17  39  80\n",
      "  37  63  51  49  26  68  45  47  86  34  79  66  67  91 100  76  77  82\n",
      "  92  93  62  88  50  28  48  46  23  38  94  97  99  31  96  24  29  40]\n",
      "\n",
      "\n",
      "Unique value for the column: writing score\n",
      "[ 74  88  93  44  75  78  92  39  67  50  52  43  73  70  58  86  28  46\n",
      "  61  63  53  80  72  55  65  38  82  79  83  59  57  54  68  66  62  76\n",
      "  48  42  87  49  10  34  71  37  56  41  22  81  45  36  89  47  90 100\n",
      "  64  98  51  40  84  69  33  60  85  91  77  27  94  95  19  35  32  96\n",
      "  97  99  15  30  23]\n",
      "\n",
      "\n"
     ]
    },
    {
     "data": {
      "text/html": [
       "<div>\n",
       "<style scoped>\n",
       "    .dataframe tbody tr th:only-of-type {\n",
       "        vertical-align: middle;\n",
       "    }\n",
       "\n",
       "    .dataframe tbody tr th {\n",
       "        vertical-align: top;\n",
       "    }\n",
       "\n",
       "    .dataframe thead th {\n",
       "        text-align: right;\n",
       "    }\n",
       "</style>\n",
       "<table border=\"1\" class=\"dataframe\">\n",
       "  <thead>\n",
       "    <tr style=\"text-align: right;\">\n",
       "      <th></th>\n",
       "      <th>math score</th>\n",
       "      <th>reading score</th>\n",
       "      <th>writing score</th>\n",
       "    </tr>\n",
       "  </thead>\n",
       "  <tbody>\n",
       "    <tr>\n",
       "      <th>count</th>\n",
       "      <td>1000.00000</td>\n",
       "      <td>1000.000000</td>\n",
       "      <td>1000.000000</td>\n",
       "    </tr>\n",
       "    <tr>\n",
       "      <th>mean</th>\n",
       "      <td>66.08900</td>\n",
       "      <td>69.169000</td>\n",
       "      <td>68.054000</td>\n",
       "    </tr>\n",
       "    <tr>\n",
       "      <th>std</th>\n",
       "      <td>15.16308</td>\n",
       "      <td>14.600192</td>\n",
       "      <td>15.195657</td>\n",
       "    </tr>\n",
       "    <tr>\n",
       "      <th>min</th>\n",
       "      <td>0.00000</td>\n",
       "      <td>17.000000</td>\n",
       "      <td>10.000000</td>\n",
       "    </tr>\n",
       "    <tr>\n",
       "      <th>25%</th>\n",
       "      <td>57.00000</td>\n",
       "      <td>59.000000</td>\n",
       "      <td>57.750000</td>\n",
       "    </tr>\n",
       "    <tr>\n",
       "      <th>50%</th>\n",
       "      <td>66.00000</td>\n",
       "      <td>70.000000</td>\n",
       "      <td>69.000000</td>\n",
       "    </tr>\n",
       "    <tr>\n",
       "      <th>75%</th>\n",
       "      <td>77.00000</td>\n",
       "      <td>79.000000</td>\n",
       "      <td>79.000000</td>\n",
       "    </tr>\n",
       "    <tr>\n",
       "      <th>max</th>\n",
       "      <td>100.00000</td>\n",
       "      <td>100.000000</td>\n",
       "      <td>100.000000</td>\n",
       "    </tr>\n",
       "  </tbody>\n",
       "</table>\n",
       "</div>"
      ],
      "text/plain": [
       "       math score  reading score  writing score\n",
       "count  1000.00000    1000.000000    1000.000000\n",
       "mean     66.08900      69.169000      68.054000\n",
       "std      15.16308      14.600192      15.195657\n",
       "min       0.00000      17.000000      10.000000\n",
       "25%      57.00000      59.000000      57.750000\n",
       "50%      66.00000      70.000000      69.000000\n",
       "75%      77.00000      79.000000      79.000000\n",
       "max     100.00000     100.000000     100.000000"
      ]
     },
     "execution_count": 5,
     "metadata": {},
     "output_type": "execute_result"
    }
   ],
   "source": [
    "# Type of the Variables\n",
    "print(eduData.info())\n",
    "\n",
    "# Checking for duplicates\n",
    "print(eduData[eduData.duplicated()])\n",
    "\n",
    "# Cheking for unique values\n",
    "for i in eduData.columns:\n",
    "    print(\"Unique value for the column: \" + i)\n",
    "    print(eduData[i].unique())\n",
    "    print(\"\\n\")\n",
    "\n",
    "# Basic Statistics\n",
    "eduData.describe()"
   ]
  },
  {
   "cell_type": "markdown",
   "id": "ce0af3f9-8ed7-4518-a6f7-9b0b2a1aa602",
   "metadata": {},
   "source": [
    "**Cleaning the Data**\n",
    "\n",
    "- One of the most important and dificult process in the data analysis is the cleaning of our data. Fixing or removing incorrect, corrupted, duplicates, or incomplete data demands not only formal understading, but also a sense of interpretation of the dataset.\n",
    "\n",
    "- We noticed that one person had a zero score in the math test. Usually I would drop this observation from the dataset for being a probably input error, but checking the the other grades of that studend I realise that actually the general grades are very low. Therefore, I will keep the observation in the datase"
   ]
  },
  {
   "cell_type": "code",
   "execution_count": 6,
   "id": "04d8152f-590c-4168-ad8b-088362cb5bc3",
   "metadata": {},
   "outputs": [
    {
     "data": {
      "text/html": [
       "<div>\n",
       "<style scoped>\n",
       "    .dataframe tbody tr th:only-of-type {\n",
       "        vertical-align: middle;\n",
       "    }\n",
       "\n",
       "    .dataframe tbody tr th {\n",
       "        vertical-align: top;\n",
       "    }\n",
       "\n",
       "    .dataframe thead th {\n",
       "        text-align: right;\n",
       "    }\n",
       "</style>\n",
       "<table border=\"1\" class=\"dataframe\">\n",
       "  <thead>\n",
       "    <tr style=\"text-align: right;\">\n",
       "      <th></th>\n",
       "      <th>gender</th>\n",
       "      <th>race/ethnicity</th>\n",
       "      <th>parental level of education</th>\n",
       "      <th>lunch</th>\n",
       "      <th>test preparation course</th>\n",
       "      <th>math score</th>\n",
       "      <th>reading score</th>\n",
       "      <th>writing score</th>\n",
       "    </tr>\n",
       "  </thead>\n",
       "  <tbody>\n",
       "    <tr>\n",
       "      <th>59</th>\n",
       "      <td>female</td>\n",
       "      <td>group C</td>\n",
       "      <td>some high school</td>\n",
       "      <td>free/reduced</td>\n",
       "      <td>none</td>\n",
       "      <td>0</td>\n",
       "      <td>17</td>\n",
       "      <td>10</td>\n",
       "    </tr>\n",
       "  </tbody>\n",
       "</table>\n",
       "</div>"
      ],
      "text/plain": [
       "    gender race/ethnicity parental level of education         lunch  \\\n",
       "59  female        group C            some high school  free/reduced   \n",
       "\n",
       "   test preparation course  math score  reading score  writing score  \n",
       "59                    none           0             17             10  "
      ]
     },
     "execution_count": 6,
     "metadata": {},
     "output_type": "execute_result"
    }
   ],
   "source": [
    "eduData[eduData['math score'] == 0] "
   ]
  },
  {
   "cell_type": "markdown",
   "id": "69b52a9f-4841-4635-bffe-357b534ac2c9",
   "metadata": {},
   "source": [
    "None of the dataset observations are null.\n"
   ]
  },
  {
   "cell_type": "code",
   "execution_count": 7,
   "id": "24c8e22d-d877-4edc-8b50-51cf69ad67ee",
   "metadata": {},
   "outputs": [
    {
     "name": "stdout",
     "output_type": "stream",
     "text": [
      "gender                         0\n",
      "race/ethnicity                 0\n",
      "parental level of education    0\n",
      "lunch                          0\n",
      "test preparation course        0\n",
      "math score                     0\n",
      "reading score                  0\n",
      "writing score                  0\n",
      "dtype: int64\n"
     ]
    }
   ],
   "source": [
    "# Checking for NULL values\n",
    "print(eduData.isnull().sum())"
   ]
  },
  {
   "cell_type": "markdown",
   "id": "2d9e05f5-0b3f-483a-b60d-860f974cb2d0",
   "metadata": {},
   "source": [
    "**Data Transformation**\n",
    "\n",
    "Most of the variables are categorial. Nevertheless, when we import the dataset to our analysis environment the system interpret them as strings. Because of that I apply a transformation in the columns of my dataset."
   ]
  },
  {
   "cell_type": "code",
   "execution_count": 8,
   "id": "e34bac72-7905-4d0b-a4dc-83d7557f2617",
   "metadata": {},
   "outputs": [
    {
     "name": "stdout",
     "output_type": "stream",
     "text": [
      "Applying transformation in the data column: gender\n",
      "\n",
      "\n",
      "Applying transformation in the data column: race/ethnicity\n",
      "\n",
      "\n",
      "Applying transformation in the data column: parental level of education\n",
      "\n",
      "\n",
      "Applying transformation in the data column: lunch\n",
      "\n",
      "\n",
      "Applying transformation in the data column: test preparation course\n",
      "\n",
      "\n"
     ]
    }
   ],
   "source": [
    "### Data Transformation\n",
    "for i in eduData.columns[0:5]:\n",
    "    print(\"Applying transformation in the data column: \" + i)\n",
    "    eduData[i] = pd.Categorical(eduData[i])\n",
    "    print(\"\\n\")"
   ]
  },
  {
   "cell_type": "markdown",
   "id": "58985a61-7e07-473c-b0f8-92bda68bb959",
   "metadata": {},
   "source": [
    "**Exploratory Analysis**\n",
    "\n",
    "It is used to analyze and investigate data in many ways. Is it important to summarize the main characteristics that contains the data for subsequent data modeling. The main idea is to look the data to identify patterns, interesting relations among the variables, and anomalous characteristics.\n",
    "\n",
    "- Boxplot is one of the most important tools in the descriptive statistics. Visually show the distribution of numerical data through the data quartiles. I ploted boxplots for each categorical variable using the grades archive by the students.\n",
    "\n",
    "- Gender vs Subject: noticeable that female students has less grade in Math subjects than males; However, male students has less grade in Reading and Writing score; Standard Deviation is very similar for both genders.\n",
    "\n",
    "- Race/Ethnicity vs Subject: when checking the boxplot through race/ethnicity there is a slight increase for each group from A to E.\n",
    "\n",
    "- Parental Level of Education by Subject: students whose parents has high level of education hold better grades score.\n",
    "\n",
    "- Lunch by Subject: It is very clear that students with standard lunch hold better grades scores.\n",
    "\n",
    "- Test Preparation Course by Subject: The same pattern is noticeable in test preparation course, students that receive a preparion course hold better grades score.\n",
    "\n",
    "Other descriptive analysys show that the data is unbalanced for Race/Ethnicity, probably reflecting the inequallity present among the students. Also, among the parents is posible to see that many of them hold a lack of formal education what may be associate with low perfomance of few students."
   ]
  },
  {
   "cell_type": "code",
   "execution_count": 10,
   "id": "425e3553-2c4d-4bbd-a145-931795cebbc0",
   "metadata": {},
   "outputs": [
    {
     "data": {
      "text/plain": [
       "Text(0.5, 1.0, 'Writing Score')"
      ]
     },
     "execution_count": 10,
     "metadata": {},
     "output_type": "execute_result"
    },
    {
     "data": {
      "image/png": "[encoded data removed]",
      "text/plain": [
       "<Figure size 1080x360 with 3 Axes>"
      ]
     },
     "metadata": {
      "needs_background": "light"
     },
     "output_type": "display_data"
    }
   ],
   "source": [
    "# Creating Boxplot Gender vs Subject\n",
    "\n",
    "fig, axes = plt.subplots(1, 3, figsize=(15, 5), sharey=True)\n",
    "fig.suptitle('Boxplot Gender by Subject')\n",
    "\n",
    "# Math Score\n",
    "sns.boxplot(ax=axes[0], y='math score', x='gender', \n",
    "                 data=eduData, \n",
    "                 palette=\"colorblind\")\n",
    "axes[0].set_title(\"Math Score\")\n",
    "\n",
    "\n",
    "# Reading Score\n",
    "sns.boxplot(ax=axes[1], y='reading score', x='gender', \n",
    "                 data=eduData, \n",
    "                 palette=\"colorblind\")\n",
    "axes[1].set_title(\"Reading Score\")\n",
    "\n",
    "# Writing Score\n",
    "sns.boxplot(ax=axes[2], y='writing score', x='gender', \n",
    "                 data=eduData, \n",
    "                 palette=\"colorblind\")\n",
    "axes[2].set_title(\"Writing Score\")"
   ]
  },
  {
   "cell_type": "markdown",
   "id": "8ec04467-46ef-498b-82c4-af66356199bb",
   "metadata": {},
   "source": [
    "**Grouping by Gender**"
   ]
  },
  {
   "cell_type": "code",
   "execution_count": 11,
   "id": "4eebbfa2-1d71-4940-89fd-657de759c1cd",
   "metadata": {},
   "outputs": [
    {
     "name": "stdout",
     "output_type": "stream",
     "text": [
      "        math score  reading score  writing score\n",
      "gender                                          \n",
      "female          65             73             74\n",
      "male            69             66             64\n",
      "        math score  reading score  writing score\n",
      "gender                                          \n",
      "female   15.491453      14.378245      14.844842\n",
      "male     14.356277      13.931832      14.113832\n"
     ]
    }
   ],
   "source": [
    "print(eduData.groupby(['gender']).median()[['math score','reading score','writing score']])\n",
    "\n",
    "print(eduData.groupby(['gender']).std()[['math score','reading score','writing score']])"
   ]
  },
  {
   "cell_type": "code",
   "execution_count": 12,
   "id": "96fc758b-72ef-4b0a-b232-f5d33b857852",
   "metadata": {},
   "outputs": [
    {
     "data": {
      "text/plain": [
       "Text(0.5, 1.0, 'Writing Score')"
      ]
     },
     "execution_count": 12,
     "metadata": {},
     "output_type": "execute_result"
    },
    {
     "data": {
      "image/png": "[encoded data removed]",
      "text/plain": [
       "<Figure size 1080x360 with 3 Axes>"
      ]
     },
     "metadata": {
      "needs_background": "light"
     },
     "output_type": "display_data"
    }
   ],
   "source": [
    "# Creating Boxplot Race/Ethnicity vs Subject\n",
    "\n",
    "fig, axes = plt.subplots(1, 3, figsize=(15, 5), sharey=True)\n",
    "fig.suptitle('Boxplot race/ethnicity by Subject')\n",
    "\n",
    "# Math Score\n",
    "sns.boxplot(ax=axes[0], y='math score', x='race/ethnicity', \n",
    "                 data=eduData, \n",
    "                 palette=\"colorblind\")\n",
    "axes[0].set_title(\"Math Score\")\n",
    "\n",
    "\n",
    "# Reading Score\n",
    "sns.boxplot(ax=axes[1], y='reading score', x='race/ethnicity', \n",
    "                 data=eduData, \n",
    "                 palette=\"colorblind\")\n",
    "axes[1].set_title(\"Reading Score\")\n",
    "\n",
    "# Writing Score\n",
    "sns.boxplot(ax=axes[2], y='writing score', x='race/ethnicity', \n",
    "                 data=eduData, \n",
    "                 palette=\"colorblind\")\n",
    "axes[2].set_title(\"Writing Score\")"
   ]
  },
  {
   "cell_type": "markdown",
   "id": "6704168f-a188-4448-a12d-acee56db6290",
   "metadata": {},
   "source": [
    "**Grouping by race**"
   ]
  },
  {
   "cell_type": "code",
   "execution_count": 13,
   "id": "e2f3380a-870c-41d6-9bf7-9b0f2f955300",
   "metadata": {},
   "outputs": [
    {
     "name": "stdout",
     "output_type": "stream",
     "text": [
      "                math score  reading score  writing score\n",
      "race/ethnicity                                          \n",
      "group A               61.0           64.0           62.0\n",
      "group B               63.0           67.0           67.0\n",
      "group C               65.0           71.0           68.0\n",
      "group D               69.0           71.0           72.0\n",
      "group E               74.5           74.0           72.0\n",
      "                math score  reading score  writing score\n",
      "race/ethnicity                                          \n",
      "group A          14.523008      15.543762      15.468278\n",
      "group B          15.468191      15.177499      15.625173\n",
      "group C          14.852666      13.997033      14.983378\n",
      "group D          13.769386      13.895306      14.367707\n",
      "group E          15.534259      14.874024      15.113906\n"
     ]
    }
   ],
   "source": [
    "print(eduData.groupby(['race/ethnicity']).median()[['math score','reading score','writing score']])\n",
    "\n",
    "print(eduData.groupby(['race/ethnicity']).std()[['math score','reading score','writing score']])"
   ]
  },
  {
   "cell_type": "markdown",
   "id": "5e500876-140f-427f-b06d-6a3fcf40d4ba",
   "metadata": {},
   "source": [
    "**Visual**"
   ]
  },
  {
   "cell_type": "code",
   "execution_count": 14,
   "id": "0cbbbdb1-4185-47a7-87d1-012b674939a9",
   "metadata": {},
   "outputs": [
    {
     "data": {
      "image/png": "[encoded data removed]",
      "text/plain": [
       "<Figure size 432x288 with 1 Axes>"
      ]
     },
     "metadata": {},
     "output_type": "display_data"
    }
   ],
   "source": [
    "eduData['race/ethnicity'].value_counts().plot.pie(autopct=\"%1.1f%%\")\n",
    "plt.show()"
   ]
  },
  {
   "cell_type": "markdown",
   "id": "5e71ae40-91b7-4782-8ee9-710ee480c327",
   "metadata": {},
   "source": [
    "**Creating Boxplot Parental Level of Education vs Subject**"
   ]
  },
  {
   "cell_type": "code",
   "execution_count": 15,
   "id": "5e797e16-80a9-4de2-861e-611edfd5731f",
   "metadata": {},
   "outputs": [
    {
     "data": {
      "text/plain": [
       "Text(0.5, 1.0, 'Writing Score')"
      ]
     },
     "execution_count": 15,
     "metadata": {},
     "output_type": "execute_result"
    },
    {
     "data": {
      "image/png": "[encoded data removed]",
      "text/plain": [
       "<Figure size 1080x360 with 3 Axes>"
      ]
     },
     "metadata": {
      "needs_background": "light"
     },
     "output_type": "display_data"
    }
   ],
   "source": [
    "fig, axes = plt.subplots(1, 3, figsize=(15, 5), sharey=True)\n",
    "fig.suptitle('Boxplot Parental Level of Education by Subject')\n",
    "\n",
    "# Math Score\n",
    "sns.boxplot(ax=axes[0], y='math score', x='parental level of education', \n",
    "                 data=eduData, \n",
    "                 palette=\"colorblind\")\n",
    "axes[0].set_title(\"Math Score\")\n",
    "\n",
    "\n",
    "# Reading Score\n",
    "sns.boxplot(ax=axes[1], y='reading score', x='parental level of education', \n",
    "                 data=eduData, \n",
    "                 palette=\"colorblind\")\n",
    "axes[1].set_title(\"Reading Score\")\n",
    "\n",
    "# Writing Score\n",
    "sns.boxplot(ax=axes[2], y='writing score', x='parental level of education', \n",
    "                 data=eduData, \n",
    "                 palette=\"colorblind\")\n",
    "axes[2].set_title(\"Writing Score\")"
   ]
  },
  {
   "cell_type": "markdown",
   "id": "f848acdd-8536-4e0e-ab6a-89950ba0b4b8",
   "metadata": {},
   "source": [
    "**Group by parent level of education**"
   ]
  },
  {
   "cell_type": "code",
   "execution_count": 17,
   "id": "f011da85-02b2-4d6f-9f5d-64fc04a2713b",
   "metadata": {},
   "outputs": [
    {
     "name": "stdout",
     "output_type": "stream",
     "text": [
      "                             math score  reading score  writing score\n",
      "parental level of education                                          \n",
      "associate's degree                 67.0           72.5           70.5\n",
      "bachelor's degree                  68.0           73.0           74.0\n",
      "high school                        63.0           66.0           64.0\n",
      "master's degree                    73.0           76.0           75.0\n",
      "some college                       67.5           70.5           70.0\n",
      "some high school                   65.0           67.0           66.0\n",
      "                             math score  reading score  writing score\n",
      "parental level of education                                          \n",
      "associate's degree            15.112093      13.868948      14.311122\n",
      "bachelor's degree             14.943789      14.285250      14.728262\n",
      "high school                   14.539651      14.132130      14.085907\n",
      "master's degree               15.153915      13.775163      13.730711\n",
      "some college                  14.312897      14.057049      15.012331\n",
      "some high school              15.927989      15.479295      15.736197\n"
     ]
    }
   ],
   "source": [
    "print(eduData.groupby(['parental level of education']).median()[['math score','reading score','writing score']])\n",
    "\n",
    "print(eduData.groupby(['parental level of education']).std()[['math score','reading score','writing score']])"
   ]
  },
  {
   "cell_type": "markdown",
   "id": "daf3cdad-f8e9-42d3-b97b-2e2963953169",
   "metadata": {},
   "source": [
    "**Visual by bar plot**"
   ]
  },
  {
   "cell_type": "code",
   "execution_count": 18,
   "id": "db7abd47-a2ae-4e68-8afd-6cc8af84700e",
   "metadata": {},
   "outputs": [
    {
     "data": {
      "image/png": "[encoded data removed]",
      "text/plain": [
       "<Figure size 432x288 with 1 Axes>"
      ]
     },
     "metadata": {
      "needs_background": "light"
     },
     "output_type": "display_data"
    }
   ],
   "source": [
    "eduData['parental level of education'].value_counts().plot(kind = 'barh')\n",
    "plt.show()"
   ]
  },
  {
   "cell_type": "markdown",
   "id": "931b9689-fc02-47fc-a4f9-0c8226f7d4f4",
   "metadata": {},
   "source": [
    "**Creating Boxplot Lunch vs Subject**"
   ]
  },
  {
   "cell_type": "code",
   "execution_count": 19,
   "id": "e9253853-f987-4d93-be5d-cfef9327c938",
   "metadata": {},
   "outputs": [
    {
     "data": {
      "text/plain": [
       "Text(0.5, 1.0, 'Writing Score')"
      ]
     },
     "execution_count": 19,
     "metadata": {},
     "output_type": "execute_result"
    },
    {
     "data": {
      "image/png": "[encoded data removed]",
      "text/plain": [
       "<Figure size 1080x360 with 3 Axes>"
      ]
     },
     "metadata": {
      "needs_background": "light"
     },
     "output_type": "display_data"
    }
   ],
   "source": [
    "fig, axes = plt.subplots(1, 3, figsize=(15, 5), sharey=True)\n",
    "fig.suptitle('Boxplot Lunch by Subject')\n",
    "\n",
    "# Math Score\n",
    "sns.boxplot(ax=axes[0], y='math score', x='lunch', \n",
    "                 data=eduData, \n",
    "                 palette=\"colorblind\")\n",
    "axes[0].set_title(\"Math Score\")\n",
    "\n",
    "\n",
    "# Reading Score\n",
    "sns.boxplot(ax=axes[1], y='reading score', x='lunch', \n",
    "                 data=eduData, \n",
    "                 palette=\"colorblind\")\n",
    "axes[1].set_title(\"Reading Score\")\n",
    "\n",
    "# Writing Score\n",
    "sns.boxplot(ax=axes[2], y='writing score', x='lunch', \n",
    "                 data=eduData, \n",
    "                 palette=\"colorblind\")\n",
    "axes[2].set_title(\"Writing Score\")"
   ]
  },
  {
   "cell_type": "markdown",
   "id": "b2c8ac1c-6e7e-4afa-a12c-6f092a756a85",
   "metadata": {},
   "source": [
    "**Groupby lunch**"
   ]
  },
  {
   "cell_type": "code",
   "execution_count": 20,
   "id": "2e0f363a-d213-4131-8242-d31c0084362f",
   "metadata": {},
   "outputs": [
    {
     "name": "stdout",
     "output_type": "stream",
     "text": [
      "              math score  reading score  writing score\n",
      "lunch                                                 \n",
      "free/reduced          60             65             64\n",
      "standard              69             72             72\n",
      "              math score  reading score  writing score\n",
      "lunch                                                 \n",
      "free/reduced   15.159956      14.895339      15.433823\n",
      "standard       13.653501      13.830602      14.339487\n"
     ]
    }
   ],
   "source": [
    "print(eduData.groupby(['lunch']).median()[['math score','reading score','writing score']])\n",
    "\n",
    "print(eduData.groupby(['lunch']).std()[['math score','reading score','writing score']])"
   ]
  },
  {
   "cell_type": "markdown",
   "id": "bbbd3180-1078-4fbf-800c-83f3a1466897",
   "metadata": {},
   "source": [
    "**Creating Boxplot Test Preparation Course vs Subject**"
   ]
  },
  {
   "cell_type": "code",
   "execution_count": 21,
   "id": "abeecbde-2a41-430c-b543-4bdcb86e9439",
   "metadata": {},
   "outputs": [
    {
     "data": {
      "text/plain": [
       "Text(0.5, 1.0, 'Writing Score')"
      ]
     },
     "execution_count": 21,
     "metadata": {},
     "output_type": "execute_result"
    },
    {
     "data": {
      "image/png": "[encoded data removed]",
      "text/plain": [
       "<Figure size 1080x360 with 3 Axes>"
      ]
     },
     "metadata": {
      "needs_background": "light"
     },
     "output_type": "display_data"
    }
   ],
   "source": [
    "fig, axes = plt.subplots(1, 3, figsize=(15, 5), sharey=True)\n",
    "fig.suptitle('Boxplot Test Preparation Course by Subject')\n",
    "\n",
    "# Math Score\n",
    "sns.boxplot(ax=axes[0], y='math score', x='test preparation course', \n",
    "                 data=eduData, \n",
    "                 palette=\"colorblind\")\n",
    "axes[0].set_title(\"Math Score\")\n",
    "\n",
    "\n",
    "# Reading Score\n",
    "sns.boxplot(ax=axes[1], y='reading score', x='test preparation course', \n",
    "                 data=eduData, \n",
    "                 palette=\"colorblind\")\n",
    "axes[1].set_title(\"Reading Score\")\n",
    "\n",
    "# Writing Score\n",
    "sns.boxplot(ax=axes[2], y='writing score', x='test preparation course', \n",
    "                 data=eduData, \n",
    "                 palette=\"colorblind\")\n",
    "axes[2].set_title(\"Writing Score\")"
   ]
  },
  {
   "cell_type": "markdown",
   "id": "b28b9ae0-b99a-461c-83ee-27660182b3a3",
   "metadata": {},
   "source": [
    "**Groupby test preparation course**"
   ]
  },
  {
   "cell_type": "code",
   "execution_count": 22,
   "id": "07dbf6ec-75c9-4026-8afa-fc9d259dff1f",
   "metadata": {},
   "outputs": [
    {
     "name": "stdout",
     "output_type": "stream",
     "text": [
      "                         math score  reading score  writing score\n",
      "test preparation course                                          \n",
      "completed                        69             75             76\n",
      "none                             64             67             65\n",
      "                         math score  reading score  writing score\n",
      "test preparation course                                          \n",
      "completed                 14.444699      13.638384      13.375335\n",
      "none                      15.192376      14.463885      14.999661\n"
     ]
    }
   ],
   "source": [
    "print(eduData.groupby(['test preparation course']).median()[['math score','reading score','writing score']])\n",
    "\n",
    "print(eduData.groupby(['test preparation course']).std()[['math score','reading score','writing score']])"
   ]
  },
  {
   "cell_type": "markdown",
   "id": "2a456d33-93e1-4e75-ac32-ce0a8f4d1613",
   "metadata": {},
   "source": [
    "Data may have positive, negative, or no correlation. It is interesting to describe how associate may be the three subjects. Reading and Writing have more strong association than Reading and Math or Writing and Math."
   ]
  },
  {
   "cell_type": "code",
   "execution_count": 23,
   "id": "000d38e0-92ce-4393-8083-967914ee3e04",
   "metadata": {},
   "outputs": [
    {
     "data": {
      "text/plain": [
       "<AxesSubplot:>"
      ]
     },
     "execution_count": 23,
     "metadata": {},
     "output_type": "execute_result"
    },
    {
     "data": {
      "image/png": "[encoded data removed]",
      "text/plain": [
       "<Figure size 432x288 with 2 Axes>"
      ]
     },
     "metadata": {
      "needs_background": "light"
     },
     "output_type": "display_data"
    }
   ],
   "source": [
    "eduCorr = eduData.corr()\n",
    "sns.heatmap(eduCorr,xticklabels=eduCorr.columns, yticklabels=eduCorr.columns,annot=True)"
   ]
  },
  {
   "cell_type": "markdown",
   "id": "8d0d9c64-bdc8-45e2-b4da-a040e26c505a",
   "metadata": {},
   "source": [
    "Data distribution show us the shape the data we analysing, it is very important when we are modeling. There is a cleary linear association between the subjects, that makes sense once students who have good performance in one subject may have good perfomance in other subjects as well.\n",
    "\n",
    "Also, all the three subjects seems to have a bell shape (condition to the Linear Regression)"
   ]
  },
  {
   "cell_type": "code",
   "execution_count": 24,
   "id": "6f917252-10f4-41d7-bedc-fc53f9cb8f7d",
   "metadata": {},
   "outputs": [
    {
     "data": {
      "text/plain": [
       "<seaborn.axisgrid.PairGrid at 0x2758e36eeb0>"
      ]
     },
     "execution_count": 24,
     "metadata": {},
     "output_type": "execute_result"
    },
    {
     "data": {
      "image/png": "[encoded data removed]",
      "text/plain": [
       "<Figure size 540x540 with 12 Axes>"
      ]
     },
     "metadata": {
      "needs_background": "light"
     },
     "output_type": "display_data"
    }
   ],
   "source": [
    "# Data Distribution\n",
    "sns.pairplot(eduData)"
   ]
  },
  {
   "cell_type": "markdown",
   "id": "e45bf4e1-3dab-40e1-bf72-ebb67fe235f2",
   "metadata": {},
   "source": [
    "Let's apply a Linear Regression to understating how social background variables may affect the perfomance of the students in the exam.\n",
    "\n",
    "One tool very useful to test the normality of our data is Q-Q Plot. It is a graphical technique for determining if the data comes from a theorical distribution, in our case we want to check if our data comes from a Normal Distribution. The data seems fit in the Normal Distribution, even if the values in the tail are escaping from our theorical Distribution."
   ]
  },
  {
   "cell_type": "code",
   "execution_count": 25,
   "id": "2f67fbc4-4aba-4932-b29b-da2f23d285e1",
   "metadata": {},
   "outputs": [
    {
     "data": {
      "image/png": "[encoded data removed]",
      "text/plain": [
       "<Figure size 1080x360 with 3 Axes>"
      ]
     },
     "execution_count": 25,
     "metadata": {},
     "output_type": "execute_result"
    }
   ],
   "source": [
    "from statsmodels.graphics.gofplots import qqplot\n",
    "\n",
    "# Clearing Axes\n",
    "axes[0].clear();axes[1].clear();axes[2].clear()\n",
    "# Checking Normality\n",
    "fig.suptitle('Theorical Normal Distribution')\n",
    "\n",
    "qqplot(eduData['math score'], line = 's', ax = axes[0])\n",
    "qqplot(eduData['reading score'], line = 's', ax = axes[1])\n",
    "qqplot(eduData['writing score'], line = 's', ax = axes[2])"
   ]
  },
  {
   "cell_type": "markdown",
   "id": "33281e0d-da00-422a-b9b4-3f5368a5cf33",
   "metadata": {},
   "source": [
    "**Linear Regression**\n",
    "\n",
    "- One model that may very powerful and useful is the Linear Regression. There is a full theorical background that explains how the Ordinary Least Square works very well in the attempt to explain the linear relationship between data.\n",
    "\n",
    "- The relationship between the grade score archive by the students and their social background variables may be describe through Linear Regression. In our case, where the target variable is numerical and the explanatory variables are categorical, we will perform a Linear Regression using dummies variables.\n"
   ]
  },
  {
   "cell_type": "code",
   "execution_count": 26,
   "id": "18e91e7f-6c6f-4362-8f88-c98542342649",
   "metadata": {},
   "outputs": [],
   "source": [
    "# Preparing Dataset for Linear Regression\n",
    "eduDataLR = pd.get_dummies(eduData)\n",
    "\n",
    "# Explanatory Variables\n",
    "eduDataLR_X = eduDataLR.drop(columns=['math score','reading score', 'writing score'])\n",
    "eduDataLR_X = sm.add_constant(eduDataLR_X)"
   ]
  },
  {
   "cell_type": "markdown",
   "id": "b6aaf817-bb3c-48ed-8553-40ac85199412",
   "metadata": {},
   "source": [
    "- Applying the Linear Regression with Math Score variable as target, we can confirm few evidences already saw in the exploratory analysis. The variable Gender shows us that female perform less than male in Mathmatics (approximately five score points less).\n",
    "\n",
    "- Also, students who belong to the race/ethnicity group E may obtain much more score from those who belongs to the race/ethnicity group A,B, C or D (approximately ten times more than group A and two times more than group D).\n",
    "\n",
    "- Parents with Master Degree also shows strong evidence that affect the perfomance of students in the Math Score exame as well Lunch and Course Preparation.\n",
    "\n",
    "- Importance to notice that for parental level of education_high school, parental level of education_some high school, and race/ethnicity_group A the p-value was not significant."
   ]
  },
  {
   "cell_type": "code",
   "execution_count": 27,
   "id": "4773412a-e3f3-452f-8bcc-753616ea9fcf",
   "metadata": {},
   "outputs": [
    {
     "data": {
      "text/html": [
       "<table class=\"simpletable\">\n",
       "<caption>OLS Regression Results</caption>\n",
       "<tr>\n",
       "  <th>Dep. Variable:</th>       <td>math score</td>    <th>  R-squared:         </th> <td>   0.255</td>\n",
       "</tr>\n",
       "<tr>\n",
       "  <th>Model:</th>                   <td>OLS</td>       <th>  Adj. R-squared:    </th> <td>   0.246</td>\n",
       "</tr>\n",
       "<tr>\n",
       "  <th>Method:</th>             <td>Least Squares</td>  <th>  F-statistic:       </th> <td>   28.12</td>\n",
       "</tr>\n",
       "<tr>\n",
       "  <th>Date:</th>             <td>Mon, 28 Jun 2021</td> <th>  Prob (F-statistic):</th> <td>2.62e-55</td>\n",
       "</tr>\n",
       "<tr>\n",
       "  <th>Time:</th>                 <td>14:47:38</td>     <th>  Log-Likelihood:    </th> <td> -3990.3</td>\n",
       "</tr>\n",
       "<tr>\n",
       "  <th>No. Observations:</th>      <td>  1000</td>      <th>  AIC:               </th> <td>   8007.</td>\n",
       "</tr>\n",
       "<tr>\n",
       "  <th>Df Residuals:</th>          <td>   987</td>      <th>  BIC:               </th> <td>   8070.</td>\n",
       "</tr>\n",
       "<tr>\n",
       "  <th>Df Model:</th>              <td>    12</td>      <th>                     </th>     <td> </td>   \n",
       "</tr>\n",
       "<tr>\n",
       "  <th>Covariance Type:</th>      <td>nonrobust</td>    <th>                     </th>     <td> </td>   \n",
       "</tr>\n",
       "</table>\n",
       "<table class=\"simpletable\">\n",
       "<tr>\n",
       "                         <td></td>                           <th>coef</th>     <th>std err</th>      <th>t</th>      <th>P>|t|</th>  <th>[0.025</th>    <th>0.975]</th>  \n",
       "</tr>\n",
       "<tr>\n",
       "  <th>const</th>                                          <td>   23.0302</td> <td>    0.187</td> <td>  123.319</td> <td> 0.000</td> <td>   22.664</td> <td>   23.397</td>\n",
       "</tr>\n",
       "<tr>\n",
       "  <th>gender_female</th>                                  <td>    9.0175</td> <td>    0.428</td> <td>   21.083</td> <td> 0.000</td> <td>    8.178</td> <td>    9.857</td>\n",
       "</tr>\n",
       "<tr>\n",
       "  <th>gender_male</th>                                    <td>   14.0128</td> <td>    0.432</td> <td>   32.452</td> <td> 0.000</td> <td>   13.165</td> <td>   14.860</td>\n",
       "</tr>\n",
       "<tr>\n",
       "  <th>race/ethnicity_group A</th>                         <td>    0.6087</td> <td>    1.195</td> <td>    0.509</td> <td> 0.611</td> <td>   -1.736</td> <td>    2.953</td>\n",
       "</tr>\n",
       "<tr>\n",
       "  <th>race/ethnicity_group B</th>                         <td>    2.6495</td> <td>    0.875</td> <td>    3.028</td> <td> 0.003</td> <td>    0.932</td> <td>    4.367</td>\n",
       "</tr>\n",
       "<tr>\n",
       "  <th>race/ethnicity_group C</th>                         <td>    3.0787</td> <td>    0.728</td> <td>    4.229</td> <td> 0.000</td> <td>    1.650</td> <td>    4.507</td>\n",
       "</tr>\n",
       "<tr>\n",
       "  <th>race/ethnicity_group D</th>                         <td>    5.9498</td> <td>    0.779</td> <td>    7.639</td> <td> 0.000</td> <td>    4.421</td> <td>    7.478</td>\n",
       "</tr>\n",
       "<tr>\n",
       "  <th>race/ethnicity_group E</th>                         <td>   10.7435</td> <td>    0.988</td> <td>   10.869</td> <td> 0.000</td> <td>    8.804</td> <td>   12.683</td>\n",
       "</tr>\n",
       "<tr>\n",
       "  <th>parental level of education_associate's degree</th> <td>    4.6350</td> <td>    0.857</td> <td>    5.409</td> <td> 0.000</td> <td>    2.953</td> <td>    6.317</td>\n",
       "</tr>\n",
       "<tr>\n",
       "  <th>parental level of education_bachelor's degree</th>  <td>    6.6011</td> <td>    1.097</td> <td>    6.019</td> <td> 0.000</td> <td>    4.449</td> <td>    8.753</td>\n",
       "</tr>\n",
       "<tr>\n",
       "  <th>parental level of education_high school</th>        <td>   -0.1678</td> <td>    0.902</td> <td>   -0.186</td> <td> 0.852</td> <td>   -1.938</td> <td>    1.602</td>\n",
       "</tr>\n",
       "<tr>\n",
       "  <th>parental level of education_master's degree</th>    <td>    7.5234</td> <td>    1.495</td> <td>    5.033</td> <td> 0.000</td> <td>    4.590</td> <td>   10.457</td>\n",
       "</tr>\n",
       "<tr>\n",
       "  <th>parental level of education_some college</th>       <td>    4.0523</td> <td>    0.849</td> <td>    4.772</td> <td> 0.000</td> <td>    2.386</td> <td>    5.719</td>\n",
       "</tr>\n",
       "<tr>\n",
       "  <th>parental level of education_some high school</th>   <td>    0.3863</td> <td>    0.932</td> <td>    0.414</td> <td> 0.679</td> <td>   -1.443</td> <td>    2.216</td>\n",
       "</tr>\n",
       "<tr>\n",
       "  <th>lunch_free/reduced</th>                             <td>    6.0767</td> <td>    0.466</td> <td>   13.049</td> <td> 0.000</td> <td>    5.163</td> <td>    6.991</td>\n",
       "</tr>\n",
       "<tr>\n",
       "  <th>lunch_standard</th>                                 <td>   16.9535</td> <td>    0.426</td> <td>   39.805</td> <td> 0.000</td> <td>   16.118</td> <td>   17.789</td>\n",
       "</tr>\n",
       "<tr>\n",
       "  <th>test preparation course_completed</th>              <td>   14.2624</td> <td>    0.467</td> <td>   30.533</td> <td> 0.000</td> <td>   13.346</td> <td>   15.179</td>\n",
       "</tr>\n",
       "<tr>\n",
       "  <th>test preparation course_none</th>                   <td>    8.7678</td> <td>    0.427</td> <td>   20.518</td> <td> 0.000</td> <td>    7.929</td> <td>    9.606</td>\n",
       "</tr>\n",
       "</table>\n",
       "<table class=\"simpletable\">\n",
       "<tr>\n",
       "  <th>Omnibus:</th>       <td> 9.026</td> <th>  Durbin-Watson:     </th> <td>   2.043</td>\n",
       "</tr>\n",
       "<tr>\n",
       "  <th>Prob(Omnibus):</th> <td> 0.011</td> <th>  Jarque-Bera (JB):  </th> <td>   9.201</td>\n",
       "</tr>\n",
       "<tr>\n",
       "  <th>Skew:</th>          <td>-0.232</td> <th>  Prob(JB):          </th> <td>  0.0100</td>\n",
       "</tr>\n",
       "<tr>\n",
       "  <th>Kurtosis:</th>      <td> 2.928</td> <th>  Cond. No.          </th> <td>1.20e+16</td>\n",
       "</tr>\n",
       "</table><br/><br/>Notes:<br/>[1] Standard Errors assume that the covariance matrix of the errors is correctly specified.<br/>[2] The smallest eigenvalue is 2.11e-29. This might indicate that there are<br/>strong multicollinearity problems or that the design matrix is singular."
      ],
      "text/plain": [
       "<class 'statsmodels.iolib.summary.Summary'>\n",
       "\"\"\"\n",
       "                            OLS Regression Results                            \n",
       "==============================================================================\n",
       "Dep. Variable:             math score   R-squared:                       0.255\n",
       "Model:                            OLS   Adj. R-squared:                  0.246\n",
       "Method:                 Least Squares   F-statistic:                     28.12\n",
       "Date:                Mon, 28 Jun 2021   Prob (F-statistic):           2.62e-55\n",
       "Time:                        14:47:38   Log-Likelihood:                -3990.3\n",
       "No. Observations:                1000   AIC:                             8007.\n",
       "Df Residuals:                     987   BIC:                             8070.\n",
       "Df Model:                          12                                         \n",
       "Covariance Type:            nonrobust                                         \n",
       "==================================================================================================================\n",
       "                                                     coef    std err          t      P>|t|      [0.025      0.975]\n",
       "------------------------------------------------------------------------------------------------------------------\n",
       "const                                             23.0302      0.187    123.319      0.000      22.664      23.397\n",
       "gender_female                                      9.0175      0.428     21.083      0.000       8.178       9.857\n",
       "gender_male                                       14.0128      0.432     32.452      0.000      13.165      14.860\n",
       "race/ethnicity_group A                             0.6087      1.195      0.509      0.611      -1.736       2.953\n",
       "race/ethnicity_group B                             2.6495      0.875      3.028      0.003       0.932       4.367\n",
       "race/ethnicity_group C                             3.0787      0.728      4.229      0.000       1.650       4.507\n",
       "race/ethnicity_group D                             5.9498      0.779      7.639      0.000       4.421       7.478\n",
       "race/ethnicity_group E                            10.7435      0.988     10.869      0.000       8.804      12.683\n",
       "parental level of education_associate's degree     4.6350      0.857      5.409      0.000       2.953       6.317\n",
       "parental level of education_bachelor's degree      6.6011      1.097      6.019      0.000       4.449       8.753\n",
       "parental level of education_high school           -0.1678      0.902     -0.186      0.852      -1.938       1.602\n",
       "parental level of education_master's degree        7.5234      1.495      5.033      0.000       4.590      10.457\n",
       "parental level of education_some college           4.0523      0.849      4.772      0.000       2.386       5.719\n",
       "parental level of education_some high school       0.3863      0.932      0.414      0.679      -1.443       2.216\n",
       "lunch_free/reduced                                 6.0767      0.466     13.049      0.000       5.163       6.991\n",
       "lunch_standard                                    16.9535      0.426     39.805      0.000      16.118      17.789\n",
       "test preparation course_completed                 14.2624      0.467     30.533      0.000      13.346      15.179\n",
       "test preparation course_none                       8.7678      0.427     20.518      0.000       7.929       9.606\n",
       "==============================================================================\n",
       "Omnibus:                        9.026   Durbin-Watson:                   2.043\n",
       "Prob(Omnibus):                  0.011   Jarque-Bera (JB):                9.201\n",
       "Skew:                          -0.232   Prob(JB):                       0.0100\n",
       "Kurtosis:                       2.928   Cond. No.                     1.20e+16\n",
       "==============================================================================\n",
       "\n",
       "Notes:\n",
       "[1] Standard Errors assume that the covariance matrix of the errors is correctly specified.\n",
       "[2] The smallest eigenvalue is 2.11e-29. This might indicate that there are\n",
       "strong multicollinearity problems or that the design matrix is singular.\n",
       "\"\"\""
      ]
     },
     "execution_count": 27,
     "metadata": {},
     "output_type": "execute_result"
    }
   ],
   "source": [
    "# Math Score Model\n",
    "modelMathScore = sm.OLS(eduDataLR['math score'],eduDataLR_X).fit()\n",
    "modelMathScore.summary()"
   ]
  },
  {
   "cell_type": "markdown",
   "id": "ce44cbc0-90b2-49d3-894b-7a6851e4d00b",
   "metadata": {},
   "source": [
    "- Now, we apply the explanatory variables in a new target variable Reading Score. The results for gender now are the opposite than before for Gender, female perform better in Reading than male (approximately seven score points more). The distances between students between race/ethnicity are less abrupt than before, but still very high.\n",
    "\n",
    "- The other veraibles follow a similar pattern than the previous analysis."
   ]
  },
  {
   "cell_type": "code",
   "execution_count": 28,
   "id": "b17f6958-60d1-45e0-8ef6-153e1915d315",
   "metadata": {},
   "outputs": [
    {
     "data": {
      "text/html": [
       "<table class=\"simpletable\">\n",
       "<caption>OLS Regression Results</caption>\n",
       "<tr>\n",
       "  <th>Dep. Variable:</th>      <td>reading score</td>  <th>  R-squared:         </th> <td>   0.227</td>\n",
       "</tr>\n",
       "<tr>\n",
       "  <th>Model:</th>                   <td>OLS</td>       <th>  Adj. R-squared:    </th> <td>   0.218</td>\n",
       "</tr>\n",
       "<tr>\n",
       "  <th>Method:</th>             <td>Least Squares</td>  <th>  F-statistic:       </th> <td>   24.19</td>\n",
       "</tr>\n",
       "<tr>\n",
       "  <th>Date:</th>             <td>Mon, 28 Jun 2021</td> <th>  Prob (F-statistic):</th> <td>8.62e-48</td>\n",
       "</tr>\n",
       "<tr>\n",
       "  <th>Time:</th>                 <td>14:48:43</td>     <th>  Log-Likelihood:    </th> <td> -3970.5</td>\n",
       "</tr>\n",
       "<tr>\n",
       "  <th>No. Observations:</th>      <td>  1000</td>      <th>  AIC:               </th> <td>   7967.</td>\n",
       "</tr>\n",
       "<tr>\n",
       "  <th>Df Residuals:</th>          <td>   987</td>      <th>  BIC:               </th> <td>   8031.</td>\n",
       "</tr>\n",
       "<tr>\n",
       "  <th>Df Model:</th>              <td>    12</td>      <th>                     </th>     <td> </td>   \n",
       "</tr>\n",
       "<tr>\n",
       "  <th>Covariance Type:</th>      <td>nonrobust</td>    <th>                     </th>     <td> </td>   \n",
       "</tr>\n",
       "</table>\n",
       "<table class=\"simpletable\">\n",
       "<tr>\n",
       "                         <td></td>                           <th>coef</th>     <th>std err</th>      <th>t</th>      <th>P>|t|</th>  <th>[0.025</th>    <th>0.975]</th>  \n",
       "</tr>\n",
       "<tr>\n",
       "  <th>const</th>                                          <td>   24.3079</td> <td>    0.183</td> <td>  132.753</td> <td> 0.000</td> <td>   23.949</td> <td>   24.667</td>\n",
       "</tr>\n",
       "<tr>\n",
       "  <th>gender_female</th>                                  <td>   15.6897</td> <td>    0.419</td> <td>   37.413</td> <td> 0.000</td> <td>   14.867</td> <td>   16.513</td>\n",
       "</tr>\n",
       "<tr>\n",
       "  <th>gender_male</th>                                    <td>    8.6183</td> <td>    0.423</td> <td>   20.357</td> <td> 0.000</td> <td>    7.787</td> <td>    9.449</td>\n",
       "</tr>\n",
       "<tr>\n",
       "  <th>race/ethnicity_group A</th>                         <td>    2.2178</td> <td>    1.171</td> <td>    1.893</td> <td> 0.059</td> <td>   -0.081</td> <td>    4.517</td>\n",
       "</tr>\n",
       "<tr>\n",
       "  <th>race/ethnicity_group B</th>                         <td>    3.5438</td> <td>    0.858</td> <td>    4.130</td> <td> 0.000</td> <td>    1.860</td> <td>    5.228</td>\n",
       "</tr>\n",
       "<tr>\n",
       "  <th>race/ethnicity_group C</th>                         <td>    4.4917</td> <td>    0.714</td> <td>    6.293</td> <td> 0.000</td> <td>    3.091</td> <td>    5.892</td>\n",
       "</tr>\n",
       "<tr>\n",
       "  <th>race/ethnicity_group D</th>                         <td>    6.3234</td> <td>    0.764</td> <td>    8.281</td> <td> 0.000</td> <td>    4.825</td> <td>    7.822</td>\n",
       "</tr>\n",
       "<tr>\n",
       "  <th>race/ethnicity_group E</th>                         <td>    7.7313</td> <td>    0.969</td> <td>    7.977</td> <td> 0.000</td> <td>    5.829</td> <td>    9.633</td>\n",
       "</tr>\n",
       "<tr>\n",
       "  <th>parental level of education_associate's degree</th> <td>    4.6960</td> <td>    0.840</td> <td>    5.589</td> <td> 0.000</td> <td>    3.047</td> <td>    6.345</td>\n",
       "</tr>\n",
       "<tr>\n",
       "  <th>parental level of education_bachelor's degree</th>  <td>    6.8519</td> <td>    1.075</td> <td>    6.373</td> <td> 0.000</td> <td>    4.742</td> <td>    8.962</td>\n",
       "</tr>\n",
       "<tr>\n",
       "  <th>parental level of education_high school</th>        <td>   -0.2044</td> <td>    0.884</td> <td>   -0.231</td> <td> 0.817</td> <td>   -1.940</td> <td>    1.531</td>\n",
       "</tr>\n",
       "<tr>\n",
       "  <th>parental level of education_master's degree</th>    <td>    8.9010</td> <td>    1.466</td> <td>    6.073</td> <td> 0.000</td> <td>    6.025</td> <td>   11.777</td>\n",
       "</tr>\n",
       "<tr>\n",
       "  <th>parental level of education_some college</th>       <td>    3.4165</td> <td>    0.833</td> <td>    4.104</td> <td> 0.000</td> <td>    1.783</td> <td>    5.050</td>\n",
       "</tr>\n",
       "<tr>\n",
       "  <th>parental level of education_some high school</th>   <td>    0.6469</td> <td>    0.914</td> <td>    0.708</td> <td> 0.479</td> <td>   -1.147</td> <td>    2.441</td>\n",
       "</tr>\n",
       "<tr>\n",
       "  <th>lunch_free/reduced</th>                             <td>    8.5311</td> <td>    0.457</td> <td>   18.684</td> <td> 0.000</td> <td>    7.635</td> <td>    9.427</td>\n",
       "</tr>\n",
       "<tr>\n",
       "  <th>lunch_standard</th>                                 <td>   15.7769</td> <td>    0.418</td> <td>   37.780</td> <td> 0.000</td> <td>   14.957</td> <td>   16.596</td>\n",
       "</tr>\n",
       "<tr>\n",
       "  <th>test preparation course_completed</th>              <td>   15.8352</td> <td>    0.458</td> <td>   34.575</td> <td> 0.000</td> <td>   14.936</td> <td>   16.734</td>\n",
       "</tr>\n",
       "<tr>\n",
       "  <th>test preparation course_none</th>                   <td>    8.4727</td> <td>    0.419</td> <td>   20.222</td> <td> 0.000</td> <td>    7.651</td> <td>    9.295</td>\n",
       "</tr>\n",
       "</table>\n",
       "<table class=\"simpletable\">\n",
       "<tr>\n",
       "  <th>Omnibus:</th>       <td>11.191</td> <th>  Durbin-Watson:     </th> <td>   2.038</td>\n",
       "</tr>\n",
       "<tr>\n",
       "  <th>Prob(Omnibus):</th> <td> 0.004</td> <th>  Jarque-Bera (JB):  </th> <td>  11.258</td>\n",
       "</tr>\n",
       "<tr>\n",
       "  <th>Skew:</th>          <td>-0.242</td> <th>  Prob(JB):          </th> <td> 0.00359</td>\n",
       "</tr>\n",
       "<tr>\n",
       "  <th>Kurtosis:</th>      <td> 2.812</td> <th>  Cond. No.          </th> <td>1.20e+16</td>\n",
       "</tr>\n",
       "</table><br/><br/>Notes:<br/>[1] Standard Errors assume that the covariance matrix of the errors is correctly specified.<br/>[2] The smallest eigenvalue is 2.11e-29. This might indicate that there are<br/>strong multicollinearity problems or that the design matrix is singular."
      ],
      "text/plain": [
       "<class 'statsmodels.iolib.summary.Summary'>\n",
       "\"\"\"\n",
       "                            OLS Regression Results                            \n",
       "==============================================================================\n",
       "Dep. Variable:          reading score   R-squared:                       0.227\n",
       "Model:                            OLS   Adj. R-squared:                  0.218\n",
       "Method:                 Least Squares   F-statistic:                     24.19\n",
       "Date:                Mon, 28 Jun 2021   Prob (F-statistic):           8.62e-48\n",
       "Time:                        14:48:43   Log-Likelihood:                -3970.5\n",
       "No. Observations:                1000   AIC:                             7967.\n",
       "Df Residuals:                     987   BIC:                             8031.\n",
       "Df Model:                          12                                         \n",
       "Covariance Type:            nonrobust                                         \n",
       "==================================================================================================================\n",
       "                                                     coef    std err          t      P>|t|      [0.025      0.975]\n",
       "------------------------------------------------------------------------------------------------------------------\n",
       "const                                             24.3079      0.183    132.753      0.000      23.949      24.667\n",
       "gender_female                                     15.6897      0.419     37.413      0.000      14.867      16.513\n",
       "gender_male                                        8.6183      0.423     20.357      0.000       7.787       9.449\n",
       "race/ethnicity_group A                             2.2178      1.171      1.893      0.059      -0.081       4.517\n",
       "race/ethnicity_group B                             3.5438      0.858      4.130      0.000       1.860       5.228\n",
       "race/ethnicity_group C                             4.4917      0.714      6.293      0.000       3.091       5.892\n",
       "race/ethnicity_group D                             6.3234      0.764      8.281      0.000       4.825       7.822\n",
       "race/ethnicity_group E                             7.7313      0.969      7.977      0.000       5.829       9.633\n",
       "parental level of education_associate's degree     4.6960      0.840      5.589      0.000       3.047       6.345\n",
       "parental level of education_bachelor's degree      6.8519      1.075      6.373      0.000       4.742       8.962\n",
       "parental level of education_high school           -0.2044      0.884     -0.231      0.817      -1.940       1.531\n",
       "parental level of education_master's degree        8.9010      1.466      6.073      0.000       6.025      11.777\n",
       "parental level of education_some college           3.4165      0.833      4.104      0.000       1.783       5.050\n",
       "parental level of education_some high school       0.6469      0.914      0.708      0.479      -1.147       2.441\n",
       "lunch_free/reduced                                 8.5311      0.457     18.684      0.000       7.635       9.427\n",
       "lunch_standard                                    15.7769      0.418     37.780      0.000      14.957      16.596\n",
       "test preparation course_completed                 15.8352      0.458     34.575      0.000      14.936      16.734\n",
       "test preparation course_none                       8.4727      0.419     20.222      0.000       7.651       9.295\n",
       "==============================================================================\n",
       "Omnibus:                       11.191   Durbin-Watson:                   2.038\n",
       "Prob(Omnibus):                  0.004   Jarque-Bera (JB):               11.258\n",
       "Skew:                          -0.242   Prob(JB):                      0.00359\n",
       "Kurtosis:                       2.812   Cond. No.                     1.20e+16\n",
       "==============================================================================\n",
       "\n",
       "Notes:\n",
       "[1] Standard Errors assume that the covariance matrix of the errors is correctly specified.\n",
       "[2] The smallest eigenvalue is 2.11e-29. This might indicate that there are\n",
       "strong multicollinearity problems or that the design matrix is singular.\n",
       "\"\"\""
      ]
     },
     "execution_count": 28,
     "metadata": {},
     "output_type": "execute_result"
    }
   ],
   "source": [
    "# Reading Model\n",
    "modelReadingScore = sm.OLS(eduDataLR['reading score'],eduDataLR_X).fit()\n",
    "modelReadingScore.summary()"
   ]
  },
  {
   "cell_type": "markdown",
   "id": "eea4f7a9-fab4-44f7-8824-dcca700960d8",
   "metadata": {},
   "source": [
    "- The Linear Regression for Writing Score target varaible shows very similar results of Reading Score target. Nevertheless, the R-square was a bit better for this modeling."
   ]
  },
  {
   "cell_type": "code",
   "execution_count": 29,
   "id": "ec9e5e10-82c8-4371-a0c9-6a8fdb6aa289",
   "metadata": {},
   "outputs": [
    {
     "data": {
      "text/html": [
       "<table class=\"simpletable\">\n",
       "<caption>OLS Regression Results</caption>\n",
       "<tr>\n",
       "  <th>Dep. Variable:</th>      <td>writing score</td>  <th>  R-squared:         </th> <td>   0.334</td>\n",
       "</tr>\n",
       "<tr>\n",
       "  <th>Model:</th>                   <td>OLS</td>       <th>  Adj. R-squared:    </th> <td>   0.326</td>\n",
       "</tr>\n",
       "<tr>\n",
       "  <th>Method:</th>             <td>Least Squares</td>  <th>  F-statistic:       </th> <td>   41.25</td>\n",
       "</tr>\n",
       "<tr>\n",
       "  <th>Date:</th>             <td>Mon, 28 Jun 2021</td> <th>  Prob (F-statistic):</th> <td>8.17e-79</td>\n",
       "</tr>\n",
       "<tr>\n",
       "  <th>Time:</th>                 <td>14:49:17</td>     <th>  Log-Likelihood:    </th> <td> -3936.2</td>\n",
       "</tr>\n",
       "<tr>\n",
       "  <th>No. Observations:</th>      <td>  1000</td>      <th>  AIC:               </th> <td>   7898.</td>\n",
       "</tr>\n",
       "<tr>\n",
       "  <th>Df Residuals:</th>          <td>   987</td>      <th>  BIC:               </th> <td>   7962.</td>\n",
       "</tr>\n",
       "<tr>\n",
       "  <th>Df Model:</th>              <td>    12</td>      <th>                     </th>     <td> </td>   \n",
       "</tr>\n",
       "<tr>\n",
       "  <th>Covariance Type:</th>      <td>nonrobust</td>    <th>                     </th>     <td> </td>   \n",
       "</tr>\n",
       "</table>\n",
       "<table class=\"simpletable\">\n",
       "<tr>\n",
       "                         <td></td>                           <th>coef</th>     <th>std err</th>      <th>t</th>      <th>P>|t|</th>  <th>[0.025</th>    <th>0.975]</th>  \n",
       "</tr>\n",
       "<tr>\n",
       "  <th>const</th>                                          <td>   24.0046</td> <td>    0.177</td> <td>  135.676</td> <td> 0.000</td> <td>   23.657</td> <td>   24.352</td>\n",
       "</tr>\n",
       "<tr>\n",
       "  <th>gender_female</th>                                  <td>   16.5506</td> <td>    0.405</td> <td>   40.845</td> <td> 0.000</td> <td>   15.755</td> <td>   17.346</td>\n",
       "</tr>\n",
       "<tr>\n",
       "  <th>gender_male</th>                                    <td>    7.4541</td> <td>    0.409</td> <td>   18.222</td> <td> 0.000</td> <td>    6.651</td> <td>    8.257</td>\n",
       "</tr>\n",
       "<tr>\n",
       "  <th>race/ethnicity_group A</th>                         <td>    1.8608</td> <td>    1.132</td> <td>    1.644</td> <td> 0.101</td> <td>   -0.360</td> <td>    4.082</td>\n",
       "</tr>\n",
       "<tr>\n",
       "  <th>race/ethnicity_group B</th>                         <td>    3.0809</td> <td>    0.829</td> <td>    3.716</td> <td> 0.000</td> <td>    1.454</td> <td>    4.708</td>\n",
       "</tr>\n",
       "<tr>\n",
       "  <th>race/ethnicity_group C</th>                         <td>    4.2734</td> <td>    0.690</td> <td>    6.196</td> <td> 0.000</td> <td>    2.920</td> <td>    5.627</td>\n",
       "</tr>\n",
       "<tr>\n",
       "  <th>race/ethnicity_group D</th>                         <td>    7.7915</td> <td>    0.738</td> <td>   10.559</td> <td> 0.000</td> <td>    6.344</td> <td>    9.239</td>\n",
       "</tr>\n",
       "<tr>\n",
       "  <th>race/ethnicity_group E</th>                         <td>    6.9981</td> <td>    0.936</td> <td>    7.473</td> <td> 0.000</td> <td>    5.160</td> <td>    8.836</td>\n",
       "</tr>\n",
       "<tr>\n",
       "  <th>parental level of education_associate's degree</th> <td>    4.5656</td> <td>    0.812</td> <td>    5.624</td> <td> 0.000</td> <td>    2.973</td> <td>    6.159</td>\n",
       "</tr>\n",
       "<tr>\n",
       "  <th>parental level of education_bachelor's degree</th>  <td>    8.0505</td> <td>    1.039</td> <td>    7.749</td> <td> 0.000</td> <td>    6.012</td> <td>   10.089</td>\n",
       "</tr>\n",
       "<tr>\n",
       "  <th>parental level of education_high school</th>        <td>   -1.2488</td> <td>    0.854</td> <td>   -1.462</td> <td> 0.144</td> <td>   -2.925</td> <td>    0.428</td>\n",
       "</tr>\n",
       "<tr>\n",
       "  <th>parental level of education_master's degree</th>    <td>    9.7488</td> <td>    1.416</td> <td>    6.884</td> <td> 0.000</td> <td>    6.970</td> <td>   12.528</td>\n",
       "</tr>\n",
       "<tr>\n",
       "  <th>parental level of education_some college</th>       <td>    3.6451</td> <td>    0.804</td> <td>    4.531</td> <td> 0.000</td> <td>    2.066</td> <td>    5.224</td>\n",
       "</tr>\n",
       "<tr>\n",
       "  <th>parental level of education_some high school</th>   <td>   -0.7566</td> <td>    0.883</td> <td>   -0.857</td> <td> 0.392</td> <td>   -2.490</td> <td>    0.976</td>\n",
       "</tr>\n",
       "<tr>\n",
       "  <th>lunch_free/reduced</th>                             <td>    7.9009</td> <td>    0.441</td> <td>   17.909</td> <td> 0.000</td> <td>    7.035</td> <td>    8.767</td>\n",
       "</tr>\n",
       "<tr>\n",
       "  <th>lunch_standard</th>                                 <td>   16.1037</td> <td>    0.404</td> <td>   39.910</td> <td> 0.000</td> <td>   15.312</td> <td>   16.896</td>\n",
       "</tr>\n",
       "<tr>\n",
       "  <th>test preparation course_completed</th>              <td>   17.0317</td> <td>    0.443</td> <td>   38.486</td> <td> 0.000</td> <td>   16.163</td> <td>   17.900</td>\n",
       "</tr>\n",
       "<tr>\n",
       "  <th>test preparation course_none</th>                   <td>    6.9730</td> <td>    0.405</td> <td>   17.224</td> <td> 0.000</td> <td>    6.179</td> <td>    7.767</td>\n",
       "</tr>\n",
       "</table>\n",
       "<table class=\"simpletable\">\n",
       "<tr>\n",
       "  <th>Omnibus:</th>       <td>16.647</td> <th>  Durbin-Watson:     </th> <td>   2.038</td>\n",
       "</tr>\n",
       "<tr>\n",
       "  <th>Prob(Omnibus):</th> <td> 0.000</td> <th>  Jarque-Bera (JB):  </th> <td>  17.222</td>\n",
       "</tr>\n",
       "<tr>\n",
       "  <th>Skew:</th>          <td>-0.321</td> <th>  Prob(JB):          </th> <td>0.000182</td>\n",
       "</tr>\n",
       "<tr>\n",
       "  <th>Kurtosis:</th>      <td> 2.982</td> <th>  Cond. No.          </th> <td>1.20e+16</td>\n",
       "</tr>\n",
       "</table><br/><br/>Notes:<br/>[1] Standard Errors assume that the covariance matrix of the errors is correctly specified.<br/>[2] The smallest eigenvalue is 2.11e-29. This might indicate that there are<br/>strong multicollinearity problems or that the design matrix is singular."
      ],
      "text/plain": [
       "<class 'statsmodels.iolib.summary.Summary'>\n",
       "\"\"\"\n",
       "                            OLS Regression Results                            \n",
       "==============================================================================\n",
       "Dep. Variable:          writing score   R-squared:                       0.334\n",
       "Model:                            OLS   Adj. R-squared:                  0.326\n",
       "Method:                 Least Squares   F-statistic:                     41.25\n",
       "Date:                Mon, 28 Jun 2021   Prob (F-statistic):           8.17e-79\n",
       "Time:                        14:49:17   Log-Likelihood:                -3936.2\n",
       "No. Observations:                1000   AIC:                             7898.\n",
       "Df Residuals:                     987   BIC:                             7962.\n",
       "Df Model:                          12                                         \n",
       "Covariance Type:            nonrobust                                         \n",
       "==================================================================================================================\n",
       "                                                     coef    std err          t      P>|t|      [0.025      0.975]\n",
       "------------------------------------------------------------------------------------------------------------------\n",
       "const                                             24.0046      0.177    135.676      0.000      23.657      24.352\n",
       "gender_female                                     16.5506      0.405     40.845      0.000      15.755      17.346\n",
       "gender_male                                        7.4541      0.409     18.222      0.000       6.651       8.257\n",
       "race/ethnicity_group A                             1.8608      1.132      1.644      0.101      -0.360       4.082\n",
       "race/ethnicity_group B                             3.0809      0.829      3.716      0.000       1.454       4.708\n",
       "race/ethnicity_group C                             4.2734      0.690      6.196      0.000       2.920       5.627\n",
       "race/ethnicity_group D                             7.7915      0.738     10.559      0.000       6.344       9.239\n",
       "race/ethnicity_group E                             6.9981      0.936      7.473      0.000       5.160       8.836\n",
       "parental level of education_associate's degree     4.5656      0.812      5.624      0.000       2.973       6.159\n",
       "parental level of education_bachelor's degree      8.0505      1.039      7.749      0.000       6.012      10.089\n",
       "parental level of education_high school           -1.2488      0.854     -1.462      0.144      -2.925       0.428\n",
       "parental level of education_master's degree        9.7488      1.416      6.884      0.000       6.970      12.528\n",
       "parental level of education_some college           3.6451      0.804      4.531      0.000       2.066       5.224\n",
       "parental level of education_some high school      -0.7566      0.883     -0.857      0.392      -2.490       0.976\n",
       "lunch_free/reduced                                 7.9009      0.441     17.909      0.000       7.035       8.767\n",
       "lunch_standard                                    16.1037      0.404     39.910      0.000      15.312      16.896\n",
       "test preparation course_completed                 17.0317      0.443     38.486      0.000      16.163      17.900\n",
       "test preparation course_none                       6.9730      0.405     17.224      0.000       6.179       7.767\n",
       "==============================================================================\n",
       "Omnibus:                       16.647   Durbin-Watson:                   2.038\n",
       "Prob(Omnibus):                  0.000   Jarque-Bera (JB):               17.222\n",
       "Skew:                          -0.321   Prob(JB):                     0.000182\n",
       "Kurtosis:                       2.982   Cond. No.                     1.20e+16\n",
       "==============================================================================\n",
       "\n",
       "Notes:\n",
       "[1] Standard Errors assume that the covariance matrix of the errors is correctly specified.\n",
       "[2] The smallest eigenvalue is 2.11e-29. This might indicate that there are\n",
       "strong multicollinearity problems or that the design matrix is singular.\n",
       "\"\"\""
      ]
     },
     "execution_count": 29,
     "metadata": {},
     "output_type": "execute_result"
    }
   ],
   "source": [
    "# Writing Model\n",
    "modelReadingScore = sm.OLS(eduDataLR['writing score'],eduDataLR_X).fit()\n",
    "modelReadingScore.summary()"
   ]
  },
  {
   "cell_type": "markdown",
   "id": "b6122efd-8365-4ad4-957c-d3e98c319f1f",
   "metadata": {},
   "source": [
    "- In many times is important to try develop parsimonious, that means, explain the data with the minimum number of parameters posible. Less complex models may describe better the relationship between target and explanatory variables.\n",
    "\n",
    "- I will try to remove gender and lunch from the model to attempt improve my linear model. I choosed both variables because I believe gender should not affect the perfomance of any student in the exams and lunch because I believe in some way race/ethnicity hold that information implicity.\n",
    "\n",
    "- Removing gender and lunch."
   ]
  },
  {
   "cell_type": "code",
   "execution_count": 30,
   "id": "b65860c5-9d0c-42cf-8a7c-8ed1fc0c1146",
   "metadata": {},
   "outputs": [],
   "source": [
    "eduDataReduce = eduData.drop(columns=['gender','lunch'])\n",
    "\n",
    "# Preparing Dataset for Linear Regression\n",
    "eduDataLR = pd.get_dummies(eduDataReduce)\n",
    "\n",
    "# Explanatory Variables\n",
    "eduDataLR_X = eduDataLR.drop(columns=['math score','reading score', 'writing score', ])\n",
    "eduDataLR_X = sm.add_constant(eduDataLR_X)"
   ]
  },
  {
   "cell_type": "markdown",
   "id": "b747ee0d-974c-41aa-9a20-34421beb7386",
   "metadata": {},
   "source": [
    "- In all situations the models dimished by removing the variables. The R-square, AIC, and BIC are worst than the previous models. Therefore, my attempt to apply parsimonious did not work."
   ]
  },
  {
   "cell_type": "code",
   "execution_count": 31,
   "id": "3b7aad9d-205a-49d9-bbcc-0101fd7f890a",
   "metadata": {},
   "outputs": [
    {
     "data": {
      "text/html": [
       "<table class=\"simpletable\">\n",
       "<caption>OLS Regression Results</caption>\n",
       "<tr>\n",
       "  <th>Dep. Variable:</th>       <td>math score</td>    <th>  R-squared:         </th> <td>   0.108</td>\n",
       "</tr>\n",
       "<tr>\n",
       "  <th>Model:</th>                   <td>OLS</td>       <th>  Adj. R-squared:    </th> <td>   0.099</td>\n",
       "</tr>\n",
       "<tr>\n",
       "  <th>Method:</th>             <td>Least Squares</td>  <th>  F-statistic:       </th> <td>   12.01</td>\n",
       "</tr>\n",
       "<tr>\n",
       "  <th>Date:</th>             <td>Mon, 28 Jun 2021</td> <th>  Prob (F-statistic):</th> <td>9.20e-20</td>\n",
       "</tr>\n",
       "<tr>\n",
       "  <th>Time:</th>                 <td>14:50:35</td>     <th>  Log-Likelihood:    </th> <td> -4080.0</td>\n",
       "</tr>\n",
       "<tr>\n",
       "  <th>No. Observations:</th>      <td>  1000</td>      <th>  AIC:               </th> <td>   8182.</td>\n",
       "</tr>\n",
       "<tr>\n",
       "  <th>Df Residuals:</th>          <td>   989</td>      <th>  BIC:               </th> <td>   8236.</td>\n",
       "</tr>\n",
       "<tr>\n",
       "  <th>Df Model:</th>              <td>    10</td>      <th>                     </th>     <td> </td>   \n",
       "</tr>\n",
       "<tr>\n",
       "  <th>Covariance Type:</th>      <td>nonrobust</td>    <th>                     </th>     <td> </td>   \n",
       "</tr>\n",
       "</table>\n",
       "<table class=\"simpletable\">\n",
       "<tr>\n",
       "                         <td></td>                           <th>coef</th>     <th>std err</th>      <th>t</th>      <th>P>|t|</th>  <th>[0.025</th>    <th>0.975]</th>  \n",
       "</tr>\n",
       "<tr>\n",
       "  <th>const</th>                                          <td>   36.1137</td> <td>    0.306</td> <td>  118.075</td> <td> 0.000</td> <td>   35.514</td> <td>   36.714</td>\n",
       "</tr>\n",
       "<tr>\n",
       "  <th>race/ethnicity_group A</th>                         <td>    3.1394</td> <td>    1.309</td> <td>    2.398</td> <td> 0.017</td> <td>    0.570</td> <td>    5.709</td>\n",
       "</tr>\n",
       "<tr>\n",
       "  <th>race/ethnicity_group B</th>                         <td>    4.9117</td> <td>    0.955</td> <td>    5.142</td> <td> 0.000</td> <td>    3.037</td> <td>    6.786</td>\n",
       "</tr>\n",
       "<tr>\n",
       "  <th>race/ethnicity_group C</th>                         <td>    5.3764</td> <td>    0.789</td> <td>    6.818</td> <td> 0.000</td> <td>    3.829</td> <td>    6.924</td>\n",
       "</tr>\n",
       "<tr>\n",
       "  <th>race/ethnicity_group D</th>                         <td>    8.5640</td> <td>    0.848</td> <td>   10.101</td> <td> 0.000</td> <td>    6.900</td> <td>   10.228</td>\n",
       "</tr>\n",
       "<tr>\n",
       "  <th>race/ethnicity_group E</th>                         <td>   14.1221</td> <td>    1.080</td> <td>   13.077</td> <td> 0.000</td> <td>   12.003</td> <td>   16.241</td>\n",
       "</tr>\n",
       "<tr>\n",
       "  <th>parental level of education_associate's degree</th> <td>    7.0020</td> <td>    0.934</td> <td>    7.500</td> <td> 0.000</td> <td>    5.170</td> <td>    8.834</td>\n",
       "</tr>\n",
       "<tr>\n",
       "  <th>parental level of education_bachelor's degree</th>  <td>    8.6435</td> <td>    1.200</td> <td>    7.205</td> <td> 0.000</td> <td>    6.289</td> <td>   10.998</td>\n",
       "</tr>\n",
       "<tr>\n",
       "  <th>parental level of education_high school</th>        <td>    2.3504</td> <td>    0.983</td> <td>    2.392</td> <td> 0.017</td> <td>    0.422</td> <td>    4.279</td>\n",
       "</tr>\n",
       "<tr>\n",
       "  <th>parental level of education_master's degree</th>    <td>    8.7862</td> <td>    1.638</td> <td>    5.363</td> <td> 0.000</td> <td>    5.571</td> <td>   12.001</td>\n",
       "</tr>\n",
       "<tr>\n",
       "  <th>parental level of education_some college</th>       <td>    6.3819</td> <td>    0.925</td> <td>    6.899</td> <td> 0.000</td> <td>    4.566</td> <td>    8.197</td>\n",
       "</tr>\n",
       "<tr>\n",
       "  <th>parental level of education_some high school</th>   <td>    2.9497</td> <td>    1.016</td> <td>    2.903</td> <td> 0.004</td> <td>    0.956</td> <td>    4.944</td>\n",
       "</tr>\n",
       "<tr>\n",
       "  <th>test preparation course_completed</th>              <td>   20.7115</td> <td>    0.534</td> <td>   38.760</td> <td> 0.000</td> <td>   19.663</td> <td>   21.760</td>\n",
       "</tr>\n",
       "<tr>\n",
       "  <th>test preparation course_none</th>                   <td>   15.4022</td> <td>    0.468</td> <td>   32.928</td> <td> 0.000</td> <td>   14.484</td> <td>   16.320</td>\n",
       "</tr>\n",
       "</table>\n",
       "<table class=\"simpletable\">\n",
       "<tr>\n",
       "  <th>Omnibus:</th>       <td>17.714</td> <th>  Durbin-Watson:     </th> <td>   2.050</td>\n",
       "</tr>\n",
       "<tr>\n",
       "  <th>Prob(Omnibus):</th> <td> 0.000</td> <th>  Jarque-Bera (JB):  </th> <td>  18.162</td>\n",
       "</tr>\n",
       "<tr>\n",
       "  <th>Skew:</th>          <td>-0.320</td> <th>  Prob(JB):          </th> <td>0.000114</td>\n",
       "</tr>\n",
       "<tr>\n",
       "  <th>Kurtosis:</th>      <td> 3.161</td> <th>  Cond. No.          </th> <td>6.50e+15</td>\n",
       "</tr>\n",
       "</table><br/><br/>Notes:<br/>[1] Standard Errors assume that the covariance matrix of the errors is correctly specified.<br/>[2] The smallest eigenvalue is 4.68e-29. This might indicate that there are<br/>strong multicollinearity problems or that the design matrix is singular."
      ],
      "text/plain": [
       "<class 'statsmodels.iolib.summary.Summary'>\n",
       "\"\"\"\n",
       "                            OLS Regression Results                            \n",
       "==============================================================================\n",
       "Dep. Variable:             math score   R-squared:                       0.108\n",
       "Model:                            OLS   Adj. R-squared:                  0.099\n",
       "Method:                 Least Squares   F-statistic:                     12.01\n",
       "Date:                Mon, 28 Jun 2021   Prob (F-statistic):           9.20e-20\n",
       "Time:                        14:50:35   Log-Likelihood:                -4080.0\n",
       "No. Observations:                1000   AIC:                             8182.\n",
       "Df Residuals:                     989   BIC:                             8236.\n",
       "Df Model:                          10                                         \n",
       "Covariance Type:            nonrobust                                         \n",
       "==================================================================================================================\n",
       "                                                     coef    std err          t      P>|t|      [0.025      0.975]\n",
       "------------------------------------------------------------------------------------------------------------------\n",
       "const                                             36.1137      0.306    118.075      0.000      35.514      36.714\n",
       "race/ethnicity_group A                             3.1394      1.309      2.398      0.017       0.570       5.709\n",
       "race/ethnicity_group B                             4.9117      0.955      5.142      0.000       3.037       6.786\n",
       "race/ethnicity_group C                             5.3764      0.789      6.818      0.000       3.829       6.924\n",
       "race/ethnicity_group D                             8.5640      0.848     10.101      0.000       6.900      10.228\n",
       "race/ethnicity_group E                            14.1221      1.080     13.077      0.000      12.003      16.241\n",
       "parental level of education_associate's degree     7.0020      0.934      7.500      0.000       5.170       8.834\n",
       "parental level of education_bachelor's degree      8.6435      1.200      7.205      0.000       6.289      10.998\n",
       "parental level of education_high school            2.3504      0.983      2.392      0.017       0.422       4.279\n",
       "parental level of education_master's degree        8.7862      1.638      5.363      0.000       5.571      12.001\n",
       "parental level of education_some college           6.3819      0.925      6.899      0.000       4.566       8.197\n",
       "parental level of education_some high school       2.9497      1.016      2.903      0.004       0.956       4.944\n",
       "test preparation course_completed                 20.7115      0.534     38.760      0.000      19.663      21.760\n",
       "test preparation course_none                      15.4022      0.468     32.928      0.000      14.484      16.320\n",
       "==============================================================================\n",
       "Omnibus:                       17.714   Durbin-Watson:                   2.050\n",
       "Prob(Omnibus):                  0.000   Jarque-Bera (JB):               18.162\n",
       "Skew:                          -0.320   Prob(JB):                     0.000114\n",
       "Kurtosis:                       3.161   Cond. No.                     6.50e+15\n",
       "==============================================================================\n",
       "\n",
       "Notes:\n",
       "[1] Standard Errors assume that the covariance matrix of the errors is correctly specified.\n",
       "[2] The smallest eigenvalue is 4.68e-29. This might indicate that there are\n",
       "strong multicollinearity problems or that the design matrix is singular.\n",
       "\"\"\""
      ]
     },
     "execution_count": 31,
     "metadata": {},
     "output_type": "execute_result"
    }
   ],
   "source": [
    "# Math Score Model\n",
    "modelMathScore = sm.OLS(eduDataLR['math score'],eduDataLR_X).fit()\n",
    "modelMathScore.summary()"
   ]
  },
  {
   "cell_type": "code",
   "execution_count": 32,
   "id": "6c1a2b9f-86c5-4ca1-9dec-e0ee021195d2",
   "metadata": {},
   "outputs": [
    {
     "data": {
      "text/html": [
       "<table class=\"simpletable\">\n",
       "<caption>OLS Regression Results</caption>\n",
       "<tr>\n",
       "  <th>Dep. Variable:</th>      <td>reading score</td>  <th>  R-squared:         </th> <td>   0.116</td>\n",
       "</tr>\n",
       "<tr>\n",
       "  <th>Model:</th>                   <td>OLS</td>       <th>  Adj. R-squared:    </th> <td>   0.107</td>\n",
       "</tr>\n",
       "<tr>\n",
       "  <th>Method:</th>             <td>Least Squares</td>  <th>  F-statistic:       </th> <td>   12.94</td>\n",
       "</tr>\n",
       "<tr>\n",
       "  <th>Date:</th>             <td>Mon, 28 Jun 2021</td> <th>  Prob (F-statistic):</th> <td>1.92e-21</td>\n",
       "</tr>\n",
       "<tr>\n",
       "  <th>Time:</th>                 <td>14:50:49</td>     <th>  Log-Likelihood:    </th> <td> -4038.0</td>\n",
       "</tr>\n",
       "<tr>\n",
       "  <th>No. Observations:</th>      <td>  1000</td>      <th>  AIC:               </th> <td>   8098.</td>\n",
       "</tr>\n",
       "<tr>\n",
       "  <th>Df Residuals:</th>          <td>   989</td>      <th>  BIC:               </th> <td>   8152.</td>\n",
       "</tr>\n",
       "<tr>\n",
       "  <th>Df Model:</th>              <td>    10</td>      <th>                     </th>     <td> </td>   \n",
       "</tr>\n",
       "<tr>\n",
       "  <th>Covariance Type:</th>      <td>nonrobust</td>    <th>                     </th>     <td> </td>   \n",
       "</tr>\n",
       "</table>\n",
       "<table class=\"simpletable\">\n",
       "<tr>\n",
       "                         <td></td>                           <th>coef</th>     <th>std err</th>      <th>t</th>      <th>P>|t|</th>  <th>[0.025</th>    <th>0.975]</th>  \n",
       "</tr>\n",
       "<tr>\n",
       "  <th>const</th>                                          <td>   37.8900</td> <td>    0.293</td> <td>  129.198</td> <td> 0.000</td> <td>   37.315</td> <td>   38.466</td>\n",
       "</tr>\n",
       "<tr>\n",
       "  <th>race/ethnicity_group A</th>                         <td>    3.9036</td> <td>    1.255</td> <td>    3.109</td> <td> 0.002</td> <td>    1.440</td> <td>    6.367</td>\n",
       "</tr>\n",
       "<tr>\n",
       "  <th>race/ethnicity_group B</th>                         <td>    6.5654</td> <td>    0.916</td> <td>    7.168</td> <td> 0.000</td> <td>    4.768</td> <td>    8.363</td>\n",
       "</tr>\n",
       "<tr>\n",
       "  <th>race/ethnicity_group C</th>                         <td>    7.6563</td> <td>    0.756</td> <td>   10.125</td> <td> 0.000</td> <td>    6.172</td> <td>    9.140</td>\n",
       "</tr>\n",
       "<tr>\n",
       "  <th>race/ethnicity_group D</th>                         <td>    8.9056</td> <td>    0.813</td> <td>   10.955</td> <td> 0.000</td> <td>    7.310</td> <td>   10.501</td>\n",
       "</tr>\n",
       "<tr>\n",
       "  <th>race/ethnicity_group E</th>                         <td>   10.8592</td> <td>    1.036</td> <td>   10.487</td> <td> 0.000</td> <td>    8.827</td> <td>   12.891</td>\n",
       "</tr>\n",
       "<tr>\n",
       "  <th>parental level of education_associate's degree</th> <td>    6.9629</td> <td>    0.895</td> <td>    7.778</td> <td> 0.000</td> <td>    5.206</td> <td>    8.720</td>\n",
       "</tr>\n",
       "<tr>\n",
       "  <th>parental level of education_bachelor's degree</th>  <td>    9.0764</td> <td>    1.150</td> <td>    7.891</td> <td> 0.000</td> <td>    6.819</td> <td>   11.334</td>\n",
       "</tr>\n",
       "<tr>\n",
       "  <th>parental level of education_high school</th>        <td>    1.7138</td> <td>    0.942</td> <td>    1.819</td> <td> 0.069</td> <td>   -0.135</td> <td>    3.563</td>\n",
       "</tr>\n",
       "<tr>\n",
       "  <th>parental level of education_master's degree</th>    <td>   11.4111</td> <td>    1.571</td> <td>    7.264</td> <td> 0.000</td> <td>    8.328</td> <td>   14.494</td>\n",
       "</tr>\n",
       "<tr>\n",
       "  <th>parental level of education_some college</th>       <td>    5.7167</td> <td>    0.887</td> <td>    6.445</td> <td> 0.000</td> <td>    3.976</td> <td>    7.457</td>\n",
       "</tr>\n",
       "<tr>\n",
       "  <th>parental level of education_some high school</th>   <td>    3.0092</td> <td>    0.974</td> <td>    3.089</td> <td> 0.002</td> <td>    1.097</td> <td>    4.921</td>\n",
       "</tr>\n",
       "<tr>\n",
       "  <th>test preparation course_completed</th>              <td>   22.5133</td> <td>    0.512</td> <td>   43.940</td> <td> 0.000</td> <td>   21.508</td> <td>   23.519</td>\n",
       "</tr>\n",
       "<tr>\n",
       "  <th>test preparation course_none</th>                   <td>   15.3768</td> <td>    0.449</td> <td>   34.284</td> <td> 0.000</td> <td>   14.497</td> <td>   16.257</td>\n",
       "</tr>\n",
       "</table>\n",
       "<table class=\"simpletable\">\n",
       "<tr>\n",
       "  <th>Omnibus:</th>       <td>10.229</td> <th>  Durbin-Watson:     </th> <td>   1.995</td>\n",
       "</tr>\n",
       "<tr>\n",
       "  <th>Prob(Omnibus):</th> <td> 0.006</td> <th>  Jarque-Bera (JB):  </th> <td>  10.395</td>\n",
       "</tr>\n",
       "<tr>\n",
       "  <th>Skew:</th>          <td>-0.238</td> <th>  Prob(JB):          </th> <td> 0.00553</td>\n",
       "</tr>\n",
       "<tr>\n",
       "  <th>Kurtosis:</th>      <td> 2.850</td> <th>  Cond. No.          </th> <td>6.50e+15</td>\n",
       "</tr>\n",
       "</table><br/><br/>Notes:<br/>[1] Standard Errors assume that the covariance matrix of the errors is correctly specified.<br/>[2] The smallest eigenvalue is 4.68e-29. This might indicate that there are<br/>strong multicollinearity problems or that the design matrix is singular."
      ],
      "text/plain": [
       "<class 'statsmodels.iolib.summary.Summary'>\n",
       "\"\"\"\n",
       "                            OLS Regression Results                            \n",
       "==============================================================================\n",
       "Dep. Variable:          reading score   R-squared:                       0.116\n",
       "Model:                            OLS   Adj. R-squared:                  0.107\n",
       "Method:                 Least Squares   F-statistic:                     12.94\n",
       "Date:                Mon, 28 Jun 2021   Prob (F-statistic):           1.92e-21\n",
       "Time:                        14:50:49   Log-Likelihood:                -4038.0\n",
       "No. Observations:                1000   AIC:                             8098.\n",
       "Df Residuals:                     989   BIC:                             8152.\n",
       "Df Model:                          10                                         \n",
       "Covariance Type:            nonrobust                                         \n",
       "==================================================================================================================\n",
       "                                                     coef    std err          t      P>|t|      [0.025      0.975]\n",
       "------------------------------------------------------------------------------------------------------------------\n",
       "const                                             37.8900      0.293    129.198      0.000      37.315      38.466\n",
       "race/ethnicity_group A                             3.9036      1.255      3.109      0.002       1.440       6.367\n",
       "race/ethnicity_group B                             6.5654      0.916      7.168      0.000       4.768       8.363\n",
       "race/ethnicity_group C                             7.6563      0.756     10.125      0.000       6.172       9.140\n",
       "race/ethnicity_group D                             8.9056      0.813     10.955      0.000       7.310      10.501\n",
       "race/ethnicity_group E                            10.8592      1.036     10.487      0.000       8.827      12.891\n",
       "parental level of education_associate's degree     6.9629      0.895      7.778      0.000       5.206       8.720\n",
       "parental level of education_bachelor's degree      9.0764      1.150      7.891      0.000       6.819      11.334\n",
       "parental level of education_high school            1.7138      0.942      1.819      0.069      -0.135       3.563\n",
       "parental level of education_master's degree       11.4111      1.571      7.264      0.000       8.328      14.494\n",
       "parental level of education_some college           5.7167      0.887      6.445      0.000       3.976       7.457\n",
       "parental level of education_some high school       3.0092      0.974      3.089      0.002       1.097       4.921\n",
       "test preparation course_completed                 22.5133      0.512     43.940      0.000      21.508      23.519\n",
       "test preparation course_none                      15.3768      0.449     34.284      0.000      14.497      16.257\n",
       "==============================================================================\n",
       "Omnibus:                       10.229   Durbin-Watson:                   1.995\n",
       "Prob(Omnibus):                  0.006   Jarque-Bera (JB):               10.395\n",
       "Skew:                          -0.238   Prob(JB):                      0.00553\n",
       "Kurtosis:                       2.850   Cond. No.                     6.50e+15\n",
       "==============================================================================\n",
       "\n",
       "Notes:\n",
       "[1] Standard Errors assume that the covariance matrix of the errors is correctly specified.\n",
       "[2] The smallest eigenvalue is 4.68e-29. This might indicate that there are\n",
       "strong multicollinearity problems or that the design matrix is singular.\n",
       "\"\"\""
      ]
     },
     "execution_count": 32,
     "metadata": {},
     "output_type": "execute_result"
    }
   ],
   "source": [
    "# Reading Model\n",
    "modelReadingScore = sm.OLS(eduDataLR['reading score'],eduDataLR_X).fit()\n",
    "modelReadingScore.summary()"
   ]
  },
  {
   "cell_type": "code",
   "execution_count": 33,
   "id": "6aeb6319-91a1-4ff6-9954-2e1dcdfa218e",
   "metadata": {},
   "outputs": [
    {
     "data": {
      "text/html": [
       "<table class=\"simpletable\">\n",
       "<caption>OLS Regression Results</caption>\n",
       "<tr>\n",
       "  <th>Dep. Variable:</th>      <td>writing score</td>  <th>  R-squared:         </th> <td>   0.182</td>\n",
       "</tr>\n",
       "<tr>\n",
       "  <th>Model:</th>                   <td>OLS</td>       <th>  Adj. R-squared:    </th> <td>   0.174</td>\n",
       "</tr>\n",
       "<tr>\n",
       "  <th>Method:</th>             <td>Least Squares</td>  <th>  F-statistic:       </th> <td>   22.07</td>\n",
       "</tr>\n",
       "<tr>\n",
       "  <th>Date:</th>             <td>Mon, 28 Jun 2021</td> <th>  Prob (F-statistic):</th> <td>1.63e-37</td>\n",
       "</tr>\n",
       "<tr>\n",
       "  <th>Time:</th>                 <td>14:51:03</td>     <th>  Log-Likelihood:    </th> <td> -4038.7</td>\n",
       "</tr>\n",
       "<tr>\n",
       "  <th>No. Observations:</th>      <td>  1000</td>      <th>  AIC:               </th> <td>   8099.</td>\n",
       "</tr>\n",
       "<tr>\n",
       "  <th>Df Residuals:</th>          <td>   989</td>      <th>  BIC:               </th> <td>   8153.</td>\n",
       "</tr>\n",
       "<tr>\n",
       "  <th>Df Model:</th>              <td>    10</td>      <th>                     </th>     <td> </td>   \n",
       "</tr>\n",
       "<tr>\n",
       "  <th>Covariance Type:</th>      <td>nonrobust</td>    <th>                     </th>     <td> </td>   \n",
       "</tr>\n",
       "</table>\n",
       "<table class=\"simpletable\">\n",
       "<tr>\n",
       "                         <td></td>                           <th>coef</th>     <th>std err</th>      <th>t</th>      <th>P>|t|</th>  <th>[0.025</th>    <th>0.975]</th>  \n",
       "</tr>\n",
       "<tr>\n",
       "  <th>const</th>                                          <td>   37.5049</td> <td>    0.293</td> <td>  127.789</td> <td> 0.000</td> <td>   36.929</td> <td>   38.081</td>\n",
       "</tr>\n",
       "<tr>\n",
       "  <th>race/ethnicity_group A</th>                         <td>    3.2920</td> <td>    1.256</td> <td>    2.620</td> <td> 0.009</td> <td>    0.826</td> <td>    5.757</td>\n",
       "</tr>\n",
       "<tr>\n",
       "  <th>race/ethnicity_group B</th>                         <td>    6.1832</td> <td>    0.917</td> <td>    6.746</td> <td> 0.000</td> <td>    4.384</td> <td>    7.982</td>\n",
       "</tr>\n",
       "<tr>\n",
       "  <th>race/ethnicity_group C</th>                         <td>    7.5501</td> <td>    0.757</td> <td>    9.977</td> <td> 0.000</td> <td>    6.065</td> <td>    9.035</td>\n",
       "</tr>\n",
       "<tr>\n",
       "  <th>race/ethnicity_group D</th>                         <td>   10.3257</td> <td>    0.814</td> <td>   12.692</td> <td> 0.000</td> <td>    8.729</td> <td>   11.922</td>\n",
       "</tr>\n",
       "<tr>\n",
       "  <th>race/ethnicity_group E</th>                         <td>   10.1539</td> <td>    1.036</td> <td>    9.798</td> <td> 0.000</td> <td>    8.120</td> <td>   12.187</td>\n",
       "</tr>\n",
       "<tr>\n",
       "  <th>parental level of education_associate's degree</th> <td>    6.8066</td> <td>    0.896</td> <td>    7.598</td> <td> 0.000</td> <td>    5.049</td> <td>    8.565</td>\n",
       "</tr>\n",
       "<tr>\n",
       "  <th>parental level of education_bachelor's degree</th>  <td>   10.2617</td> <td>    1.151</td> <td>    8.914</td> <td> 0.000</td> <td>    8.003</td> <td>   12.521</td>\n",
       "</tr>\n",
       "<tr>\n",
       "  <th>parental level of education_high school</th>        <td>    0.5503</td> <td>    0.943</td> <td>    0.584</td> <td> 0.560</td> <td>   -1.300</td> <td>    2.400</td>\n",
       "</tr>\n",
       "<tr>\n",
       "  <th>parental level of education_master's degree</th>    <td>   12.3677</td> <td>    1.572</td> <td>    7.867</td> <td> 0.000</td> <td>    9.283</td> <td>   15.453</td>\n",
       "</tr>\n",
       "<tr>\n",
       "  <th>parental level of education_some college</th>       <td>    5.9299</td> <td>    0.888</td> <td>    6.680</td> <td> 0.000</td> <td>    4.188</td> <td>    7.672</td>\n",
       "</tr>\n",
       "<tr>\n",
       "  <th>parental level of education_some high school</th>   <td>    1.5886</td> <td>    0.975</td> <td>    1.629</td> <td> 0.104</td> <td>   -0.325</td> <td>    3.502</td>\n",
       "</tr>\n",
       "<tr>\n",
       "  <th>test preparation course_completed</th>              <td>   23.6485</td> <td>    0.513</td> <td>   46.121</td> <td> 0.000</td> <td>   22.642</td> <td>   24.655</td>\n",
       "</tr>\n",
       "<tr>\n",
       "  <th>test preparation course_none</th>                   <td>   13.8564</td> <td>    0.449</td> <td>   30.871</td> <td> 0.000</td> <td>   12.976</td> <td>   14.737</td>\n",
       "</tr>\n",
       "</table>\n",
       "<table class=\"simpletable\">\n",
       "<tr>\n",
       "  <th>Omnibus:</th>       <td>10.952</td> <th>  Durbin-Watson:     </th> <td>   1.982</td>\n",
       "</tr>\n",
       "<tr>\n",
       "  <th>Prob(Omnibus):</th> <td> 0.004</td> <th>  Jarque-Bera (JB):  </th> <td>  11.211</td>\n",
       "</tr>\n",
       "<tr>\n",
       "  <th>Skew:</th>          <td>-0.257</td> <th>  Prob(JB):          </th> <td> 0.00368</td>\n",
       "</tr>\n",
       "<tr>\n",
       "  <th>Kurtosis:</th>      <td> 2.924</td> <th>  Cond. No.          </th> <td>6.50e+15</td>\n",
       "</tr>\n",
       "</table><br/><br/>Notes:<br/>[1] Standard Errors assume that the covariance matrix of the errors is correctly specified.<br/>[2] The smallest eigenvalue is 4.68e-29. This might indicate that there are<br/>strong multicollinearity problems or that the design matrix is singular."
      ],
      "text/plain": [
       "<class 'statsmodels.iolib.summary.Summary'>\n",
       "\"\"\"\n",
       "                            OLS Regression Results                            \n",
       "==============================================================================\n",
       "Dep. Variable:          writing score   R-squared:                       0.182\n",
       "Model:                            OLS   Adj. R-squared:                  0.174\n",
       "Method:                 Least Squares   F-statistic:                     22.07\n",
       "Date:                Mon, 28 Jun 2021   Prob (F-statistic):           1.63e-37\n",
       "Time:                        14:51:03   Log-Likelihood:                -4038.7\n",
       "No. Observations:                1000   AIC:                             8099.\n",
       "Df Residuals:                     989   BIC:                             8153.\n",
       "Df Model:                          10                                         \n",
       "Covariance Type:            nonrobust                                         \n",
       "==================================================================================================================\n",
       "                                                     coef    std err          t      P>|t|      [0.025      0.975]\n",
       "------------------------------------------------------------------------------------------------------------------\n",
       "const                                             37.5049      0.293    127.789      0.000      36.929      38.081\n",
       "race/ethnicity_group A                             3.2920      1.256      2.620      0.009       0.826       5.757\n",
       "race/ethnicity_group B                             6.1832      0.917      6.746      0.000       4.384       7.982\n",
       "race/ethnicity_group C                             7.5501      0.757      9.977      0.000       6.065       9.035\n",
       "race/ethnicity_group D                            10.3257      0.814     12.692      0.000       8.729      11.922\n",
       "race/ethnicity_group E                            10.1539      1.036      9.798      0.000       8.120      12.187\n",
       "parental level of education_associate's degree     6.8066      0.896      7.598      0.000       5.049       8.565\n",
       "parental level of education_bachelor's degree     10.2617      1.151      8.914      0.000       8.003      12.521\n",
       "parental level of education_high school            0.5503      0.943      0.584      0.560      -1.300       2.400\n",
       "parental level of education_master's degree       12.3677      1.572      7.867      0.000       9.283      15.453\n",
       "parental level of education_some college           5.9299      0.888      6.680      0.000       4.188       7.672\n",
       "parental level of education_some high school       1.5886      0.975      1.629      0.104      -0.325       3.502\n",
       "test preparation course_completed                 23.6485      0.513     46.121      0.000      22.642      24.655\n",
       "test preparation course_none                      13.8564      0.449     30.871      0.000      12.976      14.737\n",
       "==============================================================================\n",
       "Omnibus:                       10.952   Durbin-Watson:                   1.982\n",
       "Prob(Omnibus):                  0.004   Jarque-Bera (JB):               11.211\n",
       "Skew:                          -0.257   Prob(JB):                      0.00368\n",
       "Kurtosis:                       2.924   Cond. No.                     6.50e+15\n",
       "==============================================================================\n",
       "\n",
       "Notes:\n",
       "[1] Standard Errors assume that the covariance matrix of the errors is correctly specified.\n",
       "[2] The smallest eigenvalue is 4.68e-29. This might indicate that there are\n",
       "strong multicollinearity problems or that the design matrix is singular.\n",
       "\"\"\""
      ]
     },
     "execution_count": 33,
     "metadata": {},
     "output_type": "execute_result"
    }
   ],
   "source": [
    "# Writing Model\n",
    "modelReadingScore = sm.OLS(eduDataLR['writing score'],eduDataLR_X).fit()\n",
    "modelReadingScore.summary()"
   ]
  },
  {
   "cell_type": "code",
   "execution_count": null,
   "id": "1e552e5d-784b-4da2-816b-95fe712a5fca",
   "metadata": {},
   "outputs": [],
   "source": []
  }
 ],
 "metadata": {
  "kernelspec": {
   "display_name": "Python 3",
   "language": "python",
   "name": "python3"
  },
  "language_info": {
   "codemirror_mode": {
    "name": "ipython",
    "version": 3
   },
   "file_extension": ".py",
   "mimetype": "text/x-python",
   "name": "python",
   "nbconvert_exporter": "python",
   "pygments_lexer": "ipython3",
   "version": "3.8.8"
  }
 },
 "nbformat": 4,
 "nbformat_minor": 5
}
