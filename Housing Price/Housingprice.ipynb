{
 "cells": [
  {
   "cell_type": "markdown",
   "id": "9f4d9ccd-323e-43f8-a439-595968829871",
   "metadata": {},
   "source": [
    "**Regression with Regularisation of House Prices**"
   ]
  },
  {
   "cell_type": "markdown",
   "id": "d901cfa1-6d4f-4650-a1eb-3eb69fa19ccd",
   "metadata": {},
   "source": [
    "**Importing libraries**\n"
   ]
  },
  {
   "cell_type": "code",
   "execution_count": 1,
   "id": "5085c70f-8d91-4c58-b597-51ceed34ded4",
   "metadata": {},
   "outputs": [],
   "source": [
    "import numpy as np\n",
    "import pandas as pd\n",
    "import matplotlib.pyplot as plt\n",
    "from sklearn.metrics import r2_score\n",
    "from sklearn import metrics\n",
    "from scipy import stats"
   ]
  },
  {
   "cell_type": "code",
   "execution_count": 2,
   "id": "f490473f-dc42-43bb-bb1c-d0ec3b159b10",
   "metadata": {},
   "outputs": [],
   "source": [
    "import os"
   ]
  },
  {
   "cell_type": "markdown",
   "id": "dba58411-1e0c-4891-a0b7-7bfb4fa6231b",
   "metadata": {},
   "source": [
    "**Reading the data**"
   ]
  },
  {
   "cell_type": "code",
   "execution_count": 3,
   "id": "c375a9d4-fe0a-4352-95e4-e78f3180d372",
   "metadata": {},
   "outputs": [],
   "source": [
    "#importing the dataset without outliers to fit multiple linear Regression\n",
    "dataset = pd.read_csv('House_price.csv')\n"
   ]
  },
  {
   "cell_type": "code",
   "execution_count": 4,
   "id": "844c56c1-de00-4d5b-aa25-49b1de92b522",
   "metadata": {},
   "outputs": [
    {
     "data": {
      "text/html": [
       "<div>\n",
       "<style scoped>\n",
       "    .dataframe tbody tr th:only-of-type {\n",
       "        vertical-align: middle;\n",
       "    }\n",
       "\n",
       "    .dataframe tbody tr th {\n",
       "        vertical-align: top;\n",
       "    }\n",
       "\n",
       "    .dataframe thead th {\n",
       "        text-align: right;\n",
       "    }\n",
       "</style>\n",
       "<table border=\"1\" class=\"dataframe\">\n",
       "  <thead>\n",
       "    <tr style=\"text-align: right;\">\n",
       "      <th></th>\n",
       "      <th>Avg. Area Income</th>\n",
       "      <th>House Age</th>\n",
       "      <th>Number of Rooms</th>\n",
       "      <th>Number of Bedrooms</th>\n",
       "      <th>Area Population</th>\n",
       "      <th>Price</th>\n",
       "      <th>Address</th>\n",
       "    </tr>\n",
       "  </thead>\n",
       "  <tbody>\n",
       "    <tr>\n",
       "      <th>0</th>\n",
       "      <td>79545.45857</td>\n",
       "      <td>5.682861</td>\n",
       "      <td>7.009188</td>\n",
       "      <td>4.09</td>\n",
       "      <td>23086.80050</td>\n",
       "      <td>1.059034e+06</td>\n",
       "      <td>208 Michael Ferry Apt. 674\\nLaurabury, NE 3701...</td>\n",
       "    </tr>\n",
       "    <tr>\n",
       "      <th>1</th>\n",
       "      <td>79248.64245</td>\n",
       "      <td>6.002900</td>\n",
       "      <td>6.730821</td>\n",
       "      <td>3.09</td>\n",
       "      <td>40173.07217</td>\n",
       "      <td>1.505891e+06</td>\n",
       "      <td>188 Johnson Views Suite 079\\nLake Kathleen, CA...</td>\n",
       "    </tr>\n",
       "    <tr>\n",
       "      <th>2</th>\n",
       "      <td>61287.06718</td>\n",
       "      <td>5.865890</td>\n",
       "      <td>8.512727</td>\n",
       "      <td>5.13</td>\n",
       "      <td>36882.15940</td>\n",
       "      <td>1.058988e+06</td>\n",
       "      <td>9127 Elizabeth Stravenue\\nDanieltown, WI 06482...</td>\n",
       "    </tr>\n",
       "    <tr>\n",
       "      <th>3</th>\n",
       "      <td>63345.24005</td>\n",
       "      <td>7.188236</td>\n",
       "      <td>5.586729</td>\n",
       "      <td>3.26</td>\n",
       "      <td>34310.24283</td>\n",
       "      <td>1.260617e+06</td>\n",
       "      <td>USS Barnett\\nFPO AP 44820</td>\n",
       "    </tr>\n",
       "    <tr>\n",
       "      <th>4</th>\n",
       "      <td>59982.19723</td>\n",
       "      <td>5.040555</td>\n",
       "      <td>7.839388</td>\n",
       "      <td>4.23</td>\n",
       "      <td>26354.10947</td>\n",
       "      <td>6.309435e+05</td>\n",
       "      <td>USNS Raymond\\nFPO AE 09386</td>\n",
       "    </tr>\n",
       "  </tbody>\n",
       "</table>\n",
       "</div>"
      ],
      "text/plain": [
       "   Avg. Area Income  House Age  Number of Rooms  Number of Bedrooms  \\\n",
       "0       79545.45857   5.682861         7.009188                4.09   \n",
       "1       79248.64245   6.002900         6.730821                3.09   \n",
       "2       61287.06718   5.865890         8.512727                5.13   \n",
       "3       63345.24005   7.188236         5.586729                3.26   \n",
       "4       59982.19723   5.040555         7.839388                4.23   \n",
       "\n",
       "   Area Population         Price  \\\n",
       "0      23086.80050  1.059034e+06   \n",
       "1      40173.07217  1.505891e+06   \n",
       "2      36882.15940  1.058988e+06   \n",
       "3      34310.24283  1.260617e+06   \n",
       "4      26354.10947  6.309435e+05   \n",
       "\n",
       "                                             Address  \n",
       "0  208 Michael Ferry Apt. 674\\nLaurabury, NE 3701...  \n",
       "1  188 Johnson Views Suite 079\\nLake Kathleen, CA...  \n",
       "2  9127 Elizabeth Stravenue\\nDanieltown, WI 06482...  \n",
       "3                          USS Barnett\\nFPO AP 44820  \n",
       "4                         USNS Raymond\\nFPO AE 09386  "
      ]
     },
     "execution_count": 4,
     "metadata": {},
     "output_type": "execute_result"
    }
   ],
   "source": [
    "dataset.head()"
   ]
  },
  {
   "cell_type": "code",
   "execution_count": 5,
   "id": "feab2db5-8ab7-41c7-a22a-ecc92c328f9c",
   "metadata": {},
   "outputs": [],
   "source": [
    "dataset = dataset.drop(labels = 'Address', axis = 1)"
   ]
  },
  {
   "cell_type": "code",
   "execution_count": 6,
   "id": "526b6168-310d-4fac-a25d-82a36d471160",
   "metadata": {},
   "outputs": [
    {
     "data": {
      "text/html": [
       "<div>\n",
       "<style scoped>\n",
       "    .dataframe tbody tr th:only-of-type {\n",
       "        vertical-align: middle;\n",
       "    }\n",
       "\n",
       "    .dataframe tbody tr th {\n",
       "        vertical-align: top;\n",
       "    }\n",
       "\n",
       "    .dataframe thead th {\n",
       "        text-align: right;\n",
       "    }\n",
       "</style>\n",
       "<table border=\"1\" class=\"dataframe\">\n",
       "  <thead>\n",
       "    <tr style=\"text-align: right;\">\n",
       "      <th></th>\n",
       "      <th>Avg. Area Income</th>\n",
       "      <th>House Age</th>\n",
       "      <th>Number of Rooms</th>\n",
       "      <th>Number of Bedrooms</th>\n",
       "      <th>Area Population</th>\n",
       "      <th>Price</th>\n",
       "    </tr>\n",
       "  </thead>\n",
       "  <tbody>\n",
       "    <tr>\n",
       "      <th>0</th>\n",
       "      <td>79545.45857</td>\n",
       "      <td>5.682861</td>\n",
       "      <td>7.009188</td>\n",
       "      <td>4.09</td>\n",
       "      <td>23086.80050</td>\n",
       "      <td>1.059034e+06</td>\n",
       "    </tr>\n",
       "    <tr>\n",
       "      <th>1</th>\n",
       "      <td>79248.64245</td>\n",
       "      <td>6.002900</td>\n",
       "      <td>6.730821</td>\n",
       "      <td>3.09</td>\n",
       "      <td>40173.07217</td>\n",
       "      <td>1.505891e+06</td>\n",
       "    </tr>\n",
       "    <tr>\n",
       "      <th>2</th>\n",
       "      <td>61287.06718</td>\n",
       "      <td>5.865890</td>\n",
       "      <td>8.512727</td>\n",
       "      <td>5.13</td>\n",
       "      <td>36882.15940</td>\n",
       "      <td>1.058988e+06</td>\n",
       "    </tr>\n",
       "    <tr>\n",
       "      <th>3</th>\n",
       "      <td>63345.24005</td>\n",
       "      <td>7.188236</td>\n",
       "      <td>5.586729</td>\n",
       "      <td>3.26</td>\n",
       "      <td>34310.24283</td>\n",
       "      <td>1.260617e+06</td>\n",
       "    </tr>\n",
       "    <tr>\n",
       "      <th>4</th>\n",
       "      <td>59982.19723</td>\n",
       "      <td>5.040555</td>\n",
       "      <td>7.839388</td>\n",
       "      <td>4.23</td>\n",
       "      <td>26354.10947</td>\n",
       "      <td>6.309435e+05</td>\n",
       "    </tr>\n",
       "  </tbody>\n",
       "</table>\n",
       "</div>"
      ],
      "text/plain": [
       "   Avg. Area Income  House Age  Number of Rooms  Number of Bedrooms  \\\n",
       "0       79545.45857   5.682861         7.009188                4.09   \n",
       "1       79248.64245   6.002900         6.730821                3.09   \n",
       "2       61287.06718   5.865890         8.512727                5.13   \n",
       "3       63345.24005   7.188236         5.586729                3.26   \n",
       "4       59982.19723   5.040555         7.839388                4.23   \n",
       "\n",
       "   Area Population         Price  \n",
       "0      23086.80050  1.059034e+06  \n",
       "1      40173.07217  1.505891e+06  \n",
       "2      36882.15940  1.058988e+06  \n",
       "3      34310.24283  1.260617e+06  \n",
       "4      26354.10947  6.309435e+05  "
      ]
     },
     "execution_count": 6,
     "metadata": {},
     "output_type": "execute_result"
    }
   ],
   "source": [
    "z = np.abs(stats.zscore(dataset))\n",
    "dataset = dataset[(z < 3).all(axis=1)]\n",
    "dataset.head()"
   ]
  },
  {
   "cell_type": "code",
   "execution_count": 7,
   "id": "55da1da1-135b-4471-991b-c724a5ec87f3",
   "metadata": {},
   "outputs": [],
   "source": [
    "X = dataset.iloc[:, :-1].values\n",
    "y = dataset.iloc[:, -1].values"
   ]
  },
  {
   "cell_type": "markdown",
   "id": "ef7f2335-8c2d-4823-93f4-a0d150ee6178",
   "metadata": {},
   "source": [
    "**Split the data in Train / split data sets**"
   ]
  },
  {
   "cell_type": "code",
   "execution_count": 8,
   "id": "6532fbb4-62be-465d-80f5-6d4e695d5845",
   "metadata": {},
   "outputs": [],
   "source": [
    "from sklearn.model_selection import train_test_split\n",
    "X_train, X_test, y_train, y_test = train_test_split(X, y, test_size = 0.3, random_state = 0)"
   ]
  },
  {
   "cell_type": "code",
   "execution_count": 9,
   "id": "cfb97e3d-3bdf-4336-993e-53550cdcd967",
   "metadata": {},
   "outputs": [
    {
     "data": {
      "text/plain": [
       "LinearRegression()"
      ]
     },
     "execution_count": 9,
     "metadata": {},
     "output_type": "execute_result"
    }
   ],
   "source": [
    "# trying to fit multiple linear regression onto the given dataset\n",
    "from sklearn.linear_model import LinearRegression\n",
    "regressor = LinearRegression()\n",
    "regressor.fit(X_train, y_train)"
   ]
  },
  {
   "cell_type": "code",
   "execution_count": 10,
   "id": "7811c634-0a2b-48e4-8d3d-676678b6d560",
   "metadata": {},
   "outputs": [
    {
     "name": "stdout",
     "output_type": "stream",
     "text": [
      "[[1183835.92 1326946.73]\n",
      " [1113271.56 1283208.83]\n",
      " [1535400.05 1556256.44]\n",
      " ...\n",
      " [1841464.67 1856782.78]\n",
      " [ 964894.15  954746.58]\n",
      " [1444100.96 1316180.49]]\n"
     ]
    }
   ],
   "source": [
    "y_pred = regressor.predict(X_test)\n",
    "np.set_printoptions(precision = 2)\n",
    "print(np.concatenate((y_pred.reshape(len(y_pred),1), y_test.reshape(len(y_test),1)), axis = 1))"
   ]
  },
  {
   "cell_type": "markdown",
   "id": "9e50c7c0-4723-4a7c-b7d3-9acc040d8a82",
   "metadata": {},
   "source": [
    "**Finding intercept and coefficient**"
   ]
  },
  {
   "cell_type": "code",
   "execution_count": 11,
   "id": "48723d76-fc39-42e0-ae52-a7e4d9af4682",
   "metadata": {},
   "outputs": [
    {
     "name": "stdout",
     "output_type": "stream",
     "text": [
      "[2.15e+01 1.66e+05 1.21e+05 2.61e+03 1.50e+01]\n",
      "-2636110.8768650675\n"
     ]
    }
   ],
   "source": [
    "print(regressor.coef_)\n",
    "print(regressor.intercept_)"
   ]
  },
  {
   "cell_type": "markdown",
   "id": "7c04cc03-cfe9-4fe3-a0ec-b0ffa0f96525",
   "metadata": {},
   "source": [
    "**Calculating errors**"
   ]
  },
  {
   "cell_type": "code",
   "execution_count": 12,
   "id": "d8a6d55d-f529-426a-850d-5d551f5151d9",
   "metadata": {},
   "outputs": [
    {
     "name": "stdout",
     "output_type": "stream",
     "text": [
      "R-Square Value 0.9182190345453816\n",
      "mean_absolute_error : 82495.78852949303\n",
      "mean_squared_error :  10512740400.121824\n",
      "root_mean_squared_error :  102531.65560021854\n"
     ]
    }
   ],
   "source": [
    "print(\"R-Square Value\",r2_score(y_test,y_pred))\n",
    "print (\"mean_absolute_error :\",metrics.mean_absolute_error(y_test, y_pred))\n",
    "print (\"mean_squared_error : \",metrics.mean_squared_error(y_test, y_pred))\n",
    "print (\"root_mean_squared_error : \",np.sqrt(metrics.mean_squared_error(y_test, y_pred)))"
   ]
  },
  {
   "cell_type": "code",
   "execution_count": 13,
   "id": "42b42a94-c0bb-4b6f-903f-5fa97b3d7117",
   "metadata": {},
   "outputs": [
    {
     "name": "stdout",
     "output_type": "stream",
     "text": [
      "Train Accuracy: 0.9141341043543014\n"
     ]
    }
   ],
   "source": [
    "print(\"Train Accuracy:\",regressor.score(X_train, y_train))"
   ]
  },
  {
   "cell_type": "markdown",
   "id": "fcfda5ae-33d2-48e2-b389-80a27ad88283",
   "metadata": {},
   "source": [
    "**Visualisation**"
   ]
  },
  {
   "cell_type": "code",
   "execution_count": 14,
   "id": "60dc0043-5a3a-4951-aeea-3c6d6b9b2a43",
   "metadata": {},
   "outputs": [
    {
     "data": {
      "image/png": "[encoded data removed]",
      "text/plain": [
       "<Figure size 432x288 with 1 Axes>"
      ]
     },
     "metadata": {
      "needs_background": "light"
     },
     "output_type": "display_data"
    }
   ],
   "source": [
    "y_pred = y_pred.reshape(len(y_pred),1)\n",
    "y_test = y_test.reshape(len(y_test),1)\n",
    "residual = y_test - y_pred\n",
    "# to check distribution of residual values\n",
    "plt.hist(residual, bins = 50)\n",
    "plt.title('Frequency distribution of Residual Values')\n",
    "plt.xlabel('Residual Value')\n",
    "plt.ylabel('Frequency')\n",
    "plt.show()"
   ]
  },
  {
   "cell_type": "code",
   "execution_count": 15,
   "id": "a1bf99ff-069e-422f-8815-4ccd46586c3a",
   "metadata": {},
   "outputs": [
    {
     "data": {
      "image/png": "[encoded data removed]",
      "text/plain": [
       "<Figure size 432x288 with 1 Axes>"
      ]
     },
     "metadata": {
      "needs_background": "light"
     },
     "output_type": "display_data"
    }
   ],
   "source": [
    "# to check Homoscedasticity assumption of linear regression\n",
    "plt.scatter(y_pred, residual)\n",
    "plt.title('Predicted value vs Residual Value')\n",
    "plt.ylabel('Predicted Value')\n",
    "plt.xlabel('Residual Value')\n",
    "plt.show()"
   ]
  },
  {
   "cell_type": "code",
   "execution_count": 16,
   "id": "45f9cfc2-0d7c-44f7-b85b-4f89be2e4f03",
   "metadata": {},
   "outputs": [],
   "source": [
    "#from EDA we observed the the No of Bedrooms and the No of Rooms were has a correlation coefficient of 0.46\n",
    "#so we trying fitting multiple linear regression by dropping No of Bedrooms\n",
    "dataset1 = dataset.drop(labels = 'Number of Bedrooms', axis = 1)"
   ]
  },
  {
   "cell_type": "code",
   "execution_count": 17,
   "id": "bb19b35d-d810-4f1d-a422-6bdd0217e667",
   "metadata": {},
   "outputs": [
    {
     "data": {
      "text/html": [
       "<div>\n",
       "<style scoped>\n",
       "    .dataframe tbody tr th:only-of-type {\n",
       "        vertical-align: middle;\n",
       "    }\n",
       "\n",
       "    .dataframe tbody tr th {\n",
       "        vertical-align: top;\n",
       "    }\n",
       "\n",
       "    .dataframe thead th {\n",
       "        text-align: right;\n",
       "    }\n",
       "</style>\n",
       "<table border=\"1\" class=\"dataframe\">\n",
       "  <thead>\n",
       "    <tr style=\"text-align: right;\">\n",
       "      <th></th>\n",
       "      <th>Avg. Area Income</th>\n",
       "      <th>House Age</th>\n",
       "      <th>Number of Rooms</th>\n",
       "      <th>Area Population</th>\n",
       "      <th>Price</th>\n",
       "    </tr>\n",
       "  </thead>\n",
       "  <tbody>\n",
       "    <tr>\n",
       "      <th>0</th>\n",
       "      <td>79545.45857</td>\n",
       "      <td>5.682861</td>\n",
       "      <td>7.009188</td>\n",
       "      <td>23086.80050</td>\n",
       "      <td>1.059034e+06</td>\n",
       "    </tr>\n",
       "    <tr>\n",
       "      <th>1</th>\n",
       "      <td>79248.64245</td>\n",
       "      <td>6.002900</td>\n",
       "      <td>6.730821</td>\n",
       "      <td>40173.07217</td>\n",
       "      <td>1.505891e+06</td>\n",
       "    </tr>\n",
       "    <tr>\n",
       "      <th>2</th>\n",
       "      <td>61287.06718</td>\n",
       "      <td>5.865890</td>\n",
       "      <td>8.512727</td>\n",
       "      <td>36882.15940</td>\n",
       "      <td>1.058988e+06</td>\n",
       "    </tr>\n",
       "    <tr>\n",
       "      <th>3</th>\n",
       "      <td>63345.24005</td>\n",
       "      <td>7.188236</td>\n",
       "      <td>5.586729</td>\n",
       "      <td>34310.24283</td>\n",
       "      <td>1.260617e+06</td>\n",
       "    </tr>\n",
       "    <tr>\n",
       "      <th>4</th>\n",
       "      <td>59982.19723</td>\n",
       "      <td>5.040555</td>\n",
       "      <td>7.839388</td>\n",
       "      <td>26354.10947</td>\n",
       "      <td>6.309435e+05</td>\n",
       "    </tr>\n",
       "  </tbody>\n",
       "</table>\n",
       "</div>"
      ],
      "text/plain": [
       "   Avg. Area Income  House Age  Number of Rooms  Area Population         Price\n",
       "0       79545.45857   5.682861         7.009188      23086.80050  1.059034e+06\n",
       "1       79248.64245   6.002900         6.730821      40173.07217  1.505891e+06\n",
       "2       61287.06718   5.865890         8.512727      36882.15940  1.058988e+06\n",
       "3       63345.24005   7.188236         5.586729      34310.24283  1.260617e+06\n",
       "4       59982.19723   5.040555         7.839388      26354.10947  6.309435e+05"
      ]
     },
     "execution_count": 17,
     "metadata": {},
     "output_type": "execute_result"
    }
   ],
   "source": [
    "dataset1.head()"
   ]
  },
  {
   "cell_type": "code",
   "execution_count": 18,
   "id": "6cc37476-817c-471d-8d6d-96234b1c62aa",
   "metadata": {},
   "outputs": [],
   "source": [
    "X = dataset1.iloc[:, :-1].values\n",
    "y = dataset1.iloc[:, -1].values"
   ]
  },
  {
   "cell_type": "code",
   "execution_count": 19,
   "id": "58508499-8ae1-4657-91e8-e1a41f5dbe27",
   "metadata": {},
   "outputs": [],
   "source": [
    "X_train, X_test, y_train, y_test = train_test_split(X, y, test_size = 0.3, random_state = 0)"
   ]
  },
  {
   "cell_type": "markdown",
   "id": "ba8f2934-3214-4357-8127-a224bd106eeb",
   "metadata": {},
   "source": [
    "**Fitting the model**"
   ]
  },
  {
   "cell_type": "code",
   "execution_count": 20,
   "id": "2194e903-f475-4a7b-a93c-92ca0247d006",
   "metadata": {},
   "outputs": [
    {
     "data": {
      "text/plain": [
       "LinearRegression()"
      ]
     },
     "execution_count": 20,
     "metadata": {},
     "output_type": "execute_result"
    }
   ],
   "source": [
    "regressor1 = LinearRegression()\n",
    "regressor1.fit(X_train, y_train)"
   ]
  },
  {
   "cell_type": "code",
   "execution_count": 21,
   "id": "cfd0b000-1a8b-4932-999f-f01e6ec4fe42",
   "metadata": {},
   "outputs": [
    {
     "name": "stdout",
     "output_type": "stream",
     "text": [
      "[[1187257.03 1326946.73]\n",
      " [1114231.71 1283208.83]\n",
      " [1540176.12 1556256.44]\n",
      " ...\n",
      " [1839909.68 1856782.78]\n",
      " [ 968155.79  954746.58]\n",
      " [1446461.38 1316180.49]]\n"
     ]
    }
   ],
   "source": [
    "y_pred = regressor1.predict(X_test)\n",
    "np.set_printoptions(precision = 2)\n",
    "print(np.concatenate((y_pred.reshape(len(y_pred),1), y_test.reshape(len(y_test),1)), axis = 1))"
   ]
  },
  {
   "cell_type": "markdown",
   "id": "d9efc150-80b9-4671-be1f-17e1301c64e7",
   "metadata": {},
   "source": [
    "**Finding intercept and coefficient**"
   ]
  },
  {
   "cell_type": "code",
   "execution_count": 22,
   "id": "0882ee29-ad1e-4f19-972d-e0c229e1e6ea",
   "metadata": {},
   "outputs": [
    {
     "name": "stdout",
     "output_type": "stream",
     "text": [
      "[2.15e+01 1.66e+05 1.22e+05 1.50e+01]\n",
      "-2637124.0279814573\n"
     ]
    }
   ],
   "source": [
    "print(regressor1.coef_)\n",
    "print(regressor1.intercept_)"
   ]
  },
  {
   "cell_type": "markdown",
   "id": "dcfb4e79-a838-4823-9c2c-a2de315fa3e5",
   "metadata": {},
   "source": [
    "**Calculating the Errors**"
   ]
  },
  {
   "cell_type": "code",
   "execution_count": 23,
   "id": "ca031cde-4824-4dce-8f7d-a928b519b3e2",
   "metadata": {},
   "outputs": [
    {
     "name": "stdout",
     "output_type": "stream",
     "text": [
      "R-Square Value 0.9182932561003762\n",
      "mean_absolute_error : 82421.16449808243\n",
      "mean_squared_error :  10503199403.198957\n",
      "root_mean_squared_error :  102485.11795962845\n"
     ]
    }
   ],
   "source": [
    "print(\"R-Square Value\",r2_score(y_test,y_pred))\n",
    "print (\"mean_absolute_error :\",metrics.mean_absolute_error(y_test, y_pred))\n",
    "print (\"mean_squared_error : \",metrics.mean_squared_error(y_test, y_pred))\n",
    "print (\"root_mean_squared_error : \",np.sqrt(metrics.mean_squared_error(y_test, y_pred)))"
   ]
  },
  {
   "cell_type": "code",
   "execution_count": 24,
   "id": "17cd4780-012c-49ae-9c0b-6e0226fa717c",
   "metadata": {},
   "outputs": [
    {
     "name": "stdout",
     "output_type": "stream",
     "text": [
      "Train Accuracy: 0.9140665168676003\n"
     ]
    }
   ],
   "source": [
    "print(\"Train Accuracy:\",regressor1.score(X_train, y_train))"
   ]
  },
  {
   "cell_type": "markdown",
   "id": "37d1baaf-d7cc-47b9-af3b-49da13c305a5",
   "metadata": {},
   "source": [
    "**Visualization data**"
   ]
  },
  {
   "cell_type": "code",
   "execution_count": 25,
   "id": "881a2a6f-8972-4a83-8115-f6345b0d4206",
   "metadata": {},
   "outputs": [
    {
     "data": {
      "image/png": "[encoded data removed]",
      "text/plain": [
       "<Figure size 432x288 with 1 Axes>"
      ]
     },
     "metadata": {
      "needs_background": "light"
     },
     "output_type": "display_data"
    }
   ],
   "source": [
    "y_pred = y_pred.reshape(len(y_pred),1)\n",
    "y_test = y_test.reshape(len(y_test),1)\n",
    "residual = y_test - y_pred\n",
    "# to check distribution of residual values\n",
    "plt.hist(residual, bins = 50)\n",
    "plt.title('Frequency distribution of Residual Values')\n",
    "plt.xlabel('Residual Value')\n",
    "plt.ylabel('Frequency')\n",
    "plt.show()"
   ]
  },
  {
   "cell_type": "code",
   "execution_count": 26,
   "id": "6b239b1a-f321-4e06-ba31-e4c2c39dfd98",
   "metadata": {},
   "outputs": [
    {
     "data": {
      "image/png": "[encoded data removed]",
      "text/plain": [
       "<Figure size 432x288 with 1 Axes>"
      ]
     },
     "metadata": {
      "needs_background": "light"
     },
     "output_type": "display_data"
    }
   ],
   "source": [
    "# to check Homoscedasticity assumption of linear regression\n",
    "plt.scatter(y_pred, residual)\n",
    "plt.title('Predicted value vs Residual Value')\n",
    "plt.ylabel('Predicted Value')\n",
    "plt.xlabel('Residual Value')\n",
    "plt.show()"
   ]
  },
  {
   "cell_type": "code",
   "execution_count": 27,
   "id": "61138324-d0a8-4d85-9a2d-361d3494f263",
   "metadata": {},
   "outputs": [],
   "source": [
    "# Fitting the data with Regularisation Techniques\n",
    "X = dataset.iloc[:, :-1].values\n",
    "y = dataset.iloc[:, -1].values"
   ]
  },
  {
   "cell_type": "code",
   "execution_count": 28,
   "id": "57723364-1bbe-4fb3-82e2-2a0dd3eb33a3",
   "metadata": {},
   "outputs": [],
   "source": [
    "X_train, X_test, y_train, y_test = train_test_split(X, y, test_size = 0.3, random_state = 0)"
   ]
  },
  {
   "cell_type": "markdown",
   "id": "c3059fec-8d56-49d2-a607-c41844be3780",
   "metadata": {},
   "source": [
    "**Ridge Regression**"
   ]
  },
  {
   "cell_type": "code",
   "execution_count": 29,
   "id": "a9b92374-37b6-42db-98a4-8f10dc434c53",
   "metadata": {},
   "outputs": [
    {
     "data": {
      "text/plain": [
       "Ridge(alpha=0.01, normalize=True)"
      ]
     },
     "execution_count": 29,
     "metadata": {},
     "output_type": "execute_result"
    }
   ],
   "source": [
    "from sklearn.linear_model import Ridge\n",
    "ridgereg = Ridge(alpha=0.01, normalize=True)\n",
    "ridgereg.fit(X_train, y_train)"
   ]
  },
  {
   "cell_type": "code",
   "execution_count": 30,
   "id": "403c6124-af05-4e56-aea5-b9a503ea9e45",
   "metadata": {},
   "outputs": [
    {
     "name": "stdout",
     "output_type": "stream",
     "text": [
      "[[1183554.07 1326946.73]\n",
      " [1114273.75 1283208.83]\n",
      " [1531181.33 1556256.44]\n",
      " ...\n",
      " [1835541.45 1856782.78]\n",
      " [ 966854.65  954746.58]\n",
      " [1441125.56 1316180.49]]\n"
     ]
    }
   ],
   "source": [
    "y_pred = ridgereg.predict(X_test)\n",
    "np.set_printoptions(precision = 2)\n",
    "print(np.concatenate((y_pred.reshape(len(y_pred),1), y_test.reshape(len(y_test),1)), axis = 1))"
   ]
  },
  {
   "cell_type": "code",
   "execution_count": 31,
   "id": "7dc5f4b9-eb5e-4f4b-bb27-a9549fcc28e3",
   "metadata": {},
   "outputs": [
    {
     "name": "stdout",
     "output_type": "stream",
     "text": [
      "Coeffients: [2.13e+01 1.65e+05 1.19e+05 3.23e+03 1.48e+01]\n",
      "Intercept: -2595589.6751972344\n"
     ]
    }
   ],
   "source": [
    "print(\"Coeffients:\", ridgereg.coef_)\n",
    "print(\"Intercept:\", ridgereg.intercept_)"
   ]
  },
  {
   "cell_type": "markdown",
   "id": "c9287715-210d-4d65-9bb6-9fe867aa4890",
   "metadata": {},
   "source": [
    "**Calculating the Errors**"
   ]
  },
  {
   "cell_type": "code",
   "execution_count": 32,
   "id": "30af22db-df54-4585-8be2-6c4b989d3a22",
   "metadata": {},
   "outputs": [
    {
     "name": "stdout",
     "output_type": "stream",
     "text": [
      "R-Square Value :  0.9180577310310647\n",
      "mean_absolute_error : 82624.10303345336\n",
      "mean_squared_error :  10533475567.067019\n",
      "root_mean_squared_error :  102632.7217171357\n"
     ]
    }
   ],
   "source": [
    "print(\"R-Square Value : \",r2_score(y_test,y_pred))\n",
    "print (\"mean_absolute_error :\",metrics.mean_absolute_error(y_test, y_pred))\n",
    "print (\"mean_squared_error : \",metrics.mean_squared_error(y_test, y_pred))\n",
    "print (\"root_mean_squared_error : \",np.sqrt(metrics.mean_squared_error(y_test, y_pred)))"
   ]
  },
  {
   "cell_type": "code",
   "execution_count": 33,
   "id": "7c732c12-13e5-452c-ba07-55816151ab50",
   "metadata": {},
   "outputs": [
    {
     "name": "stdout",
     "output_type": "stream",
     "text": [
      "Train Accuracy: 0.9140313214287424\n"
     ]
    }
   ],
   "source": [
    "print(\"Train Accuracy:\",ridgereg.score(X_train, y_train))"
   ]
  },
  {
   "cell_type": "markdown",
   "id": "64ec57cf-cb17-41ca-a4bf-0c4050d3e889",
   "metadata": {},
   "source": [
    "**Visualization**"
   ]
  },
  {
   "cell_type": "code",
   "execution_count": 34,
   "id": "e28fbcb7-3350-4069-a27c-1f67dd635c4c",
   "metadata": {},
   "outputs": [
    {
     "data": {
      "image/png": "[encoded data removed]",
      "text/plain": [
       "<Figure size 432x288 with 1 Axes>"
      ]
     },
     "metadata": {
      "needs_background": "light"
     },
     "output_type": "display_data"
    }
   ],
   "source": [
    "y_pred = y_pred.reshape(len(y_pred),1)\n",
    "y_test = y_test.reshape(len(y_test),1)\n",
    "residual = y_test - y_pred\n",
    "# to check distribution of residual values\n",
    "plt.hist(residual, bins = 50)\n",
    "plt.title('Frequency distribution of Residual Values')\n",
    "plt.xlabel('Residual Value')\n",
    "plt.ylabel('Frequency')\n",
    "plt.show()"
   ]
  },
  {
   "cell_type": "code",
   "execution_count": 35,
   "id": "64967aff-bb2b-4994-a16d-656b717daad7",
   "metadata": {},
   "outputs": [
    {
     "data": {
      "image/png": "[encoded data removed]",
      "text/plain": [
       "<Figure size 432x288 with 1 Axes>"
      ]
     },
     "metadata": {
      "needs_background": "light"
     },
     "output_type": "display_data"
    }
   ],
   "source": [
    "# to check Homoscedasticity assumption of linear regression\n",
    "plt.scatter(y_pred, residual)\n",
    "plt.title('Predicted value vs Residual Value')\n",
    "plt.ylabel('Predicted Value')\n",
    "plt.xlabel('Residual Value')\n",
    "plt.show()"
   ]
  },
  {
   "cell_type": "markdown",
   "id": "29585457-c958-4f8a-8f75-863f74590bba",
   "metadata": {},
   "source": [
    "**Lasso Regression**"
   ]
  },
  {
   "cell_type": "code",
   "execution_count": 36,
   "id": "41f68acb-b9e3-4a62-8d27-c4d807062b4a",
   "metadata": {},
   "outputs": [
    {
     "data": {
      "text/plain": [
       "Lasso(alpha=0.1, normalize=True)"
      ]
     },
     "execution_count": 36,
     "metadata": {},
     "output_type": "execute_result"
    }
   ],
   "source": [
    "from sklearn.linear_model import Lasso\n",
    "lassoreg = Lasso(alpha=0.1, normalize=True)\n",
    "lassoreg.fit(X_train, y_train)"
   ]
  },
  {
   "cell_type": "code",
   "execution_count": 37,
   "id": "73ee822f-1e3c-477f-8669-a6fe45f4061e",
   "metadata": {},
   "outputs": [
    {
     "name": "stdout",
     "output_type": "stream",
     "text": [
      "[[1183844.78 1326946.73]\n",
      " [1113276.25 1283208.83]\n",
      " [1535402.97 1556256.44]\n",
      " ...\n",
      " [1841445.7  1856782.78]\n",
      " [ 964908.62  954746.58]\n",
      " [1444092.28 1316180.49]]\n"
     ]
    }
   ],
   "source": [
    "y_pred = lassoreg.predict(X_test)\n",
    "np.set_printoptions(precision = 2)\n",
    "print(np.concatenate((y_pred.reshape(len(y_pred),1), y_test.reshape(len(y_test),1)), axis = 1))"
   ]
  },
  {
   "cell_type": "markdown",
   "id": "7d41d537-ac73-4547-8385-57dbfc653057",
   "metadata": {},
   "source": [
    "**Getting Coefficient and Intercept**"
   ]
  },
  {
   "cell_type": "code",
   "execution_count": 38,
   "id": "b022611e-cd9b-4f76-944a-db2633ce8ab1",
   "metadata": {},
   "outputs": [
    {
     "name": "stdout",
     "output_type": "stream",
     "text": [
      "Coeffients: [2.15e+01 1.66e+05 1.21e+05 2.60e+03 1.50e+01]\n",
      "Intercept: -2635999.299565254\n"
     ]
    }
   ],
   "source": [
    "print(\"Coeffients:\", lassoreg.coef_)\n",
    "print(\"Intercept:\", lassoreg.intercept_)"
   ]
  },
  {
   "cell_type": "code",
   "execution_count": 39,
   "id": "311ba8a3-9310-4d61-b232-36c201d7684d",
   "metadata": {},
   "outputs": [
    {
     "name": "stdout",
     "output_type": "stream",
     "text": [
      "R-Square Value :  0.9182192186447993\n",
      "mean_absolute_error : 82495.74128678702\n",
      "mean_squared_error :  10512716734.597992\n",
      "root_mean_squared_error :  102531.54019421533\n"
     ]
    }
   ],
   "source": [
    "print(\"R-Square Value : \",r2_score(y_test,y_pred))\n",
    "print (\"mean_absolute_error :\",metrics.mean_absolute_error(y_test, y_pred))\n",
    "print (\"mean_squared_error : \",metrics.mean_squared_error(y_test, y_pred))\n",
    "print (\"root_mean_squared_error : \",np.sqrt(metrics.mean_squared_error(y_test, y_pred)))"
   ]
  },
  {
   "cell_type": "code",
   "execution_count": 40,
   "id": "fb504922-6deb-407b-91b5-55834f6b8c55",
   "metadata": {},
   "outputs": [
    {
     "name": "stdout",
     "output_type": "stream",
     "text": [
      "Train Accuracy: 0.9141341033156721\n"
     ]
    }
   ],
   "source": [
    "print(\"Train Accuracy:\",lassoreg.score(X_train, y_train))"
   ]
  },
  {
   "cell_type": "markdown",
   "id": "e4408866-81b1-40f4-bdf9-c2edb5edc5ea",
   "metadata": {},
   "source": [
    "**Visualizing Lasso**"
   ]
  },
  {
   "cell_type": "code",
   "execution_count": 41,
   "id": "e6f2e87a-97a4-471b-a46a-bee33c6e75f9",
   "metadata": {},
   "outputs": [
    {
     "data": {
      "image/png": "[encoded data removed]",
      "text/plain": [
       "<Figure size 432x288 with 1 Axes>"
      ]
     },
     "metadata": {
      "needs_background": "light"
     },
     "output_type": "display_data"
    }
   ],
   "source": [
    "y_pred = y_pred.reshape(len(y_pred),1)\n",
    "y_test = y_test.reshape(len(y_test),1)\n",
    "residual = y_test - y_pred\n",
    "# to check distribution of residual values\n",
    "plt.hist(residual, bins = 50)\n",
    "plt.title('Frequency distribution of Residual Values')\n",
    "plt.xlabel('Residual Value')\n",
    "plt.ylabel('Frequency')\n",
    "plt.show()"
   ]
  },
  {
   "cell_type": "code",
   "execution_count": 42,
   "id": "4be30940-529d-49ef-8ca5-ba8b50653439",
   "metadata": {},
   "outputs": [
    {
     "data": {
      "image/png": "[encoded data removed]",
      "text/plain": [
       "<Figure size 432x288 with 1 Axes>"
      ]
     },
     "metadata": {
      "needs_background": "light"
     },
     "output_type": "display_data"
    }
   ],
   "source": [
    "# to check Homoscedasticity assumption of linear regression\n",
    "plt.scatter(y_pred, residual)\n",
    "plt.title('Predicted value vs Residual Value')\n",
    "plt.ylabel('Predicted Value')\n",
    "plt.xlabel('Residual Value')\n",
    "plt.show()"
   ]
  },
  {
   "cell_type": "code",
   "execution_count": null,
   "id": "7e63814a-4137-4de8-a4e6-d211397e523a",
   "metadata": {},
   "outputs": [],
   "source": []
  }
 ],
 "metadata": {
  "kernelspec": {
   "display_name": "Python 3",
   "language": "python",
   "name": "python3"
  },
  "language_info": {
   "codemirror_mode": {
    "name": "ipython",
    "version": 3
   },
   "file_extension": ".py",
   "mimetype": "text/x-python",
   "name": "python",
   "nbconvert_exporter": "python",
   "pygments_lexer": "ipython3",
   "version": "3.8.8"
  }
 },
 "nbformat": 4,
 "nbformat_minor": 5
}
