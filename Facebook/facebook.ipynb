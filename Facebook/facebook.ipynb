{
 "cells": [
  {
   "cell_type": "markdown",
   "id": "3831ebcd-9b50-488c-9f46-5862e955cdb7",
   "metadata": {},
   "source": [
    "**Analyze our Personal Facebook Data with Python**"
   ]
  },
  {
   "cell_type": "markdown",
   "id": "3a800538-10e2-4ea9-bbb5-aaead8336296",
   "metadata": {},
   "source": [
    "The dataset can be downloaded from the user's profile on facebook and save the data in json format.\n",
    "Here in this notebook we are working on only posts."
   ]
  },
  {
   "cell_type": "markdown",
   "id": "648d1228-a6de-4c1f-8f07-bbb3c1af57a7",
   "metadata": {},
   "source": [
    "**Importing libraries and reading the data**"
   ]
  },
  {
   "cell_type": "code",
   "execution_count": 1,
   "id": "e1f161d4-2527-46f1-ad2f-58df5fe48103",
   "metadata": {},
   "outputs": [],
   "source": [
    "import pandas as pd \n",
    "\n",
    "# read the json file into a dataframe\n",
    "df = pd.read_json('your_posts_1.json')"
   ]
  },
  {
   "cell_type": "code",
   "execution_count": 2,
   "id": "0fa0ae11-ce67-4b0d-a8d7-4be8a46ab0d4",
   "metadata": {},
   "outputs": [
    {
     "data": {
      "text/html": [
       "<div>\n",
       "<style scoped>\n",
       "    .dataframe tbody tr th:only-of-type {\n",
       "        vertical-align: middle;\n",
       "    }\n",
       "\n",
       "    .dataframe tbody tr th {\n",
       "        vertical-align: top;\n",
       "    }\n",
       "\n",
       "    .dataframe thead th {\n",
       "        text-align: right;\n",
       "    }\n",
       "</style>\n",
       "<table border=\"1\" class=\"dataframe\">\n",
       "  <thead>\n",
       "    <tr style=\"text-align: right;\">\n",
       "      <th></th>\n",
       "      <th>timestamp</th>\n",
       "      <th>data</th>\n",
       "      <th>title</th>\n",
       "      <th>attachments</th>\n",
       "      <th>tags</th>\n",
       "    </tr>\n",
       "  </thead>\n",
       "  <tbody>\n",
       "    <tr>\n",
       "      <th>0</th>\n",
       "      <td>2021-05-07 11:10:17</td>\n",
       "      <td>[{'post': 'Happy birthday brother ð'}]</td>\n",
       "      <td>Arjun Maurya wrote on Ash Maurya's timeline.</td>\n",
       "      <td>NaN</td>\n",
       "      <td>NaN</td>\n",
       "    </tr>\n",
       "    <tr>\n",
       "      <th>1</th>\n",
       "      <td>2021-04-14 23:32:00</td>\n",
       "      <td>[{'post': 'Happy birthday bhai ð ð¥³'}]</td>\n",
       "      <td>Arjun Maurya wrote on Naman Pratap Singh's tim...</td>\n",
       "      <td>NaN</td>\n",
       "      <td>NaN</td>\n",
       "    </tr>\n",
       "    <tr>\n",
       "      <th>2</th>\n",
       "      <td>2021-03-26 14:15:24</td>\n",
       "      <td>[{'post': 'Alles gut zum geburstag  ððð...</td>\n",
       "      <td>Arjun Maurya wrote on Steffi Spremberg's timel...</td>\n",
       "      <td>NaN</td>\n",
       "      <td>NaN</td>\n",
       "    </tr>\n",
       "    <tr>\n",
       "      <th>3</th>\n",
       "      <td>2021-03-02 14:19:46</td>\n",
       "      <td>[{'post': 'Happy birthday bhai ð¥³ð'}]</td>\n",
       "      <td>Arjun Maurya wrote on Sourabh Krishnatrey's ti...</td>\n",
       "      <td>NaN</td>\n",
       "      <td>NaN</td>\n",
       "    </tr>\n",
       "    <tr>\n",
       "      <th>4</th>\n",
       "      <td>2021-02-28 13:58:36</td>\n",
       "      <td>[{'post': 'Happy birthday bhai ðð¥³'}]</td>\n",
       "      <td>Arjun Maurya wrote on Aditya Kumar's timeline.</td>\n",
       "      <td>NaN</td>\n",
       "      <td>NaN</td>\n",
       "    </tr>\n",
       "  </tbody>\n",
       "</table>\n",
       "</div>"
      ],
      "text/plain": [
       "            timestamp                                               data  \\\n",
       "0 2021-05-07 11:10:17          [{'post': 'Happy birthday brother ð'}]   \n",
       "1 2021-04-14 23:32:00        [{'post': 'Happy birthday bhai ð ð¥³'}]   \n",
       "2 2021-03-26 14:15:24  [{'post': 'Alles gut zum geburstag  ððð...   \n",
       "3 2021-03-02 14:19:46         [{'post': 'Happy birthday bhai ð¥³ð'}]   \n",
       "4 2021-02-28 13:58:36         [{'post': 'Happy birthday bhai ðð¥³'}]   \n",
       "\n",
       "                                               title attachments tags  \n",
       "0       Arjun Maurya wrote on Ash Maurya's timeline.         NaN  NaN  \n",
       "1  Arjun Maurya wrote on Naman Pratap Singh's tim...         NaN  NaN  \n",
       "2  Arjun Maurya wrote on Steffi Spremberg's timel...         NaN  NaN  \n",
       "3  Arjun Maurya wrote on Sourabh Krishnatrey's ti...         NaN  NaN  \n",
       "4     Arjun Maurya wrote on Aditya Kumar's timeline.         NaN  NaN  "
      ]
     },
     "execution_count": 2,
     "metadata": {},
     "output_type": "execute_result"
    }
   ],
   "source": [
    "df.head()"
   ]
  },
  {
   "cell_type": "markdown",
   "id": "8c0be7d2-6528-4cdd-b628-1c9d39375517",
   "metadata": {},
   "source": [
    "**Remaning the columns**"
   ]
  },
  {
   "cell_type": "code",
   "execution_count": 3,
   "id": "8cf19d4b-598a-4061-92f0-d8c0680bca6f",
   "metadata": {},
   "outputs": [],
   "source": [
    "# rename the timestamp column\n",
    "df.rename(columns={'timestamp': 'date'}, inplace=True)"
   ]
  },
  {
   "cell_type": "code",
   "execution_count": 4,
   "id": "d929a314-1a47-42b4-932e-fc542e21d978",
   "metadata": {},
   "outputs": [],
   "source": [
    "#drop some unnecessary columns\n",
    "df = df.drop(['attachments', 'title', 'tags'], axis=1)"
   ]
  },
  {
   "cell_type": "code",
   "execution_count": 5,
   "id": "4dacae55-1526-4e70-b121-23b726956074",
   "metadata": {},
   "outputs": [
    {
     "data": {
      "text/plain": [
       "0      2021-05-07 11:10:17\n",
       "1      2021-04-14 23:32:00\n",
       "2      2021-03-26 14:15:24\n",
       "3      2021-03-02 14:19:46\n",
       "4      2021-02-28 13:58:36\n",
       "               ...        \n",
       "1620   2010-08-30 05:57:26\n",
       "1621   2010-08-27 18:30:31\n",
       "1622   2010-08-22 10:20:53\n",
       "1623   2010-08-18 18:07:03\n",
       "1624   2010-08-18 17:54:57\n",
       "Name: date, Length: 1625, dtype: datetime64[ns]"
      ]
     },
     "execution_count": 5,
     "metadata": {},
     "output_type": "execute_result"
    }
   ],
   "source": [
    "# making sure it's datetime format\n",
    "pd.to_datetime(df['date'])"
   ]
  },
  {
   "cell_type": "code",
   "execution_count": 6,
   "id": "a7df5cf4-fb24-4e7f-b76f-d043ce1bee6c",
   "metadata": {},
   "outputs": [
    {
     "data": {
      "text/html": [
       "<div>\n",
       "<style scoped>\n",
       "    .dataframe tbody tr th:only-of-type {\n",
       "        vertical-align: middle;\n",
       "    }\n",
       "\n",
       "    .dataframe tbody tr th {\n",
       "        vertical-align: top;\n",
       "    }\n",
       "\n",
       "    .dataframe thead th {\n",
       "        text-align: right;\n",
       "    }\n",
       "</style>\n",
       "<table border=\"1\" class=\"dataframe\">\n",
       "  <thead>\n",
       "    <tr style=\"text-align: right;\">\n",
       "      <th></th>\n",
       "      <th>date</th>\n",
       "      <th>data</th>\n",
       "    </tr>\n",
       "  </thead>\n",
       "  <tbody>\n",
       "    <tr>\n",
       "      <th>0</th>\n",
       "      <td>2021-05-07 11:10:17</td>\n",
       "      <td>[{'post': 'Happy birthday brother ð'}]</td>\n",
       "    </tr>\n",
       "    <tr>\n",
       "      <th>1</th>\n",
       "      <td>2021-04-14 23:32:00</td>\n",
       "      <td>[{'post': 'Happy birthday bhai ð ð¥³'}]</td>\n",
       "    </tr>\n",
       "    <tr>\n",
       "      <th>2</th>\n",
       "      <td>2021-03-26 14:15:24</td>\n",
       "      <td>[{'post': 'Alles gut zum geburstag  ððð...</td>\n",
       "    </tr>\n",
       "    <tr>\n",
       "      <th>3</th>\n",
       "      <td>2021-03-02 14:19:46</td>\n",
       "      <td>[{'post': 'Happy birthday bhai ð¥³ð'}]</td>\n",
       "    </tr>\n",
       "    <tr>\n",
       "      <th>4</th>\n",
       "      <td>2021-02-28 13:58:36</td>\n",
       "      <td>[{'post': 'Happy birthday bhai ðð¥³'}]</td>\n",
       "    </tr>\n",
       "  </tbody>\n",
       "</table>\n",
       "</div>"
      ],
      "text/plain": [
       "                 date                                               data\n",
       "0 2021-05-07 11:10:17          [{'post': 'Happy birthday brother ð'}]\n",
       "1 2021-04-14 23:32:00        [{'post': 'Happy birthday bhai ð ð¥³'}]\n",
       "2 2021-03-26 14:15:24  [{'post': 'Alles gut zum geburstag  ððð...\n",
       "3 2021-03-02 14:19:46         [{'post': 'Happy birthday bhai ð¥³ð'}]\n",
       "4 2021-02-28 13:58:36         [{'post': 'Happy birthday bhai ðð¥³'}]"
      ]
     },
     "execution_count": 6,
     "metadata": {},
     "output_type": "execute_result"
    }
   ],
   "source": [
    "df.head()"
   ]
  },
  {
   "cell_type": "markdown",
   "id": "3b3c808b-cd5c-4212-91d6-f9f84e2dd2bb",
   "metadata": {},
   "source": [
    "- Now we've got something a little cleaner to work with! If we want to check how many posts we're analyzing, we could use df.shape to count the rows.\n",
    "\n",
    "- It might also be a good idea to use df.tail() to check the end of our dataframe, just to be sure it really spans our entire Facebook usage:"
   ]
  },
  {
   "cell_type": "code",
   "execution_count": 7,
   "id": "8272d7b6-7b34-4cd2-9472-4e7a58aeeec9",
   "metadata": {},
   "outputs": [
    {
     "name": "stdout",
     "output_type": "stream",
     "text": [
      "(1625, 2)\n"
     ]
    },
    {
     "data": {
      "text/html": [
       "<div>\n",
       "<style scoped>\n",
       "    .dataframe tbody tr th:only-of-type {\n",
       "        vertical-align: middle;\n",
       "    }\n",
       "\n",
       "    .dataframe tbody tr th {\n",
       "        vertical-align: top;\n",
       "    }\n",
       "\n",
       "    .dataframe thead th {\n",
       "        text-align: right;\n",
       "    }\n",
       "</style>\n",
       "<table border=\"1\" class=\"dataframe\">\n",
       "  <thead>\n",
       "    <tr style=\"text-align: right;\">\n",
       "      <th></th>\n",
       "      <th>date</th>\n",
       "      <th>data</th>\n",
       "    </tr>\n",
       "  </thead>\n",
       "  <tbody>\n",
       "    <tr>\n",
       "      <th>1622</th>\n",
       "      <td>2010-08-22 10:20:53</td>\n",
       "      <td>[{'update_timestamp': 1282472453}]</td>\n",
       "    </tr>\n",
       "    <tr>\n",
       "      <th>1623</th>\n",
       "      <td>2010-08-18 18:07:03</td>\n",
       "      <td>[{'update_timestamp': 1282154823}]</td>\n",
       "    </tr>\n",
       "    <tr>\n",
       "      <th>1624</th>\n",
       "      <td>2010-08-18 17:54:57</td>\n",
       "      <td>[{'update_timestamp': 1282154097}]</td>\n",
       "    </tr>\n",
       "  </tbody>\n",
       "</table>\n",
       "</div>"
      ],
      "text/plain": [
       "                    date                                data\n",
       "1622 2010-08-22 10:20:53  [{'update_timestamp': 1282472453}]\n",
       "1623 2010-08-18 18:07:03  [{'update_timestamp': 1282154823}]\n",
       "1624 2010-08-18 17:54:57  [{'update_timestamp': 1282154097}]"
      ]
     },
     "execution_count": 7,
     "metadata": {},
     "output_type": "execute_result"
    }
   ],
   "source": [
    "print(df.shape)\n",
    "df.tail(3)"
   ]
  },
  {
   "cell_type": "markdown",
   "id": "fd4322a6-c0e7-43c0-b282-4024053892e9",
   "metadata": {},
   "source": [
    "In the case of my personal Facebook data, it looks like I've posted over 1,000 times in total."
   ]
  },
  {
   "cell_type": "markdown",
   "id": "c4cd51ae-7f93-48e9-a4e1-4ec951055bea",
   "metadata": {},
   "source": [
    "**Figuring Out Monthly Post Count**"
   ]
  },
  {
   "cell_type": "markdown",
   "id": "bbec8f45-0e0d-4410-9014-4f3c384caa78",
   "metadata": {},
   "source": [
    "We need to do two things here:\n",
    "\n",
    "- Set the date column as the index of our DataFrame.\n",
    "- Resample the data by month, counting how many posts occur in each month.\n",
    "\n",
    "For the first step, we can use **set_index()**. The second step is a bit more complex, so let's break it down into four separate steps to break down the code we need to write:\n",
    "\n",
    "- Select the column we want to resample by — in this case, is the data column.\n",
    "- Use the .resample() function with the argument 'MS' (for \"Month Start\") to resample our data by month.\n",
    "- Use .size() to specify what we want to measure each month — in this case, the number of rows (i.e., posts)  with a post date that fall within that month.\n",
    "\n",
    "- Assign the resulting Series to a variable called post_counts."
   ]
  },
  {
   "cell_type": "code",
   "execution_count": 8,
   "id": "545d7264-0552-4017-b0cf-6e07606b8647",
   "metadata": {},
   "outputs": [
    {
     "data": {
      "text/plain": [
       "date\n",
       "2010-08-01     5\n",
       "2010-09-01     1\n",
       "2010-10-01     3\n",
       "2010-11-01    14\n",
       "2010-12-01     7\n",
       "              ..\n",
       "2021-01-01     0\n",
       "2021-02-01     4\n",
       "2021-03-01     2\n",
       "2021-04-01     1\n",
       "2021-05-01     1\n",
       "Freq: MS, Name: data, Length: 130, dtype: int64"
      ]
     },
     "execution_count": 8,
     "metadata": {},
     "output_type": "execute_result"
    }
   ],
   "source": [
    "df = df.set_index('date')\n",
    "post_counts = df['data'].resample('MS').size()\n",
    "post_counts"
   ]
  },
  {
   "cell_type": "markdown",
   "id": "71258a0b-9f6f-40d1-a198-9c7b4d9b9f7b",
   "metadata": {},
   "source": [
    "That looks great! We've got our post counts broken down by month, and if we check the original data set, we can quickly see the counts are correct."
   ]
  },
  {
   "cell_type": "markdown",
   "id": "734f7dd1-68c3-4494-a92f-e93c235a7183",
   "metadata": {},
   "source": [
    "**Visualize Your Facebook Usage**"
   ]
  },
  {
   "cell_type": "markdown",
   "id": "567024ee-ad3e-406b-804a-62d812104ded",
   "metadata": {},
   "source": [
    "**Importing required libraries**"
   ]
  },
  {
   "cell_type": "code",
   "execution_count": 9,
   "id": "c6de96b4-8020-4fba-85af-7284e8a0f274",
   "metadata": {},
   "outputs": [],
   "source": [
    "%matplotlib inline\n",
    "import matplotlib.pyplot as plt\n",
    "import seaborn as sns\n",
    "import numpy as np"
   ]
  },
  {
   "cell_type": "markdown",
   "id": "e806e721-cd81-4836-b931-94896c980e18",
   "metadata": {},
   "source": [
    "Setting size and font:"
   ]
  },
  {
   "cell_type": "code",
   "execution_count": 10,
   "id": "eed45f31-74f6-403b-9e8c-f3050508fa22",
   "metadata": {},
   "outputs": [],
   "source": [
    "# set figure size and font size\n",
    "sns.set(rc={'figure.figsize':(40,20)})\n",
    "sns.set(font_scale=3)"
   ]
  },
  {
   "cell_type": "markdown",
   "id": "004ee745-36c4-49a1-b807-2ad0151aa490",
   "metadata": {},
   "source": [
    "Setting labels and creating plots:"
   ]
  },
  {
   "cell_type": "code",
   "execution_count": 13,
   "id": "79910952-701b-48cb-a8fd-0316059e988a",
   "metadata": {},
   "outputs": [
    {
     "name": "stderr",
     "output_type": "stream",
     "text": [
      "C:\\Users\\DELL\\anaconda3\\lib\\site-packages\\seaborn\\_decorators.py:36: FutureWarning: Pass the following variables as keyword args: x, y. From version 0.12, the only valid positional argument will be `data`, and passing other arguments without an explicit keyword will result in an error or misinterpretation.\n",
      "  warnings.warn(\n"
     ]
    },
    {
     "data": {
      "image/png": "[encoded data removed]",
      "text/plain": [
       "<Figure size 2880x1440 with 1 Axes>"
      ]
     },
     "metadata": {},
     "output_type": "display_data"
    }
   ],
   "source": [
    "# set x labels\n",
    "x_labels = post_counts.index\n",
    "\n",
    "#create bar plot\n",
    "sns.barplot(x_labels, post_counts, color=\"blue\")\n",
    "\n",
    "# only show x-axis labels for Jan 1 of every other year\n",
    "tick_positions = np.arange(10, len(x_labels), step=24)\n",
    "\n",
    "#reformat date to display year onlyplt.ylabel(\"post counts\")\n",
    "plt.xticks(tick_positions, x_labels[tick_positions].strftime(\"%Y\"))\n",
    "\n",
    "plt.show()"
   ]
  },
  {
   "cell_type": "code",
   "execution_count": 12,
   "id": "10c00093-563d-42cc-a363-b4e3255afd6b",
   "metadata": {},
   "outputs": [],
   "source": []
  },
  {
   "cell_type": "code",
   "execution_count": null,
   "id": "d5794e4f-a272-45ae-94fb-0268a9e38028",
   "metadata": {},
   "outputs": [],
   "source": []
  }
 ],
 "metadata": {
  "kernelspec": {
   "display_name": "Python 3",
   "language": "python",
   "name": "python3"
  },
  "language_info": {
   "codemirror_mode": {
    "name": "ipython",
    "version": 3
   },
   "file_extension": ".py",
   "mimetype": "text/x-python",
   "name": "python",
   "nbconvert_exporter": "python",
   "pygments_lexer": "ipython3",
   "version": "3.8.8"
  }
 },
 "nbformat": 4,
 "nbformat_minor": 5
}
