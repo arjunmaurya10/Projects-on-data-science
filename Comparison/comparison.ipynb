{
 "cells": [
  {
   "cell_type": "markdown",
   "id": "506b0a5d-8ca0-4208-9885-ec13ecfde6d7",
   "metadata": {},
   "source": [
    "**Performance comparison of different regression models**\n",
    "\n",
    "This notebook deals with comparison of models like Elastic Net, Linear Regression, LinearSVR, MLPRegressor, RandomForestRegressor using Mean Squared Error and R2 Score metrics."
   ]
  },
  {
   "cell_type": "markdown",
   "id": "8cee7e0b-a500-4357-a177-89458944453f",
   "metadata": {},
   "source": [
    "**Importing the data**\n"
   ]
  },
  {
   "cell_type": "code",
   "execution_count": 1,
   "id": "a524c4f9-372c-4291-9dfb-ca9c88a2c207",
   "metadata": {},
   "outputs": [],
   "source": [
    "import numpy as np\n",
    "import pandas as pd\n",
    "\n",
    "from sklearn.feature_extraction.text import TfidfVectorizer\n",
    "from sklearn.model_selection import train_test_split\n",
    "\n",
    "from sklearn.linear_model import ElasticNet, LinearRegression, Lasso, Ridge\n",
    "from sklearn.svm import LinearSVR, SVR\n",
    "from sklearn.ensemble import RandomForestRegressor\n",
    "from xgboost import XGBRegressor\n",
    "\n",
    "from sklearn.neural_network import MLPRegressor\n",
    "\n",
    "from sklearn.metrics import mean_squared_error,r2_score\n",
    "from sklearn.pipeline import Pipeline\n",
    "\n",
    "import matplotlib.pyplot as plt\n",
    "%matplotlib inline\n",
    "\n",
    "import os"
   ]
  },
  {
   "cell_type": "markdown",
   "id": "fcd27cc4-9a67-47f8-8b1a-71c875a3e642",
   "metadata": {},
   "source": [
    "**Reading the data**"
   ]
  },
  {
   "cell_type": "code",
   "execution_count": 2,
   "id": "55585d83-9c1b-45cb-b4a6-eb1788926396",
   "metadata": {},
   "outputs": [],
   "source": [
    "train_df = pd.read_csv('train.csv')"
   ]
  },
  {
   "cell_type": "code",
   "execution_count": 3,
   "id": "525122fc-8745-4c56-a370-02151bafc307",
   "metadata": {},
   "outputs": [
    {
     "data": {
      "text/html": [
       "<div>\n",
       "<style scoped>\n",
       "    .dataframe tbody tr th:only-of-type {\n",
       "        vertical-align: middle;\n",
       "    }\n",
       "\n",
       "    .dataframe tbody tr th {\n",
       "        vertical-align: top;\n",
       "    }\n",
       "\n",
       "    .dataframe thead th {\n",
       "        text-align: right;\n",
       "    }\n",
       "</style>\n",
       "<table border=\"1\" class=\"dataframe\">\n",
       "  <thead>\n",
       "    <tr style=\"text-align: right;\">\n",
       "      <th></th>\n",
       "      <th>id</th>\n",
       "      <th>url_legal</th>\n",
       "      <th>license</th>\n",
       "      <th>excerpt</th>\n",
       "      <th>target</th>\n",
       "      <th>standard_error</th>\n",
       "    </tr>\n",
       "  </thead>\n",
       "  <tbody>\n",
       "    <tr>\n",
       "      <th>0</th>\n",
       "      <td>c12129c31</td>\n",
       "      <td>NaN</td>\n",
       "      <td>NaN</td>\n",
       "      <td>When the young people returned to the ballroom...</td>\n",
       "      <td>-0.340259</td>\n",
       "      <td>0.464009</td>\n",
       "    </tr>\n",
       "    <tr>\n",
       "      <th>1</th>\n",
       "      <td>85aa80a4c</td>\n",
       "      <td>NaN</td>\n",
       "      <td>NaN</td>\n",
       "      <td>All through dinner time, Mrs. Fayre was somewh...</td>\n",
       "      <td>-0.315372</td>\n",
       "      <td>0.480805</td>\n",
       "    </tr>\n",
       "    <tr>\n",
       "      <th>2</th>\n",
       "      <td>b69ac6792</td>\n",
       "      <td>NaN</td>\n",
       "      <td>NaN</td>\n",
       "      <td>As Roger had predicted, the snow departed as q...</td>\n",
       "      <td>-0.580118</td>\n",
       "      <td>0.476676</td>\n",
       "    </tr>\n",
       "    <tr>\n",
       "      <th>3</th>\n",
       "      <td>dd1000b26</td>\n",
       "      <td>NaN</td>\n",
       "      <td>NaN</td>\n",
       "      <td>And outside before the palace a great garden w...</td>\n",
       "      <td>-1.054013</td>\n",
       "      <td>0.450007</td>\n",
       "    </tr>\n",
       "    <tr>\n",
       "      <th>4</th>\n",
       "      <td>37c1b32fb</td>\n",
       "      <td>NaN</td>\n",
       "      <td>NaN</td>\n",
       "      <td>Once upon a time there were Three Bears who li...</td>\n",
       "      <td>0.247197</td>\n",
       "      <td>0.510845</td>\n",
       "    </tr>\n",
       "  </tbody>\n",
       "</table>\n",
       "</div>"
      ],
      "text/plain": [
       "          id url_legal license  \\\n",
       "0  c12129c31       NaN     NaN   \n",
       "1  85aa80a4c       NaN     NaN   \n",
       "2  b69ac6792       NaN     NaN   \n",
       "3  dd1000b26       NaN     NaN   \n",
       "4  37c1b32fb       NaN     NaN   \n",
       "\n",
       "                                             excerpt    target  standard_error  \n",
       "0  When the young people returned to the ballroom... -0.340259        0.464009  \n",
       "1  All through dinner time, Mrs. Fayre was somewh... -0.315372        0.480805  \n",
       "2  As Roger had predicted, the snow departed as q... -0.580118        0.476676  \n",
       "3  And outside before the palace a great garden w... -1.054013        0.450007  \n",
       "4  Once upon a time there were Three Bears who li...  0.247197        0.510845  "
      ]
     },
     "execution_count": 3,
     "metadata": {},
     "output_type": "execute_result"
    }
   ],
   "source": [
    "train_df.head()"
   ]
  },
  {
   "cell_type": "code",
   "execution_count": 4,
   "id": "639d1b21-aa2f-401e-8ccc-14ae25e6452c",
   "metadata": {},
   "outputs": [
    {
     "data": {
      "text/plain": [
       "id                   0\n",
       "url_legal         2004\n",
       "license           2004\n",
       "excerpt              0\n",
       "target               0\n",
       "standard_error       0\n",
       "dtype: int64"
      ]
     },
     "execution_count": 4,
     "metadata": {},
     "output_type": "execute_result"
    }
   ],
   "source": [
    "train_df.isnull().sum()"
   ]
  },
  {
   "cell_type": "markdown",
   "id": "94adc2c8-bbed-4373-aaae-8dd335c13661",
   "metadata": {},
   "source": [
    "**Getting the features**"
   ]
  },
  {
   "cell_type": "code",
   "execution_count": 5,
   "id": "f543ae1e-ced3-4d07-b3a7-6f7feb65d8d7",
   "metadata": {},
   "outputs": [],
   "source": [
    "new_train_df = train_df[['excerpt','target','standard_error']]"
   ]
  },
  {
   "cell_type": "markdown",
   "id": "ad09193d-c984-4b18-b3c7-315ab85545b1",
   "metadata": {},
   "source": [
    "**Split the training and testing data**"
   ]
  },
  {
   "cell_type": "code",
   "execution_count": 6,
   "id": "23d3c7b6-d393-407e-9400-251e64294c06",
   "metadata": {},
   "outputs": [],
   "source": [
    "X = new_train_df['excerpt']\n",
    "y = new_train_df['target']"
   ]
  },
  {
   "cell_type": "code",
   "execution_count": 7,
   "id": "159a9075-b12c-4053-b87f-d2893d702e8e",
   "metadata": {},
   "outputs": [],
   "source": [
    "X_train, X_test, y_train,y_test = train_test_split(X, y, test_size=0.33, random_state=42)"
   ]
  },
  {
   "cell_type": "markdown",
   "id": "35c09c21-4b1a-435e-809b-9907f743908f",
   "metadata": {},
   "source": [
    "**Stating the regression models**"
   ]
  },
  {
   "cell_type": "code",
   "execution_count": 8,
   "id": "ad5bfa9c-e396-4788-b96b-2b1d97b960c1",
   "metadata": {},
   "outputs": [],
   "source": [
    "models = {'Elastic Net': ElasticNet(),\n",
    "          'Lasso': Lasso(),\n",
    "          'LinearRegression': LinearRegression(),\n",
    "          'MLPRegressor': MLPRegressor(),\n",
    "          'Ridge': Ridge(),\n",
    "          'LinearSVR': LinearSVR(),\n",
    "          'RandomForest': RandomForestRegressor(),\n",
    "          'XGBoost': XGBRegressor(n_estimators=1000,eta=0.1, tree_method='hist'), \n",
    "          'SVR': SVR(kernel = 'rbf')}"
   ]
  },
  {
   "cell_type": "markdown",
   "id": "b5671900-5bc9-418c-8c9f-003a4894f505",
   "metadata": {},
   "source": [
    "**MSE AND R2_square error**"
   ]
  },
  {
   "cell_type": "code",
   "execution_count": 9,
   "id": "3397c2f7-bed3-4219-af9c-dca0a065822a",
   "metadata": {},
   "outputs": [],
   "source": [
    "mean_squared_errors = []\n",
    "r2_scores = []\n",
    "for m in models.values():\n",
    "    pipeline = Pipeline([('tfidf',TfidfVectorizer()),('rgr',m)])\n",
    "    pipeline.fit(X_train,y_train)\n",
    "    preds = pipeline.predict(X_test)\n",
    "    mean_squared_errors.append(mean_squared_error(y_test,preds))\n",
    "    r2_scores.append(r2_score(y_test,preds))"
   ]
  },
  {
   "cell_type": "markdown",
   "id": "8f5462f0-9a20-466f-ab57-7cc89906c67a",
   "metadata": {},
   "source": [
    "**Visualizing the Errors**"
   ]
  },
  {
   "cell_type": "code",
   "execution_count": 10,
   "id": "77485596-855e-4b6d-bb33-7a40bf2d37f1",
   "metadata": {},
   "outputs": [
    {
     "data": {
      "image/png": "[encoded data removed]",
      "text/plain": [
       "<Figure size 864x360 with 1 Axes>"
      ]
     },
     "metadata": {},
     "output_type": "display_data"
    }
   ],
   "source": [
    "plt.style.use('ggplot')\n",
    "plt.figure(figsize=(12,5))\n",
    "plt.plot(models.keys(),mean_squared_errors,color='r',marker='o')\n",
    "plt.ylabel('Mean Squared Error')\n",
    "plt.title('Mean Squared Error by Model')\n",
    "plt.show()"
   ]
  },
  {
   "cell_type": "code",
   "execution_count": 11,
   "id": "0a809979-c260-484e-8c07-4974809ea1f3",
   "metadata": {},
   "outputs": [
    {
     "data": {
      "image/png": "[encoded data removed]",
      "text/plain": [
       "<Figure size 864x360 with 1 Axes>"
      ]
     },
     "metadata": {},
     "output_type": "display_data"
    }
   ],
   "source": [
    "plt.figure(figsize=(12,5))\n",
    "plt.plot(models.keys(),r2_scores,color='b',marker='o')\n",
    "plt.ylabel('Coeff. of determination (R2 Score)')\n",
    "plt.title('R2 score by Model')\n",
    "plt.show()"
   ]
  },
  {
   "cell_type": "code",
   "execution_count": null,
   "id": "e669b5dd-4ebb-49f8-80b7-e6102724d558",
   "metadata": {},
   "outputs": [],
   "source": []
  }
 ],
 "metadata": {
  "kernelspec": {
   "display_name": "Python 3",
   "language": "python",
   "name": "python3"
  },
  "language_info": {
   "codemirror_mode": {
    "name": "ipython",
    "version": 3
   },
   "file_extension": ".py",
   "mimetype": "text/x-python",
   "name": "python",
   "nbconvert_exporter": "python",
   "pygments_lexer": "ipython3",
   "version": "3.8.8"
  }
 },
 "nbformat": 4,
 "nbformat_minor": 5
}
